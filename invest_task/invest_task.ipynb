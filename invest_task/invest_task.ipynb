{
 "cells": [
  {
   "cell_type": "code",
   "metadata": {
    "id": "H0YvrcSlLCN6",
    "ExecuteTime": {
     "end_time": "2024-07-10T09:54:46.929083Z",
     "start_time": "2024-07-10T09:54:46.926656Z"
    }
   },
   "source": [
    "#!pip install yfinance"
   ],
   "outputs": [],
   "execution_count": 1
  },
  {
   "cell_type": "markdown",
   "metadata": {
    "id": "nGHoZaekti8x"
   },
   "source": [
    "# Invest Portfolio\n",
    "\n",
    "Ivan has a large amout of money, and he starts to think how to invest this money to gain maximum profit.\n",
    "He chooses 10 candidate companies for that, but since Ivan is new in investing he needs your advice. In this notebook we will help Ivan in his journey.      "
   ]
  },
  {
   "cell_type": "code",
   "metadata": {
    "id": "Q4Bb4CnltieX",
    "ExecuteTime": {
     "end_time": "2024-07-10T09:54:47.127850Z",
     "start_time": "2024-07-10T09:54:47.124973Z"
    }
   },
   "source": [
    "# 10 companies to consider, key - ticker name, value -  short description.\n",
    "tickers = {\n",
    "    \"BA\": \"The Boeing Company\",\n",
    "    \"MCD\": \"McDonald's Corporation\",\n",
    "    \"GOOGL\": \"Google Company\",\n",
    "    \"DIS\": \"The Walt Disney Company\",\n",
    "    \"PFE\": \"Pfizer Inc.\",\n",
    "    \"AMT\": \"American Tower Corporation\",\n",
    "    \"VOD\": \"Vodafone Group Public Limited Company\",\n",
    "    \"BNP.PA\": \"BNP Paribas Bank\",\n",
    "    \"ADS.DE\": \"Adidas\",\n",
    "    \"TM\": \"Toyota Motor Corporation\",\n",
    "}"
   ],
   "outputs": [],
   "execution_count": 2
  },
  {
   "cell_type": "markdown",
   "metadata": {
    "id": "y34glVQeu3uA"
   },
   "source": [
    "## Task 1 Download and preprocess data\n",
    "\n",
    "We will use data from 2010 till 2021 for training and data from 2021 till 2024  for testing purpose.\n",
    "\n"
   ]
  },
  {
   "cell_type": "code",
   "metadata": {
    "id": "mlYQS9fZwBtX",
    "ExecuteTime": {
     "end_time": "2024-07-10T09:54:47.184105Z",
     "start_time": "2024-07-10T09:54:47.181051Z"
    }
   },
   "source": [
    "start_train_date = \"2010-01-01\"\n",
    "end_train_date = \"2021-01-01\"\n",
    "start_test_date = \"2021-01-01\"\n",
    "end_test_date = \"2024-01-01\""
   ],
   "outputs": [],
   "execution_count": 3
  },
  {
   "cell_type": "markdown",
   "metadata": {
    "id": "W2PQtKLRwAzw"
   },
   "source": [
    "Write a function that takes ticker name, start and end dates and returns pandas series of annual stock prices.\n",
    "\n"
   ]
  },
  {
   "cell_type": "code",
   "metadata": {
    "colab": {
     "base_uri": "https://localhost:8080/"
    },
    "id": "ksDOBQI5JkO0",
    "outputId": "de100184-ded4-475e-d3c0-d5e8433c5a92",
    "ExecuteTime": {
     "end_time": "2024-07-10T09:54:47.923625Z",
     "start_time": "2024-07-10T09:54:47.204391Z"
    }
   },
   "source": [
    "import yfinance as yf\n",
    "import pandas as pd\n",
    "import numpy as np\n",
    "\n",
    "\n",
    "def download_annual_stock_prices(tickers_list, buy_date=\"2010-01-01\", sell_date=\"2021-01-01\"):\n",
    "    \"\"\"Download the annual stock price using yf.download\"\"\"\n",
    "    data_df = yf.download(tickers_list, start=buy_date, end=sell_date, interval=\"1mo\", progress=False)\n",
    "    return data_df[\"Open\"][::12]"
   ],
   "outputs": [],
   "execution_count": 4
  },
  {
   "cell_type": "code",
   "metadata": {
    "ExecuteTime": {
     "end_time": "2024-07-10T09:54:50.567890Z",
     "start_time": "2024-07-10T09:54:47.925115Z"
    }
   },
   "source": [
    "annual_stock_price_df = download_annual_stock_prices(\n",
    "    list(tickers), start_train_date, end_train_date\n",
    ")\n",
    "test_annual_stock_price_df = download_annual_stock_prices(\n",
    "    list(tickers), start_test_date, end_test_date\n",
    ")"
   ],
   "outputs": [],
   "execution_count": 5
  },
  {
   "cell_type": "code",
   "metadata": {
    "ExecuteTime": {
     "end_time": "2024-07-10T09:54:50.603613Z",
     "start_time": "2024-07-10T09:54:50.570723Z"
    }
   },
   "source": [
    "test_annual_stock_price_df"
   ],
   "outputs": [
    {
     "data": {
      "text/plain": [
       "Ticker          ADS.DE         AMT          BA     BNP.PA         DIS  \\\n",
       "Date                                                                    \n",
       "2021-01-01  297.899994  226.070007  210.000000  43.105000  182.259995   \n",
       "2022-01-01  254.350006  292.369995  204.000000  61.110001  155.830002   \n",
       "2023-01-01  128.339996  214.000000  192.949997  53.910000   88.980003   \n",
       "\n",
       "Ticker           GOOGL         MCD        PFE          TM        VOD  \n",
       "Date                                                                  \n",
       "2021-01-01   88.000000  214.490005  36.869999  155.809998  17.040001  \n",
       "2022-01-01  145.054993  269.489990  58.500000  186.809998  15.200000  \n",
       "2023-01-01   89.589996  263.529999  51.009998  137.960007  10.290000  "
      ],
      "text/html": [
       "<div>\n",
       "<style scoped>\n",
       "    .dataframe tbody tr th:only-of-type {\n",
       "        vertical-align: middle;\n",
       "    }\n",
       "\n",
       "    .dataframe tbody tr th {\n",
       "        vertical-align: top;\n",
       "    }\n",
       "\n",
       "    .dataframe thead th {\n",
       "        text-align: right;\n",
       "    }\n",
       "</style>\n",
       "<table border=\"1\" class=\"dataframe\">\n",
       "  <thead>\n",
       "    <tr style=\"text-align: right;\">\n",
       "      <th>Ticker</th>\n",
       "      <th>ADS.DE</th>\n",
       "      <th>AMT</th>\n",
       "      <th>BA</th>\n",
       "      <th>BNP.PA</th>\n",
       "      <th>DIS</th>\n",
       "      <th>GOOGL</th>\n",
       "      <th>MCD</th>\n",
       "      <th>PFE</th>\n",
       "      <th>TM</th>\n",
       "      <th>VOD</th>\n",
       "    </tr>\n",
       "    <tr>\n",
       "      <th>Date</th>\n",
       "      <th></th>\n",
       "      <th></th>\n",
       "      <th></th>\n",
       "      <th></th>\n",
       "      <th></th>\n",
       "      <th></th>\n",
       "      <th></th>\n",
       "      <th></th>\n",
       "      <th></th>\n",
       "      <th></th>\n",
       "    </tr>\n",
       "  </thead>\n",
       "  <tbody>\n",
       "    <tr>\n",
       "      <th>2021-01-01</th>\n",
       "      <td>297.899994</td>\n",
       "      <td>226.070007</td>\n",
       "      <td>210.000000</td>\n",
       "      <td>43.105000</td>\n",
       "      <td>182.259995</td>\n",
       "      <td>88.000000</td>\n",
       "      <td>214.490005</td>\n",
       "      <td>36.869999</td>\n",
       "      <td>155.809998</td>\n",
       "      <td>17.040001</td>\n",
       "    </tr>\n",
       "    <tr>\n",
       "      <th>2022-01-01</th>\n",
       "      <td>254.350006</td>\n",
       "      <td>292.369995</td>\n",
       "      <td>204.000000</td>\n",
       "      <td>61.110001</td>\n",
       "      <td>155.830002</td>\n",
       "      <td>145.054993</td>\n",
       "      <td>269.489990</td>\n",
       "      <td>58.500000</td>\n",
       "      <td>186.809998</td>\n",
       "      <td>15.200000</td>\n",
       "    </tr>\n",
       "    <tr>\n",
       "      <th>2023-01-01</th>\n",
       "      <td>128.339996</td>\n",
       "      <td>214.000000</td>\n",
       "      <td>192.949997</td>\n",
       "      <td>53.910000</td>\n",
       "      <td>88.980003</td>\n",
       "      <td>89.589996</td>\n",
       "      <td>263.529999</td>\n",
       "      <td>51.009998</td>\n",
       "      <td>137.960007</td>\n",
       "      <td>10.290000</td>\n",
       "    </tr>\n",
       "  </tbody>\n",
       "</table>\n",
       "</div>"
      ]
     },
     "execution_count": 6,
     "metadata": {},
     "output_type": "execute_result"
    }
   ],
   "execution_count": 6
  },
  {
   "cell_type": "code",
   "metadata": {
    "ExecuteTime": {
     "end_time": "2024-07-10T09:54:50.622711Z",
     "start_time": "2024-07-10T09:54:50.606751Z"
    }
   },
   "source": [
    "annual_stock_price_df"
   ],
   "outputs": [
    {
     "data": {
      "text/plain": [
       "Ticker          ADS.DE         AMT          BA     BNP.PA         DIS  \\\n",
       "Date                                                                    \n",
       "2010-01-01   37.770000   43.490002   55.720001  55.900002   32.500000   \n",
       "2011-01-01   49.279999   51.910000   66.150002  48.299999   37.740002   \n",
       "2012-01-01   49.509998   60.450001   74.699997  30.450001   37.970001   \n",
       "2013-01-01   67.330002   78.389999   76.550003  42.584999   50.799999   \n",
       "2014-01-01   92.639999   79.510002  136.009995  56.650002   76.040001   \n",
       "2015-01-01   57.619999   99.160004  131.070007  49.259998   94.910004   \n",
       "2016-01-01   89.910004   96.290001  141.380005  52.590000  103.120003   \n",
       "2017-01-01  149.750000  106.730003  156.300003  60.119999  105.300003   \n",
       "2018-01-01  167.149994  143.160004  295.750000  62.250000  108.949997   \n",
       "2019-01-01  182.399994  157.110001  316.190002  39.474998  108.099998   \n",
       "2020-01-01  289.799988  229.679993  328.549988  52.830002  145.289993   \n",
       "\n",
       "Ticker          GOOGL         MCD        PFE          TM        VOD  \n",
       "Date                                                                 \n",
       "2010-01-01  15.689439   62.630001  17.333965   84.750000  23.649338  \n",
       "2011-01-01  14.926927   77.099998  16.793169   79.019997  26.941896  \n",
       "2012-01-01  16.339840  101.330002  20.740038   67.389999  28.695210  \n",
       "2013-01-01  18.003504   89.400002  24.222012   94.779999  26.258919  \n",
       "2014-01-01  27.914413   96.809998  28.908918  121.599998  39.755352  \n",
       "2015-01-01  26.629999   94.129997  29.667933  126.230003  34.080002  \n",
       "2016-01-01  38.110001  117.250000  30.218216  121.519997  32.119999  \n",
       "2017-01-01  40.030998  121.860001  31.024668  118.169998  24.840000  \n",
       "2018-01-01  52.651001  173.729996  34.516129  127.430000  32.160000  \n",
       "2019-01-01  51.360001  175.410004  40.910816  114.680000  19.299999  \n",
       "2020-01-01  67.420502  198.000000  37.286530  142.000000  19.379999  "
      ],
      "text/html": [
       "<div>\n",
       "<style scoped>\n",
       "    .dataframe tbody tr th:only-of-type {\n",
       "        vertical-align: middle;\n",
       "    }\n",
       "\n",
       "    .dataframe tbody tr th {\n",
       "        vertical-align: top;\n",
       "    }\n",
       "\n",
       "    .dataframe thead th {\n",
       "        text-align: right;\n",
       "    }\n",
       "</style>\n",
       "<table border=\"1\" class=\"dataframe\">\n",
       "  <thead>\n",
       "    <tr style=\"text-align: right;\">\n",
       "      <th>Ticker</th>\n",
       "      <th>ADS.DE</th>\n",
       "      <th>AMT</th>\n",
       "      <th>BA</th>\n",
       "      <th>BNP.PA</th>\n",
       "      <th>DIS</th>\n",
       "      <th>GOOGL</th>\n",
       "      <th>MCD</th>\n",
       "      <th>PFE</th>\n",
       "      <th>TM</th>\n",
       "      <th>VOD</th>\n",
       "    </tr>\n",
       "    <tr>\n",
       "      <th>Date</th>\n",
       "      <th></th>\n",
       "      <th></th>\n",
       "      <th></th>\n",
       "      <th></th>\n",
       "      <th></th>\n",
       "      <th></th>\n",
       "      <th></th>\n",
       "      <th></th>\n",
       "      <th></th>\n",
       "      <th></th>\n",
       "    </tr>\n",
       "  </thead>\n",
       "  <tbody>\n",
       "    <tr>\n",
       "      <th>2010-01-01</th>\n",
       "      <td>37.770000</td>\n",
       "      <td>43.490002</td>\n",
       "      <td>55.720001</td>\n",
       "      <td>55.900002</td>\n",
       "      <td>32.500000</td>\n",
       "      <td>15.689439</td>\n",
       "      <td>62.630001</td>\n",
       "      <td>17.333965</td>\n",
       "      <td>84.750000</td>\n",
       "      <td>23.649338</td>\n",
       "    </tr>\n",
       "    <tr>\n",
       "      <th>2011-01-01</th>\n",
       "      <td>49.279999</td>\n",
       "      <td>51.910000</td>\n",
       "      <td>66.150002</td>\n",
       "      <td>48.299999</td>\n",
       "      <td>37.740002</td>\n",
       "      <td>14.926927</td>\n",
       "      <td>77.099998</td>\n",
       "      <td>16.793169</td>\n",
       "      <td>79.019997</td>\n",
       "      <td>26.941896</td>\n",
       "    </tr>\n",
       "    <tr>\n",
       "      <th>2012-01-01</th>\n",
       "      <td>49.509998</td>\n",
       "      <td>60.450001</td>\n",
       "      <td>74.699997</td>\n",
       "      <td>30.450001</td>\n",
       "      <td>37.970001</td>\n",
       "      <td>16.339840</td>\n",
       "      <td>101.330002</td>\n",
       "      <td>20.740038</td>\n",
       "      <td>67.389999</td>\n",
       "      <td>28.695210</td>\n",
       "    </tr>\n",
       "    <tr>\n",
       "      <th>2013-01-01</th>\n",
       "      <td>67.330002</td>\n",
       "      <td>78.389999</td>\n",
       "      <td>76.550003</td>\n",
       "      <td>42.584999</td>\n",
       "      <td>50.799999</td>\n",
       "      <td>18.003504</td>\n",
       "      <td>89.400002</td>\n",
       "      <td>24.222012</td>\n",
       "      <td>94.779999</td>\n",
       "      <td>26.258919</td>\n",
       "    </tr>\n",
       "    <tr>\n",
       "      <th>2014-01-01</th>\n",
       "      <td>92.639999</td>\n",
       "      <td>79.510002</td>\n",
       "      <td>136.009995</td>\n",
       "      <td>56.650002</td>\n",
       "      <td>76.040001</td>\n",
       "      <td>27.914413</td>\n",
       "      <td>96.809998</td>\n",
       "      <td>28.908918</td>\n",
       "      <td>121.599998</td>\n",
       "      <td>39.755352</td>\n",
       "    </tr>\n",
       "    <tr>\n",
       "      <th>2015-01-01</th>\n",
       "      <td>57.619999</td>\n",
       "      <td>99.160004</td>\n",
       "      <td>131.070007</td>\n",
       "      <td>49.259998</td>\n",
       "      <td>94.910004</td>\n",
       "      <td>26.629999</td>\n",
       "      <td>94.129997</td>\n",
       "      <td>29.667933</td>\n",
       "      <td>126.230003</td>\n",
       "      <td>34.080002</td>\n",
       "    </tr>\n",
       "    <tr>\n",
       "      <th>2016-01-01</th>\n",
       "      <td>89.910004</td>\n",
       "      <td>96.290001</td>\n",
       "      <td>141.380005</td>\n",
       "      <td>52.590000</td>\n",
       "      <td>103.120003</td>\n",
       "      <td>38.110001</td>\n",
       "      <td>117.250000</td>\n",
       "      <td>30.218216</td>\n",
       "      <td>121.519997</td>\n",
       "      <td>32.119999</td>\n",
       "    </tr>\n",
       "    <tr>\n",
       "      <th>2017-01-01</th>\n",
       "      <td>149.750000</td>\n",
       "      <td>106.730003</td>\n",
       "      <td>156.300003</td>\n",
       "      <td>60.119999</td>\n",
       "      <td>105.300003</td>\n",
       "      <td>40.030998</td>\n",
       "      <td>121.860001</td>\n",
       "      <td>31.024668</td>\n",
       "      <td>118.169998</td>\n",
       "      <td>24.840000</td>\n",
       "    </tr>\n",
       "    <tr>\n",
       "      <th>2018-01-01</th>\n",
       "      <td>167.149994</td>\n",
       "      <td>143.160004</td>\n",
       "      <td>295.750000</td>\n",
       "      <td>62.250000</td>\n",
       "      <td>108.949997</td>\n",
       "      <td>52.651001</td>\n",
       "      <td>173.729996</td>\n",
       "      <td>34.516129</td>\n",
       "      <td>127.430000</td>\n",
       "      <td>32.160000</td>\n",
       "    </tr>\n",
       "    <tr>\n",
       "      <th>2019-01-01</th>\n",
       "      <td>182.399994</td>\n",
       "      <td>157.110001</td>\n",
       "      <td>316.190002</td>\n",
       "      <td>39.474998</td>\n",
       "      <td>108.099998</td>\n",
       "      <td>51.360001</td>\n",
       "      <td>175.410004</td>\n",
       "      <td>40.910816</td>\n",
       "      <td>114.680000</td>\n",
       "      <td>19.299999</td>\n",
       "    </tr>\n",
       "    <tr>\n",
       "      <th>2020-01-01</th>\n",
       "      <td>289.799988</td>\n",
       "      <td>229.679993</td>\n",
       "      <td>328.549988</td>\n",
       "      <td>52.830002</td>\n",
       "      <td>145.289993</td>\n",
       "      <td>67.420502</td>\n",
       "      <td>198.000000</td>\n",
       "      <td>37.286530</td>\n",
       "      <td>142.000000</td>\n",
       "      <td>19.379999</td>\n",
       "    </tr>\n",
       "  </tbody>\n",
       "</table>\n",
       "</div>"
      ]
     },
     "execution_count": 7,
     "metadata": {},
     "output_type": "execute_result"
    }
   ],
   "execution_count": 7
  },
  {
   "cell_type": "markdown",
   "metadata": {
    "id": "v79kFkoC3M4M"
   },
   "source": [
    "\n",
    "Let's define $\\xi_i$ as random variable equals annual return ratio of the $\\text{stock}_i$  relative to the buying price.\n",
    "\n",
    "Convert annual stock price to annual return ratio considering that we've bought stock at moment $t=0$.\n",
    "i.e. if the annoaul stock prices are $(10, 15, 12, 13)$,\n",
    " annual return ratio will be $(0.5, -0.3, 0.1)$"
   ]
  },
  {
   "cell_type": "code",
   "metadata": {
    "ExecuteTime": {
     "end_time": "2024-07-10T09:54:50.643976Z",
     "start_time": "2024-07-10T09:54:50.623790Z"
    }
   },
   "source": [
    "def get_annual_return_ratio_from_initial(prices_df):\n",
    "    diff_df = prices_df.diff(1).dropna()\n",
    "    return diff_df.div(prices_df.iloc[0])\n",
    "\n",
    "\n",
    "test_stock_price_df = pd.DataFrame(\n",
    "    {\n",
    "        \"ticker_1\": [1, 3, 2, 5],\n",
    "        \"ticker_2\": [10, 15, 12, 13],\n",
    "    }\n",
    ")\n",
    "test_annual_return_ratio_df = pd.DataFrame(\n",
    "    {\n",
    "        \"ticker_1\": [2.0, -1.0, 3.0],\n",
    "        \"ticker_2\": [0.5, -0.3, 0.1],\n",
    "    }\n",
    ")\n",
    "result_np = get_annual_return_ratio_from_initial(test_stock_price_df).values\n",
    "np.testing.assert_array_equal(result_np, test_annual_return_ratio_df.values)"
   ],
   "outputs": [],
   "execution_count": 8
  },
  {
   "cell_type": "code",
   "metadata": {
    "id": "3jAAyrPY4EaZ",
    "ExecuteTime": {
     "end_time": "2024-07-10T09:54:50.650590Z",
     "start_time": "2024-07-10T09:54:50.645040Z"
    }
   },
   "source": [
    "annual_return_ratio_df = get_annual_return_ratio_from_initial(annual_stock_price_df)\n",
    "test_annual_return_ratio_df = get_annual_return_ratio_from_initial(test_annual_stock_price_df)"
   ],
   "outputs": [],
   "execution_count": 9
  },
  {
   "cell_type": "markdown",
   "metadata": {
    "id": "xh6okIqF-uRM"
   },
   "source": [
    "## Task 2 Simple approach\n",
    "\n",
    "Let's invest all money in most profitable company but for that we need to calculate $E\\xi_i$ first.\n",
    "\n",
    "We can calculate this value from company annual return ratio and from stock price. Let's do both to make sure that we do everything right."
   ]
  },
  {
   "cell_type": "code",
   "metadata": {
    "id": "AbV7TseO-tmB",
    "ExecuteTime": {
     "end_time": "2024-07-10T09:54:50.654994Z",
     "start_time": "2024-07-10T09:54:50.651775Z"
    }
   },
   "source": [
    "eps = 1e-7\n",
    "\n",
    "\n",
    "def get_expectation_ratio_from_return_ratio(ticker_return_ratio_df):\n",
    "    return ticker_return_ratio_df.mean()\n",
    "\n",
    "\n",
    "def get_expectation_ratio_from_stock_price(ticker_stock_price_df):\n",
    "    pct_price_change_df = (ticker_stock_price_df.iloc[-1] / ticker_stock_price_df.iloc[0]) - 1\n",
    "    return pct_price_change_df / (len(ticker_stock_price_df) - 1)"
   ],
   "outputs": [],
   "execution_count": 10
  },
  {
   "cell_type": "code",
   "metadata": {
    "ExecuteTime": {
     "end_time": "2024-07-10T09:54:50.660739Z",
     "start_time": "2024-07-10T09:54:50.655950Z"
    }
   },
   "source": [
    "expectation_ratio_1 = get_expectation_ratio_from_return_ratio(annual_return_ratio_df)\n",
    "expectation_ratio_2 = get_expectation_ratio_from_stock_price(annual_stock_price_df)\n",
    "assert sum(abs(expectation_ratio_1 - expectation_ratio_2)) < eps"
   ],
   "outputs": [],
   "execution_count": 11
  },
  {
   "cell_type": "markdown",
   "metadata": {
    "id": "omc4-0pSDp6R"
   },
   "source": [
    "Looks like we are ready to implement our greedy approach:\n",
    "\n",
    "$$ \\text{company-to-invest} = \\max_i E \\xi_i $$\n",
    "\n",
    "Let's implement this approach having tickers and dates of buying and selling:"
   ]
  },
  {
   "cell_type": "code",
   "metadata": {
    "colab": {
     "base_uri": "https://localhost:8080/"
    },
    "id": "CZHI9hQTGRaG",
    "outputId": "e182e14a-137a-43de-fb0b-ffb8fd77833e",
    "ExecuteTime": {
     "end_time": "2024-07-10T09:54:50.665065Z",
     "start_time": "2024-07-10T09:54:50.661970Z"
    }
   },
   "source": [
    "def get_expectation_ratio_for_greedy_performance(prices_df):\n",
    "    return get_expectation_ratio_from_stock_price(prices_df)\n",
    "\n",
    "\n",
    "def find_ticker_for_greedy_selection(prices_df):\n",
    "    expectation_df = get_expectation_ratio_from_stock_price(prices_df)\n",
    "    return expectation_df.idxmax()"
   ],
   "outputs": [],
   "execution_count": 12
  },
  {
   "cell_type": "code",
   "metadata": {
    "ExecuteTime": {
     "end_time": "2024-07-10T09:54:50.838124Z",
     "start_time": "2024-07-10T09:54:50.668504Z"
    }
   },
   "source": [
    "aapl_df = download_annual_stock_prices([\"AAPL\"], start_train_date, end_train_date)\n",
    "assert 0.8 < get_expectation_ratio_from_stock_price(aapl_df) < 0.9"
   ],
   "outputs": [],
   "execution_count": 13
  },
  {
   "cell_type": "code",
   "metadata": {
    "colab": {
     "base_uri": "https://localhost:8080/"
    },
    "id": "w-QC99MWJbrF",
    "outputId": "5224e3d0-b1fa-4bc7-958a-c2adde2d74e4",
    "ExecuteTime": {
     "end_time": "2024-07-10T09:54:50.844005Z",
     "start_time": "2024-07-10T09:54:50.839266Z"
    }
   },
   "source": [
    "best_greedy_ticker = find_ticker_for_greedy_selection(annual_stock_price_df)\n",
    "greedy_ticker_train_performance = get_expectation_ratio_for_greedy_performance(\n",
    "    annual_stock_price_df[best_greedy_ticker]\n",
    ")\n",
    "greedy_ticker_test_performance = get_expectation_ratio_for_greedy_performance(\n",
    "    test_annual_stock_price_df[best_greedy_ticker]\n",
    ")\n",
    "print(f\"\\n ticker to invest in greedy approach: {best_greedy_ticker}\")\n",
    "print(f\"Train expectation ratio: {greedy_ticker_train_performance}\")\n",
    "print(f\"Test expectation ratio: {greedy_ticker_test_performance}\")"
   ],
   "outputs": [
    {
     "name": "stdout",
     "output_type": "stream",
     "text": [
      "\n",
      " ticker to invest in greedy approach: ADS.DE\n",
      "Train expectation ratio: 0.6672755739493247\n",
      "Test expectation ratio: -0.2845921467482695\n"
     ]
    }
   ],
   "execution_count": 14
  },
  {
   "cell_type": "markdown",
   "metadata": {
    "id": "xwCsC8JNLtxY"
   },
   "source": [
    "Looks like our greedy method is not very helpful."
   ]
  },
  {
   "cell_type": "markdown",
   "metadata": {
    "id": "wt2gIPYzL1-_"
   },
   "source": [
    "## Task 3 Variance\n",
    "\n",
    "If stock has big variance it means that investor cannot be sure about the future. What is the variance in our case?\n",
    "\n",
    "Your task is to find $D\\xi_i$"
   ]
  },
  {
   "cell_type": "code",
   "metadata": {
    "colab": {
     "base_uri": "https://localhost:8080/"
    },
    "id": "f7a4Y2rJv73Y",
    "outputId": "a232b717-7790-4854-9151-07dcec9e245c",
    "ExecuteTime": {
     "end_time": "2024-07-10T09:54:50.847994Z",
     "start_time": "2024-07-10T09:54:50.845066Z"
    }
   },
   "source": [
    "def get_variance_from_return_ratio(ticker_return_ratio_df):\n",
    "    return ticker_return_ratio_df.var(ddof=0)\n",
    "\n",
    "\n",
    "def get_ticker_variance(prices_df):\n",
    "    return_ratio = get_annual_return_ratio_from_initial(prices_df)\n",
    "    return get_variance_from_return_ratio(return_ratio)"
   ],
   "outputs": [],
   "execution_count": 15
  },
  {
   "cell_type": "code",
   "metadata": {
    "ExecuteTime": {
     "end_time": "2024-07-10T09:54:50.875783Z",
     "start_time": "2024-07-10T09:54:50.849217Z"
    }
   },
   "source": [
    "aapl_df = download_annual_stock_prices([\"AAPL\"], start_train_date, end_train_date)\n",
    "assert 1.9 < get_ticker_variance(aapl_df) < 2.0"
   ],
   "outputs": [],
   "execution_count": 16
  },
  {
   "cell_type": "markdown",
   "metadata": {
    "id": "nz0AlqjmwZa_"
   },
   "source": [
    "Then let's reformulate our task, we will select stock to invest by maximizing the following:\n",
    "\n",
    "$$\\text{company-to-invest} = \\max_i \\left( \\frac{E\\xi_i} {\\sqrt{ D\\xi_i}} \\right)$$"
   ]
  },
  {
   "cell_type": "code",
   "metadata": {
    "id": "rj2zGS0Mv75V",
    "ExecuteTime": {
     "end_time": "2024-07-10T09:54:50.879911Z",
     "start_time": "2024-07-10T09:54:50.876835Z"
    }
   },
   "source": [
    "def calc_expectation_ratio_divided_by_variance(prices_df):\n",
    "    expectation_df = get_expectation_ratio_from_stock_price(prices_df)\n",
    "    variance_df = get_ticker_variance(prices_df)\n",
    "    return expectation_df.div(variance_df.pow(0.5))\n",
    "\n",
    "\n",
    "def find_ticker_for_max_expectation_divided_by_var(prices_df):\n",
    "    return calc_expectation_ratio_divided_by_variance(prices_df).idxmax()"
   ],
   "outputs": [],
   "execution_count": 17
  },
  {
   "cell_type": "code",
   "metadata": {
    "colab": {
     "base_uri": "https://localhost:8080/"
    },
    "id": "a5dIf6wUv77a",
    "outputId": "1bbb4925-11e2-4264-af78-aba39b6d6080",
    "ExecuteTime": {
     "end_time": "2024-07-10T09:54:50.888892Z",
     "start_time": "2024-07-10T09:54:50.880982Z"
    }
   },
   "source": [
    "best_expectation_var_ticker = find_ticker_for_max_expectation_divided_by_var(\n",
    "    annual_stock_price_df\n",
    ")\n",
    "expectation_var_train_performance = get_expectation_ratio_for_greedy_performance(\n",
    "    annual_stock_price_df[best_expectation_var_ticker]\n",
    ")\n",
    "greedy_ticker_test_performance = get_expectation_ratio_for_greedy_performance(\n",
    "    test_annual_stock_price_df[best_expectation_var_ticker]\n",
    ")\n",
    "\n",
    "print(f\"\\n ticker to invest in expectation-variance approach: {best_expectation_var_ticker}\")\n",
    "print(f\"Train expectation ratio: {expectation_var_train_performance}\")\n",
    "print(f\"Test expectation ratio: {greedy_ticker_test_performance}\")"
   ],
   "outputs": [
    {
     "name": "stdout",
     "output_type": "stream",
     "text": [
      "\n",
      " ticker to invest in expectation-variance approach: DIS\n",
      "Train expectation ratio: 0.347046133188101\n",
      "Test expectation ratio: -0.25589815088687423\n"
     ]
    }
   ],
   "execution_count": 18
  },
  {
   "cell_type": "markdown",
   "metadata": {
    "id": "YoH2PtWon6Rw"
   },
   "source": [
    "Still not good..."
   ]
  },
  {
   "cell_type": "markdown",
   "metadata": {
    "id": "XR8x3gx8V55m"
   },
   "source": [
    "## Task 4 Linear combination\n",
    "\n",
    "In investing, there is a golden rule not to put all your eggs in one basket. So why shouldn't Ivan diversify his investments?\n",
    "\n",
    "Let's define the weight vector $w = (w_1, \\ldots, w_n)$ such that $|w| = \\sum_{i} w_i = 1;$ and  $ 0 \\le w_i \\le 1$ .\n",
    "\n",
    "Our solution can then be represented as:\n",
    "$\\xi = \\sum_i w_i \\xi_i$\n",
    "\n",
    "**Task:** Expand the final formula\n",
    "\n",
    "$$ \\max_w \\left (  \\frac{E[\\xi]} { \\sqrt{D[\\xi]} } \\right)   =\n",
    "    \\max_w \\left (  \\frac{E \\left[ \\sum_i w_i \\xi_i \\right] } { \\sqrt{D \\left[ \\sum_i w_i \\xi_i \\right] } } \\right)  = \\ldots\n",
    "$$  \n",
    "\n"
   ]
  },
  {
   "cell_type": "markdown",
   "metadata": {
    "id": "8S0wwN_kyHoF"
   },
   "source": [
    "To find best vector $w$ we have to create a function that returns our metric having vector $w$"
   ]
  },
  {
   "cell_type": "code",
   "metadata": {
    "colab": {
     "base_uri": "https://localhost:8080/"
    },
    "id": "wm5a22T8yUE9",
    "outputId": "165f8cf3-0630-4de2-fe88-94a5079a206c",
    "ExecuteTime": {
     "end_time": "2024-07-10T09:54:50.898382Z",
     "start_time": "2024-07-10T09:54:50.890120Z"
    }
   },
   "source": [
    "def get_expectation(prices_df, weights):\n",
    "    \"\"\"Calculate expected profit if we invest in each ticker with certain weight.\"\"\"\n",
    "    expectation_df = get_expectation_ratio_from_stock_price(prices_df)\n",
    "    return expectation_df.mul(weights).sum()\n",
    "\n",
    "\n",
    "def create_functional(priced_df):\n",
    "    annual_ratio_df: pd.DataFrame = get_annual_return_ratio_from_initial(priced_df)\n",
    "\n",
    "    def wrapper(weights):\n",
    "        weighted_annual_ratio_sum_df = annual_ratio_df.mul(weights).sum(axis=1)  # sum(w_i * xi_i)\n",
    "\n",
    "        weighted_expectation = weighted_annual_ratio_sum_df.mean()\n",
    "        weighted_variance = weighted_annual_ratio_sum_df.var(ddof=0)\n",
    "        return weighted_expectation / np.sqrt(weighted_variance)\n",
    "\n",
    "    return wrapper\n",
    "\n",
    "\n",
    "functional = create_functional(annual_stock_price_df)\n",
    "\n",
    "equal_weights = np.array([1 / len(tickers) for _ in tickers])\n",
    "metric_for_equal_weights = functional(equal_weights)\n",
    "\n",
    "assert 1.0 < metric_for_equal_weights < 1.5"
   ],
   "outputs": [],
   "execution_count": 19
  },
  {
   "cell_type": "code",
   "metadata": {
    "ExecuteTime": {
     "end_time": "2024-07-10T09:54:50.903093Z",
     "start_time": "2024-07-10T09:54:50.899600Z"
    }
   },
   "source": [
    "metric_for_equal_weights"
   ],
   "outputs": [
    {
     "data": {
      "text/plain": [
       "1.0415405684382606"
      ]
     },
     "execution_count": 20,
     "metadata": {},
     "output_type": "execute_result"
    }
   ],
   "execution_count": 20
  },
  {
   "cell_type": "markdown",
   "metadata": {
    "id": "YojoxeQi0C6v"
   },
   "source": [
    "## Task 5 Optimization\n",
    "\n",
    "But how to find best weights?\n",
    "\n",
    "Let's define optimization problem and use _minimize_ function from _sicpy_ package.\n",
    "\n",
    "**Your task** Find best weights and evaluate train and test results."
   ]
  },
  {
   "cell_type": "code",
   "metadata": {
    "ExecuteTime": {
     "end_time": "2024-07-10T09:54:51.143095Z",
     "start_time": "2024-07-10T09:54:50.904243Z"
    }
   },
   "source": [
    "from scipy.optimize import minimize"
   ],
   "outputs": [],
   "execution_count": 21
  },
  {
   "cell_type": "code",
   "metadata": {
    "colab": {
     "base_uri": "https://localhost:8080/"
    },
    "id": "dFAOhUZoywSx",
    "outputId": "d1ee466d-b095-44eb-b765-7b49af086dfc",
    "ExecuteTime": {
     "end_time": "2024-07-10T09:54:51.280978Z",
     "start_time": "2024-07-10T09:54:51.144452Z"
    }
   },
   "source": [
    "def constraint(x):\n",
    "    return sum(x) - 1\n",
    "\n",
    "\n",
    "con = {\"type\": \"eq\", \"fun\": constraint}\n",
    "bounds = [(0, 1) for _ in range(len(tickers))]\n",
    "minimization_functional = lambda weights: -functional(weights)\n",
    "\n",
    "task_5_result = minimize(\n",
    "    minimization_functional, equal_weights, constraints=con, bounds=bounds\n",
    ")\n",
    "\n",
    "print(\"Optimal Weights:\", task_5_result.x.round(4))\n",
    "print(\"\\nTrain Expected Profit:\", get_expectation(annual_stock_price_df, task_5_result.x))\n",
    "print(\"Test Expected Profit:\", get_expectation(test_annual_stock_price_df, task_5_result.x))"
   ],
   "outputs": [
    {
     "name": "stdout",
     "output_type": "stream",
     "text": [
      "Optimal Weights: [0.0311 0.0295 0.     0.     0.1975 0.     0.1565 0.5854 0.     0.    ]\n",
      "\n",
      "Train Expected Profit: 0.20314169520939473\n",
      "Test Expected Profit: 0.06996977756443773\n"
     ]
    }
   ],
   "execution_count": 22
  },
  {
   "cell_type": "markdown",
   "metadata": {
    "id": "jYBEFe5gebZZ"
   },
   "source": [
    "## Task 6 Bonus: Experiment with initial weights\n",
    "\n",
    "\n",
    "For running mimimzation algorithm we need to define initial vector $w_0$, but how to do that?\n",
    "\n",
    "One of the approaches is to try $N$ different starting points and select the best.\n",
    "\n",
    "**Your task**\n",
    "1. Implement algorithm that generates $N$ random vectors for weights then tries to minimize functional $N$ times using these vectors as a starting points. And returns the best founded weights.\n",
    "2. Apply this  algorithm for our task and compare results\n"
   ]
  },
  {
   "cell_type": "code",
   "metadata": {
    "colab": {
     "base_uri": "https://localhost:8080/"
    },
    "id": "aJhfWr4N0llb",
    "outputId": "34c2798a-77ed-4958-ee68-09762671425e",
    "ExecuteTime": {
     "end_time": "2024-07-10T09:55:03.253211Z",
     "start_time": "2024-07-10T09:54:51.282059Z"
    }
   },
   "source": [
    "from tqdm import tqdm\n",
    "\n",
    "\n",
    "def generate_random_weights(vector_size):\n",
    "    weights = np.random.rand(vector_size)\n",
    "    weights /= np.sum(weights)\n",
    "    return weights\n",
    "\n",
    "\n",
    "def random_search_for_initial_weights(functional_to_minimize, n_tries, vector_size):\n",
    "    best_func_value = np.inf\n",
    "    best_weights = None\n",
    "    jac = None\n",
    "    for _ in tqdm(range(n_tries)):\n",
    "        weights = generate_random_weights(vector_size)\n",
    "        res = minimize(functional_to_minimize, weights, constraints=con, bounds=bounds)\n",
    "        if res.fun < best_func_value:\n",
    "            best_func_value = res.fun\n",
    "            best_weights = res.x\n",
    "            jac = res.jac\n",
    "\n",
    "    return best_weights, best_func_value, -jac\n",
    "\n",
    "\n",
    "optimal_weights, func_value, func_jac = random_search_for_initial_weights(\n",
    "    minimization_functional, 100, vector_size=len(tickers)\n",
    ")\n",
    "\n",
    "print(\"Optimal weights:\", optimal_weights.round(4))\n",
    "print(\"\\ntrain expectation:\", get_expectation(annual_stock_price_df, optimal_weights))\n",
    "print(\"test expectation:\", get_expectation(test_annual_stock_price_df, optimal_weights))\n",
    "\n",
    "test_task_5_expectation = get_expectation(test_annual_stock_price_df, task_5_result.x)\n",
    "test_task_6_expectation = get_expectation(test_annual_stock_price_df, optimal_weights)\n",
    "print(\n",
    "    \"\\nDifference between task 5 and 6:\",\n",
    "    (test_task_6_expectation - test_task_5_expectation) * 100,  # result in pct %\n",
    ")"
   ],
   "outputs": [
    {
     "name": "stderr",
     "output_type": "stream",
     "text": [
      "100%|██████████| 100/100 [00:11<00:00,  8.37it/s]"
     ]
    },
    {
     "name": "stdout",
     "output_type": "stream",
     "text": [
      "Optimal weights: [0.0311 0.0296 0.     0.     0.1975 0.     0.1564 0.5855 0.     0.    ]\n",
      "\n",
      "train expectation: 0.20312829774854413\n",
      "test expectation: 0.06998269178150793\n",
      "\n",
      "Difference between task 5 and 6: 0.0012914217070197909\n"
     ]
    },
    {
     "name": "stderr",
     "output_type": "stream",
     "text": [
      "\n"
     ]
    }
   ],
   "execution_count": 23
  },
  {
   "cell_type": "code",
   "metadata": {
    "ExecuteTime": {
     "end_time": "2024-07-10T09:55:03.265077Z",
     "start_time": "2024-07-10T09:55:03.254351Z"
    }
   },
   "source": [
    "test_annual_stock_price_df"
   ],
   "outputs": [
    {
     "data": {
      "text/plain": [
       "Ticker          ADS.DE         AMT          BA     BNP.PA         DIS  \\\n",
       "Date                                                                    \n",
       "2021-01-01  297.899994  226.070007  210.000000  43.105000  182.259995   \n",
       "2022-01-01  254.350006  292.369995  204.000000  61.110001  155.830002   \n",
       "2023-01-01  128.339996  214.000000  192.949997  53.910000   88.980003   \n",
       "\n",
       "Ticker           GOOGL         MCD        PFE          TM        VOD  \n",
       "Date                                                                  \n",
       "2021-01-01   88.000000  214.490005  36.869999  155.809998  17.040001  \n",
       "2022-01-01  145.054993  269.489990  58.500000  186.809998  15.200000  \n",
       "2023-01-01   89.589996  263.529999  51.009998  137.960007  10.290000  "
      ],
      "text/html": [
       "<div>\n",
       "<style scoped>\n",
       "    .dataframe tbody tr th:only-of-type {\n",
       "        vertical-align: middle;\n",
       "    }\n",
       "\n",
       "    .dataframe tbody tr th {\n",
       "        vertical-align: top;\n",
       "    }\n",
       "\n",
       "    .dataframe thead th {\n",
       "        text-align: right;\n",
       "    }\n",
       "</style>\n",
       "<table border=\"1\" class=\"dataframe\">\n",
       "  <thead>\n",
       "    <tr style=\"text-align: right;\">\n",
       "      <th>Ticker</th>\n",
       "      <th>ADS.DE</th>\n",
       "      <th>AMT</th>\n",
       "      <th>BA</th>\n",
       "      <th>BNP.PA</th>\n",
       "      <th>DIS</th>\n",
       "      <th>GOOGL</th>\n",
       "      <th>MCD</th>\n",
       "      <th>PFE</th>\n",
       "      <th>TM</th>\n",
       "      <th>VOD</th>\n",
       "    </tr>\n",
       "    <tr>\n",
       "      <th>Date</th>\n",
       "      <th></th>\n",
       "      <th></th>\n",
       "      <th></th>\n",
       "      <th></th>\n",
       "      <th></th>\n",
       "      <th></th>\n",
       "      <th></th>\n",
       "      <th></th>\n",
       "      <th></th>\n",
       "      <th></th>\n",
       "    </tr>\n",
       "  </thead>\n",
       "  <tbody>\n",
       "    <tr>\n",
       "      <th>2021-01-01</th>\n",
       "      <td>297.899994</td>\n",
       "      <td>226.070007</td>\n",
       "      <td>210.000000</td>\n",
       "      <td>43.105000</td>\n",
       "      <td>182.259995</td>\n",
       "      <td>88.000000</td>\n",
       "      <td>214.490005</td>\n",
       "      <td>36.869999</td>\n",
       "      <td>155.809998</td>\n",
       "      <td>17.040001</td>\n",
       "    </tr>\n",
       "    <tr>\n",
       "      <th>2022-01-01</th>\n",
       "      <td>254.350006</td>\n",
       "      <td>292.369995</td>\n",
       "      <td>204.000000</td>\n",
       "      <td>61.110001</td>\n",
       "      <td>155.830002</td>\n",
       "      <td>145.054993</td>\n",
       "      <td>269.489990</td>\n",
       "      <td>58.500000</td>\n",
       "      <td>186.809998</td>\n",
       "      <td>15.200000</td>\n",
       "    </tr>\n",
       "    <tr>\n",
       "      <th>2023-01-01</th>\n",
       "      <td>128.339996</td>\n",
       "      <td>214.000000</td>\n",
       "      <td>192.949997</td>\n",
       "      <td>53.910000</td>\n",
       "      <td>88.980003</td>\n",
       "      <td>89.589996</td>\n",
       "      <td>263.529999</td>\n",
       "      <td>51.009998</td>\n",
       "      <td>137.960007</td>\n",
       "      <td>10.290000</td>\n",
       "    </tr>\n",
       "  </tbody>\n",
       "</table>\n",
       "</div>"
      ]
     },
     "execution_count": 24,
     "metadata": {},
     "output_type": "execute_result"
    }
   ],
   "execution_count": 24
  },
  {
   "cell_type": "markdown",
   "metadata": {},
   "source": "Prices have dropped significantly in test data, this explains the difference between train and test expectations (0.203 and 0.0699)"
  },
  {
   "cell_type": "markdown",
   "metadata": {},
   "source": "And let's try to see dependencies between expectation divided by variance for train and test data. Compare it with weights and jacobian.\n"
  },
  {
   "cell_type": "code",
   "metadata": {
    "ExecuteTime": {
     "end_time": "2024-07-10T09:55:03.286897Z",
     "start_time": "2024-07-10T09:55:03.266102Z"
    }
   },
   "source": [
    "train_df = calc_expectation_ratio_divided_by_variance(annual_stock_price_df).to_frame(name=\"train E/var\").T\n",
    "test_df = calc_expectation_ratio_divided_by_variance(test_annual_stock_price_df).to_frame(name=\"test E/var\").T\n",
    "weights_df = pd.DataFrame(optimal_weights, index=annual_stock_price_df.keys(), columns=[\"weights\"]).T\n",
    "jac_df = pd.DataFrame(func_jac, index=annual_stock_price_df.keys(), columns=[\"jac\"]).T\n",
    "pd.concat([train_df, test_df, weights_df, jac_df]).astype(np.float16)"
   ],
   "outputs": [
    {
     "data": {
      "text/plain": [
       "Ticker         ADS.DE       AMT        BA    BNP.PA       DIS     GOOGL  \\\n",
       "train E/var  0.708496  0.898926  0.668457 -0.024704  0.959473  0.826172   \n",
       "test E/var  -2.056641 -0.083435 -3.376953  0.428711 -2.308594  0.014130   \n",
       "weights      0.031097  0.029556  0.000000  0.000000  0.197510  0.000000   \n",
       "jac          0.008476  0.000420 -5.679688 -1.791016 -0.003088 -2.843750   \n",
       "\n",
       "Ticker            MCD       PFE        TM       VOD  \n",
       "train E/var  0.791016  0.714844  0.372803 -0.059875  \n",
       "test E/var   0.804688  0.485596 -0.223511 -2.199219  \n",
       "weights      0.156372  0.585449  0.000000  0.000000  \n",
       "jac          0.001758  0.000102 -1.797852 -3.927734  "
      ],
      "text/html": [
       "<div>\n",
       "<style scoped>\n",
       "    .dataframe tbody tr th:only-of-type {\n",
       "        vertical-align: middle;\n",
       "    }\n",
       "\n",
       "    .dataframe tbody tr th {\n",
       "        vertical-align: top;\n",
       "    }\n",
       "\n",
       "    .dataframe thead th {\n",
       "        text-align: right;\n",
       "    }\n",
       "</style>\n",
       "<table border=\"1\" class=\"dataframe\">\n",
       "  <thead>\n",
       "    <tr style=\"text-align: right;\">\n",
       "      <th>Ticker</th>\n",
       "      <th>ADS.DE</th>\n",
       "      <th>AMT</th>\n",
       "      <th>BA</th>\n",
       "      <th>BNP.PA</th>\n",
       "      <th>DIS</th>\n",
       "      <th>GOOGL</th>\n",
       "      <th>MCD</th>\n",
       "      <th>PFE</th>\n",
       "      <th>TM</th>\n",
       "      <th>VOD</th>\n",
       "    </tr>\n",
       "  </thead>\n",
       "  <tbody>\n",
       "    <tr>\n",
       "      <th>train E/var</th>\n",
       "      <td>0.708496</td>\n",
       "      <td>0.898926</td>\n",
       "      <td>0.668457</td>\n",
       "      <td>-0.024704</td>\n",
       "      <td>0.959473</td>\n",
       "      <td>0.826172</td>\n",
       "      <td>0.791016</td>\n",
       "      <td>0.714844</td>\n",
       "      <td>0.372803</td>\n",
       "      <td>-0.059875</td>\n",
       "    </tr>\n",
       "    <tr>\n",
       "      <th>test E/var</th>\n",
       "      <td>-2.056641</td>\n",
       "      <td>-0.083435</td>\n",
       "      <td>-3.376953</td>\n",
       "      <td>0.428711</td>\n",
       "      <td>-2.308594</td>\n",
       "      <td>0.014130</td>\n",
       "      <td>0.804688</td>\n",
       "      <td>0.485596</td>\n",
       "      <td>-0.223511</td>\n",
       "      <td>-2.199219</td>\n",
       "    </tr>\n",
       "    <tr>\n",
       "      <th>weights</th>\n",
       "      <td>0.031097</td>\n",
       "      <td>0.029556</td>\n",
       "      <td>0.000000</td>\n",
       "      <td>0.000000</td>\n",
       "      <td>0.197510</td>\n",
       "      <td>0.000000</td>\n",
       "      <td>0.156372</td>\n",
       "      <td>0.585449</td>\n",
       "      <td>0.000000</td>\n",
       "      <td>0.000000</td>\n",
       "    </tr>\n",
       "    <tr>\n",
       "      <th>jac</th>\n",
       "      <td>0.008476</td>\n",
       "      <td>0.000420</td>\n",
       "      <td>-5.679688</td>\n",
       "      <td>-1.791016</td>\n",
       "      <td>-0.003088</td>\n",
       "      <td>-2.843750</td>\n",
       "      <td>0.001758</td>\n",
       "      <td>0.000102</td>\n",
       "      <td>-1.797852</td>\n",
       "      <td>-3.927734</td>\n",
       "    </tr>\n",
       "  </tbody>\n",
       "</table>\n",
       "</div>"
      ]
     },
     "execution_count": 25,
     "metadata": {},
     "output_type": "execute_result"
    }
   ],
   "execution_count": 25
  },
  {
   "cell_type": "markdown",
   "metadata": {},
   "source": [
    "\n",
    "For me, it seems like there is no correlations :("
   ]
  },
  {
   "cell_type": "markdown",
   "metadata": {},
   "source": [
    "### Let's try to calc weighted func value in another way:\n",
    "\n",
    "\n",
    "$$ \n",
    "    \\max_w \\left (  \\frac{E[\\xi]} { \\sqrt{D[\\xi]} } \\right)   =\n",
    "    \\max_w \\left (  \\frac{E \\left[ \\sum_i w_i \\xi_i \\right] } { \\sqrt{D \\left[ \\sum_i w_i \\xi_i \\right] } } \\right)  = \n",
    "    \\max_w \\left ( \\frac{\\sum_i w_i E_{\\xi_i} } { \\sqrt{\\sum_i w_i^2 D_{\\xi_i} + 2 \\sum_{i<j} w_i w_j \\cdot \\text{cov}\\left(\\xi_i, \\xi_j \\right)} } \\right)\n",
    "$$  \n",
    "\n",
    "And let's estimate time complexity: \n",
    "* n - number of tickers (columns)\n",
    "* t - number of values (rows)"
   ]
  },
  {
   "cell_type": "code",
   "metadata": {
    "ExecuteTime": {
     "end_time": "2024-07-10T09:55:03.302759Z",
     "start_time": "2024-07-10T09:55:03.288419Z"
    }
   },
   "source": [
    "def create_functional_1(priced_df):\n",
    "    \"\"\"Same as create_functional, to compare with optimized version.\"\"\"\n",
    "    annual_ratio_df = get_annual_return_ratio_from_initial(priced_df)\n",
    "\n",
    "    def wrapper(weights):\n",
    "        weighted_annual_ratio_sum_df = annual_ratio_df.mul(weights).sum(axis=1)  # O(nt)\n",
    "        weighted_expectation = weighted_annual_ratio_sum_df.mean()  # O(t)\n",
    "        weighted_variance = weighted_annual_ratio_sum_df.var(ddof=0)  # O(t)\n",
    "        return weighted_expectation / np.sqrt(weighted_variance)  # O(1)\n",
    "        # time complexity: O(nt)\n",
    "\n",
    "    return wrapper\n",
    "\n",
    "\n",
    "def create_functional_optimized(priced_df):\n",
    "    annual_ratio_df = get_annual_return_ratio_from_initial(priced_df)\n",
    "    mean_annual_ratio = annual_ratio_df.mean().values\n",
    "    cov_matrix = annual_ratio_df.cov(ddof=0).values\n",
    "\n",
    "    def wrapper(weights):\n",
    "        numerator = weights @ mean_annual_ratio  # O(n)\n",
    "        denominator = (weights @ cov_matrix) @ weights  # O(n^2)\n",
    "        return numerator / np.sqrt(denominator)  # O(1)\n",
    "        # time complexity: O(n^2)\n",
    "\n",
    "    return wrapper\n",
    "\n",
    "\n",
    "functional_1 = create_functional_1(annual_stock_price_df)\n",
    "print(\"functional_1:\", functional_1(optimal_weights))\n",
    "\n",
    "functional_2 = create_functional_optimized(annual_stock_price_df)\n",
    "print(\"functional_2:\", functional_2(optimal_weights))"
   ],
   "outputs": [
    {
     "name": "stdout",
     "output_type": "stream",
     "text": [
      "functional_1: 2.2500800952843303\n",
      "functional_2: 2.2500800952843303\n"
     ]
    }
   ],
   "execution_count": 26
  },
  {
   "cell_type": "markdown",
   "metadata": {},
   "source": "Let's generate random values to compare speed of these functions."
  },
  {
   "cell_type": "code",
   "metadata": {
    "ExecuteTime": {
     "end_time": "2024-07-10T09:55:03.342852Z",
     "start_time": "2024-07-10T09:55:03.304113Z"
    }
   },
   "source": [
    "N_random_values = 3 * 10**5\n",
    "n_iters = 50\n",
    "min_ratio = -2\n",
    "max_ratio = 10\n",
    "\n",
    "random_annual_ratio_df = pd.DataFrame(\n",
    "    np.random.uniform(-min_ratio, max_ratio, size=(N_random_values, len(tickers))), columns=tickers\n",
    ")\n",
    "random_annual_ratio_df.head(3)"
   ],
   "outputs": [
    {
     "data": {
      "text/plain": [
       "         BA       MCD     GOOGL       DIS       PFE       AMT       VOD  \\\n",
       "0  2.420290  6.641535  2.070968  8.566358  5.942292  4.288057  8.015594   \n",
       "1  6.537501  9.562998  6.296112  2.984419  2.720833  2.860806  2.975056   \n",
       "2  7.523851  2.511417  8.305059  9.036915  7.674577  6.869314  8.644149   \n",
       "\n",
       "     BNP.PA    ADS.DE        TM  \n",
       "0  7.190353  2.500859  7.180891  \n",
       "1  4.418972  3.256596  9.190150  \n",
       "2  4.373368  2.593795  4.715986  "
      ],
      "text/html": [
       "<div>\n",
       "<style scoped>\n",
       "    .dataframe tbody tr th:only-of-type {\n",
       "        vertical-align: middle;\n",
       "    }\n",
       "\n",
       "    .dataframe tbody tr th {\n",
       "        vertical-align: top;\n",
       "    }\n",
       "\n",
       "    .dataframe thead th {\n",
       "        text-align: right;\n",
       "    }\n",
       "</style>\n",
       "<table border=\"1\" class=\"dataframe\">\n",
       "  <thead>\n",
       "    <tr style=\"text-align: right;\">\n",
       "      <th></th>\n",
       "      <th>BA</th>\n",
       "      <th>MCD</th>\n",
       "      <th>GOOGL</th>\n",
       "      <th>DIS</th>\n",
       "      <th>PFE</th>\n",
       "      <th>AMT</th>\n",
       "      <th>VOD</th>\n",
       "      <th>BNP.PA</th>\n",
       "      <th>ADS.DE</th>\n",
       "      <th>TM</th>\n",
       "    </tr>\n",
       "  </thead>\n",
       "  <tbody>\n",
       "    <tr>\n",
       "      <th>0</th>\n",
       "      <td>2.420290</td>\n",
       "      <td>6.641535</td>\n",
       "      <td>2.070968</td>\n",
       "      <td>8.566358</td>\n",
       "      <td>5.942292</td>\n",
       "      <td>4.288057</td>\n",
       "      <td>8.015594</td>\n",
       "      <td>7.190353</td>\n",
       "      <td>2.500859</td>\n",
       "      <td>7.180891</td>\n",
       "    </tr>\n",
       "    <tr>\n",
       "      <th>1</th>\n",
       "      <td>6.537501</td>\n",
       "      <td>9.562998</td>\n",
       "      <td>6.296112</td>\n",
       "      <td>2.984419</td>\n",
       "      <td>2.720833</td>\n",
       "      <td>2.860806</td>\n",
       "      <td>2.975056</td>\n",
       "      <td>4.418972</td>\n",
       "      <td>3.256596</td>\n",
       "      <td>9.190150</td>\n",
       "    </tr>\n",
       "    <tr>\n",
       "      <th>2</th>\n",
       "      <td>7.523851</td>\n",
       "      <td>2.511417</td>\n",
       "      <td>8.305059</td>\n",
       "      <td>9.036915</td>\n",
       "      <td>7.674577</td>\n",
       "      <td>6.869314</td>\n",
       "      <td>8.644149</td>\n",
       "      <td>4.373368</td>\n",
       "      <td>2.593795</td>\n",
       "      <td>4.715986</td>\n",
       "    </tr>\n",
       "  </tbody>\n",
       "</table>\n",
       "</div>"
      ]
     },
     "execution_count": 27,
     "metadata": {},
     "output_type": "execute_result"
    }
   ],
   "execution_count": 27
  },
  {
   "cell_type": "code",
   "metadata": {
    "ExecuteTime": {
     "end_time": "2024-07-10T09:55:03.463238Z",
     "start_time": "2024-07-10T09:55:03.344035Z"
    }
   },
   "source": [
    "functional_1 = create_functional_1(random_annual_ratio_df)\n",
    "functional_2 = create_functional_optimized(random_annual_ratio_df)"
   ],
   "outputs": [],
   "execution_count": 28
  },
  {
   "cell_type": "code",
   "metadata": {
    "ExecuteTime": {
     "end_time": "2024-07-10T09:55:29.565090Z",
     "start_time": "2024-07-10T09:55:03.464438Z"
    }
   },
   "source": [
    "np.random.seed(42)\n",
    "\n",
    "func_1_value = random_search_for_initial_weights(\n",
    "    functional_1, n_iters, vector_size=len(tickers)\n",
    ")\n",
    "print(\"functional_1:\", func_1_value[1])"
   ],
   "outputs": [
    {
     "name": "stderr",
     "output_type": "stream",
     "text": [
      "100%|██████████| 50/50 [00:26<00:00,  1.92it/s]"
     ]
    },
    {
     "name": "stdout",
     "output_type": "stream",
     "text": [
      "functional_1: -1.5823895257780916e-06\n"
     ]
    },
    {
     "name": "stderr",
     "output_type": "stream",
     "text": [
      "\n"
     ]
    }
   ],
   "execution_count": 29
  },
  {
   "cell_type": "code",
   "metadata": {
    "ExecuteTime": {
     "end_time": "2024-07-10T09:55:29.623815Z",
     "start_time": "2024-07-10T09:55:29.566126Z"
    }
   },
   "source": [
    "np.random.seed(42)\n",
    "\n",
    "func_2_value = random_search_for_initial_weights(\n",
    "    functional_2, n_iters, vector_size=len(tickers)\n",
    ")\n",
    "print(\"functional_2:\", func_2_value[1])"
   ],
   "outputs": [
    {
     "name": "stderr",
     "output_type": "stream",
     "text": [
      "100%|██████████| 50/50 [00:00<00:00, 955.60it/s]"
     ]
    },
    {
     "name": "stdout",
     "output_type": "stream",
     "text": [
      "functional_2: -1.5823895257788164e-06\n"
     ]
    },
    {
     "name": "stderr",
     "output_type": "stream",
     "text": [
      "\n"
     ]
    }
   ],
   "execution_count": 30
  },
  {
   "cell_type": "markdown",
   "metadata": {},
   "source": "Significant difference: 2 iters/sec vs 1100 iters/sec =)"
  },
  {
   "cell_type": "code",
   "metadata": {
    "ExecuteTime": {
     "end_time": "2024-07-10T09:55:29.629568Z",
     "start_time": "2024-07-10T09:55:29.627383Z"
    }
   },
   "source": [],
   "outputs": [],
   "execution_count": 30
  }
 ],
 "metadata": {
  "colab": {
   "provenance": []
  },
  "kernelspec": {
   "display_name": "Python 3 (ipykernel)",
   "language": "python",
   "name": "python3"
  },
  "language_info": {
   "name": "python"
  }
 },
 "nbformat": 4,
 "nbformat_minor": 0
}
