{
 "cells": [
  {
   "cell_type": "code",
   "execution_count": 1,
   "id": "initial_id",
   "metadata": {
    "collapsed": true,
    "ExecuteTime": {
     "end_time": "2024-05-23T16:02:21.609680355Z",
     "start_time": "2024-05-23T16:02:21.141393079Z"
    }
   },
   "outputs": [],
   "source": [
    "import numpy as np\n",
    "import matplotlib.pyplot as plt"
   ]
  },
  {
   "cell_type": "markdown",
   "source": [
    "#### Task: place 7 queens and 1 knight on a chess board in such a way that no piece is under attack from any other piece."
   ],
   "metadata": {
    "collapsed": false
   },
   "id": "621a02f939834080"
  },
  {
   "cell_type": "markdown",
   "source": [
    "I've tried arranging 7 queens on 8x8 chess board manually, and it's quite challenging. I'm curious to explore any arrangement to identify patterns and potential solutions. \n",
    "\n",
    "My initial plan is to develop a naive algorithm. If we iterate through all possible positions for the 7 queens, we end up with ~ $64^7$ variants. Given that $10^7$ is a feasible number of acceptable positions, a slight optimization should make the naive algorithm practical.\n"
   ],
   "metadata": {
    "collapsed": false
   },
   "id": "ef47ad10584761af"
  },
  {
   "cell_type": "markdown",
   "source": [
    "#### Slight Optimizations:\n",
    "\n",
    "1) Use a set to represent available (not under attack) cells on the chess board.\n",
    "2) When placing a queen on the board, remove form set all cells that come under attack by this queen.\n",
    "3) For subsequent queens, iterate only over the available cells in the set."
   ],
   "metadata": {
    "collapsed": false
   },
   "id": "dadb9a337105ae0b"
  },
  {
   "cell_type": "markdown",
   "source": [
    "#### Queen Attack Cells\n",
    "\n",
    "A queen can attack horizontally and diagonally on the chess board. While horizontal attacks are straightforward to determine, diagonal attacks require a bit more effort. \n",
    "\n",
    "To efficiently manage diagonal attacks, we can encode cell coordinates (x, y) into diagonal numbers using the following formulas:\n",
    "\n",
    "- Straight Diagonal Index = 7 - x + y\n",
    "- Reverse Diagonal Index = 29 - x - y\n",
    "\n",
    "There are 30 diagonals in total: 15 straight and 15 reversed. I create a dictionary, where each diagonal index maps to a list of cell coordinates that fall on that diagonal."
   ],
   "metadata": {
    "collapsed": false
   },
   "id": "5ee1efd4753e2cfa"
  },
  {
   "cell_type": "code",
   "outputs": [],
   "source": [
    "DIAGONALS = dict(([i, []] for i in range(30)))\n",
    "CHESS_BOARD = set()\n",
    "\n",
    "for x in range(8):\n",
    "    for y in range(8):\n",
    "        CHESS_BOARD.add((x, y))\n",
    "        \n",
    "        straight_diagonal_idx = 7 - x + y\n",
    "        reverse_diagonal_idx = 29 - x - y\n",
    "                    \n",
    "        DIAGONALS[straight_diagonal_idx].append((x, y))\n",
    "        DIAGONALS[reverse_diagonal_idx].append((x, y))\n",
    "        \n",
    "\n",
    "def get_queen_attack_coords(i, j):\n",
    "    coords = {*DIAGONALS[7 - i + j], *DIAGONALS[29 - i - j]}\n",
    "    for k in range(8):\n",
    "        coords.add((i, k))\n",
    "        coords.add((k, j))\n",
    "    return coords"
   ],
   "metadata": {
    "collapsed": false,
    "ExecuteTime": {
     "end_time": "2024-05-23T16:17:43.452881960Z",
     "start_time": "2024-05-23T16:17:43.429291069Z"
    }
   },
   "id": "2cef91a2555a4c9f",
   "execution_count": 15
  },
  {
   "cell_type": "code",
   "outputs": [
    {
     "data": {
      "text/plain": "{0: [(7, 0)],\n 1: [(6, 0), (7, 1)],\n 2: [(5, 0), (6, 1), (7, 2)],\n 3: [(4, 0), (5, 1), (6, 2), (7, 3)],\n 4: [(3, 0), (4, 1), (5, 2), (6, 3), (7, 4)],\n 5: [(2, 0), (3, 1), (4, 2), (5, 3), (6, 4), (7, 5)],\n 6: [(1, 0), (2, 1), (3, 2), (4, 3), (5, 4), (6, 5), (7, 6)],\n 7: [(0, 0), (1, 1), (2, 2), (3, 3), (4, 4), (5, 5), (6, 6), (7, 7)],\n 8: [(0, 1), (1, 2), (2, 3), (3, 4), (4, 5), (5, 6), (6, 7)],\n 9: [(0, 2), (1, 3), (2, 4), (3, 5), (4, 6), (5, 7)],\n 10: [(0, 3), (1, 4), (2, 5), (3, 6), (4, 7)],\n 11: [(0, 4), (1, 5), (2, 6), (3, 7)],\n 12: [(0, 5), (1, 6), (2, 7)],\n 13: [(0, 6), (1, 7)],\n 14: [(0, 7)],\n 15: [(7, 7)],\n 16: [(6, 7), (7, 6)],\n 17: [(5, 7), (6, 6), (7, 5)],\n 18: [(4, 7), (5, 6), (6, 5), (7, 4)],\n 19: [(3, 7), (4, 6), (5, 5), (6, 4), (7, 3)],\n 20: [(2, 7), (3, 6), (4, 5), (5, 4), (6, 3), (7, 2)],\n 21: [(1, 7), (2, 6), (3, 5), (4, 4), (5, 3), (6, 2), (7, 1)],\n 22: [(0, 7), (1, 6), (2, 5), (3, 4), (4, 3), (5, 2), (6, 1), (7, 0)],\n 23: [(0, 6), (1, 5), (2, 4), (3, 3), (4, 2), (5, 1), (6, 0)],\n 24: [(0, 5), (1, 4), (2, 3), (3, 2), (4, 1), (5, 0)],\n 25: [(0, 4), (1, 3), (2, 2), (3, 1), (4, 0)],\n 26: [(0, 3), (1, 2), (2, 1), (3, 0)],\n 27: [(0, 2), (1, 1), (2, 0)],\n 28: [(0, 1), (1, 0)],\n 29: [(0, 0)]}"
     },
     "execution_count": 20,
     "metadata": {},
     "output_type": "execute_result"
    }
   ],
   "source": [
    "DIAGONALS"
   ],
   "metadata": {
    "collapsed": false,
    "ExecuteTime": {
     "end_time": "2024-05-23T16:43:45.905761682Z",
     "start_time": "2024-05-23T16:43:45.885435896Z"
    }
   },
   "id": "90e52bbf0f4dccd7",
   "execution_count": 20
  },
  {
   "cell_type": "code",
   "outputs": [],
   "source": [],
   "metadata": {
    "collapsed": false
   },
   "id": "68a84f8045a2ec99"
  },
  {
   "cell_type": "code",
   "outputs": [],
   "source": [
    "def get_attack_board(queens_coords, free_cell=None):\n",
    "    if free_cell is None:\n",
    "        chess_board = np.ones((8, 8))\n",
    "        for q_cord in queens_coords:\n",
    "            for attack_i, attack_j in get_queen_attack_coords(*q_cord):\n",
    "                chess_board[attack_i][attack_j] = 0\n",
    "    else:\n",
    "        chess_board = np.zeros((8, 8))\n",
    "        chess_board[list(free_cell)[0]] = 1\n",
    "        \n",
    "    for i, j in queens_coords:\n",
    "        chess_board[i][j] = 2\n",
    "    return chess_board\n",
    "\n",
    "def visualize_chess_board(attack_map, title=\"Chess Board with Attack Map\", show_colorbar=True):\n",
    "    cmap = plt.cm.colors.ListedColormap([\"white\", \"grey\", \"red\"])\n",
    "    bounds = [-0.5, 0.5, 1.5, 2.5]\n",
    "    norm = plt.cm.colors.BoundaryNorm(bounds, cmap.N)\n",
    "    \n",
    "    plt.imshow(attack_map, cmap=cmap, norm=norm, interpolation=\"nearest\")\n",
    "    plt.title(title)\n",
    "    \n",
    "    ax = plt.gca()\n",
    "    ax.set_xticks(np.arange(-0.5, 8, 1), minor=True)\n",
    "    ax.set_yticks(np.arange(-0.5, 8, 1), minor=True)\n",
    "    ax.grid(which=\"minor\", color=\"black\", linestyle='-', linewidth=2)\n",
    "    \n",
    "    if show_colorbar:\n",
    "        cbar = plt.colorbar(ticks=[0, 1, 2])\n",
    "        cbar.set_ticklabels([\"cell under attack\", \"free cell\", \"queen\"])\n",
    "    \n",
    "    plt.show()\n",
    "\n",
    "def visualize_diagonal(i, j, straight=True):\n",
    "    if straight:\n",
    "        diagonal_idx = 7 - i + j\n",
    "    else:\n",
    "        diagonal_idx = 29 - i - j\n",
    "        \n",
    "    chess_board = np.ones((8, 8))\n",
    "    for c_i, c_j in DIAGONALS[diagonal_idx]:\n",
    "        chess_board[c_i][c_j] = 0\n",
    "    chess_board[i][j] = 2\n",
    "    \n",
    "    visualize_chess_board(chess_board, title=f\"Diagonal {diagonal_idx}\", show_colorbar=False)"
   ],
   "metadata": {
    "collapsed": false,
    "ExecuteTime": {
     "end_time": "2024-05-23T17:49:37.267999731Z",
     "start_time": "2024-05-23T17:49:37.260283890Z"
    }
   },
   "id": "cc19fff9e2ad67f1",
   "execution_count": 44
  },
  {
   "cell_type": "code",
   "outputs": [
    {
     "data": {
      "text/plain": "<Figure size 640x480 with 1 Axes>",
      "image/png": "[encoded data removed]"
     },
     "metadata": {},
     "output_type": "display_data"
    },
    {
     "data": {
      "text/plain": "<Figure size 640x480 with 1 Axes>",
      "image/png": "[encoded data removed]"
     },
     "metadata": {},
     "output_type": "display_data"
    }
   ],
   "source": [
    "cell_coords = 4, 6\n",
    "# cell_coords = 0, 2\n",
    "visualize_diagonal(*cell_coords, straight=True)\n",
    "visualize_diagonal(*cell_coords, straight=False)"
   ],
   "metadata": {
    "collapsed": false,
    "ExecuteTime": {
     "end_time": "2024-05-23T18:02:48.548788982Z",
     "start_time": "2024-05-23T18:02:48.238417200Z"
    }
   },
   "id": "45b174c88e5d3b67",
   "execution_count": 59
  },
  {
   "cell_type": "code",
   "outputs": [
    {
     "data": {
      "text/plain": "<Figure size 640x480 with 2 Axes>",
      "image/png": "[encoded data removed]"
     },
     "metadata": {},
     "output_type": "display_data"
    },
    {
     "data": {
      "text/plain": "<Figure size 640x480 with 2 Axes>",
      "image/png": "[encoded data removed]"
     },
     "metadata": {},
     "output_type": "display_data"
    }
   ],
   "source": [
    "queens_coords = [(3, 3)]\n",
    "attack_map = get_attack_board(queens_coords)\n",
    "visualize_chess_board(attack_map)\n",
    "\n",
    "queens_coords = [(0, 0), (2, 4)]\n",
    "attack_map = get_attack_board(queens_coords)\n",
    "visualize_chess_board(attack_map)"
   ],
   "metadata": {
    "collapsed": false,
    "ExecuteTime": {
     "end_time": "2024-05-23T17:53:50.837171721Z",
     "start_time": "2024-05-23T17:53:50.369009308Z"
    }
   },
   "id": "64afc6d125a7853e",
   "execution_count": 52
  },
  {
   "cell_type": "code",
   "outputs": [],
   "source": [],
   "metadata": {
    "collapsed": false,
    "ExecuteTime": {
     "end_time": "2024-05-22T19:38:13.237924379Z",
     "start_time": "2024-05-22T19:38:13.228295631Z"
    }
   },
   "id": "adf0103e2b0fecaa",
   "execution_count": 3
  },
  {
   "cell_type": "markdown",
   "source": [
    "## Naive Solution"
   ],
   "metadata": {
    "collapsed": false
   },
   "id": "c46d03d972e662d1"
  },
  {
   "cell_type": "code",
   "outputs": [],
   "source": [
    "good_boards = []\n",
    "good_queens_coords = []\n",
    "both_coords = []\n",
    "\n",
    "def put_queen(cur_chess_board, cur_queens_coords, first_loop=False):\n",
    "    if len(cur_chess_board) == 0:\n",
    "        return \n",
    "    if len(cur_queens_coords) == 7:\n",
    "        good_boards.append(cur_chess_board)\n",
    "        good_queens_coords.append(cur_queens_coords)\n",
    "        both_coords.append(set.union(cur_chess_board, cur_queens_coords))\n",
    "        return \n",
    "    \n",
    "    for i, queen_coord in enumerate(cur_chess_board):\n",
    "        if first_loop:\n",
    "            print(f\"{i}) {queen_coord}\")\n",
    "        \n",
    "        board = cur_chess_board.copy()\n",
    "        queens_coords = cur_queens_coords.copy()\n",
    "        queens_coords.add(queen_coord)\n",
    "    \n",
    "        for queen_attack_coords in get_queen_attack_coords(*queen_coord):\n",
    "            board.discard(queen_attack_coords)\n",
    "        \n",
    "        put_queen(board, queens_coords)\n",
    "    \n",
    "    return "
   ],
   "metadata": {
    "collapsed": false,
    "ExecuteTime": {
     "end_time": "2024-05-22T19:38:13.256174746Z",
     "start_time": "2024-05-22T19:38:13.239722731Z"
    }
   },
   "id": "c8afa9165994455e",
   "execution_count": 4
  },
  {
   "cell_type": "code",
   "outputs": [
    {
     "name": "stdout",
     "output_type": "stream",
     "text": [
      "0) (4, 0)\n",
      "1) (3, 4)\n",
      "2) (4, 3)\n",
      "3) (3, 1)\n",
      "4) (3, 7)\n",
      "5) (5, 4)\n",
      "6) (4, 6)\n",
      "7) (5, 1)\n",
      "8) (5, 7)\n",
      "9) (0, 2)\n",
      "10) (0, 5)\n",
      "11) (2, 2)\n",
      "12) (1, 0)\n",
      "13) (1, 6)\n",
      "14) (2, 5)\n",
      "15) (1, 3)\n",
      "16) (7, 4)\n",
      "17) (6, 2)\n",
      "18) (7, 1)\n",
      "19) (7, 7)\n",
      "20) (6, 5)\n",
      "21) (4, 2)\n",
      "22) (3, 0)\n",
      "23) (4, 5)\n",
      "24) (3, 3)\n",
      "25) (5, 0)\n",
      "26) (5, 6)\n",
      "27) (3, 6)\n",
      "28) (5, 3)\n",
      "29) (0, 1)\n",
      "30) (0, 7)\n",
      "31) (2, 4)\n",
      "32) (1, 2)\n",
      "33) (0, 4)\n",
      "34) (2, 1)\n",
      "35) (2, 7)\n",
      "36) (1, 5)\n",
      "37) (6, 1)\n",
      "38) (7, 0)\n",
      "39) (6, 4)\n",
      "40) (7, 3)\n",
      "41) (6, 7)\n",
      "42) (7, 6)\n",
      "43) (3, 2)\n",
      "44) (4, 1)\n",
      "45) (4, 7)\n",
      "46) (3, 5)\n",
      "47) (5, 2)\n",
      "48) (4, 4)\n",
      "49) (5, 5)\n",
      "50) (0, 0)\n",
      "51) (1, 1)\n",
      "52) (0, 3)\n",
      "53) (2, 0)\n",
      "54) (1, 4)\n",
      "55) (0, 6)\n",
      "56) (2, 3)\n",
      "57) (1, 7)\n",
      "58) (2, 6)\n",
      "59) (7, 2)\n",
      "60) (6, 0)\n",
      "61) (6, 6)\n",
      "62) (7, 5)\n",
      "63) (6, 3)\n"
     ]
    }
   ],
   "source": [
    "c_b = CHESS_BOARD.copy()\n",
    "put_queen(c_b, set(), True)"
   ],
   "metadata": {
    "collapsed": false,
    "ExecuteTime": {
     "end_time": "2024-05-22T19:40:00.285732265Z",
     "start_time": "2024-05-22T19:38:13.273010571Z"
    }
   },
   "id": "29598b2f527f8c58",
   "execution_count": 5
  },
  {
   "cell_type": "code",
   "outputs": [
    {
     "name": "stdout",
     "output_type": "stream",
     "text": [
      "3709440\n",
      "736.0\n"
     ]
    }
   ],
   "source": [
    "N = len(good_queens_coords)\n",
    "print(N)\n",
    "\n",
    "fact_7 = 2*3*4*5*6*7\n",
    "print(N / fact_7)"
   ],
   "metadata": {
    "collapsed": false,
    "ExecuteTime": {
     "end_time": "2024-05-22T19:40:00.295955553Z",
     "start_time": "2024-05-22T19:40:00.288160044Z"
    }
   },
   "id": "6e017cfce34b713",
   "execution_count": 6
  },
  {
   "cell_type": "code",
   "outputs": [
    {
     "name": "stdout",
     "output_type": "stream",
     "text": [
      "736\n",
      "92\n"
     ]
    }
   ],
   "source": [
    "sorted_queens = set(map(lambda x: tuple(sorted(x)), good_queens_coords))\n",
    "print(len(sorted_queens))\n",
    "\n",
    "sorted_both = set(map(lambda x: tuple(sorted(x)), both_coords))\n",
    "print(len(sorted_both))"
   ],
   "metadata": {
    "collapsed": false,
    "ExecuteTime": {
     "end_time": "2024-05-22T19:40:05.375578799Z",
     "start_time": "2024-05-22T19:40:00.291736004Z"
    }
   },
   "id": "266c06a4b31d6aec",
   "execution_count": 7
  },
  {
   "cell_type": "code",
   "outputs": [
    {
     "data": {
      "text/plain": "<Figure size 640x480 with 2 Axes>",
      "image/png": "[encoded data removed]"
     },
     "metadata": {},
     "output_type": "display_data"
    }
   ],
   "source": [
    "board_idx = 111244\n",
    "board_to_show = good_boards[board_idx]\n",
    "queen_coords_to_show = good_queens_coords[board_idx]\n",
    "\n",
    "attack_board = get_attack_board(board_to_show, queen_coords_to_show)\n",
    "visualize_chess_board(attack_board)"
   ],
   "metadata": {
    "collapsed": false,
    "ExecuteTime": {
     "end_time": "2024-05-22T19:40:05.570393652Z",
     "start_time": "2024-05-22T19:40:05.377042954Z"
    }
   },
   "id": "1dac6bfa8b6ceec9",
   "execution_count": 8
  },
  {
   "cell_type": "code",
   "outputs": [
    {
     "name": "stdout",
     "output_type": "stream",
     "text": [
      "3709440\n",
      "3709440\n"
     ]
    }
   ],
   "source": [
    "lens_of_boards = [len(board) for board in good_boards]\n",
    "print(len(lens_of_boards))\n",
    "print(lens_of_boards.count(1))"
   ],
   "metadata": {
    "collapsed": false,
    "ExecuteTime": {
     "end_time": "2024-05-22T19:40:05.857462665Z",
     "start_time": "2024-05-22T19:40:05.587175498Z"
    }
   },
   "id": "b315cbb6cc0a8b30",
   "execution_count": 9
  },
  {
   "cell_type": "code",
   "outputs": [
    {
     "data": {
      "text/plain": "184.0"
     },
     "execution_count": 10,
     "metadata": {},
     "output_type": "execute_result"
    }
   ],
   "source": [
    "736.0/4"
   ],
   "metadata": {
    "collapsed": false,
    "ExecuteTime": {
     "end_time": "2024-05-22T19:40:05.867788606Z",
     "start_time": "2024-05-22T19:40:05.861256638Z"
    }
   },
   "id": "cb4ef583456f877a",
   "execution_count": 10
  },
  {
   "cell_type": "markdown",
   "source": [
    "## test"
   ],
   "metadata": {
    "collapsed": false
   },
   "id": "ef3d0a4d1680be09"
  },
  {
   "cell_type": "code",
   "outputs": [],
   "source": [
    "# good_queens_coords = []\n",
    "# \n",
    "# def put_queen(cur_chess_board, cur_queens_coords: list, first_loop=False):\n",
    "#     if len(cur_chess_board) == 0:\n",
    "#         return {}\n",
    "#     if len(cur_queens_coords) == 7:\n",
    "#         good_queens_coords.append(cur_queens_coords)\n",
    "#         free_cell = cur_chess_board.pop()\n",
    "#         return {}\n",
    "#     \n",
    "#     available_queen_coords = set()\n",
    "#     cur_board_to_copy = cur_chess_board.copy()\n",
    "#     counter = 0\n",
    "#     while cur_chess_board:\n",
    "#         if first_loop:\n",
    "#             counter += 1\n",
    "#             print(f\"{counter}\")\n",
    "#             \n",
    "#         queen_coord = cur_chess_board.pop()\n",
    "#         available_queen_coords.add(queen_coord)\n",
    "#     \n",
    "#         board = cur_board_to_copy.copy()\n",
    "#         queens_coords = cur_queens_coords.copy()\n",
    "#         \n",
    "#         queens_coords.append(queen_coord)\n",
    "#         i, j = queen_coord\n",
    "#     \n",
    "#         for k in range(8):\n",
    "#             if (i, k) in board:\n",
    "#                 board.remove((i, k))\n",
    "#             if (k, j) in board:\n",
    "#                 board.remove((k, j))\n",
    "#         \n",
    "#         queen_diagonals_coords = (*straight_diagonals[7 - i + j], *reverse_diagonals[14 - i - j])\n",
    "#         for coords in queen_diagonals_coords:\n",
    "#             if coords in board:\n",
    "#                 board.remove(coords)\n",
    "#         \n",
    "#         prev_coords = put_queen(board, queens_coords)\n",
    "#         available_queen_coords = available_queen_coords.union(prev_coords)\n",
    "#     \n",
    "#         for coord in prev_coords:\n",
    "#             if coord in cur_chess_board:\n",
    "#                 cur_chess_board.remove(coord)\n",
    "#                 \n",
    "#     return available_queen_coords"
   ],
   "metadata": {
    "collapsed": false,
    "ExecuteTime": {
     "end_time": "2024-05-22T19:40:05.926916993Z",
     "start_time": "2024-05-22T19:40:05.877112998Z"
    }
   },
   "id": "d6b46587def6b132",
   "execution_count": 11
  },
  {
   "cell_type": "code",
   "outputs": [],
   "source": [
    "# c_b = chess_board.copy()\n",
    "# put_queen(c_b, [], True)"
   ],
   "metadata": {
    "collapsed": false,
    "ExecuteTime": {
     "end_time": "2024-05-22T19:40:05.927620342Z",
     "start_time": "2024-05-22T19:40:05.879530118Z"
    }
   },
   "id": "eb7c118786467403",
   "execution_count": 12
  },
  {
   "cell_type": "code",
   "outputs": [],
   "source": [
    "# N = len(good_queens_coords)\n",
    "# print(N*5)"
   ],
   "metadata": {
    "collapsed": false,
    "ExecuteTime": {
     "end_time": "2024-05-22T19:40:05.928788083Z",
     "start_time": "2024-05-22T19:40:05.884344538Z"
    }
   },
   "id": "e86c39395e3f6376",
   "execution_count": 13
  },
  {
   "cell_type": "code",
   "outputs": [],
   "source": [
    "# board_idx = 113\n",
    "# board_to_show = good_boards[board_idx]\n",
    "# queen_coords_to_show = good_queens_coords[board_idx]\n",
    "# \n",
    "# attack_board = get_attack_board(board_to_show, queen_coords_to_show)\n",
    "# visualize_chess_board(attack_board)"
   ],
   "metadata": {
    "collapsed": false,
    "ExecuteTime": {
     "end_time": "2024-05-22T19:40:05.929433683Z",
     "start_time": "2024-05-22T19:40:05.887703297Z"
    }
   },
   "id": "97d5d9bfcb4c916d",
   "execution_count": 14
  },
  {
   "cell_type": "code",
   "outputs": [],
   "source": [
    "# a = {1, 2, 3}\n",
    "# a.add((1, 5, 2))\n",
    "# a"
   ],
   "metadata": {
    "collapsed": false,
    "ExecuteTime": {
     "end_time": "2024-05-22T19:40:05.955873020Z",
     "start_time": "2024-05-22T19:40:05.892358738Z"
    }
   },
   "id": "6f17180202c54415",
   "execution_count": 15
  },
  {
   "cell_type": "markdown",
   "source": [
    "## acceleration 8! times"
   ],
   "metadata": {
    "collapsed": false
   },
   "id": "dba2e396e1d9b4e6"
  },
  {
   "cell_type": "code",
   "outputs": [],
   "source": [
    "good_coords = []\n",
    "\n",
    "def put_queen(available_coords: set, cur_queens_coords: list):    \n",
    "    if len(available_coords) < 8 - len(cur_queens_coords):\n",
    "        return\n",
    "    if len(cur_queens_coords) == 7:\n",
    "        cur_queens_coords.append(available_coords.pop())\n",
    "        good_coords.append(cur_queens_coords)\n",
    "        return \n",
    "    \n",
    "    coords = available_coords.pop()\n",
    "    available_coords.add(coords)\n",
    "    \n",
    "    for queen_coord in get_queen_attack_coords(*coords):\n",
    "        if queen_coord not in available_coords:\n",
    "            continue\n",
    "            \n",
    "        available_coords.discard(queen_coord)\n",
    "        \n",
    "        board = available_coords.copy()\n",
    "        queens_coords = cur_queens_coords.copy()\n",
    "        queens_coords.append(queen_coord)\n",
    "\n",
    "        for queen_attack_coords in get_queen_attack_coords(*queen_coord):\n",
    "            board.discard(queen_attack_coords)\n",
    "        \n",
    "        put_queen(board, queens_coords)\n",
    "    \n",
    "    return "
   ],
   "metadata": {
    "collapsed": false,
    "ExecuteTime": {
     "end_time": "2024-05-22T19:40:05.956518682Z",
     "start_time": "2024-05-22T19:40:05.935000097Z"
    }
   },
   "id": "1e5e42a0dd5e70f8",
   "execution_count": 16
  },
  {
   "cell_type": "code",
   "outputs": [],
   "source": [
    "chess_board_copy = CHESS_BOARD.copy()\n",
    "put_queen(chess_board_copy, [])"
   ],
   "metadata": {
    "collapsed": false,
    "ExecuteTime": {
     "end_time": "2024-05-22T19:40:06.084307655Z",
     "start_time": "2024-05-22T19:40:05.935105224Z"
    }
   },
   "id": "a7b5fb9d8aaf9907",
   "execution_count": 17
  },
  {
   "cell_type": "code",
   "outputs": [
    {
     "name": "stdout",
     "output_type": "stream",
     "text": [
      "92\n"
     ]
    }
   ],
   "source": [
    "N = len(good_coords)\n",
    "print(N)"
   ],
   "metadata": {
    "collapsed": false,
    "ExecuteTime": {
     "end_time": "2024-05-22T19:40:06.127376441Z",
     "start_time": "2024-05-22T19:40:06.086195040Z"
    }
   },
   "id": "90462d3a936ef0c5",
   "execution_count": 18
  },
  {
   "cell_type": "code",
   "outputs": [
    {
     "data": {
      "text/plain": "[(4, 0), (3, 4), (5, 7), (6, 5), (1, 1), (0, 3), (2, 6), (7, 2)]"
     },
     "execution_count": 19,
     "metadata": {},
     "output_type": "execute_result"
    }
   ],
   "source": [
    "good_coords[0]"
   ],
   "metadata": {
    "collapsed": false,
    "ExecuteTime": {
     "end_time": "2024-05-22T19:40:06.128117783Z",
     "start_time": "2024-05-22T19:40:06.127188068Z"
    }
   },
   "id": "cec8d514ebc48a63",
   "execution_count": 19
  },
  {
   "cell_type": "code",
   "outputs": [],
   "source": [
    "# good_boards = []\n",
    "# good_queens_coords = []\n",
    "# global_counter = 0\n",
    "# \n",
    "# def get_queen_attack_coords(i, j):\n",
    "#     coords = {*straight_diagonals[7 - i + j], *reverse_diagonals[14 - i - j]}\n",
    "#     for k in range(8):\n",
    "#         coords.add((i, k))\n",
    "#         coords.add((k, j))\n",
    "#     return coords\n",
    "# \n",
    "# def put_queen(available_coords: set, cur_queens_coords: list):\n",
    "#     global global_counter \n",
    "#     \n",
    "#     if len(available_coords) < 8 - len(cur_queens_coords):\n",
    "#         return set()\n",
    "#     \n",
    "#     if len(cur_queens_coords) == 7:\n",
    "#         global_counter += 1\n",
    "#         rotate_90, rotate_180, rotate_270 = [], [], []\n",
    "#         for i, j in cur_queens_coords:\n",
    "#             rotate_90.append((j, 7 - i))\n",
    "#             rotate_180.append((7 - i, 7 - j))\n",
    "#             rotate_270.append((7 - j, i))\n",
    "#         \n",
    "#         good_queens_coords.append(cur_queens_coords)\n",
    "#         good_queens_coords.append(rotate_90)\n",
    "#         good_queens_coords.append(rotate_180)\n",
    "#         good_queens_coords.append(rotate_270)\n",
    "#         \n",
    "#         good_boards.append(available_coords)\n",
    "#         return {*rotate_90, *rotate_180, *rotate_270}\n",
    "#     \n",
    "#     coords = available_coords.pop()\n",
    "#     available_coords.add(coords)\n",
    "#     cur_forbidden_coords = set()\n",
    "#     \n",
    "#     for queen_coord in get_queen_attack_coords(*coords):\n",
    "#         if queen_coord not in available_coords:\n",
    "#             continue\n",
    "#             \n",
    "#         available_coords.discard(queen_coord)\n",
    "#         board = available_coords.copy()\n",
    "#         queens_coords = cur_queens_coords.copy()\n",
    "#         queens_coords.append(queen_coord)\n",
    "# \n",
    "#         for queen_attack_coords in get_queen_attack_coords(*queen_coord):\n",
    "#             board.discard(queen_attack_coords)\n",
    "#         \n",
    "#         forbidden_coordinates = put_queen(board, queens_coords)\n",
    "#         cur_forbidden_coords = set.union(cur_forbidden_coords, forbidden_coordinates)\n",
    "#         for f_c in forbidden_coordinates:\n",
    "#             available_coords.discard(f_c)\n",
    "#     \n",
    "#     return cur_forbidden_coords"
   ],
   "metadata": {
    "collapsed": false,
    "ExecuteTime": {
     "end_time": "2024-05-22T19:40:06.129223533Z",
     "start_time": "2024-05-22T19:40:06.127293288Z"
    }
   },
   "id": "cd078c2105dd5959",
   "execution_count": 20
  },
  {
   "cell_type": "code",
   "outputs": [],
   "source": [
    "# 92*4"
   ],
   "metadata": {
    "collapsed": false,
    "ExecuteTime": {
     "end_time": "2024-05-22T19:40:06.129825365Z",
     "start_time": "2024-05-22T19:40:06.127343192Z"
    }
   },
   "id": "50e6fce233cc4bc0",
   "execution_count": 21
  },
  {
   "cell_type": "code",
   "outputs": [],
   "source": [
    "# board_idx = 1\n",
    "# board_to_show = good_boards[board_idx]\n",
    "# queen_coords_to_show = good_queens_coords[board_idx]\n",
    "\n",
    "# for board_to_show, queen_coords_to_show in zip(good_boards, good_queens_coords):\n",
    "#     attack_board = get_attack_board(board_to_show, queen_coords_to_show)\n",
    "#     visualize_chess_board(attack_board)"
   ],
   "metadata": {
    "collapsed": false,
    "ExecuteTime": {
     "end_time": "2024-05-22T19:40:06.130452745Z",
     "start_time": "2024-05-22T19:40:06.127384179Z"
    }
   },
   "id": "a5411621a341d788",
   "execution_count": 22
  },
  {
   "cell_type": "code",
   "outputs": [],
   "source": [
    "# set(map(lambda c: (c[1], 7 - c[0]), [(1, 3), (3, 4)]))"
   ],
   "metadata": {
    "collapsed": false,
    "ExecuteTime": {
     "end_time": "2024-05-22T19:40:06.131660766Z",
     "start_time": "2024-05-22T19:40:06.127471537Z"
    }
   },
   "id": "c7d74070fe3992a6",
   "execution_count": 23
  },
  {
   "cell_type": "code",
   "outputs": [],
   "source": [
    "# def rotate_90_right(coords):\n",
    "#     rotate_90, rotate_180, rotate_270 = [], [], []\n",
    "#     for i, j in coords:\n",
    "#         rotate_90.append((j, 7 - i))\n",
    "#         rotate_180.append((7 - i, 7 - j))\n",
    "#         rotate_270.append((7 - j, i))\n",
    "# \n",
    "# def rotate_180_right(i, j):\n",
    "#     \n",
    "#     return 7 - i, 7 - j\n",
    "# \n",
    "# def rotate_270_right(i, j):\n",
    "#     return 7 - j, i\n",
    "# \n",
    "# # Example coordinates\n",
    "# i, j = 1, 1\n",
    "# \n",
    "# # Perform rotations\n",
    "# coords_90 = rotate_90_right(i, j)\n",
    "# coords_180 = rotate_180_right(i, j)\n",
    "# coords_270 = rotate_270_right(i, j)\n",
    "# \n",
    "# print(f\"Original: ({i}, {j})\")\n",
    "# print(f\"90 degrees right: {coords_90}\")\n",
    "# print(f\"180 degrees right: {coords_180}\")\n",
    "# print(f\"270 degrees right: {coords_270}\")"
   ],
   "metadata": {
    "collapsed": false,
    "ExecuteTime": {
     "end_time": "2024-05-22T19:40:06.132240435Z",
     "start_time": "2024-05-22T19:40:06.127511543Z"
    }
   },
   "id": "ffa5350b041527cb",
   "execution_count": 24
  },
  {
   "cell_type": "code",
   "outputs": [],
   "source": [],
   "metadata": {
    "collapsed": false,
    "ExecuteTime": {
     "end_time": "2024-05-22T19:40:06.132827415Z",
     "start_time": "2024-05-22T19:40:06.127549456Z"
    }
   },
   "id": "4cd3f83d09e55574",
   "execution_count": 24
  }
 ],
 "metadata": {
  "kernelspec": {
   "display_name": "Python 3",
   "language": "python",
   "name": "python3"
  },
  "language_info": {
   "codemirror_mode": {
    "name": "ipython",
    "version": 2
   },
   "file_extension": ".py",
   "mimetype": "text/x-python",
   "name": "python",
   "nbconvert_exporter": "python",
   "pygments_lexer": "ipython2",
   "version": "2.7.6"
  }
 },
 "nbformat": 4,
 "nbformat_minor": 5
}
