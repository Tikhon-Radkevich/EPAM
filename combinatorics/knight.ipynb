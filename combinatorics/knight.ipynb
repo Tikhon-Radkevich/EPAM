{
 "cells": [
  {
   "cell_type": "code",
   "execution_count": 91,
   "id": "initial_id",
   "metadata": {
    "collapsed": true,
    "ExecuteTime": {
     "end_time": "2024-05-13T13:45:40.101917692Z",
     "start_time": "2024-05-13T13:45:39.810455522Z"
    }
   },
   "outputs": [],
   "source": [
    "import numpy as np\n",
    "import matplotlib.pyplot as plt"
   ]
  },
  {
   "cell_type": "code",
   "outputs": [],
   "source": [
    "def get_attack_board(board, queens_coords):\n",
    "    chess_board = np.zeros((8, 8))\n",
    "    for i, j in board:\n",
    "        chess_board[i][j] = 1\n",
    "    for i, j in queens_coords:\n",
    "        chess_board[i][j] = 2\n",
    "    return chess_board\n",
    "\n",
    "def visualize_chess_board(attack_map):\n",
    "    cmap = plt.cm.colors.ListedColormap([\"white\", \"blue\", \"red\"])\n",
    "    bounds = [-0.5, 0.5, 1.5, 2.5]\n",
    "    norm = plt.cm.colors.BoundaryNorm(bounds, cmap.N)\n",
    "    \n",
    "    plt.imshow(attack_map, cmap=cmap, norm=norm, interpolation=\"nearest\")\n",
    "    plt.title(\"Chess Board with Attack Map\")\n",
    "    plt.colorbar(ticks=[0, 1, 2])\n",
    "    plt.show()"
   ],
   "metadata": {
    "collapsed": false,
    "ExecuteTime": {
     "end_time": "2024-05-13T14:25:39.420423824Z",
     "start_time": "2024-05-13T14:25:39.393159693Z"
    }
   },
   "id": "cc19fff9e2ad67f1",
   "execution_count": 137
  },
  {
   "cell_type": "code",
   "outputs": [],
   "source": [
    "straight_diagonals = {}\n",
    "reverse_diagonals = {}\n",
    "chess_board = set()\n",
    "\n",
    "for i in range(8):\n",
    "    for j in range(8):\n",
    "        chess_board.add((i, j))\n",
    "        \n",
    "        straight_diagonal_idx = 7 - i + j\n",
    "        reverse_diagonal_idx = 14 - i - j\n",
    "        \n",
    "        if reverse_diagonal_idx not in reverse_diagonals:\n",
    "            reverse_diagonals[reverse_diagonal_idx] = []\n",
    "        if straight_diagonal_idx not in straight_diagonals:\n",
    "            straight_diagonals[straight_diagonal_idx] = []\n",
    "            \n",
    "        straight_diagonals[straight_diagonal_idx].append((i, j))\n",
    "        reverse_diagonals[reverse_diagonal_idx].append((i, j))"
   ],
   "metadata": {
    "collapsed": false,
    "ExecuteTime": {
     "end_time": "2024-05-13T13:39:29.125706268Z",
     "start_time": "2024-05-13T13:39:29.109863225Z"
    }
   },
   "id": "adf0103e2b0fecaa",
   "execution_count": 85
  },
  {
   "cell_type": "code",
   "outputs": [],
   "source": [
    "good_boards = []\n",
    "good_queens_coords = []\n",
    "\n",
    "def put_queen(cur_chess_board, cur_queens_coords, first_loop=False):\n",
    "    if len(cur_chess_board) == 0:\n",
    "        return \n",
    "    if len(cur_queens_coords) == 7:\n",
    "        good_boards.append(cur_chess_board)\n",
    "        good_queens_coords.append(cur_queens_coords)\n",
    "        return \n",
    "    \n",
    "    for queen_coord in cur_chess_board:\n",
    "        if first_loop:\n",
    "            print(queen_coord)\n",
    "        \n",
    "        board = cur_chess_board.copy()\n",
    "        queens_coords = cur_queens_coords.copy()\n",
    "        \n",
    "        queens_coords.add(queen_coord)\n",
    "        i, j = queen_coord\n",
    "    \n",
    "        for k in range(8):\n",
    "            if (i, k) in board:\n",
    "                board.remove((i, k))\n",
    "            if (k, j) in board:\n",
    "                board.remove((k, j))\n",
    "        \n",
    "        queen_diagonals_coords = (*straight_diagonals[7 - i + j], *reverse_diagonals[14 - i - j])\n",
    "        for coords in queen_diagonals_coords:\n",
    "            if coords in board:\n",
    "                board.remove(coords)\n",
    "        \n",
    "        put_queen(board, queens_coords)\n",
    "    \n",
    "    return "
   ],
   "metadata": {
    "collapsed": false,
    "ExecuteTime": {
     "end_time": "2024-05-13T14:33:11.183986693Z",
     "start_time": "2024-05-13T14:33:11.143593790Z"
    }
   },
   "id": "c8afa9165994455e",
   "execution_count": 166
  },
  {
   "cell_type": "code",
   "outputs": [
    {
     "name": "stdout",
     "output_type": "stream",
     "text": [
      "(4, 0)\n",
      "(3, 4)\n",
      "(4, 3)\n",
      "(3, 1)\n",
      "(3, 7)\n",
      "(5, 4)\n",
      "(4, 6)\n",
      "(5, 1)\n",
      "(5, 7)\n",
      "(0, 2)\n",
      "(0, 5)\n",
      "(2, 2)\n",
      "(1, 0)\n",
      "(1, 6)\n",
      "(2, 5)\n",
      "(1, 3)\n",
      "(7, 4)\n",
      "(6, 2)\n",
      "(7, 1)\n",
      "(7, 7)\n",
      "(6, 5)\n",
      "(4, 2)\n",
      "(3, 0)\n",
      "(4, 5)\n",
      "(3, 3)\n",
      "(5, 0)\n",
      "(5, 6)\n",
      "(3, 6)\n",
      "(5, 3)\n",
      "(0, 1)\n",
      "(0, 7)\n",
      "(2, 4)\n",
      "(1, 2)\n",
      "(0, 4)\n",
      "(2, 1)\n",
      "(2, 7)\n",
      "(1, 5)\n",
      "(6, 1)\n",
      "(7, 0)\n",
      "(6, 4)\n",
      "(7, 3)\n",
      "(6, 7)\n",
      "(7, 6)\n",
      "(3, 2)\n",
      "(4, 1)\n",
      "(4, 7)\n",
      "(3, 5)\n",
      "(5, 2)\n",
      "(4, 4)\n",
      "(5, 5)\n",
      "(0, 0)\n",
      "(1, 1)\n",
      "(0, 3)\n",
      "(2, 0)\n",
      "(1, 4)\n",
      "(0, 6)\n",
      "(2, 3)\n",
      "(1, 7)\n",
      "(2, 6)\n",
      "(7, 2)\n",
      "(6, 0)\n",
      "(6, 6)\n",
      "(7, 5)\n",
      "(6, 3)\n"
     ]
    }
   ],
   "source": [
    "put_queen(chess_board, set(), True)"
   ],
   "metadata": {
    "collapsed": false,
    "ExecuteTime": {
     "end_time": "2024-05-13T14:34:47.316758493Z",
     "start_time": "2024-05-13T14:33:11.783953388Z"
    }
   },
   "id": "29598b2f527f8c58",
   "execution_count": 167
  },
  {
   "cell_type": "code",
   "outputs": [
    {
     "name": "stdout",
     "output_type": "stream",
     "text": [
      "3709440\n"
     ]
    }
   ],
   "source": [
    "N = len(good_boards)\n",
    "print(N)"
   ],
   "metadata": {
    "collapsed": false,
    "ExecuteTime": {
     "end_time": "2024-05-13T14:51:39.809239970Z",
     "start_time": "2024-05-13T14:51:39.784562896Z"
    }
   },
   "id": "6e017cfce34b713",
   "execution_count": 196
  },
  {
   "cell_type": "code",
   "outputs": [
    {
     "data": {
      "text/plain": "<Figure size 640x480 with 2 Axes>",
      "image/png": "[encoded data removed]"
     },
     "metadata": {},
     "output_type": "display_data"
    }
   ],
   "source": [
    "board_idx = 11111\n",
    "board_to_show = good_boards[board_idx]\n",
    "queen_coords_to_show = good_queens_coords[board_idx]\n",
    "\n",
    "attack_board = get_attack_board(board_to_show, queen_coords_to_show)\n",
    "visualize_chess_board(attack_board)"
   ],
   "metadata": {
    "collapsed": false,
    "ExecuteTime": {
     "end_time": "2024-05-13T14:38:14.259749548Z",
     "start_time": "2024-05-13T14:38:14.082365487Z"
    }
   },
   "id": "1dac6bfa8b6ceec9",
   "execution_count": 181
  },
  {
   "cell_type": "code",
   "outputs": [
    {
     "data": {
      "text/plain": "736.0"
     },
     "execution_count": 184,
     "metadata": {},
     "output_type": "execute_result"
    }
   ],
   "source": [
    "fact_7 = 2*3*4*5*6*7\n",
    "N / fact_7"
   ],
   "metadata": {
    "collapsed": false,
    "ExecuteTime": {
     "end_time": "2024-05-13T14:44:55.164227379Z",
     "start_time": "2024-05-13T14:44:55.158200863Z"
    }
   },
   "id": "94eaeb0ac86920bf",
   "execution_count": 184
  },
  {
   "cell_type": "code",
   "outputs": [
    {
     "name": "stdout",
     "output_type": "stream",
     "text": [
      "3709440\n",
      "3709440\n"
     ]
    }
   ],
   "source": [
    "lens_of_boards = [len(board) for board in good_boards]\n",
    "print(len(lens_of_boards))\n",
    "print(lens_of_boards.count(1))"
   ],
   "metadata": {
    "collapsed": false,
    "ExecuteTime": {
     "end_time": "2024-05-13T14:51:19.400355293Z",
     "start_time": "2024-05-13T14:51:19.105409877Z"
    }
   },
   "id": "b315cbb6cc0a8b30",
   "execution_count": 194
  },
  {
   "cell_type": "code",
   "outputs": [
    {
     "data": {
      "text/plain": "184.0"
     },
     "execution_count": 197,
     "metadata": {},
     "output_type": "execute_result"
    }
   ],
   "source": [
    "736.0/4"
   ],
   "metadata": {
    "collapsed": false,
    "ExecuteTime": {
     "end_time": "2024-05-13T14:58:54.825151743Z",
     "start_time": "2024-05-13T14:58:54.801397450Z"
    }
   },
   "id": "cb4ef583456f877a",
   "execution_count": 197
  },
  {
   "cell_type": "code",
   "outputs": [],
   "source": [],
   "metadata": {
    "collapsed": false
   },
   "id": "e5fcf1f22eb7ede4"
  }
 ],
 "metadata": {
  "kernelspec": {
   "display_name": "Python 3",
   "language": "python",
   "name": "python3"
  },
  "language_info": {
   "codemirror_mode": {
    "name": "ipython",
    "version": 2
   },
   "file_extension": ".py",
   "mimetype": "text/x-python",
   "name": "python",
   "nbconvert_exporter": "python",
   "pygments_lexer": "ipython2",
   "version": "2.7.6"
  }
 },
 "nbformat": 4,
 "nbformat_minor": 5
}
