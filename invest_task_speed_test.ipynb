{
 "cells": [
  {
   "metadata": {
    "ExecuteTime": {
     "end_time": "2024-06-21T09:30:59.553017Z",
     "start_time": "2024-06-21T09:30:59.549705Z"
    }
   },
   "cell_type": "code",
   "source": [
    "import pandas as pd\n",
    "import numpy as np\n",
    "from tqdm import tqdm\n",
    "\n",
    "from scipy.optimize import minimize"
   ],
   "id": "9afc174dc8ac680b",
   "outputs": [],
   "execution_count": 10
  },
  {
   "metadata": {
    "ExecuteTime": {
     "end_time": "2024-06-21T09:30:59.660494Z",
     "start_time": "2024-06-21T09:30:59.615419Z"
    }
   },
   "cell_type": "code",
   "source": [
    "tickers = [f\"Ticker_{i}\" for i in range(3)]\n",
    "num_values = 10**6\n",
    "annual_stock_price_df = pd.DataFrame(np.random.uniform(-10, 10, size=(num_values, len(tickers))), columns=tickers)\n",
    "\n",
    "annual_stock_price_df.head(3)"
   ],
   "id": "c60fd5598e49203",
   "outputs": [
    {
     "data": {
      "text/plain": [
       "   Ticker_0  Ticker_1  Ticker_2\n",
       "0  2.238395  4.255560 -3.912431\n",
       "1  3.747122  7.400302  6.812247\n",
       "2  3.541459  7.777374 -8.474512"
      ],
      "text/html": [
       "<div>\n",
       "<style scoped>\n",
       "    .dataframe tbody tr th:only-of-type {\n",
       "        vertical-align: middle;\n",
       "    }\n",
       "\n",
       "    .dataframe tbody tr th {\n",
       "        vertical-align: top;\n",
       "    }\n",
       "\n",
       "    .dataframe thead th {\n",
       "        text-align: right;\n",
       "    }\n",
       "</style>\n",
       "<table border=\"1\" class=\"dataframe\">\n",
       "  <thead>\n",
       "    <tr style=\"text-align: right;\">\n",
       "      <th></th>\n",
       "      <th>Ticker_0</th>\n",
       "      <th>Ticker_1</th>\n",
       "      <th>Ticker_2</th>\n",
       "    </tr>\n",
       "  </thead>\n",
       "  <tbody>\n",
       "    <tr>\n",
       "      <th>0</th>\n",
       "      <td>2.238395</td>\n",
       "      <td>4.255560</td>\n",
       "      <td>-3.912431</td>\n",
       "    </tr>\n",
       "    <tr>\n",
       "      <th>1</th>\n",
       "      <td>3.747122</td>\n",
       "      <td>7.400302</td>\n",
       "      <td>6.812247</td>\n",
       "    </tr>\n",
       "    <tr>\n",
       "      <th>2</th>\n",
       "      <td>3.541459</td>\n",
       "      <td>7.777374</td>\n",
       "      <td>-8.474512</td>\n",
       "    </tr>\n",
       "  </tbody>\n",
       "</table>\n",
       "</div>"
      ]
     },
     "execution_count": 11,
     "metadata": {},
     "output_type": "execute_result"
    }
   ],
   "execution_count": 11
  },
  {
   "metadata": {
    "ExecuteTime": {
     "end_time": "2024-06-21T09:30:59.666416Z",
     "start_time": "2024-06-21T09:30:59.662074Z"
    }
   },
   "cell_type": "code",
   "source": [
    "def create_functional_1(random_values):\n",
    "    def wrapper(weights):\n",
    "        weighted_annual_ratio_sum_df = random_values.mul(weights).sum(axis=1)\n",
    "\n",
    "        weighted_expectation = weighted_annual_ratio_sum_df.mean()\n",
    "        weighted_variance = weighted_annual_ratio_sum_df.var(ddof=0)\n",
    "        return weighted_expectation / np.sqrt(weighted_variance)\n",
    "\n",
    "    return wrapper\n",
    "\n",
    "\n",
    "def create_functional_2(random_values):\n",
    "    cov_matrix = random_values.cov(ddof=0).values\n",
    "    np.fill_diagonal(cov_matrix, 0)\n",
    "    \n",
    "    def wrapper(weights):\n",
    "        numerator = weights @ random_values.mean().values\n",
    "        denominator_var = (weights ** 2) @ random_values.var(ddof=0).values\n",
    "        denominator_cov = (weights @ cov_matrix) @ weights\n",
    "        return numerator / np.sqrt(denominator_var + denominator_cov)\n",
    "\n",
    "    return wrapper"
   ],
   "id": "fe2b940e9ff18f48",
   "outputs": [],
   "execution_count": 12
  },
  {
   "metadata": {
    "ExecuteTime": {
     "end_time": "2024-06-21T09:30:59.714245Z",
     "start_time": "2024-06-21T09:30:59.667868Z"
    }
   },
   "cell_type": "code",
   "source": [
    "def constraint(x):\n",
    "    return sum(x) - 1\n",
    "\n",
    "con = {\"type\": \"eq\", \"fun\": constraint}\n",
    "bounds = [(0, 1) for _ in range(len(tickers))]\n",
    "\n",
    "functional_1 = create_functional_1(annual_stock_price_df)\n",
    "functional_2 = create_functional_2(annual_stock_price_df)\n",
    "\n",
    "minimization_functional_1 = lambda weights: - functional_1(weights)\n",
    "minimization_functional_2 = lambda weights: - functional_2(weights)"
   ],
   "id": "35370bd39812c01f",
   "outputs": [],
   "execution_count": 13
  },
  {
   "metadata": {
    "ExecuteTime": {
     "end_time": "2024-06-21T09:30:59.719463Z",
     "start_time": "2024-06-21T09:30:59.715860Z"
    }
   },
   "cell_type": "code",
   "source": [
    "def generate_random_weights(vector_size):\n",
    "    weights = np.random.rand(vector_size)\n",
    "    weights /= np.sum(weights)\n",
    "    return weights\n",
    "\n",
    "\n",
    "def random_search_for_initial_weights(functional_to_minimize, n_tries, vector_size):\n",
    "    best_func_value = np.inf\n",
    "    for _ in tqdm(range(n_tries)):\n",
    "        weights = generate_random_weights(vector_size)\n",
    "        res = minimize(functional_to_minimize, weights, constraints=con, bounds=bounds)\n",
    "        if res.fun < best_func_value:\n",
    "            best_func_value = res.fun\n",
    "\n",
    "    return best_func_value"
   ],
   "id": "f057fbbbef354548",
   "outputs": [],
   "execution_count": 14
  },
  {
   "metadata": {},
   "cell_type": "markdown",
   "source": "### 3 columns",
   "id": "a128bbd6eee617f4"
  },
  {
   "metadata": {
    "ExecuteTime": {
     "end_time": "2024-06-21T09:31:10.542759Z",
     "start_time": "2024-06-21T09:30:59.720818Z"
    }
   },
   "cell_type": "code",
   "source": "random_search_for_initial_weights(minimization_functional_1, 3, vector_size=len(tickers))",
   "id": "68bdd955bea8f0b2",
   "outputs": [
    {
     "name": "stderr",
     "output_type": "stream",
     "text": [
      "100%|██████████| 3/3 [00:10<00:00,  3.61s/it]\n"
     ]
    },
    {
     "data": {
      "text/plain": [
       "-0.0018637031881842433"
      ]
     },
     "execution_count": 15,
     "metadata": {},
     "output_type": "execute_result"
    }
   ],
   "execution_count": 15
  },
  {
   "metadata": {
    "ExecuteTime": {
     "end_time": "2024-06-21T09:31:15.063310Z",
     "start_time": "2024-06-21T09:31:10.544486Z"
    }
   },
   "cell_type": "code",
   "source": "random_search_for_initial_weights(minimization_functional_2, 3, vector_size=len(tickers))",
   "id": "40f45366f9e46168",
   "outputs": [
    {
     "name": "stderr",
     "output_type": "stream",
     "text": [
      "100%|██████████| 3/3 [00:04<00:00,  1.50s/it]\n"
     ]
    },
    {
     "data": {
      "text/plain": [
       "-0.0018636864982659218"
      ]
     },
     "execution_count": 16,
     "metadata": {},
     "output_type": "execute_result"
    }
   ],
   "execution_count": 16
  },
  {
   "metadata": {},
   "cell_type": "markdown",
   "source": "### 8 columns",
   "id": "2a032a2631856a53"
  },
  {
   "metadata": {
    "ExecuteTime": {
     "end_time": "2024-06-21T09:31:15.212841Z",
     "start_time": "2024-06-21T09:31:15.064660Z"
    }
   },
   "cell_type": "code",
   "source": [
    "tickers = [f\"Ticker_{i}\" for i in range(8)]\n",
    "annual_stock_price_df = pd.DataFrame(np.random.uniform(-10, 10, size=(num_values, len(tickers))), columns=tickers)\n",
    "\n",
    "bounds = [(0, 1) for _ in range(len(tickers))]\n",
    "\n",
    "functional_1 = create_functional_1(annual_stock_price_df)\n",
    "functional_2 = create_functional_2(annual_stock_price_df)\n",
    "\n",
    "minimization_functional_1 = lambda weights: - functional_1(weights)\n",
    "minimization_functional_2 = lambda weights: - functional_2(weights)\n",
    "\n",
    "annual_stock_price_df.head(3)"
   ],
   "id": "415a6258059ae9d",
   "outputs": [
    {
     "data": {
      "text/plain": [
       "   Ticker_0  Ticker_1  Ticker_2  Ticker_3  Ticker_4  Ticker_5  Ticker_6  \\\n",
       "0  3.188598 -6.403886 -0.303393 -5.039679 -4.086160  6.067583  6.493955   \n",
       "1  8.057174  1.033491  8.681959 -5.593514  4.598320 -0.787006 -9.085002   \n",
       "2  8.323714 -5.832777 -4.513762 -8.799477  9.583477 -5.754185  7.364186   \n",
       "\n",
       "   Ticker_7  \n",
       "0  0.169408  \n",
       "1 -7.902727  \n",
       "2  2.550727  "
      ],
      "text/html": [
       "<div>\n",
       "<style scoped>\n",
       "    .dataframe tbody tr th:only-of-type {\n",
       "        vertical-align: middle;\n",
       "    }\n",
       "\n",
       "    .dataframe tbody tr th {\n",
       "        vertical-align: top;\n",
       "    }\n",
       "\n",
       "    .dataframe thead th {\n",
       "        text-align: right;\n",
       "    }\n",
       "</style>\n",
       "<table border=\"1\" class=\"dataframe\">\n",
       "  <thead>\n",
       "    <tr style=\"text-align: right;\">\n",
       "      <th></th>\n",
       "      <th>Ticker_0</th>\n",
       "      <th>Ticker_1</th>\n",
       "      <th>Ticker_2</th>\n",
       "      <th>Ticker_3</th>\n",
       "      <th>Ticker_4</th>\n",
       "      <th>Ticker_5</th>\n",
       "      <th>Ticker_6</th>\n",
       "      <th>Ticker_7</th>\n",
       "    </tr>\n",
       "  </thead>\n",
       "  <tbody>\n",
       "    <tr>\n",
       "      <th>0</th>\n",
       "      <td>3.188598</td>\n",
       "      <td>-6.403886</td>\n",
       "      <td>-0.303393</td>\n",
       "      <td>-5.039679</td>\n",
       "      <td>-4.086160</td>\n",
       "      <td>6.067583</td>\n",
       "      <td>6.493955</td>\n",
       "      <td>0.169408</td>\n",
       "    </tr>\n",
       "    <tr>\n",
       "      <th>1</th>\n",
       "      <td>8.057174</td>\n",
       "      <td>1.033491</td>\n",
       "      <td>8.681959</td>\n",
       "      <td>-5.593514</td>\n",
       "      <td>4.598320</td>\n",
       "      <td>-0.787006</td>\n",
       "      <td>-9.085002</td>\n",
       "      <td>-7.902727</td>\n",
       "    </tr>\n",
       "    <tr>\n",
       "      <th>2</th>\n",
       "      <td>8.323714</td>\n",
       "      <td>-5.832777</td>\n",
       "      <td>-4.513762</td>\n",
       "      <td>-8.799477</td>\n",
       "      <td>9.583477</td>\n",
       "      <td>-5.754185</td>\n",
       "      <td>7.364186</td>\n",
       "      <td>2.550727</td>\n",
       "    </tr>\n",
       "  </tbody>\n",
       "</table>\n",
       "</div>"
      ]
     },
     "execution_count": 17,
     "metadata": {},
     "output_type": "execute_result"
    }
   ],
   "execution_count": 17
  },
  {
   "metadata": {
    "ExecuteTime": {
     "end_time": "2024-06-21T09:31:53.151610Z",
     "start_time": "2024-06-21T09:31:15.213952Z"
    }
   },
   "cell_type": "code",
   "source": "random_search_for_initial_weights(minimization_functional_1, 3, vector_size=len(tickers))",
   "id": "e45ba3db9efc6e18",
   "outputs": [
    {
     "name": "stderr",
     "output_type": "stream",
     "text": [
      "100%|██████████| 3/3 [00:37<00:00, 12.64s/it]\n"
     ]
    },
    {
     "data": {
      "text/plain": [
       "-0.0027123003368270467"
      ]
     },
     "execution_count": 18,
     "metadata": {},
     "output_type": "execute_result"
    }
   ],
   "execution_count": 18
  },
  {
   "metadata": {
    "ExecuteTime": {
     "end_time": "2024-06-21T09:32:40.455417Z",
     "start_time": "2024-06-21T09:31:53.152716Z"
    }
   },
   "cell_type": "code",
   "source": "random_search_for_initial_weights(minimization_functional_2, 3, vector_size=len(tickers))",
   "id": "80ec4d0497494eb0",
   "outputs": [
    {
     "name": "stderr",
     "output_type": "stream",
     "text": [
      "100%|██████████| 3/3 [00:47<00:00, 15.77s/it]\n"
     ]
    },
    {
     "data": {
      "text/plain": [
       "-0.0027121571619153502"
      ]
     },
     "execution_count": 19,
     "metadata": {},
     "output_type": "execute_result"
    }
   ],
   "execution_count": 19
  },
  {
   "metadata": {
    "ExecuteTime": {
     "end_time": "2024-06-21T09:32:40.459390Z",
     "start_time": "2024-06-21T09:32:40.457381Z"
    }
   },
   "cell_type": "code",
   "source": "",
   "id": "a0e8717767bf2b7d",
   "outputs": [],
   "execution_count": 19
  }
 ],
 "metadata": {
  "kernelspec": {
   "display_name": "Python 3",
   "language": "python",
   "name": "python3"
  },
  "language_info": {
   "codemirror_mode": {
    "name": "ipython",
    "version": 2
   },
   "file_extension": ".py",
   "mimetype": "text/x-python",
   "name": "python",
   "nbconvert_exporter": "python",
   "pygments_lexer": "ipython2",
   "version": "2.7.6"
  }
 },
 "nbformat": 4,
 "nbformat_minor": 5
}
