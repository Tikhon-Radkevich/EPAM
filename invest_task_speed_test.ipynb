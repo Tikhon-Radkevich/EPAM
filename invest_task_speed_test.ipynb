{
 "cells": [
  {
   "metadata": {
    "ExecuteTime": {
     "end_time": "2024-06-21T12:05:15.712540Z",
     "start_time": "2024-06-21T12:05:15.305144Z"
    }
   },
   "cell_type": "code",
   "source": [
    "import pandas as pd\n",
    "import numpy as np\n",
    "from tqdm import tqdm\n",
    "\n",
    "from scipy.optimize import minimize"
   ],
   "id": "9afc174dc8ac680b",
   "outputs": [],
   "execution_count": 1
  },
  {
   "metadata": {
    "ExecuteTime": {
     "end_time": "2024-06-21T12:05:15.731095Z",
     "start_time": "2024-06-21T12:05:15.714451Z"
    }
   },
   "cell_type": "code",
   "source": "np.random.seed(3)",
   "id": "5806d174ab3da257",
   "outputs": [],
   "execution_count": 2
  },
  {
   "metadata": {
    "ExecuteTime": {
     "end_time": "2024-06-21T12:05:15.768267Z",
     "start_time": "2024-06-21T12:05:15.732059Z"
    }
   },
   "cell_type": "code",
   "source": [
    "tickers = [f\"Ticker_{i}\" for i in range(3)]\n",
    "num_values = 10**6\n",
    "annual_stock_price_df = pd.DataFrame(np.random.uniform(-10, 10, size=(num_values, len(tickers))), columns=tickers)\n",
    "\n",
    "annual_stock_price_df.head(3)"
   ],
   "id": "c60fd5598e49203",
   "outputs": [
    {
     "data": {
      "text/plain": [
       "   Ticker_0  Ticker_1  Ticker_2\n",
       "0  1.015958  4.162956 -4.181905\n",
       "1  0.216552  7.858939  7.925862\n",
       "2 -7.488294 -5.855142 -8.970656"
      ],
      "text/html": [
       "<div>\n",
       "<style scoped>\n",
       "    .dataframe tbody tr th:only-of-type {\n",
       "        vertical-align: middle;\n",
       "    }\n",
       "\n",
       "    .dataframe tbody tr th {\n",
       "        vertical-align: top;\n",
       "    }\n",
       "\n",
       "    .dataframe thead th {\n",
       "        text-align: right;\n",
       "    }\n",
       "</style>\n",
       "<table border=\"1\" class=\"dataframe\">\n",
       "  <thead>\n",
       "    <tr style=\"text-align: right;\">\n",
       "      <th></th>\n",
       "      <th>Ticker_0</th>\n",
       "      <th>Ticker_1</th>\n",
       "      <th>Ticker_2</th>\n",
       "    </tr>\n",
       "  </thead>\n",
       "  <tbody>\n",
       "    <tr>\n",
       "      <th>0</th>\n",
       "      <td>1.015958</td>\n",
       "      <td>4.162956</td>\n",
       "      <td>-4.181905</td>\n",
       "    </tr>\n",
       "    <tr>\n",
       "      <th>1</th>\n",
       "      <td>0.216552</td>\n",
       "      <td>7.858939</td>\n",
       "      <td>7.925862</td>\n",
       "    </tr>\n",
       "    <tr>\n",
       "      <th>2</th>\n",
       "      <td>-7.488294</td>\n",
       "      <td>-5.855142</td>\n",
       "      <td>-8.970656</td>\n",
       "    </tr>\n",
       "  </tbody>\n",
       "</table>\n",
       "</div>"
      ]
     },
     "execution_count": 3,
     "metadata": {},
     "output_type": "execute_result"
    }
   ],
   "execution_count": 3
  },
  {
   "metadata": {
    "ExecuteTime": {
     "end_time": "2024-06-21T12:05:15.774632Z",
     "start_time": "2024-06-21T12:05:15.770298Z"
    }
   },
   "cell_type": "code",
   "source": [
    "def create_functional_1(random_values):\n",
    "    def wrapper(weights):\n",
    "        weighted_annual_ratio_sum_df = random_values.mul(weights).sum(axis=1)\n",
    "\n",
    "        weighted_expectation = weighted_annual_ratio_sum_df.mean()\n",
    "        weighted_variance = weighted_annual_ratio_sum_df.var(ddof=0)\n",
    "        return weighted_expectation / np.sqrt(weighted_variance)\n",
    "\n",
    "    return wrapper\n",
    "\n",
    "\n",
    "def create_functional_2(random_values):\n",
    "    cov_matrix = random_values.cov(ddof=0).values\n",
    "    np.fill_diagonal(cov_matrix, 0)\n",
    "    \n",
    "    mean_annual_ratio = random_values.mean().values\n",
    "    var_annual_ratio_df = random_values.var(ddof=0).values\n",
    "    \n",
    "    def wrapper(weights):\n",
    "        numerator = weights @ mean_annual_ratio\n",
    "        denominator_var = (weights ** 2) @ var_annual_ratio_df\n",
    "        denominator_cov = (weights @ cov_matrix) @ weights\n",
    "        return numerator / np.sqrt(denominator_var + denominator_cov)\n",
    "\n",
    "    return wrapper\n",
    "\n",
    "    return wrapper"
   ],
   "id": "fe2b940e9ff18f48",
   "outputs": [],
   "execution_count": 4
  },
  {
   "metadata": {
    "ExecuteTime": {
     "end_time": "2024-06-21T12:05:15.928477Z",
     "start_time": "2024-06-21T12:05:15.776299Z"
    }
   },
   "cell_type": "code",
   "source": [
    "def constraint(x):\n",
    "    return sum(x) - 1\n",
    "\n",
    "con = {\"type\": \"eq\", \"fun\": constraint}\n",
    "bounds = [(0, 1) for _ in range(len(tickers))]\n",
    "\n",
    "functional_1 = create_functional_1(annual_stock_price_df)\n",
    "functional_2 = create_functional_2(annual_stock_price_df)\n",
    "\n",
    "minimization_functional_1 = lambda weights: - functional_1(weights)\n",
    "minimization_functional_2 = lambda weights: - functional_2(weights)"
   ],
   "id": "35370bd39812c01f",
   "outputs": [],
   "execution_count": 5
  },
  {
   "metadata": {
    "ExecuteTime": {
     "end_time": "2024-06-21T12:05:15.934072Z",
     "start_time": "2024-06-21T12:05:15.929650Z"
    }
   },
   "cell_type": "code",
   "source": [
    "def generate_random_weights(vector_size):\n",
    "    weights = np.random.rand(vector_size)\n",
    "    weights /= np.sum(weights)\n",
    "    return weights\n",
    "\n",
    "\n",
    "def random_search_for_initial_weights(functional_to_minimize, n_tries, vector_size):\n",
    "    best_func_value = np.inf\n",
    "    for _ in tqdm(range(n_tries)):\n",
    "        weights = generate_random_weights(vector_size)\n",
    "        res = minimize(functional_to_minimize, weights, constraints=con, bounds=bounds)\n",
    "        if res.fun < best_func_value:\n",
    "            best_func_value = res.fun\n",
    "\n",
    "    return best_func_value"
   ],
   "id": "f057fbbbef354548",
   "outputs": [],
   "execution_count": 6
  },
  {
   "metadata": {},
   "cell_type": "markdown",
   "source": "### 3 columns",
   "id": "a128bbd6eee617f4"
  },
  {
   "metadata": {
    "ExecuteTime": {
     "end_time": "2024-06-21T12:05:59.111608Z",
     "start_time": "2024-06-21T12:05:15.935368Z"
    }
   },
   "cell_type": "code",
   "source": [
    "func_1_value = random_search_for_initial_weights(minimization_functional_1, 15, vector_size=len(tickers))\n",
    "print(\"functional_1:\", func_1_value)"
   ],
   "id": "68bdd955bea8f0b2",
   "outputs": [
    {
     "name": "stderr",
     "output_type": "stream",
     "text": [
      "100%|██████████| 15/15 [00:43<00:00,  2.88s/it]"
     ]
    },
    {
     "name": "stdout",
     "output_type": "stream",
     "text": [
      "functional_1: -0.0022004586704341784\n"
     ]
    },
    {
     "name": "stderr",
     "output_type": "stream",
     "text": [
      "\n"
     ]
    }
   ],
   "execution_count": 7
  },
  {
   "metadata": {
    "ExecuteTime": {
     "end_time": "2024-06-21T12:05:59.163706Z",
     "start_time": "2024-06-21T12:05:59.112892Z"
    }
   },
   "cell_type": "code",
   "source": [
    "func_2_value = random_search_for_initial_weights(minimization_functional_2, 15, vector_size=len(tickers))\n",
    "print(\"functional_2:\", func_2_value)"
   ],
   "id": "40f45366f9e46168",
   "outputs": [
    {
     "name": "stderr",
     "output_type": "stream",
     "text": [
      "100%|██████████| 15/15 [00:00<00:00, 325.32it/s]"
     ]
    },
    {
     "name": "stdout",
     "output_type": "stream",
     "text": [
      "functional_2: -0.002200448358604707\n"
     ]
    },
    {
     "name": "stderr",
     "output_type": "stream",
     "text": [
      "\n"
     ]
    }
   ],
   "execution_count": 8
  },
  {
   "metadata": {},
   "cell_type": "markdown",
   "source": "### 10 columns",
   "id": "2a032a2631856a53"
  },
  {
   "metadata": {
    "ExecuteTime": {
     "end_time": "2024-06-21T12:05:59.512630Z",
     "start_time": "2024-06-21T12:05:59.164761Z"
    }
   },
   "cell_type": "code",
   "source": [
    "tickers = [f\"Ticker_{i}\" for i in range(10)]\n",
    "annual_stock_price_df = pd.DataFrame(np.random.uniform(-10, 10, size=(num_values, len(tickers))), columns=tickers)\n",
    "\n",
    "bounds = [(0, 1) for _ in range(len(tickers))]\n",
    "\n",
    "functional_1 = create_functional_1(annual_stock_price_df)\n",
    "functional_2 = create_functional_2(annual_stock_price_df)\n",
    "\n",
    "minimization_functional_1 = lambda weights: - functional_1(weights)\n",
    "minimization_functional_2 = lambda weights: - functional_2(weights)\n",
    "\n",
    "annual_stock_price_df.head(3)"
   ],
   "id": "415a6258059ae9d",
   "outputs": [
    {
     "data": {
      "text/plain": [
       "   Ticker_0  Ticker_1  Ticker_2  Ticker_3  Ticker_4  Ticker_5  Ticker_6  \\\n",
       "0  9.761039 -1.499094 -7.426843  1.250455  8.999567  2.438547  3.331949   \n",
       "1 -7.679590  5.877662  7.727916  4.406803  3.425599 -4.451226  6.470824   \n",
       "2  6.350869  2.910797 -8.996612 -6.582924  7.182994 -3.031618 -8.114594   \n",
       "\n",
       "   Ticker_7  Ticker_8  Ticker_9  \n",
       "0 -2.243402 -8.562468  2.543986  \n",
       "1 -1.412254 -1.092605 -7.226664  \n",
       "2  1.484563 -8.915023  0.666385  "
      ],
      "text/html": [
       "<div>\n",
       "<style scoped>\n",
       "    .dataframe tbody tr th:only-of-type {\n",
       "        vertical-align: middle;\n",
       "    }\n",
       "\n",
       "    .dataframe tbody tr th {\n",
       "        vertical-align: top;\n",
       "    }\n",
       "\n",
       "    .dataframe thead th {\n",
       "        text-align: right;\n",
       "    }\n",
       "</style>\n",
       "<table border=\"1\" class=\"dataframe\">\n",
       "  <thead>\n",
       "    <tr style=\"text-align: right;\">\n",
       "      <th></th>\n",
       "      <th>Ticker_0</th>\n",
       "      <th>Ticker_1</th>\n",
       "      <th>Ticker_2</th>\n",
       "      <th>Ticker_3</th>\n",
       "      <th>Ticker_4</th>\n",
       "      <th>Ticker_5</th>\n",
       "      <th>Ticker_6</th>\n",
       "      <th>Ticker_7</th>\n",
       "      <th>Ticker_8</th>\n",
       "      <th>Ticker_9</th>\n",
       "    </tr>\n",
       "  </thead>\n",
       "  <tbody>\n",
       "    <tr>\n",
       "      <th>0</th>\n",
       "      <td>9.761039</td>\n",
       "      <td>-1.499094</td>\n",
       "      <td>-7.426843</td>\n",
       "      <td>1.250455</td>\n",
       "      <td>8.999567</td>\n",
       "      <td>2.438547</td>\n",
       "      <td>3.331949</td>\n",
       "      <td>-2.243402</td>\n",
       "      <td>-8.562468</td>\n",
       "      <td>2.543986</td>\n",
       "    </tr>\n",
       "    <tr>\n",
       "      <th>1</th>\n",
       "      <td>-7.679590</td>\n",
       "      <td>5.877662</td>\n",
       "      <td>7.727916</td>\n",
       "      <td>4.406803</td>\n",
       "      <td>3.425599</td>\n",
       "      <td>-4.451226</td>\n",
       "      <td>6.470824</td>\n",
       "      <td>-1.412254</td>\n",
       "      <td>-1.092605</td>\n",
       "      <td>-7.226664</td>\n",
       "    </tr>\n",
       "    <tr>\n",
       "      <th>2</th>\n",
       "      <td>6.350869</td>\n",
       "      <td>2.910797</td>\n",
       "      <td>-8.996612</td>\n",
       "      <td>-6.582924</td>\n",
       "      <td>7.182994</td>\n",
       "      <td>-3.031618</td>\n",
       "      <td>-8.114594</td>\n",
       "      <td>1.484563</td>\n",
       "      <td>-8.915023</td>\n",
       "      <td>0.666385</td>\n",
       "    </tr>\n",
       "  </tbody>\n",
       "</table>\n",
       "</div>"
      ]
     },
     "execution_count": 9,
     "metadata": {},
     "output_type": "execute_result"
    }
   ],
   "execution_count": 9
  },
  {
   "metadata": {
    "ExecuteTime": {
     "end_time": "2024-06-21T12:06:57.551375Z",
     "start_time": "2024-06-21T12:05:59.514257Z"
    }
   },
   "cell_type": "code",
   "source": [
    "func_1_value = random_search_for_initial_weights(minimization_functional_1, 3, vector_size=len(tickers))\n",
    "print(\"functional_1:\", func_1_value)"
   ],
   "id": "e45ba3db9efc6e18",
   "outputs": [
    {
     "name": "stderr",
     "output_type": "stream",
     "text": [
      "100%|██████████| 3/3 [00:58<00:00, 19.34s/it]"
     ]
    },
    {
     "name": "stdout",
     "output_type": "stream",
     "text": [
      "functional_1: -0.0023526097156295832\n"
     ]
    },
    {
     "name": "stderr",
     "output_type": "stream",
     "text": [
      "\n"
     ]
    }
   ],
   "execution_count": 10
  },
  {
   "metadata": {
    "ExecuteTime": {
     "end_time": "2024-06-21T12:06:57.577936Z",
     "start_time": "2024-06-21T12:06:57.552208Z"
    }
   },
   "cell_type": "code",
   "source": [
    "func_2_value = random_search_for_initial_weights(minimization_functional_2, 3, vector_size=len(tickers))\n",
    "print(\"functional_2:\", func_2_value)"
   ],
   "id": "80ec4d0497494eb0",
   "outputs": [
    {
     "name": "stderr",
     "output_type": "stream",
     "text": [
      "100%|██████████| 3/3 [00:00<00:00, 140.61it/s]"
     ]
    },
    {
     "name": "stdout",
     "output_type": "stream",
     "text": [
      "functional_2: -0.0023522932995312484\n"
     ]
    },
    {
     "name": "stderr",
     "output_type": "stream",
     "text": [
      "\n"
     ]
    }
   ],
   "execution_count": 11
  },
  {
   "metadata": {
    "ExecuteTime": {
     "end_time": "2024-06-21T12:06:57.581296Z",
     "start_time": "2024-06-21T12:06:57.579172Z"
    }
   },
   "cell_type": "code",
   "source": "",
   "id": "a0e8717767bf2b7d",
   "outputs": [],
   "execution_count": 11
  }
 ],
 "metadata": {
  "kernelspec": {
   "display_name": "Python 3",
   "language": "python",
   "name": "python3"
  },
  "language_info": {
   "codemirror_mode": {
    "name": "ipython",
    "version": 2
   },
   "file_extension": ".py",
   "mimetype": "text/x-python",
   "name": "python",
   "nbconvert_exporter": "python",
   "pygments_lexer": "ipython2",
   "version": "2.7.6"
  }
 },
 "nbformat": 4,
 "nbformat_minor": 5
}
