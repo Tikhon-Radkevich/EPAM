{
 "cells": [
  {
   "metadata": {
    "ExecuteTime": {
     "end_time": "2024-06-21T10:02:52.973079Z",
     "start_time": "2024-06-21T10:02:52.970099Z"
    }
   },
   "cell_type": "code",
   "source": [
    "import pandas as pd\n",
    "import numpy as np\n",
    "from tqdm import tqdm\n",
    "\n",
    "from scipy.optimize import minimize"
   ],
   "id": "9afc174dc8ac680b",
   "outputs": [],
   "execution_count": 66
  },
  {
   "metadata": {
    "ExecuteTime": {
     "end_time": "2024-06-21T10:02:53.034910Z",
     "start_time": "2024-06-21T10:02:53.031870Z"
    }
   },
   "cell_type": "code",
   "source": "np.random.seed(77)",
   "id": "5806d174ab3da257",
   "outputs": [],
   "execution_count": 67
  },
  {
   "metadata": {
    "ExecuteTime": {
     "end_time": "2024-06-21T10:02:53.087344Z",
     "start_time": "2024-06-21T10:02:53.044560Z"
    }
   },
   "cell_type": "code",
   "source": [
    "tickers = [f\"Ticker_{i}\" for i in range(3)]\n",
    "num_values = 10**6\n",
    "annual_stock_price_df = pd.DataFrame(np.random.uniform(-10, 10, size=(num_values, len(tickers))), columns=tickers)\n",
    "\n",
    "annual_stock_price_df.head(3)"
   ],
   "id": "c60fd5598e49203",
   "outputs": [
    {
     "data": {
      "text/plain": [
       "   Ticker_0  Ticker_1  Ticker_2\n",
       "0  8.382181  2.843912  5.074245\n",
       "1 -7.213709 -8.253609  5.760041\n",
       "2 -3.476981  0.821356 -5.195296"
      ],
      "text/html": [
       "<div>\n",
       "<style scoped>\n",
       "    .dataframe tbody tr th:only-of-type {\n",
       "        vertical-align: middle;\n",
       "    }\n",
       "\n",
       "    .dataframe tbody tr th {\n",
       "        vertical-align: top;\n",
       "    }\n",
       "\n",
       "    .dataframe thead th {\n",
       "        text-align: right;\n",
       "    }\n",
       "</style>\n",
       "<table border=\"1\" class=\"dataframe\">\n",
       "  <thead>\n",
       "    <tr style=\"text-align: right;\">\n",
       "      <th></th>\n",
       "      <th>Ticker_0</th>\n",
       "      <th>Ticker_1</th>\n",
       "      <th>Ticker_2</th>\n",
       "    </tr>\n",
       "  </thead>\n",
       "  <tbody>\n",
       "    <tr>\n",
       "      <th>0</th>\n",
       "      <td>8.382181</td>\n",
       "      <td>2.843912</td>\n",
       "      <td>5.074245</td>\n",
       "    </tr>\n",
       "    <tr>\n",
       "      <th>1</th>\n",
       "      <td>-7.213709</td>\n",
       "      <td>-8.253609</td>\n",
       "      <td>5.760041</td>\n",
       "    </tr>\n",
       "    <tr>\n",
       "      <th>2</th>\n",
       "      <td>-3.476981</td>\n",
       "      <td>0.821356</td>\n",
       "      <td>-5.195296</td>\n",
       "    </tr>\n",
       "  </tbody>\n",
       "</table>\n",
       "</div>"
      ]
     },
     "execution_count": 68,
     "metadata": {},
     "output_type": "execute_result"
    }
   ],
   "execution_count": 68
  },
  {
   "metadata": {
    "ExecuteTime": {
     "end_time": "2024-06-21T10:02:53.093609Z",
     "start_time": "2024-06-21T10:02:53.088818Z"
    }
   },
   "cell_type": "code",
   "source": [
    "def create_functional_1(random_values):\n",
    "    def wrapper(weights):\n",
    "        weighted_annual_ratio_sum_df = random_values.mul(weights).sum(axis=1)\n",
    "\n",
    "        weighted_expectation = weighted_annual_ratio_sum_df.mean()\n",
    "        weighted_variance = weighted_annual_ratio_sum_df.var(ddof=0)\n",
    "        return weighted_expectation / np.sqrt(weighted_variance)\n",
    "\n",
    "    return wrapper\n",
    "\n",
    "\n",
    "def create_functional_2(random_values):\n",
    "    cov_matrix = random_values.cov(ddof=0).values\n",
    "    np.fill_diagonal(cov_matrix, 0)\n",
    "    \n",
    "    def wrapper(weights):\n",
    "        numerator = weights @ random_values.mean().values\n",
    "        denominator_var = (weights ** 2) @ random_values.var(ddof=0).values\n",
    "        denominator_cov = (weights @ cov_matrix) @ weights\n",
    "        return numerator / np.sqrt(denominator_var + denominator_cov)\n",
    "\n",
    "    return wrapper"
   ],
   "id": "fe2b940e9ff18f48",
   "outputs": [],
   "execution_count": 69
  },
  {
   "metadata": {
    "ExecuteTime": {
     "end_time": "2024-06-21T10:02:53.134805Z",
     "start_time": "2024-06-21T10:02:53.094600Z"
    }
   },
   "cell_type": "code",
   "source": [
    "def constraint(x):\n",
    "    return sum(x) - 1\n",
    "\n",
    "con = {\"type\": \"eq\", \"fun\": constraint}\n",
    "bounds = [(0, 1) for _ in range(len(tickers))]\n",
    "\n",
    "functional_1 = create_functional_1(annual_stock_price_df)\n",
    "functional_2 = create_functional_2(annual_stock_price_df)\n",
    "\n",
    "minimization_functional_1 = lambda weights: - functional_1(weights)\n",
    "minimization_functional_2 = lambda weights: - functional_2(weights)"
   ],
   "id": "35370bd39812c01f",
   "outputs": [],
   "execution_count": 70
  },
  {
   "metadata": {
    "ExecuteTime": {
     "end_time": "2024-06-21T10:02:53.139456Z",
     "start_time": "2024-06-21T10:02:53.136340Z"
    }
   },
   "cell_type": "code",
   "source": [
    "def generate_random_weights(vector_size):\n",
    "    weights = np.random.rand(vector_size)\n",
    "    weights /= np.sum(weights)\n",
    "    return weights\n",
    "\n",
    "\n",
    "def random_search_for_initial_weights(functional_to_minimize, n_tries, vector_size):\n",
    "    best_func_value = np.inf\n",
    "    for _ in tqdm(range(n_tries)):\n",
    "        weights = generate_random_weights(vector_size)\n",
    "        res = minimize(functional_to_minimize, weights, constraints=con, bounds=bounds)\n",
    "        if res.fun < best_func_value:\n",
    "            best_func_value = res.fun\n",
    "\n",
    "    return best_func_value"
   ],
   "id": "f057fbbbef354548",
   "outputs": [],
   "execution_count": 71
  },
  {
   "metadata": {},
   "cell_type": "markdown",
   "source": "### 3 columns",
   "id": "a128bbd6eee617f4"
  },
  {
   "metadata": {
    "ExecuteTime": {
     "end_time": "2024-06-21T10:03:03.767053Z",
     "start_time": "2024-06-21T10:02:53.140646Z"
    }
   },
   "cell_type": "code",
   "source": [
    "func_1_value = random_search_for_initial_weights(minimization_functional_1, 3, vector_size=len(tickers))\n",
    "print(\"functional_1:\", func_1_value)"
   ],
   "id": "68bdd955bea8f0b2",
   "outputs": [
    {
     "name": "stderr",
     "output_type": "stream",
     "text": [
      "100%|██████████| 3/3 [00:10<00:00,  3.54s/it]"
     ]
    },
    {
     "name": "stdout",
     "output_type": "stream",
     "text": [
      "functional_1: -0.001277300332977002\n"
     ]
    },
    {
     "name": "stderr",
     "output_type": "stream",
     "text": [
      "\n"
     ]
    }
   ],
   "execution_count": 72
  },
  {
   "metadata": {
    "ExecuteTime": {
     "end_time": "2024-06-21T10:03:08.743984Z",
     "start_time": "2024-06-21T10:03:03.768268Z"
    }
   },
   "cell_type": "code",
   "source": [
    "func_2_value = random_search_for_initial_weights(minimization_functional_2, 3, vector_size=len(tickers))\n",
    "print(\"functional_2:\", func_2_value)"
   ],
   "id": "40f45366f9e46168",
   "outputs": [
    {
     "name": "stderr",
     "output_type": "stream",
     "text": [
      "100%|██████████| 3/3 [00:04<00:00,  1.66s/it]"
     ]
    },
    {
     "name": "stdout",
     "output_type": "stream",
     "text": [
      "functional_2: -0.0012674360557667008\n"
     ]
    },
    {
     "name": "stderr",
     "output_type": "stream",
     "text": [
      "\n"
     ]
    }
   ],
   "execution_count": 73
  },
  {
   "metadata": {},
   "cell_type": "markdown",
   "source": "### 10 columns",
   "id": "2a032a2631856a53"
  },
  {
   "metadata": {
    "ExecuteTime": {
     "end_time": "2024-06-21T10:03:08.908892Z",
     "start_time": "2024-06-21T10:03:08.745171Z"
    }
   },
   "cell_type": "code",
   "source": [
    "tickers = [f\"Ticker_{i}\" for i in range(10)]\n",
    "annual_stock_price_df = pd.DataFrame(np.random.uniform(-10, 10, size=(num_values, len(tickers))), columns=tickers)\n",
    "\n",
    "bounds = [(0, 1) for _ in range(len(tickers))]\n",
    "\n",
    "functional_1 = create_functional_1(annual_stock_price_df)\n",
    "functional_2 = create_functional_2(annual_stock_price_df)\n",
    "\n",
    "minimization_functional_1 = lambda weights: - functional_1(weights)\n",
    "minimization_functional_2 = lambda weights: - functional_2(weights)\n",
    "\n",
    "annual_stock_price_df.head(3)"
   ],
   "id": "415a6258059ae9d",
   "outputs": [
    {
     "data": {
      "text/plain": [
       "   Ticker_0  Ticker_1  Ticker_2  Ticker_3  Ticker_4  Ticker_5  Ticker_6  \\\n",
       "0 -2.981269 -0.707952  0.661833 -4.339718 -2.669090 -0.401840  9.874176   \n",
       "1  3.071128 -4.589168  1.113575  3.379856 -4.138881  8.614578  0.862149   \n",
       "2 -6.881038 -8.411451 -0.144322 -3.098648  9.675710 -2.602158  2.708409   \n",
       "\n",
       "   Ticker_7  Ticker_8  Ticker_9  \n",
       "0  8.561488 -6.997616 -1.328227  \n",
       "1  0.651832 -6.883063  5.041497  \n",
       "2 -3.566908  2.083498  7.595213  "
      ],
      "text/html": [
       "<div>\n",
       "<style scoped>\n",
       "    .dataframe tbody tr th:only-of-type {\n",
       "        vertical-align: middle;\n",
       "    }\n",
       "\n",
       "    .dataframe tbody tr th {\n",
       "        vertical-align: top;\n",
       "    }\n",
       "\n",
       "    .dataframe thead th {\n",
       "        text-align: right;\n",
       "    }\n",
       "</style>\n",
       "<table border=\"1\" class=\"dataframe\">\n",
       "  <thead>\n",
       "    <tr style=\"text-align: right;\">\n",
       "      <th></th>\n",
       "      <th>Ticker_0</th>\n",
       "      <th>Ticker_1</th>\n",
       "      <th>Ticker_2</th>\n",
       "      <th>Ticker_3</th>\n",
       "      <th>Ticker_4</th>\n",
       "      <th>Ticker_5</th>\n",
       "      <th>Ticker_6</th>\n",
       "      <th>Ticker_7</th>\n",
       "      <th>Ticker_8</th>\n",
       "      <th>Ticker_9</th>\n",
       "    </tr>\n",
       "  </thead>\n",
       "  <tbody>\n",
       "    <tr>\n",
       "      <th>0</th>\n",
       "      <td>-2.981269</td>\n",
       "      <td>-0.707952</td>\n",
       "      <td>0.661833</td>\n",
       "      <td>-4.339718</td>\n",
       "      <td>-2.669090</td>\n",
       "      <td>-0.401840</td>\n",
       "      <td>9.874176</td>\n",
       "      <td>8.561488</td>\n",
       "      <td>-6.997616</td>\n",
       "      <td>-1.328227</td>\n",
       "    </tr>\n",
       "    <tr>\n",
       "      <th>1</th>\n",
       "      <td>3.071128</td>\n",
       "      <td>-4.589168</td>\n",
       "      <td>1.113575</td>\n",
       "      <td>3.379856</td>\n",
       "      <td>-4.138881</td>\n",
       "      <td>8.614578</td>\n",
       "      <td>0.862149</td>\n",
       "      <td>0.651832</td>\n",
       "      <td>-6.883063</td>\n",
       "      <td>5.041497</td>\n",
       "    </tr>\n",
       "    <tr>\n",
       "      <th>2</th>\n",
       "      <td>-6.881038</td>\n",
       "      <td>-8.411451</td>\n",
       "      <td>-0.144322</td>\n",
       "      <td>-3.098648</td>\n",
       "      <td>9.675710</td>\n",
       "      <td>-2.602158</td>\n",
       "      <td>2.708409</td>\n",
       "      <td>-3.566908</td>\n",
       "      <td>2.083498</td>\n",
       "      <td>7.595213</td>\n",
       "    </tr>\n",
       "  </tbody>\n",
       "</table>\n",
       "</div>"
      ]
     },
     "execution_count": 74,
     "metadata": {},
     "output_type": "execute_result"
    }
   ],
   "execution_count": 74
  },
  {
   "metadata": {
    "ExecuteTime": {
     "end_time": "2024-06-21T10:04:17.464851Z",
     "start_time": "2024-06-21T10:03:08.909766Z"
    }
   },
   "cell_type": "code",
   "source": [
    "func_1_value = random_search_for_initial_weights(minimization_functional_1, 3, vector_size=len(tickers))\n",
    "print(\"functional_1:\", func_1_value)"
   ],
   "id": "e45ba3db9efc6e18",
   "outputs": [
    {
     "name": "stderr",
     "output_type": "stream",
     "text": [
      "100%|██████████| 3/3 [01:08<00:00, 22.85s/it]"
     ]
    },
    {
     "name": "stdout",
     "output_type": "stream",
     "text": [
      "functional_1: -0.002422184991851932\n"
     ]
    },
    {
     "name": "stderr",
     "output_type": "stream",
     "text": [
      "\n"
     ]
    }
   ],
   "execution_count": 75
  },
  {
   "metadata": {
    "ExecuteTime": {
     "end_time": "2024-06-21T10:05:31.402305Z",
     "start_time": "2024-06-21T10:04:17.466894Z"
    }
   },
   "cell_type": "code",
   "source": [
    "func_2_value = random_search_for_initial_weights(minimization_functional_2, 3, vector_size=len(tickers))\n",
    "print(\"functional_2:\", func_2_value)"
   ],
   "id": "80ec4d0497494eb0",
   "outputs": [
    {
     "name": "stderr",
     "output_type": "stream",
     "text": [
      "100%|██████████| 3/3 [01:13<00:00, 24.64s/it]"
     ]
    },
    {
     "name": "stdout",
     "output_type": "stream",
     "text": [
      "functional_2: -0.0024222152154985822\n"
     ]
    },
    {
     "name": "stderr",
     "output_type": "stream",
     "text": [
      "\n"
     ]
    }
   ],
   "execution_count": 76
  },
  {
   "metadata": {
    "ExecuteTime": {
     "end_time": "2024-06-21T10:05:31.405706Z",
     "start_time": "2024-06-21T10:05:31.403434Z"
    }
   },
   "cell_type": "code",
   "source": "",
   "id": "a0e8717767bf2b7d",
   "outputs": [],
   "execution_count": 76
  }
 ],
 "metadata": {
  "kernelspec": {
   "display_name": "Python 3",
   "language": "python",
   "name": "python3"
  },
  "language_info": {
   "codemirror_mode": {
    "name": "ipython",
    "version": 2
   },
   "file_extension": ".py",
   "mimetype": "text/x-python",
   "name": "python",
   "nbconvert_exporter": "python",
   "pygments_lexer": "ipython2",
   "version": "2.7.6"
  }
 },
 "nbformat": 4,
 "nbformat_minor": 5
}
