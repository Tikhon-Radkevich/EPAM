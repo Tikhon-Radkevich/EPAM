{
 "cells": [
  {
   "metadata": {
    "ExecuteTime": {
     "end_time": "2024-06-21T09:38:07.382244Z",
     "start_time": "2024-06-21T09:38:07.379732Z"
    }
   },
   "cell_type": "code",
   "source": [
    "import pandas as pd\n",
    "import numpy as np\n",
    "from tqdm import tqdm\n",
    "\n",
    "from scipy.optimize import minimize"
   ],
   "id": "9afc174dc8ac680b",
   "outputs": [],
   "execution_count": 20
  },
  {
   "metadata": {
    "ExecuteTime": {
     "end_time": "2024-06-21T09:38:07.477813Z",
     "start_time": "2024-06-21T09:38:07.442966Z"
    }
   },
   "cell_type": "code",
   "source": [
    "tickers = [f\"Ticker_{i}\" for i in range(3)]\n",
    "num_values = 10**6\n",
    "annual_stock_price_df = pd.DataFrame(np.random.uniform(-10, 10, size=(num_values, len(tickers))), columns=tickers)\n",
    "\n",
    "annual_stock_price_df.head(3)"
   ],
   "id": "c60fd5598e49203",
   "outputs": [
    {
     "data": {
      "text/plain": [
       "   Ticker_0  Ticker_1  Ticker_2\n",
       "0 -9.632300  4.293649  1.141841\n",
       "1 -2.633829  4.444358 -4.435730\n",
       "2  6.473480  5.761077  4.397759"
      ],
      "text/html": [
       "<div>\n",
       "<style scoped>\n",
       "    .dataframe tbody tr th:only-of-type {\n",
       "        vertical-align: middle;\n",
       "    }\n",
       "\n",
       "    .dataframe tbody tr th {\n",
       "        vertical-align: top;\n",
       "    }\n",
       "\n",
       "    .dataframe thead th {\n",
       "        text-align: right;\n",
       "    }\n",
       "</style>\n",
       "<table border=\"1\" class=\"dataframe\">\n",
       "  <thead>\n",
       "    <tr style=\"text-align: right;\">\n",
       "      <th></th>\n",
       "      <th>Ticker_0</th>\n",
       "      <th>Ticker_1</th>\n",
       "      <th>Ticker_2</th>\n",
       "    </tr>\n",
       "  </thead>\n",
       "  <tbody>\n",
       "    <tr>\n",
       "      <th>0</th>\n",
       "      <td>-9.632300</td>\n",
       "      <td>4.293649</td>\n",
       "      <td>1.141841</td>\n",
       "    </tr>\n",
       "    <tr>\n",
       "      <th>1</th>\n",
       "      <td>-2.633829</td>\n",
       "      <td>4.444358</td>\n",
       "      <td>-4.435730</td>\n",
       "    </tr>\n",
       "    <tr>\n",
       "      <th>2</th>\n",
       "      <td>6.473480</td>\n",
       "      <td>5.761077</td>\n",
       "      <td>4.397759</td>\n",
       "    </tr>\n",
       "  </tbody>\n",
       "</table>\n",
       "</div>"
      ]
     },
     "execution_count": 21,
     "metadata": {},
     "output_type": "execute_result"
    }
   ],
   "execution_count": 21
  },
  {
   "metadata": {
    "ExecuteTime": {
     "end_time": "2024-06-21T09:38:07.483959Z",
     "start_time": "2024-06-21T09:38:07.479223Z"
    }
   },
   "cell_type": "code",
   "source": [
    "def create_functional_1(random_values):\n",
    "    def wrapper(weights):\n",
    "        weighted_annual_ratio_sum_df = random_values.mul(weights).sum(axis=1)\n",
    "\n",
    "        weighted_expectation = weighted_annual_ratio_sum_df.mean()\n",
    "        weighted_variance = weighted_annual_ratio_sum_df.var(ddof=0)\n",
    "        return weighted_expectation / np.sqrt(weighted_variance)\n",
    "\n",
    "    return wrapper\n",
    "\n",
    "\n",
    "def create_functional_2(random_values):\n",
    "    cov_matrix = random_values.cov(ddof=0).values\n",
    "    np.fill_diagonal(cov_matrix, 0)\n",
    "    \n",
    "    def wrapper(weights):\n",
    "        numerator = weights @ random_values.mean().values\n",
    "        denominator_var = (weights ** 2) @ random_values.var(ddof=0).values\n",
    "        denominator_cov = (weights @ cov_matrix) @ weights\n",
    "        return numerator / np.sqrt(denominator_var + denominator_cov)\n",
    "\n",
    "    return wrapper"
   ],
   "id": "fe2b940e9ff18f48",
   "outputs": [],
   "execution_count": 22
  },
  {
   "metadata": {
    "ExecuteTime": {
     "end_time": "2024-06-21T09:38:07.533141Z",
     "start_time": "2024-06-21T09:38:07.485242Z"
    }
   },
   "cell_type": "code",
   "source": [
    "def constraint(x):\n",
    "    return sum(x) - 1\n",
    "\n",
    "con = {\"type\": \"eq\", \"fun\": constraint}\n",
    "bounds = [(0, 1) for _ in range(len(tickers))]\n",
    "\n",
    "functional_1 = create_functional_1(annual_stock_price_df)\n",
    "functional_2 = create_functional_2(annual_stock_price_df)\n",
    "\n",
    "minimization_functional_1 = lambda weights: - functional_1(weights)\n",
    "minimization_functional_2 = lambda weights: - functional_2(weights)"
   ],
   "id": "35370bd39812c01f",
   "outputs": [],
   "execution_count": 23
  },
  {
   "metadata": {
    "ExecuteTime": {
     "end_time": "2024-06-21T09:38:07.539564Z",
     "start_time": "2024-06-21T09:38:07.535368Z"
    }
   },
   "cell_type": "code",
   "source": [
    "def generate_random_weights(vector_size):\n",
    "    weights = np.random.rand(vector_size)\n",
    "    weights /= np.sum(weights)\n",
    "    return weights\n",
    "\n",
    "\n",
    "def random_search_for_initial_weights(functional_to_minimize, n_tries, vector_size):\n",
    "    best_func_value = np.inf\n",
    "    for _ in tqdm(range(n_tries)):\n",
    "        weights = generate_random_weights(vector_size)\n",
    "        res = minimize(functional_to_minimize, weights, constraints=con, bounds=bounds)\n",
    "        if res.fun < best_func_value:\n",
    "            best_func_value = res.fun\n",
    "\n",
    "    return best_func_value"
   ],
   "id": "f057fbbbef354548",
   "outputs": [],
   "execution_count": 24
  },
  {
   "metadata": {},
   "cell_type": "markdown",
   "source": "### 3 columns",
   "id": "a128bbd6eee617f4"
  },
  {
   "metadata": {
    "ExecuteTime": {
     "end_time": "2024-06-21T09:38:16.693758Z",
     "start_time": "2024-06-21T09:38:07.540971Z"
    }
   },
   "cell_type": "code",
   "source": [
    "func_1_value = random_search_for_initial_weights(minimization_functional_1, 3, vector_size=len(tickers))\n",
    "print(\"functional_1:\", func_1_value)"
   ],
   "id": "68bdd955bea8f0b2",
   "outputs": [
    {
     "name": "stderr",
     "output_type": "stream",
     "text": [
      "100%|██████████| 3/3 [00:09<00:00,  3.05s/it]"
     ]
    },
    {
     "name": "stdout",
     "output_type": "stream",
     "text": [
      "functional_1: -0.0015352546737217592\n"
     ]
    },
    {
     "name": "stderr",
     "output_type": "stream",
     "text": [
      "\n"
     ]
    }
   ],
   "execution_count": 25
  },
  {
   "metadata": {
    "ExecuteTime": {
     "end_time": "2024-06-21T09:38:21.911445Z",
     "start_time": "2024-06-21T09:38:16.694727Z"
    }
   },
   "cell_type": "code",
   "source": [
    "func_2_value = random_search_for_initial_weights(minimization_functional_2, 3, vector_size=len(tickers))\n",
    "print(\"functional_2:\", func_2_value)"
   ],
   "id": "40f45366f9e46168",
   "outputs": [
    {
     "name": "stderr",
     "output_type": "stream",
     "text": [
      "100%|██████████| 3/3 [00:05<00:00,  1.74s/it]"
     ]
    },
    {
     "name": "stdout",
     "output_type": "stream",
     "text": [
      "functional_2: -0.0015319700277264766\n"
     ]
    },
    {
     "name": "stderr",
     "output_type": "stream",
     "text": [
      "\n"
     ]
    }
   ],
   "execution_count": 26
  },
  {
   "metadata": {},
   "cell_type": "markdown",
   "source": "### 8 columns",
   "id": "2a032a2631856a53"
  },
  {
   "metadata": {
    "ExecuteTime": {
     "end_time": "2024-06-21T09:38:22.040008Z",
     "start_time": "2024-06-21T09:38:21.912349Z"
    }
   },
   "cell_type": "code",
   "source": [
    "tickers = [f\"Ticker_{i}\" for i in range(8)]\n",
    "annual_stock_price_df = pd.DataFrame(np.random.uniform(-10, 10, size=(num_values, len(tickers))), columns=tickers)\n",
    "\n",
    "bounds = [(0, 1) for _ in range(len(tickers))]\n",
    "\n",
    "functional_1 = create_functional_1(annual_stock_price_df)\n",
    "functional_2 = create_functional_2(annual_stock_price_df)\n",
    "\n",
    "minimization_functional_1 = lambda weights: - functional_1(weights)\n",
    "minimization_functional_2 = lambda weights: - functional_2(weights)\n",
    "\n",
    "annual_stock_price_df.head(3)"
   ],
   "id": "415a6258059ae9d",
   "outputs": [
    {
     "data": {
      "text/plain": [
       "   Ticker_0  Ticker_1  Ticker_2  Ticker_3  Ticker_4  Ticker_5  Ticker_6  \\\n",
       "0 -7.464206 -9.024906  1.544249  5.482106  7.712808  3.595739  4.988692   \n",
       "1 -7.033378 -9.351468  1.790498 -5.500424  2.719637  4.911934 -7.674953   \n",
       "2 -1.340068 -0.836213  7.058128  1.481024 -0.306522  7.448163 -4.051039   \n",
       "\n",
       "   Ticker_7  \n",
       "0 -1.706010  \n",
       "1  8.809840  \n",
       "2 -3.930265  "
      ],
      "text/html": [
       "<div>\n",
       "<style scoped>\n",
       "    .dataframe tbody tr th:only-of-type {\n",
       "        vertical-align: middle;\n",
       "    }\n",
       "\n",
       "    .dataframe tbody tr th {\n",
       "        vertical-align: top;\n",
       "    }\n",
       "\n",
       "    .dataframe thead th {\n",
       "        text-align: right;\n",
       "    }\n",
       "</style>\n",
       "<table border=\"1\" class=\"dataframe\">\n",
       "  <thead>\n",
       "    <tr style=\"text-align: right;\">\n",
       "      <th></th>\n",
       "      <th>Ticker_0</th>\n",
       "      <th>Ticker_1</th>\n",
       "      <th>Ticker_2</th>\n",
       "      <th>Ticker_3</th>\n",
       "      <th>Ticker_4</th>\n",
       "      <th>Ticker_5</th>\n",
       "      <th>Ticker_6</th>\n",
       "      <th>Ticker_7</th>\n",
       "    </tr>\n",
       "  </thead>\n",
       "  <tbody>\n",
       "    <tr>\n",
       "      <th>0</th>\n",
       "      <td>-7.464206</td>\n",
       "      <td>-9.024906</td>\n",
       "      <td>1.544249</td>\n",
       "      <td>5.482106</td>\n",
       "      <td>7.712808</td>\n",
       "      <td>3.595739</td>\n",
       "      <td>4.988692</td>\n",
       "      <td>-1.706010</td>\n",
       "    </tr>\n",
       "    <tr>\n",
       "      <th>1</th>\n",
       "      <td>-7.033378</td>\n",
       "      <td>-9.351468</td>\n",
       "      <td>1.790498</td>\n",
       "      <td>-5.500424</td>\n",
       "      <td>2.719637</td>\n",
       "      <td>4.911934</td>\n",
       "      <td>-7.674953</td>\n",
       "      <td>8.809840</td>\n",
       "    </tr>\n",
       "    <tr>\n",
       "      <th>2</th>\n",
       "      <td>-1.340068</td>\n",
       "      <td>-0.836213</td>\n",
       "      <td>7.058128</td>\n",
       "      <td>1.481024</td>\n",
       "      <td>-0.306522</td>\n",
       "      <td>7.448163</td>\n",
       "      <td>-4.051039</td>\n",
       "      <td>-3.930265</td>\n",
       "    </tr>\n",
       "  </tbody>\n",
       "</table>\n",
       "</div>"
      ]
     },
     "execution_count": 27,
     "metadata": {},
     "output_type": "execute_result"
    }
   ],
   "execution_count": 27
  },
  {
   "metadata": {
    "ExecuteTime": {
     "end_time": "2024-06-21T09:39:10.179160Z",
     "start_time": "2024-06-21T09:38:22.040982Z"
    }
   },
   "cell_type": "code",
   "source": [
    "func_1_value = random_search_for_initial_weights(minimization_functional_1, 3, vector_size=len(tickers))\n",
    "print(\"functional_1:\", func_1_value)"
   ],
   "id": "e45ba3db9efc6e18",
   "outputs": [
    {
     "name": "stderr",
     "output_type": "stream",
     "text": [
      "100%|██████████| 3/3 [00:48<00:00, 16.04s/it]"
     ]
    },
    {
     "name": "stdout",
     "output_type": "stream",
     "text": [
      "functional_1: -0.0020886317175286204\n"
     ]
    },
    {
     "name": "stderr",
     "output_type": "stream",
     "text": [
      "\n"
     ]
    }
   ],
   "execution_count": 28
  },
  {
   "metadata": {
    "ExecuteTime": {
     "end_time": "2024-06-21T09:39:54.779909Z",
     "start_time": "2024-06-21T09:39:10.180744Z"
    }
   },
   "cell_type": "code",
   "source": [
    "func_2_value = random_search_for_initial_weights(minimization_functional_2, 3, vector_size=len(tickers))\n",
    "print(\"functional_2:\", func_2_value)"
   ],
   "id": "80ec4d0497494eb0",
   "outputs": [
    {
     "name": "stderr",
     "output_type": "stream",
     "text": [
      "100%|██████████| 3/3 [00:44<00:00, 14.86s/it]"
     ]
    },
    {
     "name": "stdout",
     "output_type": "stream",
     "text": [
      "functional_2: -0.002087380714975811\n"
     ]
    },
    {
     "name": "stderr",
     "output_type": "stream",
     "text": [
      "\n"
     ]
    }
   ],
   "execution_count": 29
  },
  {
   "metadata": {
    "ExecuteTime": {
     "end_time": "2024-06-21T09:39:54.783399Z",
     "start_time": "2024-06-21T09:39:54.781219Z"
    }
   },
   "cell_type": "code",
   "source": "",
   "id": "a0e8717767bf2b7d",
   "outputs": [],
   "execution_count": 29
  }
 ],
 "metadata": {
  "kernelspec": {
   "display_name": "Python 3",
   "language": "python",
   "name": "python3"
  },
  "language_info": {
   "codemirror_mode": {
    "name": "ipython",
    "version": 2
   },
   "file_extension": ".py",
   "mimetype": "text/x-python",
   "name": "python",
   "nbconvert_exporter": "python",
   "pygments_lexer": "ipython2",
   "version": "2.7.6"
  }
 },
 "nbformat": 4,
 "nbformat_minor": 5
}
