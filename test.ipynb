{
 "cells": [
  {
   "cell_type": "code",
   "execution_count": null,
   "metadata": {
    "id": "H0YvrcSlLCN6"
   },
   "outputs": [],
   "source": [
    "#!pip install yfinance"
   ]
  },
  {
   "cell_type": "markdown",
   "metadata": {
    "id": "nGHoZaekti8x"
   },
   "source": [
    "# Invest Portfolio\n",
    "\n",
    "Ivan has a large amout of money, and he starts to think how to invest this money to gain maximum profit.\n",
    "He chooses 10 candidate companies for that, but since Ivan is new in investing he needs your advice. In this notebook we will help Ivan in his journey.      "
   ]
  },
  {
   "cell_type": "code",
   "metadata": {
    "id": "Q4Bb4CnltieX",
    "ExecuteTime": {
     "end_time": "2024-06-15T15:21:12.772560Z",
     "start_time": "2024-06-15T15:21:12.769837Z"
    }
   },
   "source": [
    "# 10 companies to consider, key - ticker name, value -  short description.\n",
    "tickers = {\n",
    "    \"BA\": \"The Boeing Company\",\n",
    "    \"MCD\": \"McDonald's Corporation\",\n",
    "    \"GOOGL\": \"Google Company\",\n",
    "    \"DIS\": \"The Walt Disney Company\",\n",
    "    \"PFE\": \"Pfizer Inc.\",\n",
    "    \"AMT\": \"American Tower Corporation\",\n",
    "    \"VOD\": \"Vodafone Group Public Limited Company\",\n",
    "    \"BNP.PA\": \"BNP Paribas Bank\",\n",
    "    \"ADS.DE\": \"Adidas\",\n",
    "    \"TM\": \"Toyota Motor Corporation\",\n",
    "}\n"
   ],
   "outputs": [],
   "execution_count": 2
  },
  {
   "cell_type": "markdown",
   "metadata": {
    "id": "y34glVQeu3uA"
   },
   "source": [
    "## Task 1 Download and preprocess data\n",
    "\n",
    "We will use data from 2010 till 2021 for training and data from 2021 till 2024  for testing purpose.\n",
    "\n"
   ]
  },
  {
   "cell_type": "code",
   "metadata": {
    "id": "mlYQS9fZwBtX",
    "ExecuteTime": {
     "end_time": "2024-06-15T15:22:13.267795Z",
     "start_time": "2024-06-15T15:22:13.263617Z"
    }
   },
   "source": [
    "start_train_date = \"2010-01-01\"\n",
    "end_train_date = \"2021-01-01\"\n",
    "start_test_date = \"2021-01-01\"\n",
    "end_test_date = \"2024-01-01\""
   ],
   "outputs": [],
   "execution_count": 22
  },
  {
   "cell_type": "markdown",
   "metadata": {
    "id": "W2PQtKLRwAzw"
   },
   "source": [
    "Write a function that takes ticker name, start and end dates and returns pandas series of annual stock prices.\n",
    "\n"
   ]
  },
  {
   "metadata": {
    "ExecuteTime": {
     "end_time": "2024-06-15T16:12:44.580022Z",
     "start_time": "2024-06-15T16:12:44.577432Z"
    }
   },
   "cell_type": "code",
   "source": [
    "import yfinance as yf\n",
    "import pandas as pd"
   ],
   "outputs": [],
   "execution_count": 109
  },
  {
   "metadata": {
    "ExecuteTime": {
     "end_time": "2024-06-15T16:08:00.084292Z",
     "start_time": "2024-06-15T16:07:59.921997Z"
    }
   },
   "cell_type": "code",
   "source": [
    "data = yf.download(list(tickers.keys()), start=\"2010-01-01\", end=\"2021-01-01\", interval=\"1mo\", progress=False)[\"Open\"][::12]\n",
    "data"
   ],
   "outputs": [
    {
     "data": {
      "text/plain": [
       "Ticker          ADS.DE         AMT          BA     BNP.PA         DIS  \\\n",
       "Date                                                                    \n",
       "2010-01-01   37.770000   43.490002   55.720001  55.900002   32.500000   \n",
       "2011-01-01   49.279999   51.910000   66.150002  48.299999   37.740002   \n",
       "2012-01-01   49.509998   60.450001   74.699997  30.450001   37.970001   \n",
       "2013-01-01   67.330002   78.389999   76.550003  42.584999   50.799999   \n",
       "2014-01-01   92.639999   79.510002  136.009995  56.650002   76.040001   \n",
       "2015-01-01   57.619999   99.160004  131.070007  49.259998   94.910004   \n",
       "2016-01-01   89.910004   96.290001  141.380005  52.590000  103.120003   \n",
       "2017-01-01  149.750000  106.730003  156.300003  60.119999  105.300003   \n",
       "2018-01-01  167.149994  143.160004  295.750000  62.250000  108.949997   \n",
       "2019-01-01  182.399994  157.110001  316.190002  39.474998  108.099998   \n",
       "2020-01-01  289.799988  229.679993  328.549988  52.830002  145.289993   \n",
       "\n",
       "Ticker          GOOGL         MCD        PFE          TM        VOD  \n",
       "Date                                                                 \n",
       "2010-01-01  15.689439   62.630001  17.333965   84.750000  23.649338  \n",
       "2011-01-01  14.926927   77.099998  16.793169   79.019997  26.941896  \n",
       "2012-01-01  16.339840  101.330002  20.740038   67.389999  28.695210  \n",
       "2013-01-01  18.003504   89.400002  24.222012   94.779999  26.258919  \n",
       "2014-01-01  27.914413   96.809998  28.908918  121.599998  39.755352  \n",
       "2015-01-01  26.629999   94.129997  29.667933  126.230003  34.080002  \n",
       "2016-01-01  38.110001  117.250000  30.218216  121.519997  32.119999  \n",
       "2017-01-01  40.030998  121.860001  31.024668  118.169998  24.840000  \n",
       "2018-01-01  52.651001  173.729996  34.516129  127.430000  32.160000  \n",
       "2019-01-01  51.360001  175.410004  40.910816  114.680000  19.299999  \n",
       "2020-01-01  67.420502  198.000000  37.286530  142.000000  19.379999  "
      ],
      "text/html": [
       "<div>\n",
       "<style scoped>\n",
       "    .dataframe tbody tr th:only-of-type {\n",
       "        vertical-align: middle;\n",
       "    }\n",
       "\n",
       "    .dataframe tbody tr th {\n",
       "        vertical-align: top;\n",
       "    }\n",
       "\n",
       "    .dataframe thead th {\n",
       "        text-align: right;\n",
       "    }\n",
       "</style>\n",
       "<table border=\"1\" class=\"dataframe\">\n",
       "  <thead>\n",
       "    <tr style=\"text-align: right;\">\n",
       "      <th>Ticker</th>\n",
       "      <th>ADS.DE</th>\n",
       "      <th>AMT</th>\n",
       "      <th>BA</th>\n",
       "      <th>BNP.PA</th>\n",
       "      <th>DIS</th>\n",
       "      <th>GOOGL</th>\n",
       "      <th>MCD</th>\n",
       "      <th>PFE</th>\n",
       "      <th>TM</th>\n",
       "      <th>VOD</th>\n",
       "    </tr>\n",
       "    <tr>\n",
       "      <th>Date</th>\n",
       "      <th></th>\n",
       "      <th></th>\n",
       "      <th></th>\n",
       "      <th></th>\n",
       "      <th></th>\n",
       "      <th></th>\n",
       "      <th></th>\n",
       "      <th></th>\n",
       "      <th></th>\n",
       "      <th></th>\n",
       "    </tr>\n",
       "  </thead>\n",
       "  <tbody>\n",
       "    <tr>\n",
       "      <th>2010-01-01</th>\n",
       "      <td>37.770000</td>\n",
       "      <td>43.490002</td>\n",
       "      <td>55.720001</td>\n",
       "      <td>55.900002</td>\n",
       "      <td>32.500000</td>\n",
       "      <td>15.689439</td>\n",
       "      <td>62.630001</td>\n",
       "      <td>17.333965</td>\n",
       "      <td>84.750000</td>\n",
       "      <td>23.649338</td>\n",
       "    </tr>\n",
       "    <tr>\n",
       "      <th>2011-01-01</th>\n",
       "      <td>49.279999</td>\n",
       "      <td>51.910000</td>\n",
       "      <td>66.150002</td>\n",
       "      <td>48.299999</td>\n",
       "      <td>37.740002</td>\n",
       "      <td>14.926927</td>\n",
       "      <td>77.099998</td>\n",
       "      <td>16.793169</td>\n",
       "      <td>79.019997</td>\n",
       "      <td>26.941896</td>\n",
       "    </tr>\n",
       "    <tr>\n",
       "      <th>2012-01-01</th>\n",
       "      <td>49.509998</td>\n",
       "      <td>60.450001</td>\n",
       "      <td>74.699997</td>\n",
       "      <td>30.450001</td>\n",
       "      <td>37.970001</td>\n",
       "      <td>16.339840</td>\n",
       "      <td>101.330002</td>\n",
       "      <td>20.740038</td>\n",
       "      <td>67.389999</td>\n",
       "      <td>28.695210</td>\n",
       "    </tr>\n",
       "    <tr>\n",
       "      <th>2013-01-01</th>\n",
       "      <td>67.330002</td>\n",
       "      <td>78.389999</td>\n",
       "      <td>76.550003</td>\n",
       "      <td>42.584999</td>\n",
       "      <td>50.799999</td>\n",
       "      <td>18.003504</td>\n",
       "      <td>89.400002</td>\n",
       "      <td>24.222012</td>\n",
       "      <td>94.779999</td>\n",
       "      <td>26.258919</td>\n",
       "    </tr>\n",
       "    <tr>\n",
       "      <th>2014-01-01</th>\n",
       "      <td>92.639999</td>\n",
       "      <td>79.510002</td>\n",
       "      <td>136.009995</td>\n",
       "      <td>56.650002</td>\n",
       "      <td>76.040001</td>\n",
       "      <td>27.914413</td>\n",
       "      <td>96.809998</td>\n",
       "      <td>28.908918</td>\n",
       "      <td>121.599998</td>\n",
       "      <td>39.755352</td>\n",
       "    </tr>\n",
       "    <tr>\n",
       "      <th>2015-01-01</th>\n",
       "      <td>57.619999</td>\n",
       "      <td>99.160004</td>\n",
       "      <td>131.070007</td>\n",
       "      <td>49.259998</td>\n",
       "      <td>94.910004</td>\n",
       "      <td>26.629999</td>\n",
       "      <td>94.129997</td>\n",
       "      <td>29.667933</td>\n",
       "      <td>126.230003</td>\n",
       "      <td>34.080002</td>\n",
       "    </tr>\n",
       "    <tr>\n",
       "      <th>2016-01-01</th>\n",
       "      <td>89.910004</td>\n",
       "      <td>96.290001</td>\n",
       "      <td>141.380005</td>\n",
       "      <td>52.590000</td>\n",
       "      <td>103.120003</td>\n",
       "      <td>38.110001</td>\n",
       "      <td>117.250000</td>\n",
       "      <td>30.218216</td>\n",
       "      <td>121.519997</td>\n",
       "      <td>32.119999</td>\n",
       "    </tr>\n",
       "    <tr>\n",
       "      <th>2017-01-01</th>\n",
       "      <td>149.750000</td>\n",
       "      <td>106.730003</td>\n",
       "      <td>156.300003</td>\n",
       "      <td>60.119999</td>\n",
       "      <td>105.300003</td>\n",
       "      <td>40.030998</td>\n",
       "      <td>121.860001</td>\n",
       "      <td>31.024668</td>\n",
       "      <td>118.169998</td>\n",
       "      <td>24.840000</td>\n",
       "    </tr>\n",
       "    <tr>\n",
       "      <th>2018-01-01</th>\n",
       "      <td>167.149994</td>\n",
       "      <td>143.160004</td>\n",
       "      <td>295.750000</td>\n",
       "      <td>62.250000</td>\n",
       "      <td>108.949997</td>\n",
       "      <td>52.651001</td>\n",
       "      <td>173.729996</td>\n",
       "      <td>34.516129</td>\n",
       "      <td>127.430000</td>\n",
       "      <td>32.160000</td>\n",
       "    </tr>\n",
       "    <tr>\n",
       "      <th>2019-01-01</th>\n",
       "      <td>182.399994</td>\n",
       "      <td>157.110001</td>\n",
       "      <td>316.190002</td>\n",
       "      <td>39.474998</td>\n",
       "      <td>108.099998</td>\n",
       "      <td>51.360001</td>\n",
       "      <td>175.410004</td>\n",
       "      <td>40.910816</td>\n",
       "      <td>114.680000</td>\n",
       "      <td>19.299999</td>\n",
       "    </tr>\n",
       "    <tr>\n",
       "      <th>2020-01-01</th>\n",
       "      <td>289.799988</td>\n",
       "      <td>229.679993</td>\n",
       "      <td>328.549988</td>\n",
       "      <td>52.830002</td>\n",
       "      <td>145.289993</td>\n",
       "      <td>67.420502</td>\n",
       "      <td>198.000000</td>\n",
       "      <td>37.286530</td>\n",
       "      <td>142.000000</td>\n",
       "      <td>19.379999</td>\n",
       "    </tr>\n",
       "  </tbody>\n",
       "</table>\n",
       "</div>"
      ]
     },
     "execution_count": 103,
     "metadata": {},
     "output_type": "execute_result"
    }
   ],
   "execution_count": 103
  },
  {
   "metadata": {
    "ExecuteTime": {
     "end_time": "2024-06-15T16:09:34.043339Z",
     "start_time": "2024-06-15T16:09:34.032799Z"
    }
   },
   "cell_type": "code",
   "source": [
    "diff_df = data.diff(1)[1:]\n",
    "diff_df.div(data.iloc[0])"
   ],
   "outputs": [
    {
     "data": {
      "text/plain": [
       "Ticker        ADS.DE       AMT        BA    BNP.PA       DIS     GOOGL  \\\n",
       "Date                                                                     \n",
       "2011-01-01  0.304739  0.193608  0.187186 -0.135957  0.161231 -0.048600   \n",
       "2012-01-01  0.006089  0.196367  0.153446 -0.319320  0.007077  0.090055   \n",
       "2013-01-01  0.471803  0.412509  0.033202  0.217084  0.394769  0.106037   \n",
       "2014-01-01  0.670108  0.025753  1.067121  0.251610  0.776615  0.631693   \n",
       "2015-01-01 -0.927191  0.451828 -0.088657 -0.132200  0.580615 -0.081865   \n",
       "2016-01-01  0.854911 -0.065992  0.185032  0.059571  0.252615  0.731702   \n",
       "2017-01-01  1.584326  0.240055  0.267767  0.134705  0.067077  0.122439   \n",
       "2018-01-01  0.460683  0.837664  2.502692  0.038104  0.112308  0.804363   \n",
       "2019-01-01  0.403760  0.320763  0.366834 -0.407424 -0.026154 -0.082285   \n",
       "2020-01-01  2.843526  1.668659  0.221823  0.238909  1.144308  1.023650   \n",
       "\n",
       "Ticker           MCD       PFE        TM       VOD  \n",
       "Date                                                \n",
       "2011-01-01  0.231039 -0.031199 -0.067611  0.139224  \n",
       "2012-01-01  0.386875  0.227696 -0.137227  0.074138  \n",
       "2013-01-01 -0.190484  0.200876  0.323186 -0.103017  \n",
       "2014-01-01  0.118314  0.270389  0.316460  0.570690  \n",
       "2015-01-01 -0.042791  0.043788  0.054631 -0.239979  \n",
       "2016-01-01  0.369152  0.031746 -0.055575 -0.082878  \n",
       "2017-01-01  0.073607  0.046524 -0.039528 -0.307831  \n",
       "2018-01-01  0.828197  0.201423  0.109263  0.309522  \n",
       "2019-01-01  0.026824  0.368911 -0.150442 -0.543778  \n",
       "2020-01-01  0.360690 -0.209086  0.322360  0.003383  "
      ],
      "text/html": [
       "<div>\n",
       "<style scoped>\n",
       "    .dataframe tbody tr th:only-of-type {\n",
       "        vertical-align: middle;\n",
       "    }\n",
       "\n",
       "    .dataframe tbody tr th {\n",
       "        vertical-align: top;\n",
       "    }\n",
       "\n",
       "    .dataframe thead th {\n",
       "        text-align: right;\n",
       "    }\n",
       "</style>\n",
       "<table border=\"1\" class=\"dataframe\">\n",
       "  <thead>\n",
       "    <tr style=\"text-align: right;\">\n",
       "      <th>Ticker</th>\n",
       "      <th>ADS.DE</th>\n",
       "      <th>AMT</th>\n",
       "      <th>BA</th>\n",
       "      <th>BNP.PA</th>\n",
       "      <th>DIS</th>\n",
       "      <th>GOOGL</th>\n",
       "      <th>MCD</th>\n",
       "      <th>PFE</th>\n",
       "      <th>TM</th>\n",
       "      <th>VOD</th>\n",
       "    </tr>\n",
       "    <tr>\n",
       "      <th>Date</th>\n",
       "      <th></th>\n",
       "      <th></th>\n",
       "      <th></th>\n",
       "      <th></th>\n",
       "      <th></th>\n",
       "      <th></th>\n",
       "      <th></th>\n",
       "      <th></th>\n",
       "      <th></th>\n",
       "      <th></th>\n",
       "    </tr>\n",
       "  </thead>\n",
       "  <tbody>\n",
       "    <tr>\n",
       "      <th>2011-01-01</th>\n",
       "      <td>0.304739</td>\n",
       "      <td>0.193608</td>\n",
       "      <td>0.187186</td>\n",
       "      <td>-0.135957</td>\n",
       "      <td>0.161231</td>\n",
       "      <td>-0.048600</td>\n",
       "      <td>0.231039</td>\n",
       "      <td>-0.031199</td>\n",
       "      <td>-0.067611</td>\n",
       "      <td>0.139224</td>\n",
       "    </tr>\n",
       "    <tr>\n",
       "      <th>2012-01-01</th>\n",
       "      <td>0.006089</td>\n",
       "      <td>0.196367</td>\n",
       "      <td>0.153446</td>\n",
       "      <td>-0.319320</td>\n",
       "      <td>0.007077</td>\n",
       "      <td>0.090055</td>\n",
       "      <td>0.386875</td>\n",
       "      <td>0.227696</td>\n",
       "      <td>-0.137227</td>\n",
       "      <td>0.074138</td>\n",
       "    </tr>\n",
       "    <tr>\n",
       "      <th>2013-01-01</th>\n",
       "      <td>0.471803</td>\n",
       "      <td>0.412509</td>\n",
       "      <td>0.033202</td>\n",
       "      <td>0.217084</td>\n",
       "      <td>0.394769</td>\n",
       "      <td>0.106037</td>\n",
       "      <td>-0.190484</td>\n",
       "      <td>0.200876</td>\n",
       "      <td>0.323186</td>\n",
       "      <td>-0.103017</td>\n",
       "    </tr>\n",
       "    <tr>\n",
       "      <th>2014-01-01</th>\n",
       "      <td>0.670108</td>\n",
       "      <td>0.025753</td>\n",
       "      <td>1.067121</td>\n",
       "      <td>0.251610</td>\n",
       "      <td>0.776615</td>\n",
       "      <td>0.631693</td>\n",
       "      <td>0.118314</td>\n",
       "      <td>0.270389</td>\n",
       "      <td>0.316460</td>\n",
       "      <td>0.570690</td>\n",
       "    </tr>\n",
       "    <tr>\n",
       "      <th>2015-01-01</th>\n",
       "      <td>-0.927191</td>\n",
       "      <td>0.451828</td>\n",
       "      <td>-0.088657</td>\n",
       "      <td>-0.132200</td>\n",
       "      <td>0.580615</td>\n",
       "      <td>-0.081865</td>\n",
       "      <td>-0.042791</td>\n",
       "      <td>0.043788</td>\n",
       "      <td>0.054631</td>\n",
       "      <td>-0.239979</td>\n",
       "    </tr>\n",
       "    <tr>\n",
       "      <th>2016-01-01</th>\n",
       "      <td>0.854911</td>\n",
       "      <td>-0.065992</td>\n",
       "      <td>0.185032</td>\n",
       "      <td>0.059571</td>\n",
       "      <td>0.252615</td>\n",
       "      <td>0.731702</td>\n",
       "      <td>0.369152</td>\n",
       "      <td>0.031746</td>\n",
       "      <td>-0.055575</td>\n",
       "      <td>-0.082878</td>\n",
       "    </tr>\n",
       "    <tr>\n",
       "      <th>2017-01-01</th>\n",
       "      <td>1.584326</td>\n",
       "      <td>0.240055</td>\n",
       "      <td>0.267767</td>\n",
       "      <td>0.134705</td>\n",
       "      <td>0.067077</td>\n",
       "      <td>0.122439</td>\n",
       "      <td>0.073607</td>\n",
       "      <td>0.046524</td>\n",
       "      <td>-0.039528</td>\n",
       "      <td>-0.307831</td>\n",
       "    </tr>\n",
       "    <tr>\n",
       "      <th>2018-01-01</th>\n",
       "      <td>0.460683</td>\n",
       "      <td>0.837664</td>\n",
       "      <td>2.502692</td>\n",
       "      <td>0.038104</td>\n",
       "      <td>0.112308</td>\n",
       "      <td>0.804363</td>\n",
       "      <td>0.828197</td>\n",
       "      <td>0.201423</td>\n",
       "      <td>0.109263</td>\n",
       "      <td>0.309522</td>\n",
       "    </tr>\n",
       "    <tr>\n",
       "      <th>2019-01-01</th>\n",
       "      <td>0.403760</td>\n",
       "      <td>0.320763</td>\n",
       "      <td>0.366834</td>\n",
       "      <td>-0.407424</td>\n",
       "      <td>-0.026154</td>\n",
       "      <td>-0.082285</td>\n",
       "      <td>0.026824</td>\n",
       "      <td>0.368911</td>\n",
       "      <td>-0.150442</td>\n",
       "      <td>-0.543778</td>\n",
       "    </tr>\n",
       "    <tr>\n",
       "      <th>2020-01-01</th>\n",
       "      <td>2.843526</td>\n",
       "      <td>1.668659</td>\n",
       "      <td>0.221823</td>\n",
       "      <td>0.238909</td>\n",
       "      <td>1.144308</td>\n",
       "      <td>1.023650</td>\n",
       "      <td>0.360690</td>\n",
       "      <td>-0.209086</td>\n",
       "      <td>0.322360</td>\n",
       "      <td>0.003383</td>\n",
       "    </tr>\n",
       "  </tbody>\n",
       "</table>\n",
       "</div>"
      ]
     },
     "execution_count": 108,
     "metadata": {},
     "output_type": "execute_result"
    }
   ],
   "execution_count": 108
  },
  {
   "metadata": {
    "ExecuteTime": {
     "end_time": "2024-06-15T16:15:02.986001Z",
     "start_time": "2024-06-15T16:15:02.979342Z"
    }
   },
   "cell_type": "code",
   "source": [
    "test_df = pd.DataFrame({\n",
    "    \"ticker_1\": [1, 3, 2, 5],\n",
    "    \"ticker_2\": [10, 15, 12, 13],\n",
    "})\n",
    "\n",
    "test_diff_df = test_df.diff(1)[1:]\n",
    "test_diff_df.div(test_df.iloc[0])"
   ],
   "outputs": [
    {
     "data": {
      "text/plain": [
       "   ticker_1  ticker_2\n",
       "1       2.0       0.5\n",
       "2      -1.0      -0.3\n",
       "3       3.0       0.1"
      ],
      "text/html": [
       "<div>\n",
       "<style scoped>\n",
       "    .dataframe tbody tr th:only-of-type {\n",
       "        vertical-align: middle;\n",
       "    }\n",
       "\n",
       "    .dataframe tbody tr th {\n",
       "        vertical-align: top;\n",
       "    }\n",
       "\n",
       "    .dataframe thead th {\n",
       "        text-align: right;\n",
       "    }\n",
       "</style>\n",
       "<table border=\"1\" class=\"dataframe\">\n",
       "  <thead>\n",
       "    <tr style=\"text-align: right;\">\n",
       "      <th></th>\n",
       "      <th>ticker_1</th>\n",
       "      <th>ticker_2</th>\n",
       "    </tr>\n",
       "  </thead>\n",
       "  <tbody>\n",
       "    <tr>\n",
       "      <th>1</th>\n",
       "      <td>2.0</td>\n",
       "      <td>0.5</td>\n",
       "    </tr>\n",
       "    <tr>\n",
       "      <th>2</th>\n",
       "      <td>-1.0</td>\n",
       "      <td>-0.3</td>\n",
       "    </tr>\n",
       "    <tr>\n",
       "      <th>3</th>\n",
       "      <td>3.0</td>\n",
       "      <td>0.1</td>\n",
       "    </tr>\n",
       "  </tbody>\n",
       "</table>\n",
       "</div>"
      ]
     },
     "execution_count": 112,
     "metadata": {},
     "output_type": "execute_result"
    }
   ],
   "execution_count": 112
  },
  {
   "cell_type": "code",
   "metadata": {
    "colab": {
     "base_uri": "https://localhost:8080/"
    },
    "id": "ksDOBQI5JkO0",
    "outputId": "de100184-ded4-475e-d3c0-d5e8433c5a92",
    "ExecuteTime": {
     "end_time": "2024-06-15T15:45:31.238926Z",
     "start_time": "2024-06-15T15:45:31.093588Z"
    }
   },
   "source": [
    "import yfinance as yf\n",
    "\n",
    "import numpy as np\n",
    "\n",
    "\n",
    "def download_annual_stock_price(ticker, buy_date=\"2010-01-01\", sell_date=\"2021-01-01\"):\n",
    "    \"\"\"Download the annual stock price using yf.download\"\"\"\n",
    "    data = yf.download(ticker, start=buy_date, end=sell_date, interval=\"1mo\", progress=False)[::12]\n",
    "    return data[\"Open\"].values\n",
    "\n",
    "\n",
    "annual_stock_price = {\n",
    "    ticker: download_annual_stock_price(ticker, start_train_date, end_train_date)\n",
    "    for ticker in tickers\n",
    "}\n",
    "annual_stock_price[\"BNP.PA\"]"
   ],
   "outputs": [
    {
     "data": {
      "text/plain": [
       "array([55.90000153, 48.29999924, 30.45000076, 42.58499908, 56.65000153,\n",
       "       49.25999832, 52.59000015, 60.11999893, 62.25      , 39.47499847,\n",
       "       52.83000183])"
      ]
     },
     "execution_count": 83,
     "metadata": {},
     "output_type": "execute_result"
    }
   ],
   "execution_count": 83
  },
  {
   "metadata": {
    "ExecuteTime": {
     "end_time": "2024-06-15T15:45:32.784783Z",
     "start_time": "2024-06-15T15:45:32.749420Z"
    }
   },
   "cell_type": "code",
   "source": "download_annual_stock_price([\"AAPL\"], \"2010-01-01\", end_train_date)",
   "outputs": [
    {
     "data": {
      "text/plain": [
       "array([ 7.62249994, 11.63000011, 14.62142944, 19.77928543, 19.84571457,\n",
       "       27.84749985, 25.65250015, 28.95000076, 42.54000092, 38.72249985,\n",
       "       74.05999756])"
      ]
     },
     "execution_count": 84,
     "metadata": {},
     "output_type": "execute_result"
    }
   ],
   "execution_count": 84
  },
  {
   "cell_type": "markdown",
   "metadata": {
    "id": "v79kFkoC3M4M"
   },
   "source": [
    "\n",
    "Let's define $\\xi_i$ as random variable equals annual return ratio of the $\\text{stock}_i$  relative to the buying price.\n",
    "\n",
    "Convert annual stock price to annual return ratio considering that we've bought stock at moment $t=0$.\n",
    "i.e. if the annoaul stock prices are $(10, 15, 12, 13)$,\n",
    " annual return ratio will be $(0.5, -0.3, 0.1)$"
   ]
  },
  {
   "cell_type": "code",
   "metadata": {
    "id": "3jAAyrPY4EaZ",
    "ExecuteTime": {
     "end_time": "2024-06-15T15:45:38.015564Z",
     "start_time": "2024-06-15T15:45:38.011259Z"
    }
   },
   "source": [
    "def get_annual_return_ratio_from_initial(annual_stock_prices):\n",
    "    annual_ratio = (annual_stock_prices[1:] - annual_stock_prices[:-1]) / annual_stock_prices[0]\n",
    "    return annual_ratio\n",
    "\n",
    "\n",
    "test_annual_return_ratio = get_annual_return_ratio_from_initial(np.array([1, 3, 2]))\n",
    "assert np.all(test_annual_return_ratio == np.array([2.0, -1.0]))\n",
    "\n",
    "test_annual_return_ratio = get_annual_return_ratio_from_initial(np.array([10, 15, 12, 13]))\n",
    "assert np.all(test_annual_return_ratio == np.array([0.5, -0.3, 0.1]))\n",
    "\n",
    "annual_return_ratio = {\n",
    "    ticker: get_annual_return_ratio_from_initial(values)\n",
    "    for ticker, values in annual_stock_price.items()\n",
    "}"
   ],
   "outputs": [],
   "execution_count": 85
  },
  {
   "cell_type": "markdown",
   "metadata": {
    "id": "xh6okIqF-uRM"
   },
   "source": [
    "## Task 2 Simple approach\n",
    "\n",
    "Let's invest all money in most profitable company but for that we need to calculate $E\\xi_i$ first.\n",
    "\n",
    "We can calculate this value from company annual return ratio and from stock price. Let's do both to make sure that we do everything right."
   ]
  },
  {
   "cell_type": "code",
   "metadata": {
    "id": "AbV7TseO-tmB",
    "ExecuteTime": {
     "end_time": "2024-06-15T15:45:39.042113Z",
     "start_time": "2024-06-15T15:45:39.035625Z"
    }
   },
   "source": [
    "eps = 1e-7\n",
    "\n",
    "\n",
    "def get_expectation_ratio_from_return_ratio(ticker_return_ratio):\n",
    "    return np.mean(ticker_return_ratio)\n",
    "\n",
    "\n",
    "def get_expectation_ratio_from_stock_price(ticker_stock_price):\n",
    "    pct_price_change = (ticker_stock_price[-1] / ticker_stock_price[0]) - 1\n",
    "    return pct_price_change / (len(ticker_stock_price) - 1)\n",
    "\n",
    "\n",
    "for ticker in tickers:\n",
    "    expectation_ratio_1 = get_expectation_ratio_from_return_ratio(annual_return_ratio[ticker])\n",
    "    expectation_ratio_2 = get_expectation_ratio_from_stock_price(annual_stock_price[ticker])\n",
    "    assert abs(expectation_ratio_1 - expectation_ratio_2) < eps\n"
   ],
   "outputs": [],
   "execution_count": 86
  },
  {
   "cell_type": "markdown",
   "metadata": {
    "id": "omc4-0pSDp6R"
   },
   "source": [
    "Looks like we are ready to implement our greedy approach:\n",
    "\n",
    "$$ \\text{company-to-invest} = \\max_i E \\xi_i $$\n",
    "\n",
    "Let's implement this approach having tickers and dates of buying and selling:"
   ]
  },
  {
   "cell_type": "code",
   "metadata": {
    "colab": {
     "base_uri": "https://localhost:8080/"
    },
    "id": "CZHI9hQTGRaG",
    "outputId": "e182e14a-137a-43de-fb0b-ffb8fd77833e",
    "ExecuteTime": {
     "end_time": "2024-06-15T15:45:39.919910Z",
     "start_time": "2024-06-15T15:45:39.869910Z"
    }
   },
   "source": [
    "def get_expectation_ratio_for_greedy_performance(ticker, buy_date, sell_date):\n",
    "    ticker_prices = download_annual_stock_price(ticker, buy_date, sell_date)\n",
    "    return get_expectation_ratio_from_stock_price(ticker_prices)\n",
    "\n",
    "\n",
    "def find_ticker_for_greedy_selection(tickers, buy_date, sell_date):\n",
    "    max_expectation_ration = -float(\"INF\")\n",
    "    company_to_invest = \"\"\n",
    "    for ticker in tickers:\n",
    "        expectation_ratio = get_expectation_ratio_for_greedy_performance(ticker, buy_date, sell_date)\n",
    "        if expectation_ratio > max_expectation_ration:\n",
    "            max_expectation_ration = expectation_ratio\n",
    "            company_to_invest = ticker\n",
    "    return company_to_invest\n",
    "\n",
    "\n",
    "assert 0.8 < get_expectation_ratio_for_greedy_performance(\"AAPL\", start_train_date, end_train_date) < 0.9"
   ],
   "outputs": [],
   "execution_count": 87
  },
  {
   "cell_type": "code",
   "metadata": {
    "colab": {
     "base_uri": "https://localhost:8080/"
    },
    "id": "w-QC99MWJbrF",
    "outputId": "5224e3d0-b1fa-4bc7-958a-c2adde2d74e4",
    "ExecuteTime": {
     "end_time": "2024-06-15T15:45:40.964829Z",
     "start_time": "2024-06-15T15:45:40.437108Z"
    }
   },
   "source": [
    "best_greedy_ticker = find_ticker_for_greedy_selection(tickers, start_train_date, end_train_date)\n",
    "greedy_ticker_train_performance = get_expectation_ratio_for_greedy_performance(\n",
    "    best_greedy_ticker, start_train_date, end_train_date\n",
    ")\n",
    "greedy_ticker_test_performance = get_expectation_ratio_for_greedy_performance(\n",
    "    best_greedy_ticker, start_test_date, end_test_date\n",
    ")\n",
    "print(f\"\\n ticker to invest in greedy approach: {best_greedy_ticker}\")\n",
    "print(f\"Train expectation ratio: {greedy_ticker_train_performance}\")\n",
    "print(f\"Test expectation ratio: {greedy_ticker_test_performance}\")\n"
   ],
   "outputs": [
    {
     "name": "stdout",
     "output_type": "stream",
     "text": [
      "\n",
      " ticker to invest in greedy approach: ADS.DE\n",
      "Train expectation ratio: 0.6672755739493247\n",
      "Test expectation ratio: -0.2845921467482695\n"
     ]
    }
   ],
   "execution_count": 88
  },
  {
   "cell_type": "markdown",
   "metadata": {
    "id": "xwCsC8JNLtxY"
   },
   "source": [
    "Looks like our greedy method is not very helpful."
   ]
  },
  {
   "cell_type": "markdown",
   "metadata": {
    "id": "wt2gIPYzL1-_"
   },
   "source": [
    "## Task 3 Variance\n",
    "\n",
    "If stock has big variance it means that investor cannot be sure about the future. What is the variance in our case?\n",
    "\n",
    "Your task is to find $D\\xi_i$"
   ]
  },
  {
   "cell_type": "code",
   "metadata": {
    "colab": {
     "base_uri": "https://localhost:8080/"
    },
    "id": "f7a4Y2rJv73Y",
    "outputId": "a232b717-7790-4854-9151-07dcec9e245c",
    "ExecuteTime": {
     "end_time": "2024-06-15T15:45:42.237522Z",
     "start_time": "2024-06-15T15:45:42.198569Z"
    }
   },
   "source": [
    "def get_variance_from_return_ratio(ticker_return_ratio):\n",
    "    return np.var(ticker_return_ratio, ddof=0)\n",
    "\n",
    "\n",
    "def get_ticker_variance(ticker, buy_date, sell_date):\n",
    "    ticker_prices = download_annual_stock_price(ticker, buy_date, sell_date)\n",
    "    return_ratio = get_annual_return_ratio_from_initial(ticker_prices)\n",
    "    return get_variance_from_return_ratio(return_ratio)\n",
    "\n",
    "\n",
    "assert 1.9 < get_ticker_variance(\"AAPL\", start_train_date, end_train_date) < 2.0"
   ],
   "outputs": [],
   "execution_count": 89
  },
  {
   "cell_type": "markdown",
   "metadata": {
    "id": "nz0AlqjmwZa_"
   },
   "source": [
    "Then let's reformulate our task, we will select stock to invest by maximizing the following:\n",
    "\n",
    "$$\\text{company-to-invest} = \\max_i \\left( \\frac{E\\xi_i} {\\sqrt{ D\\xi_i}} \\right)$$"
   ]
  },
  {
   "cell_type": "code",
   "metadata": {
    "id": "rj2zGS0Mv75V",
    "ExecuteTime": {
     "end_time": "2024-06-15T15:45:43.264893Z",
     "start_time": "2024-06-15T15:45:43.261822Z"
    }
   },
   "source": [
    "def find_ticker_for_max_expectation_divided_by_var(tickers, buy_date, sell_date):\n",
    "    max_expect_div_by_var = -float(\"INF\")\n",
    "    company_to_invest = \"\"\n",
    "    for ticker in tickers:\n",
    "        expectation_ratio = get_expectation_ratio_for_greedy_performance(ticker, buy_date, sell_date)\n",
    "        var = get_ticker_variance(ticker, buy_date, sell_date)\n",
    "        expect_div_by_var = expectation_ratio / np.sqrt(var)\n",
    "        if expect_div_by_var > max_expect_div_by_var:\n",
    "            max_expect_div_by_var = expect_div_by_var\n",
    "            company_to_invest = ticker\n",
    "    return company_to_invest"
   ],
   "outputs": [],
   "execution_count": 90
  },
  {
   "cell_type": "code",
   "metadata": {
    "colab": {
     "base_uri": "https://localhost:8080/"
    },
    "id": "a5dIf6wUv77a",
    "outputId": "1bbb4925-11e2-4264-af78-aba39b6d6080",
    "ExecuteTime": {
     "end_time": "2024-06-15T15:45:44.527095Z",
     "start_time": "2024-06-15T15:45:43.723156Z"
    }
   },
   "source": [
    "best_expectation_var_ticker = find_ticker_for_max_expectation_divided_by_var(\n",
    "    tickers, start_train_date, end_train_date\n",
    ")\n",
    "expectation_var_train_performance = get_expectation_ratio_for_greedy_performance(\n",
    "    best_expectation_var_ticker, start_train_date, end_train_date\n",
    ")\n",
    "greedy_ticker_test_performance = get_expectation_ratio_for_greedy_performance(\n",
    "    best_expectation_var_ticker, start_test_date, end_test_date\n",
    ")\n",
    "print(f\"\\n ticker to invest in expectation-variance approach: {best_expectation_var_ticker}\")\n",
    "print(f\"Train expectation ratio: {expectation_var_train_performance}\")\n",
    "print(f\"Test expectation ratio: {greedy_ticker_test_performance}\")\n"
   ],
   "outputs": [
    {
     "name": "stdout",
     "output_type": "stream",
     "text": [
      "\n",
      " ticker to invest in expectation-variance approach: DIS\n",
      "Train expectation ratio: 0.347046133188101\n",
      "Test expectation ratio: -0.25589815088687423\n"
     ]
    }
   ],
   "execution_count": 91
  },
  {
   "cell_type": "markdown",
   "metadata": {
    "id": "YoH2PtWon6Rw"
   },
   "source": [
    "Still not good..."
   ]
  },
  {
   "cell_type": "markdown",
   "metadata": {
    "id": "XR8x3gx8V55m"
   },
   "source": [
    "## Task 4 Linear combination\n",
    "\n",
    "In investing, there is a golden rule not to put all your eggs in one basket. So why shouldn't Ivan diversify his investments?\n",
    "\n",
    "Let's define the weight vector $w = (w_1, \\ldots, w_n)$ such that $|w| = \\sum_{i} w_i = 1;$ and  $ 0 \\le w_i \\le 1$ .\n",
    "\n",
    "Our solution can then be represented as:\n",
    "$\\xi = \\sum_i w_i \\xi_i$\n",
    "\n",
    "**Task:** Expand the final formula\n",
    "\n",
    "$$ \\max_w \\left (  \\frac{E[\\xi]} { \\sqrt{D[\\xi]} } \\right)   =\n",
    "    \\max_w \\left (  \\frac{E \\left[ \\sum_i w_i \\xi_i \\right] } { \\sqrt{D \\left[ \\sum_i w_i \\xi_i \\right] } } \\right)  = \\ldots\n",
    "$$  \n",
    "\n"
   ]
  },
  {
   "cell_type": "markdown",
   "metadata": {
    "id": "8S0wwN_kyHoF"
   },
   "source": [
    "To find best vector $w$ we have to create a function that returns our metric having vector $w$"
   ]
  },
  {
   "metadata": {},
   "cell_type": "code",
   "outputs": [],
   "execution_count": null,
   "source": "# ``var = mean(x)``, where ``x = abs(a - a.mean())**2``."
  },
  {
   "metadata": {
    "ExecuteTime": {
     "end_time": "2024-06-14T17:02:18.378741Z",
     "start_time": "2024-06-14T17:02:18.374897Z"
    }
   },
   "cell_type": "code",
   "source": [
    "cov_arr = np.array([])\n",
    "for i in range(1, 7):\n",
    "    for j in range(1, 7):\n",
    "        cov_arr = np.append(cov_arr, i * max(i, j))"
   ],
   "outputs": [],
   "execution_count": 69
  },
  {
   "metadata": {
    "ExecuteTime": {
     "end_time": "2024-06-14T20:09:21.774372Z",
     "start_time": "2024-06-14T20:09:21.770018Z"
    }
   },
   "cell_type": "code",
   "source": "",
   "outputs": [
    {
     "data": {
      "text/plain": [
       "array([3, 8, 0])"
      ]
     },
     "execution_count": 38,
     "metadata": {},
     "output_type": "execute_result"
    }
   ],
   "execution_count": 38
  },
  {
   "metadata": {
    "ExecuteTime": {
     "end_time": "2024-06-14T19:41:03.552986Z",
     "start_time": "2024-06-14T19:41:03.547339Z"
    }
   },
   "cell_type": "code",
   "source": [
    "arr_1 = np.array([])\n",
    "arr_2 = np.array([])\n",
    "for i in range(1, 7):\n",
    "    for j in range(1, 7):\n",
    "        arr_1 = np.append(arr_1, i)\n",
    "        arr_2 = np.append(arr_2, max(i, j))"
   ],
   "outputs": [],
   "execution_count": 4
  },
  {
   "metadata": {
    "ExecuteTime": {
     "end_time": "2024-06-14T19:41:11.995971Z",
     "start_time": "2024-06-14T19:41:11.991961Z"
    }
   },
   "cell_type": "code",
   "source": "",
   "outputs": [
    {
     "data": {
      "text/plain": [
       "array([1., 1., 1., 1., 1., 1., 2., 2., 2., 2., 2., 2., 3., 3., 3., 3., 3.,\n",
       "       3., 4., 4., 4., 4., 4., 4., 5., 5., 5., 5., 5., 5., 6., 6., 6., 6.,\n",
       "       6., 6.])"
      ]
     },
     "execution_count": 5,
     "metadata": {},
     "output_type": "execute_result"
    }
   ],
   "execution_count": 5
  },
  {
   "metadata": {
    "ExecuteTime": {
     "end_time": "2024-06-14T16:57:25.683712Z",
     "start_time": "2024-06-14T16:57:25.679908Z"
    }
   },
   "cell_type": "code",
   "source": "0.4 * arr_1.mean() + 0.6 * arr_2.mean()",
   "outputs": [
    {
     "data": {
      "text/plain": [
       "4.083333333333333"
      ]
     },
     "execution_count": 61,
     "metadata": {},
     "output_type": "execute_result"
    }
   ],
   "execution_count": 61
  },
  {
   "metadata": {
    "ExecuteTime": {
     "end_time": "2024-06-14T16:57:26.444521Z",
     "start_time": "2024-06-14T16:57:26.435260Z"
    }
   },
   "cell_type": "code",
   "source": "(0.4 * arr_1 + 0.6 * arr_2).mean()",
   "outputs": [
    {
     "data": {
      "text/plain": [
       "4.083333333333333"
      ]
     },
     "execution_count": 62,
     "metadata": {},
     "output_type": "execute_result"
    }
   ],
   "execution_count": 62
  },
  {
   "metadata": {
    "ExecuteTime": {
     "end_time": "2024-06-14T17:06:06.240188Z",
     "start_time": "2024-06-14T17:06:06.231217Z"
    }
   },
   "cell_type": "code",
   "source": "(arr_1 * arr_2).mean() - arr_1.mean() * arr_2.mean()",
   "outputs": [
    {
     "data": {
      "text/plain": [
       "1.4583333333333321"
      ]
     },
     "execution_count": 74,
     "metadata": {},
     "output_type": "execute_result"
    }
   ],
   "execution_count": 74
  },
  {
   "metadata": {},
   "cell_type": "code",
   "outputs": [
    {
     "data": {
      "text/plain": [
       "1.4583333333333333"
      ]
     },
     "execution_count": 75,
     "metadata": {},
     "output_type": "execute_result"
    }
   ],
   "execution_count": 75,
   "source": ""
  },
  {
   "metadata": {
    "ExecuteTime": {
     "end_time": "2024-06-14T20:02:43.984028Z",
     "start_time": "2024-06-14T20:02:43.966570Z"
    }
   },
   "cell_type": "code",
   "source": [
    "\n",
    "x1 = np.array([1, 2, 3, 4, 5, 6])\n",
    "x2 = np.array([1, 2, 3, 4, 5, 6])\n",
    "x3 = x1 + x2\n",
    "\n",
    "print(np.var(x1) * 4)\n",
    "print(np.var(x3))\n",
    "print(np.var(x1) + np.var(x2) + 2 * (np.mean(x1 ** 2) - np.mean(x2) ** 2))\n",
    "print(np.var(x1) + np.var(x2) + 2 * (np.mean((x1 - np.mean(x1)) * (x2 - np.mean(x2)))))\n",
    "print(np.var(x1) + np.var(x2) + 2 * np.cov(x1, x2, ddof=0)[0, 1])"
   ],
   "outputs": [
    {
     "name": "stdout",
     "output_type": "stream",
     "text": [
      "11.666666666666666\n",
      "11.666666666666666\n",
      "11.666666666666664\n",
      "11.666666666666666\n",
      "11.666666666666666\n"
     ]
    }
   ],
   "execution_count": 37
  },
  {
   "metadata": {
    "ExecuteTime": {
     "end_time": "2024-06-15T15:21:08.228865Z",
     "start_time": "2024-06-15T15:21:08.073921Z"
    }
   },
   "cell_type": "code",
   "source": [
    "annual_stock_price = {\n",
    "    ticker: download_annual_stock_price(ticker, start_train_date, end_train_date)\n",
    "    for ticker in tickers\n",
    "}\n",
    "annual_return_ratio = {\n",
    "    ticker: get_annual_return_ratio_from_initial(values)\n",
    "    for ticker, values in annual_stock_price.items()\n",
    "}"
   ],
   "outputs": [
    {
     "ename": "NameError",
     "evalue": "name 'tickers' is not defined",
     "output_type": "error",
     "traceback": [
      "\u001B[0;31m---------------------------------------------------------------------------\u001B[0m",
      "\u001B[0;31mNameError\u001B[0m                                 Traceback (most recent call last)",
      "Cell \u001B[0;32mIn[1], line 3\u001B[0m\n\u001B[1;32m      1\u001B[0m annual_stock_price \u001B[38;5;241m=\u001B[39m {\n\u001B[1;32m      2\u001B[0m     ticker: download_annual_stock_price(ticker, start_train_date, end_train_date)\n\u001B[0;32m----> 3\u001B[0m     \u001B[38;5;28;01mfor\u001B[39;00m ticker \u001B[38;5;129;01min\u001B[39;00m \u001B[43mtickers\u001B[49m\n\u001B[1;32m      4\u001B[0m }\n\u001B[1;32m      5\u001B[0m annual_return_ratio \u001B[38;5;241m=\u001B[39m {\n\u001B[1;32m      6\u001B[0m     ticker: get_annual_return_ratio_from_initial(values)\n\u001B[1;32m      7\u001B[0m     \u001B[38;5;28;01mfor\u001B[39;00m ticker, values \u001B[38;5;129;01min\u001B[39;00m annual_stock_price\u001B[38;5;241m.\u001B[39mitems()\n\u001B[1;32m      8\u001B[0m }\n",
      "\u001B[0;31mNameError\u001B[0m: name 'tickers' is not defined"
     ]
    }
   ],
   "execution_count": 1
  },
  {
   "cell_type": "code",
   "metadata": {
    "colab": {
     "base_uri": "https://localhost:8080/"
    },
    "id": "wm5a22T8yUE9",
    "outputId": "165f8cf3-0630-4de2-fe88-94a5079a206c",
    "ExecuteTime": {
     "end_time": "2024-06-15T15:56:15.238423Z",
     "start_time": "2024-06-15T15:56:14.940809Z"
    }
   },
   "source": [
    "def get_expectation(tickers, buy_date, sell_date, weights):\n",
    "    \"\"\"Calculate expected profit if we invest in each tickers with certain weight.\"\"\"\n",
    "    # pct_profit = 0\n",
    "    # for ticker, w in zip(tickers, weights):\n",
    "    #     annual_ratios = annual_return_ratio[ticker]\n",
    "    ...\n",
    "\n",
    "def get_weighted_annual_ratios(annual_return_ratios, weights):\n",
    "    weighted_annual_ratios = None\n",
    "    for annual_ratios, w in zip(annual_return_ratios, weights):\n",
    "        if weighted_annual_ratios is None:\n",
    "            weighted_annual_ratios = np.zeros_like(annual_ratios)\n",
    "        weighted_annual_ratios += w * annual_ratios\n",
    "    return weighted_annual_ratios\n",
    "\n",
    "\n",
    "def create_functional(tickers, buy_date, sell_date):\n",
    "    annual_stock_price = {\n",
    "        ticker: download_annual_stock_price(ticker, buy_date, sell_date) \n",
    "        for ticker in tickers\n",
    "    }\n",
    "    annual_return_ratio = {\n",
    "        ticker: get_annual_return_ratio_from_initial(values) \n",
    "        for ticker, values in annual_stock_price.items()\n",
    "    }\n",
    "\n",
    "    def functional(weights):\n",
    "        print(weights)\n",
    "        annual_ratios = get_weighted_annual_ratios(annual_return_ratio.values(), weights)\n",
    "        expectation = annual_ratios.mean()\n",
    "        variance = annual_ratios.var()\n",
    "        return expectation / np.sqrt(variance)\n",
    "\n",
    "    return functional\n",
    "\n",
    "\n",
    "functional = create_functional(tickers, start_train_date, end_train_date)\n",
    "\n",
    "equal_weights = [1 / len(ticker) for ticker in tickers]\n",
    "print([ticker for ticker in tickers])\n",
    "metric_for_equal_weights = functional(equal_weights)\n",
    "\n",
    "assert 1.0 < metric_for_equal_weights < 1.5\n"
   ],
   "outputs": [
    {
     "name": "stdout",
     "output_type": "stream",
     "text": [
      "['BA', 'MCD', 'GOOGL', 'DIS', 'PFE', 'AMT', 'VOD', 'BNP.PA', 'ADS.DE', 'TM']\n",
      "[0.5, 0.3333333333333333, 0.2, 0.3333333333333333, 0.3333333333333333, 0.3333333333333333, 0.3333333333333333, 0.16666666666666666, 0.16666666666666666, 0.5]\n"
     ]
    }
   ],
   "execution_count": 100
  },
  {
   "cell_type": "markdown",
   "metadata": {
    "id": "YojoxeQi0C6v"
   },
   "source": [
    "## Task 5 Optimization\n",
    "\n",
    "But how to find best weights?\n",
    "\n",
    "Let's define optimization problem and use _minimize_ function from _sicpy_ package.\n",
    "\n",
    "**Your task** Find best weights and evaluate train and test results."
   ]
  },
  {
   "cell_type": "code",
   "metadata": {
    "colab": {
     "base_uri": "https://localhost:8080/"
    },
    "id": "dFAOhUZoywSx",
    "outputId": "d1ee466d-b095-44eb-b765-7b49af086dfc",
    "ExecuteTime": {
     "end_time": "2024-06-15T15:54:01.660539Z",
     "start_time": "2024-06-15T15:54:01.653848Z"
    }
   },
   "source": [
    "from scipy.optimize import minimize\n",
    "\n",
    "minimization_functional = lambda weights: - functional(weights)\n",
    "\n",
    "minimize(minimization_functional, 11)\n"
   ],
   "outputs": [
    {
     "data": {
      "text/plain": [
       "  message: Optimization terminated successfully.\n",
       "  success: True\n",
       "   status: 0\n",
       "      fun: -0.6686818524136674\n",
       "        x: [ 1.100e+01]\n",
       "      nit: 0\n",
       "      jac: [-7.451e-09]\n",
       " hess_inv: [[1]]\n",
       "     nfev: 2\n",
       "     njev: 1"
      ]
     },
     "execution_count": 97,
     "metadata": {},
     "output_type": "execute_result"
    }
   ],
   "execution_count": 97
  },
  {
   "cell_type": "markdown",
   "metadata": {
    "id": "jYBEFe5gebZZ"
   },
   "source": [
    "## Task 6 Bonus: Experiment with initial weights\n",
    "\n",
    "\n",
    "For running mimimzation algorithm we need to define initial vector $w_0$, but how to do that?\n",
    "\n",
    "One of the approaches is to try $N$ different starting points and select the best.\n",
    "\n",
    "**Your task**\n",
    "1. Implement algorithm that generates $N$ random vectors for weights then tries to minimize functional $N$ times using these vectors as a starting points. And returns the best founded weights.\n",
    "2. Apply this  algorithm for our task and compare results\n"
   ]
  },
  {
   "cell_type": "code",
   "execution_count": null,
   "metadata": {
    "colab": {
     "base_uri": "https://localhost:8080/"
    },
    "id": "aJhfWr4N0llb",
    "outputId": "34c2798a-77ed-4958-ee68-09762671425e"
   },
   "outputs": [],
   "source": [
    "from tqdm import tqdm\n",
    "\n",
    "\n",
    "def generate_random_weights(vector_size):\n",
    "    # Write your code here\n",
    "    pass\n",
    "\n",
    "\n",
    "def random_search_for_initial_weights(functional_to_minimize, n_tries, vector_size):\n",
    "    # Write your code here\n",
    "    pass\n",
    "\n",
    "\n",
    "optimal_weights, func_value = random_search_for_initial_weights(minimization_functional, 100, vector_size=len(tickers))\n",
    "\n",
    "print(\"Optimal weights:\", optimal_weights)\n",
    "print(\"Maximized F(weights):\", func_value)\n",
    "print(\"train expectation:\", get_expectation(tickers, start_train_date, end_train_date, optimal_weights))\n",
    "print(\"test expectation:\", get_expectation(tickers, start_test_date, end_test_date, optimal_weights))"
   ]
  }
 ],
 "metadata": {
  "colab": {
   "provenance": []
  },
  "kernelspec": {
   "display_name": "Python 3 (ipykernel)",
   "name": "python3",
   "language": "python"
  },
  "language_info": {
   "name": "python"
  }
 },
 "nbformat": 4,
 "nbformat_minor": 0
}
