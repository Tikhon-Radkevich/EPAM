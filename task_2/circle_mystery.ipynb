{
 "cells": [
  {
   "metadata": {},
   "cell_type": "markdown",
   "source": [
    "### Circle Mystery: Identifying the Point Generation Algorithm\n",
    "\n",
    "**Problem Statement:**\n",
    "\n",
    "Peter has two algorithms that generate random points within a unit circle (centered at (0,0) with a radius of 1).\n",
    "\n",
    "**Algorithm 1:**\n",
    "This algorithm generates a point within the bounding square (i.e., $(x,y)$ where $x,y \\sim U[-1, 1]$). If the point falls outside the circle, it re-generates point untill it falls inside the circle.\n",
    "\n",
    "**Algorithm 2:**\n",
    "This algorithm generates the radius and angle of the point (i.e., $ r \\sim U[0,1]$ and $\\alpha \\sim [0, 2 \\pi] $). It then calculates the coordinates of the point using $x = r \\cos\\alpha, y = r\\sin\\alpha $.\n",
    "\n",
    "**Tasks:**\n",
    "\n",
    "1. **Point Generation:** Implement two functions that generate $n$ points using the algorithms described above.\n",
    "\n",
    "2. **Algorithm Prediction:** Implement a function that takes $n$ points as input and predicts which algorithm (1 or 2) was used to generate them.\n",
    "\n",
    "3. **Prediction Quality:** Evaluate the quality of your algorithm prediction function:\n",
    "   - Create a test dataset by generating $k$ sets of points using both algorithms (with $n=1000$ points in each set).\n",
    "   - Use your algorithm prediction function to predict the algorithm used for each set of points in your test dataset.\n",
    "   - Calculate the accuracy of your predictions."
   ],
   "id": "25208d4fcc2b5ecf"
  },
  {
   "metadata": {},
   "cell_type": "markdown",
   "source": [
    "### Algorithm 2\n",
    "\n",
    "$\\[ x = r \\cdot \\cos(a) \\]$\n",
    "\n",
    "$\\[ y = r \\cdot \\sin(a) \\]$\n",
    "\n",
    "$\\[ \\text{distance} = \\sqrt{x^2 + y^2} = \\sqrt{(r \\cdot \\cos(a))^2 + (r \\cdot \\sin(a))^2} = r \\cdot \\sqrt{\\cos^2(a) + \\sin^2(a)} = r \\cdot 1 = r \\]$\n",
    "\n",
    "The PDF $\\( f(r) \\)$ will be 1 for $\\( r \\)$ from 0 to 1.\n",
    "\n",
    "$\\[ P(0 \\le r \\le 0.5) = \\int_{0}^{0.5} 1 \\, dr = 0.5 \\]$"
   ],
   "id": "62fc165a44b8a9e9"
  },
  {
   "metadata": {},
   "cell_type": "markdown",
   "source": [
    "### Algorithm 1\n",
    "\n",
    "1. Generate random values $\\( x \\)$ and $\\( y \\)$ uniformly from $\\([-1, 1]\\)$.\n",
    "2. Accept the point if $\\( x^2 + y^2 \\leq 1 \\)$.\n",
    "\n",
    "These points must have a uniform distribution inside the circle. The distance from the origin to the point $\\((x, y)\\)$ is: $\\sqrt{x^2 + y^2}$ <br>\n",
    "\n",
    "This distance will have the same distribution as: $\\sqrt{\\text{random uniform}(0, 1)}$\n",
    "\n",
    "Well, I have a random value $\\( Y = \\sqrt{X} \\)$ where $\\( X \\)$ is uniformly distributed from 0 to 1. \n",
    "\n",
    "$F_X(x)$, is $\\( x \\)$ for $( 0 \\le x \\le 1 )$.\n",
    "\n",
    "The probability that $\\( Y \\leq y \\)$: $\\[ F_Y(y) = P(Y \\le y) = P(\\sqrt{X} \\le y) = P(X \\le y^2) \\]$ <br><br>\n",
    "\n",
    "\n",
    "$\\[ F_Y(y) = F_X(y^2) = y^2 \\quad \\text{for} \\quad (0 \\le y \\le 1) \\]$\n",
    "\n",
    "The PDF of $\\( Y \\)$: $\\[ f_Y(y) = \\frac{d}{dy} F_Y(y) = \\frac{d}{dy} (y^2) = 2y \\]$ <br>\n",
    "\n",
    "$\\[ P(0 \\le y \\le 0.5) = \\int_{0}^{0.5} 2y \\, dy = 0.25 \\]$"
   ],
   "id": "ed4766362b216769"
  },
  {
   "metadata": {},
   "cell_type": "code",
   "outputs": [],
   "execution_count": null,
   "source": [
    "# P(R < 1/2) = (pi*(1/2)^2 / pi*1) = 1/4\n",
    "# P(R < X) = (pi*(X)^2 / pi) = X^2"
   ],
   "id": "ee2c659798da1176"
  },
  {
   "metadata": {
    "ExecuteTime": {
     "end_time": "2024-05-30T17:14:59.612691Z",
     "start_time": "2024-05-30T17:14:59.608035Z"
    }
   },
   "cell_type": "code",
   "source": "import numpy as np",
   "id": "ab06fe5c5fb4e66b",
   "outputs": [],
   "execution_count": 48
  },
  {
   "metadata": {
    "ExecuteTime": {
     "end_time": "2024-05-30T17:14:59.623890Z",
     "start_time": "2024-05-30T17:14:59.619834Z"
    }
   },
   "cell_type": "code",
   "source": [
    "def generate_distances_within_circle(num_points):\n",
    "    distances = []\n",
    "    while len(distances) < num_points:\n",
    "        x, y = np.random.uniform(-1, 1, 2)\n",
    "        if x**2 + y**2 <= 1:\n",
    "            distances.append(np.sqrt(x**2 + y**2))\n",
    "    return np.array(distances)"
   ],
   "id": "b34285edd3e5cce5",
   "outputs": [],
   "execution_count": 49
  },
  {
   "metadata": {
    "ExecuteTime": {
     "end_time": "2024-05-30T17:15:00.348619Z",
     "start_time": "2024-05-30T17:14:59.625539Z"
    }
   },
   "cell_type": "code",
   "source": [
    "n_points = 100000\n",
    "\n",
    "distances_algo_1 = generate_distances_within_circle(n_points)\n",
    "print(f\"E1 generation algo: {sum(distances_algo_1 <= 0.5) / n_points}%\")\n",
    "\n",
    "distances_algo_1_sqrt = np.sqrt(np.random.uniform(0, 1, n_points))\n",
    "print(f\"E1 sqrt(x): {sum(distances_algo_1_sqrt <= 0.5) / n_points}%\")\n",
    "\n",
    "distances_algo_2 = np.random.uniform(0, 1, n_points)\n",
    "print(f\"E2: {sum(distances_algo_2 <= 0.5) / n_points}%\")"
   ],
   "id": "78b09ead2cdaa38",
   "outputs": [
    {
     "name": "stdout",
     "output_type": "stream",
     "text": [
      "E1 generation algo: 0.25061%\n",
      "E1 sqrt(x): 0.25061%\n",
      "E2: 0.49975%\n"
     ]
    }
   ],
   "execution_count": 50
  },
  {
   "metadata": {
    "ExecuteTime": {
     "end_time": "2024-05-30T17:15:00.352179Z",
     "start_time": "2024-05-30T17:15:00.350107Z"
    }
   },
   "cell_type": "code",
   "source": "",
   "id": "d080268be47f946a",
   "outputs": [],
   "execution_count": 50
  }
 ],
 "metadata": {
  "kernelspec": {
   "display_name": "Python 3",
   "language": "python",
   "name": "python3"
  },
  "language_info": {
   "codemirror_mode": {
    "name": "ipython",
    "version": 2
   },
   "file_extension": ".py",
   "mimetype": "text/x-python",
   "name": "python",
   "nbconvert_exporter": "python",
   "pygments_lexer": "ipython2",
   "version": "2.7.6"
  }
 },
 "nbformat": 4,
 "nbformat_minor": 5
}
