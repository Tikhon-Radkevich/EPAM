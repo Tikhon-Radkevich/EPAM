{
 "cells": [
  {
   "cell_type": "code",
   "metadata": {
    "id": "H0YvrcSlLCN6",
    "ExecuteTime": {
     "end_time": "2024-06-18T11:33:04.113991Z",
     "start_time": "2024-06-18T11:33:04.111573Z"
    }
   },
   "source": [
    "#!pip install yfinance"
   ],
   "outputs": [],
   "execution_count": 26
  },
  {
   "cell_type": "markdown",
   "metadata": {
    "id": "nGHoZaekti8x"
   },
   "source": [
    "# Invest Portfolio\n",
    "\n",
    "Ivan has a large amout of money, and he starts to think how to invest this money to gain maximum profit.\n",
    "He chooses 10 candidate companies for that, but since Ivan is new in investing he needs your advice. In this notebook we will help Ivan in his journey.      "
   ]
  },
  {
   "cell_type": "code",
   "metadata": {
    "id": "Q4Bb4CnltieX",
    "ExecuteTime": {
     "end_time": "2024-06-18T11:33:04.234249Z",
     "start_time": "2024-06-18T11:33:04.231342Z"
    }
   },
   "source": [
    "# 10 companies to consider, key - ticker name, value -  short description.\n",
    "tickers = {\n",
    "    \"BA\": \"The Boeing Company\",\n",
    "    \"MCD\": \"McDonald's Corporation\",\n",
    "    \"GOOGL\": \"Google Company\",\n",
    "    \"DIS\": \"The Walt Disney Company\",\n",
    "    \"PFE\": \"Pfizer Inc.\",\n",
    "    \"AMT\": \"American Tower Corporation\",\n",
    "    \"VOD\": \"Vodafone Group Public Limited Company\",\n",
    "    \"BNP.PA\": \"BNP Paribas Bank\",\n",
    "    \"ADS.DE\": \"Adidas\",\n",
    "    \"TM\": \"Toyota Motor Corporation\",\n",
    "}\n"
   ],
   "outputs": [],
   "execution_count": 27
  },
  {
   "cell_type": "markdown",
   "metadata": {
    "id": "y34glVQeu3uA"
   },
   "source": [
    "## Task 1 Download and preprocess data\n",
    "\n",
    "We will use data from 2010 till 2021 for training and data from 2021 till 2024  for testing purpose.\n",
    "\n"
   ]
  },
  {
   "cell_type": "code",
   "metadata": {
    "id": "mlYQS9fZwBtX",
    "ExecuteTime": {
     "end_time": "2024-06-18T11:33:04.240929Z",
     "start_time": "2024-06-18T11:33:04.235322Z"
    }
   },
   "source": [
    "start_train_date = \"2010-01-01\"\n",
    "end_train_date = \"2021-01-01\"\n",
    "start_test_date = \"2021-01-01\"\n",
    "end_test_date = \"2024-01-01\""
   ],
   "outputs": [],
   "execution_count": 28
  },
  {
   "cell_type": "markdown",
   "metadata": {
    "id": "W2PQtKLRwAzw"
   },
   "source": [
    "Write a function that takes ticker name, start and end dates and returns pandas series of annual stock prices.\n",
    "\n"
   ]
  },
  {
   "cell_type": "code",
   "metadata": {
    "colab": {
     "base_uri": "https://localhost:8080/"
    },
    "id": "ksDOBQI5JkO0",
    "outputId": "de100184-ded4-475e-d3c0-d5e8433c5a92",
    "ExecuteTime": {
     "end_time": "2024-06-18T11:33:04.245752Z",
     "start_time": "2024-06-18T11:33:04.242421Z"
    }
   },
   "source": [
    "import yfinance as yf\n",
    "import pandas as pd\n",
    "import numpy as np\n",
    "\n",
    "\n",
    "def download_annual_stock_prices(tickers_list, buy_date=\"2010-01-01\", sell_date=\"2021-01-01\"):\n",
    "    \"\"\"Download the annual stock price using yf.download\"\"\"\n",
    "    return yf.download(tickers_list, start=buy_date, end=sell_date, interval=\"1mo\", progress=False)[\"Open\"][::12]"
   ],
   "outputs": [],
   "execution_count": 29
  },
  {
   "metadata": {
    "ExecuteTime": {
     "end_time": "2024-06-18T11:33:04.488171Z",
     "start_time": "2024-06-18T11:33:04.253058Z"
    }
   },
   "cell_type": "code",
   "source": [
    "annual_stock_price_df = download_annual_stock_prices(list(tickers), start_train_date, end_train_date)\n",
    "test_annual_stock_price_df = download_annual_stock_prices(list(tickers), start_test_date, end_test_date)"
   ],
   "outputs": [],
   "execution_count": 30
  },
  {
   "metadata": {
    "ExecuteTime": {
     "end_time": "2024-06-18T11:33:04.497389Z",
     "start_time": "2024-06-18T11:33:04.489384Z"
    }
   },
   "cell_type": "code",
   "source": "test_annual_stock_price_df",
   "outputs": [
    {
     "data": {
      "text/plain": [
       "Ticker          ADS.DE         AMT          BA     BNP.PA         DIS  \\\n",
       "Date                                                                    \n",
       "2021-01-01  297.899994  226.070007  210.000000  43.105000  182.259995   \n",
       "2022-01-01  254.350006  292.369995  204.000000  61.110001  155.830002   \n",
       "2023-01-01  128.339996  214.000000  192.949997  53.910000   88.980003   \n",
       "\n",
       "Ticker           GOOGL         MCD        PFE          TM        VOD  \n",
       "Date                                                                  \n",
       "2021-01-01   88.000000  214.490005  36.869999  155.809998  17.040001  \n",
       "2022-01-01  145.054993  269.489990  58.500000  186.809998  15.200000  \n",
       "2023-01-01   89.589996  263.529999  51.009998  137.960007  10.290000  "
      ],
      "text/html": [
       "<div>\n",
       "<style scoped>\n",
       "    .dataframe tbody tr th:only-of-type {\n",
       "        vertical-align: middle;\n",
       "    }\n",
       "\n",
       "    .dataframe tbody tr th {\n",
       "        vertical-align: top;\n",
       "    }\n",
       "\n",
       "    .dataframe thead th {\n",
       "        text-align: right;\n",
       "    }\n",
       "</style>\n",
       "<table border=\"1\" class=\"dataframe\">\n",
       "  <thead>\n",
       "    <tr style=\"text-align: right;\">\n",
       "      <th>Ticker</th>\n",
       "      <th>ADS.DE</th>\n",
       "      <th>AMT</th>\n",
       "      <th>BA</th>\n",
       "      <th>BNP.PA</th>\n",
       "      <th>DIS</th>\n",
       "      <th>GOOGL</th>\n",
       "      <th>MCD</th>\n",
       "      <th>PFE</th>\n",
       "      <th>TM</th>\n",
       "      <th>VOD</th>\n",
       "    </tr>\n",
       "    <tr>\n",
       "      <th>Date</th>\n",
       "      <th></th>\n",
       "      <th></th>\n",
       "      <th></th>\n",
       "      <th></th>\n",
       "      <th></th>\n",
       "      <th></th>\n",
       "      <th></th>\n",
       "      <th></th>\n",
       "      <th></th>\n",
       "      <th></th>\n",
       "    </tr>\n",
       "  </thead>\n",
       "  <tbody>\n",
       "    <tr>\n",
       "      <th>2021-01-01</th>\n",
       "      <td>297.899994</td>\n",
       "      <td>226.070007</td>\n",
       "      <td>210.000000</td>\n",
       "      <td>43.105000</td>\n",
       "      <td>182.259995</td>\n",
       "      <td>88.000000</td>\n",
       "      <td>214.490005</td>\n",
       "      <td>36.869999</td>\n",
       "      <td>155.809998</td>\n",
       "      <td>17.040001</td>\n",
       "    </tr>\n",
       "    <tr>\n",
       "      <th>2022-01-01</th>\n",
       "      <td>254.350006</td>\n",
       "      <td>292.369995</td>\n",
       "      <td>204.000000</td>\n",
       "      <td>61.110001</td>\n",
       "      <td>155.830002</td>\n",
       "      <td>145.054993</td>\n",
       "      <td>269.489990</td>\n",
       "      <td>58.500000</td>\n",
       "      <td>186.809998</td>\n",
       "      <td>15.200000</td>\n",
       "    </tr>\n",
       "    <tr>\n",
       "      <th>2023-01-01</th>\n",
       "      <td>128.339996</td>\n",
       "      <td>214.000000</td>\n",
       "      <td>192.949997</td>\n",
       "      <td>53.910000</td>\n",
       "      <td>88.980003</td>\n",
       "      <td>89.589996</td>\n",
       "      <td>263.529999</td>\n",
       "      <td>51.009998</td>\n",
       "      <td>137.960007</td>\n",
       "      <td>10.290000</td>\n",
       "    </tr>\n",
       "  </tbody>\n",
       "</table>\n",
       "</div>"
      ]
     },
     "execution_count": 31,
     "metadata": {},
     "output_type": "execute_result"
    }
   ],
   "execution_count": 31
  },
  {
   "metadata": {
    "ExecuteTime": {
     "end_time": "2024-06-18T11:33:04.510001Z",
     "start_time": "2024-06-18T11:33:04.498118Z"
    }
   },
   "cell_type": "code",
   "source": "annual_stock_price_df",
   "outputs": [
    {
     "data": {
      "text/plain": [
       "Ticker          ADS.DE         AMT          BA     BNP.PA         DIS  \\\n",
       "Date                                                                    \n",
       "2010-01-01   37.770000   43.490002   55.720001  55.900002   32.500000   \n",
       "2011-01-01   49.279999   51.910000   66.150002  48.299999   37.740002   \n",
       "2012-01-01   49.509998   60.450001   74.699997  30.450001   37.970001   \n",
       "2013-01-01   67.330002   78.389999   76.550003  42.584999   50.799999   \n",
       "2014-01-01   92.639999   79.510002  136.009995  56.650002   76.040001   \n",
       "2015-01-01   57.619999   99.160004  131.070007  49.259998   94.910004   \n",
       "2016-01-01   89.910004   96.290001  141.380005  52.590000  103.120003   \n",
       "2017-01-01  149.750000  106.730003  156.300003  60.119999  105.300003   \n",
       "2018-01-01  167.149994  143.160004  295.750000  62.250000  108.949997   \n",
       "2019-01-01  182.399994  157.110001  316.190002  39.474998  108.099998   \n",
       "2020-01-01  289.799988  229.679993  328.549988  52.830002  145.289993   \n",
       "\n",
       "Ticker          GOOGL         MCD        PFE          TM        VOD  \n",
       "Date                                                                 \n",
       "2010-01-01  15.689439   62.630001  17.333965   84.750000  23.649338  \n",
       "2011-01-01  14.926927   77.099998  16.793169   79.019997  26.941896  \n",
       "2012-01-01  16.339840  101.330002  20.740038   67.389999  28.695210  \n",
       "2013-01-01  18.003504   89.400002  24.222012   94.779999  26.258919  \n",
       "2014-01-01  27.914413   96.809998  28.908918  121.599998  39.755352  \n",
       "2015-01-01  26.629999   94.129997  29.667933  126.230003  34.080002  \n",
       "2016-01-01  38.110001  117.250000  30.218216  121.519997  32.119999  \n",
       "2017-01-01  40.030998  121.860001  31.024668  118.169998  24.840000  \n",
       "2018-01-01  52.651001  173.729996  34.516129  127.430000  32.160000  \n",
       "2019-01-01  51.360001  175.410004  40.910816  114.680000  19.299999  \n",
       "2020-01-01  67.420502  198.000000  37.286530  142.000000  19.379999  "
      ],
      "text/html": [
       "<div>\n",
       "<style scoped>\n",
       "    .dataframe tbody tr th:only-of-type {\n",
       "        vertical-align: middle;\n",
       "    }\n",
       "\n",
       "    .dataframe tbody tr th {\n",
       "        vertical-align: top;\n",
       "    }\n",
       "\n",
       "    .dataframe thead th {\n",
       "        text-align: right;\n",
       "    }\n",
       "</style>\n",
       "<table border=\"1\" class=\"dataframe\">\n",
       "  <thead>\n",
       "    <tr style=\"text-align: right;\">\n",
       "      <th>Ticker</th>\n",
       "      <th>ADS.DE</th>\n",
       "      <th>AMT</th>\n",
       "      <th>BA</th>\n",
       "      <th>BNP.PA</th>\n",
       "      <th>DIS</th>\n",
       "      <th>GOOGL</th>\n",
       "      <th>MCD</th>\n",
       "      <th>PFE</th>\n",
       "      <th>TM</th>\n",
       "      <th>VOD</th>\n",
       "    </tr>\n",
       "    <tr>\n",
       "      <th>Date</th>\n",
       "      <th></th>\n",
       "      <th></th>\n",
       "      <th></th>\n",
       "      <th></th>\n",
       "      <th></th>\n",
       "      <th></th>\n",
       "      <th></th>\n",
       "      <th></th>\n",
       "      <th></th>\n",
       "      <th></th>\n",
       "    </tr>\n",
       "  </thead>\n",
       "  <tbody>\n",
       "    <tr>\n",
       "      <th>2010-01-01</th>\n",
       "      <td>37.770000</td>\n",
       "      <td>43.490002</td>\n",
       "      <td>55.720001</td>\n",
       "      <td>55.900002</td>\n",
       "      <td>32.500000</td>\n",
       "      <td>15.689439</td>\n",
       "      <td>62.630001</td>\n",
       "      <td>17.333965</td>\n",
       "      <td>84.750000</td>\n",
       "      <td>23.649338</td>\n",
       "    </tr>\n",
       "    <tr>\n",
       "      <th>2011-01-01</th>\n",
       "      <td>49.279999</td>\n",
       "      <td>51.910000</td>\n",
       "      <td>66.150002</td>\n",
       "      <td>48.299999</td>\n",
       "      <td>37.740002</td>\n",
       "      <td>14.926927</td>\n",
       "      <td>77.099998</td>\n",
       "      <td>16.793169</td>\n",
       "      <td>79.019997</td>\n",
       "      <td>26.941896</td>\n",
       "    </tr>\n",
       "    <tr>\n",
       "      <th>2012-01-01</th>\n",
       "      <td>49.509998</td>\n",
       "      <td>60.450001</td>\n",
       "      <td>74.699997</td>\n",
       "      <td>30.450001</td>\n",
       "      <td>37.970001</td>\n",
       "      <td>16.339840</td>\n",
       "      <td>101.330002</td>\n",
       "      <td>20.740038</td>\n",
       "      <td>67.389999</td>\n",
       "      <td>28.695210</td>\n",
       "    </tr>\n",
       "    <tr>\n",
       "      <th>2013-01-01</th>\n",
       "      <td>67.330002</td>\n",
       "      <td>78.389999</td>\n",
       "      <td>76.550003</td>\n",
       "      <td>42.584999</td>\n",
       "      <td>50.799999</td>\n",
       "      <td>18.003504</td>\n",
       "      <td>89.400002</td>\n",
       "      <td>24.222012</td>\n",
       "      <td>94.779999</td>\n",
       "      <td>26.258919</td>\n",
       "    </tr>\n",
       "    <tr>\n",
       "      <th>2014-01-01</th>\n",
       "      <td>92.639999</td>\n",
       "      <td>79.510002</td>\n",
       "      <td>136.009995</td>\n",
       "      <td>56.650002</td>\n",
       "      <td>76.040001</td>\n",
       "      <td>27.914413</td>\n",
       "      <td>96.809998</td>\n",
       "      <td>28.908918</td>\n",
       "      <td>121.599998</td>\n",
       "      <td>39.755352</td>\n",
       "    </tr>\n",
       "    <tr>\n",
       "      <th>2015-01-01</th>\n",
       "      <td>57.619999</td>\n",
       "      <td>99.160004</td>\n",
       "      <td>131.070007</td>\n",
       "      <td>49.259998</td>\n",
       "      <td>94.910004</td>\n",
       "      <td>26.629999</td>\n",
       "      <td>94.129997</td>\n",
       "      <td>29.667933</td>\n",
       "      <td>126.230003</td>\n",
       "      <td>34.080002</td>\n",
       "    </tr>\n",
       "    <tr>\n",
       "      <th>2016-01-01</th>\n",
       "      <td>89.910004</td>\n",
       "      <td>96.290001</td>\n",
       "      <td>141.380005</td>\n",
       "      <td>52.590000</td>\n",
       "      <td>103.120003</td>\n",
       "      <td>38.110001</td>\n",
       "      <td>117.250000</td>\n",
       "      <td>30.218216</td>\n",
       "      <td>121.519997</td>\n",
       "      <td>32.119999</td>\n",
       "    </tr>\n",
       "    <tr>\n",
       "      <th>2017-01-01</th>\n",
       "      <td>149.750000</td>\n",
       "      <td>106.730003</td>\n",
       "      <td>156.300003</td>\n",
       "      <td>60.119999</td>\n",
       "      <td>105.300003</td>\n",
       "      <td>40.030998</td>\n",
       "      <td>121.860001</td>\n",
       "      <td>31.024668</td>\n",
       "      <td>118.169998</td>\n",
       "      <td>24.840000</td>\n",
       "    </tr>\n",
       "    <tr>\n",
       "      <th>2018-01-01</th>\n",
       "      <td>167.149994</td>\n",
       "      <td>143.160004</td>\n",
       "      <td>295.750000</td>\n",
       "      <td>62.250000</td>\n",
       "      <td>108.949997</td>\n",
       "      <td>52.651001</td>\n",
       "      <td>173.729996</td>\n",
       "      <td>34.516129</td>\n",
       "      <td>127.430000</td>\n",
       "      <td>32.160000</td>\n",
       "    </tr>\n",
       "    <tr>\n",
       "      <th>2019-01-01</th>\n",
       "      <td>182.399994</td>\n",
       "      <td>157.110001</td>\n",
       "      <td>316.190002</td>\n",
       "      <td>39.474998</td>\n",
       "      <td>108.099998</td>\n",
       "      <td>51.360001</td>\n",
       "      <td>175.410004</td>\n",
       "      <td>40.910816</td>\n",
       "      <td>114.680000</td>\n",
       "      <td>19.299999</td>\n",
       "    </tr>\n",
       "    <tr>\n",
       "      <th>2020-01-01</th>\n",
       "      <td>289.799988</td>\n",
       "      <td>229.679993</td>\n",
       "      <td>328.549988</td>\n",
       "      <td>52.830002</td>\n",
       "      <td>145.289993</td>\n",
       "      <td>67.420502</td>\n",
       "      <td>198.000000</td>\n",
       "      <td>37.286530</td>\n",
       "      <td>142.000000</td>\n",
       "      <td>19.379999</td>\n",
       "    </tr>\n",
       "  </tbody>\n",
       "</table>\n",
       "</div>"
      ]
     },
     "execution_count": 32,
     "metadata": {},
     "output_type": "execute_result"
    }
   ],
   "execution_count": 32
  },
  {
   "cell_type": "markdown",
   "metadata": {
    "id": "v79kFkoC3M4M"
   },
   "source": [
    "\n",
    "Let's define $\\xi_i$ as random variable equals annual return ratio of the $\\text{stock}_i$  relative to the buying price.\n",
    "\n",
    "Convert annual stock price to annual return ratio considering that we've bought stock at moment $t=0$.\n",
    "i.e. if the annoaul stock prices are $(10, 15, 12, 13)$,\n",
    " annual return ratio will be $(0.5, -0.3, 0.1)$"
   ]
  },
  {
   "metadata": {
    "ExecuteTime": {
     "end_time": "2024-06-18T11:33:04.516154Z",
     "start_time": "2024-06-18T11:33:04.511438Z"
    }
   },
   "cell_type": "code",
   "source": [
    "def get_annual_return_ratio_from_initial(prices_df):\n",
    "    diff_df = prices_df.diff(1).dropna()\n",
    "    return diff_df.div(prices_df.iloc[0])\n",
    "\n",
    "\n",
    "test_stock_price_df = pd.DataFrame({\n",
    "    \"ticker_1\": [1, 3, 2, 5],\n",
    "    \"ticker_2\": [10, 15, 12, 13],\n",
    "})\n",
    "test_annual_return_ratio_df = pd.DataFrame({\n",
    "    \"ticker_1\": [2.0, -1.0, 3.0],\n",
    "    \"ticker_2\": [0.5, -0.3, 0.1],\n",
    "})\n",
    "result_np = get_annual_return_ratio_from_initial(test_stock_price_df).values\n",
    "np.testing.assert_array_equal(result_np, test_annual_return_ratio_df.values)"
   ],
   "outputs": [],
   "execution_count": 33
  },
  {
   "cell_type": "code",
   "metadata": {
    "id": "3jAAyrPY4EaZ",
    "ExecuteTime": {
     "end_time": "2024-06-18T11:33:04.523031Z",
     "start_time": "2024-06-18T11:33:04.517358Z"
    }
   },
   "source": [
    "annual_return_ratio_df = get_annual_return_ratio_from_initial(annual_stock_price_df)\n",
    "test_annual_return_ratio_df = get_annual_return_ratio_from_initial(test_annual_stock_price_df)"
   ],
   "outputs": [],
   "execution_count": 34
  },
  {
   "cell_type": "markdown",
   "metadata": {
    "id": "xh6okIqF-uRM"
   },
   "source": [
    "## Task 2 Simple approach\n",
    "\n",
    "Let's invest all money in most profitable company but for that we need to calculate $E\\xi_i$ first.\n",
    "\n",
    "We can calculate this value from company annual return ratio and from stock price. Let's do both to make sure that we do everything right."
   ]
  },
  {
   "cell_type": "code",
   "metadata": {
    "id": "AbV7TseO-tmB",
    "ExecuteTime": {
     "end_time": "2024-06-18T11:33:04.527771Z",
     "start_time": "2024-06-18T11:33:04.524277Z"
    }
   },
   "source": [
    "eps = 1e-7\n",
    "\n",
    "\n",
    "def get_expectation_ratio_from_return_ratio(ticker_return_ratio_df):\n",
    "    return ticker_return_ratio_df.mean()\n",
    "\n",
    "\n",
    "def get_expectation_ratio_from_stock_price(ticker_stock_price_df):\n",
    "    pct_price_change_df = (ticker_stock_price_df.iloc[-1] / ticker_stock_price_df.iloc[0]) - 1\n",
    "    return pct_price_change_df / (len(ticker_stock_price_df) - 1)"
   ],
   "outputs": [],
   "execution_count": 35
  },
  {
   "metadata": {
    "ExecuteTime": {
     "end_time": "2024-06-18T11:33:04.532672Z",
     "start_time": "2024-06-18T11:33:04.528938Z"
    }
   },
   "cell_type": "code",
   "source": [
    "expectation_ratio_1 = get_expectation_ratio_from_return_ratio(annual_return_ratio_df)\n",
    "expectation_ratio_2 = get_expectation_ratio_from_stock_price(annual_stock_price_df)\n",
    "assert sum(abs(expectation_ratio_1 - expectation_ratio_2)) < eps"
   ],
   "outputs": [],
   "execution_count": 36
  },
  {
   "cell_type": "markdown",
   "metadata": {
    "id": "omc4-0pSDp6R"
   },
   "source": [
    "Looks like we are ready to implement our greedy approach:\n",
    "\n",
    "$$ \\text{company-to-invest} = \\max_i E \\xi_i $$\n",
    "\n",
    "Let's implement this approach having tickers and dates of buying and selling:"
   ]
  },
  {
   "cell_type": "code",
   "metadata": {
    "colab": {
     "base_uri": "https://localhost:8080/"
    },
    "id": "CZHI9hQTGRaG",
    "outputId": "e182e14a-137a-43de-fb0b-ffb8fd77833e",
    "ExecuteTime": {
     "end_time": "2024-06-18T11:33:04.536899Z",
     "start_time": "2024-06-18T11:33:04.533782Z"
    }
   },
   "source": [
    "def get_expectation_ratio_for_greedy_performance(prices_df):\n",
    "    return get_expectation_ratio_from_stock_price(prices_df)\n",
    "\n",
    "\n",
    "def find_ticker_for_greedy_selection(prices_df):\n",
    "    expectation_df = get_expectation_ratio_from_stock_price(prices_df)\n",
    "    return expectation_df.idxmax()"
   ],
   "outputs": [],
   "execution_count": 37
  },
  {
   "metadata": {
    "ExecuteTime": {
     "end_time": "2024-06-18T11:33:04.562181Z",
     "start_time": "2024-06-18T11:33:04.538153Z"
    }
   },
   "cell_type": "code",
   "source": [
    "aapl_df = download_annual_stock_prices([\"AAPL\"], start_train_date, end_train_date)\n",
    "assert 0.8 < get_expectation_ratio_from_stock_price(aapl_df) < 0.9"
   ],
   "outputs": [],
   "execution_count": 38
  },
  {
   "cell_type": "code",
   "metadata": {
    "colab": {
     "base_uri": "https://localhost:8080/"
    },
    "id": "w-QC99MWJbrF",
    "outputId": "5224e3d0-b1fa-4bc7-958a-c2adde2d74e4",
    "ExecuteTime": {
     "end_time": "2024-06-18T11:33:04.568791Z",
     "start_time": "2024-06-18T11:33:04.564857Z"
    }
   },
   "source": [
    "best_greedy_ticker = find_ticker_for_greedy_selection(annual_stock_price_df)\n",
    "greedy_ticker_train_performance = get_expectation_ratio_for_greedy_performance(\n",
    "    annual_stock_price_df[best_greedy_ticker])\n",
    "greedy_ticker_test_performance = get_expectation_ratio_for_greedy_performance(\n",
    "    test_annual_stock_price_df[best_greedy_ticker])\n",
    "print(f\"\\n ticker to invest in greedy approach: {best_greedy_ticker}\")\n",
    "print(f\"Train expectation ratio: {greedy_ticker_train_performance}\")\n",
    "print(f\"Test expectation ratio: {greedy_ticker_test_performance}\")"
   ],
   "outputs": [
    {
     "name": "stdout",
     "output_type": "stream",
     "text": [
      "\n",
      " ticker to invest in greedy approach: ADS.DE\n",
      "Train expectation ratio: 0.6672755739493247\n",
      "Test expectation ratio: -0.2845921467482695\n"
     ]
    }
   ],
   "execution_count": 39
  },
  {
   "cell_type": "markdown",
   "metadata": {
    "id": "xwCsC8JNLtxY"
   },
   "source": [
    "Looks like our greedy method is not very helpful."
   ]
  },
  {
   "cell_type": "markdown",
   "metadata": {
    "id": "wt2gIPYzL1-_"
   },
   "source": [
    "## Task 3 Variance\n",
    "\n",
    "If stock has big variance it means that investor cannot be sure about the future. What is the variance in our case?\n",
    "\n",
    "Your task is to find $D\\xi_i$"
   ]
  },
  {
   "cell_type": "code",
   "metadata": {
    "colab": {
     "base_uri": "https://localhost:8080/"
    },
    "id": "f7a4Y2rJv73Y",
    "outputId": "a232b717-7790-4854-9151-07dcec9e245c",
    "ExecuteTime": {
     "end_time": "2024-06-18T11:33:04.573372Z",
     "start_time": "2024-06-18T11:33:04.570168Z"
    }
   },
   "source": [
    "def get_variance_from_return_ratio(ticker_return_ratio_df):\n",
    "    return ticker_return_ratio_df.var(ddof=0)\n",
    "\n",
    "\n",
    "def get_ticker_variance(prices_df):\n",
    "    return_ratio = get_annual_return_ratio_from_initial(prices_df)\n",
    "    return get_variance_from_return_ratio(return_ratio)"
   ],
   "outputs": [],
   "execution_count": 40
  },
  {
   "metadata": {
    "ExecuteTime": {
     "end_time": "2024-06-18T11:33:04.599309Z",
     "start_time": "2024-06-18T11:33:04.574611Z"
    }
   },
   "cell_type": "code",
   "source": [
    "aapl_df = download_annual_stock_prices([\"AAPL\"], start_train_date, end_train_date)\n",
    "assert 1.9 < get_ticker_variance(aapl_df) < 2.0"
   ],
   "outputs": [],
   "execution_count": 41
  },
  {
   "cell_type": "markdown",
   "metadata": {
    "id": "nz0AlqjmwZa_"
   },
   "source": [
    "Then let's reformulate our task, we will select stock to invest by maximizing the following:\n",
    "\n",
    "$$\\text{company-to-invest} = \\max_i \\left( \\frac{E\\xi_i} {\\sqrt{ D\\xi_i}} \\right)$$"
   ]
  },
  {
   "cell_type": "code",
   "metadata": {
    "id": "rj2zGS0Mv75V",
    "ExecuteTime": {
     "end_time": "2024-06-18T11:33:04.603997Z",
     "start_time": "2024-06-18T11:33:04.600526Z"
    }
   },
   "source": [
    "def calc_expectation_ratio_divided_by_variance(prices_df):\n",
    "    expectation_df = get_expectation_ratio_from_stock_price(prices_df)\n",
    "    variance_df = get_ticker_variance(prices_df)\n",
    "    return expectation_df.div(variance_df.pow(0.5))\n",
    "\n",
    "\n",
    "def find_ticker_for_max_expectation_divided_by_var(prices_df):\n",
    "    return calc_expectation_ratio_divided_by_variance(prices_df).idxmax()"
   ],
   "outputs": [],
   "execution_count": 42
  },
  {
   "cell_type": "code",
   "metadata": {
    "colab": {
     "base_uri": "https://localhost:8080/"
    },
    "id": "a5dIf6wUv77a",
    "outputId": "1bbb4925-11e2-4264-af78-aba39b6d6080",
    "ExecuteTime": {
     "end_time": "2024-06-18T11:33:04.611760Z",
     "start_time": "2024-06-18T11:33:04.605141Z"
    }
   },
   "source": [
    "best_expectation_var_ticker = find_ticker_for_max_expectation_divided_by_var(annual_stock_price_df)\n",
    "expectation_var_train_performance = get_expectation_ratio_for_greedy_performance(\n",
    "    annual_stock_price_df[best_expectation_var_ticker])\n",
    "greedy_ticker_test_performance = get_expectation_ratio_for_greedy_performance(\n",
    "    test_annual_stock_price_df[best_expectation_var_ticker])\n",
    "\n",
    "print(f\"\\n ticker to invest in expectation-variance approach: {best_expectation_var_ticker}\")\n",
    "print(f\"Train expectation ratio: {expectation_var_train_performance}\")\n",
    "print(f\"Test expectation ratio: {greedy_ticker_test_performance}\")"
   ],
   "outputs": [
    {
     "name": "stdout",
     "output_type": "stream",
     "text": [
      "\n",
      " ticker to invest in expectation-variance approach: DIS\n",
      "Train expectation ratio: 0.347046133188101\n",
      "Test expectation ratio: -0.25589815088687423\n"
     ]
    }
   ],
   "execution_count": 43
  },
  {
   "cell_type": "markdown",
   "metadata": {
    "id": "YoH2PtWon6Rw"
   },
   "source": [
    "Still not good..."
   ]
  },
  {
   "cell_type": "markdown",
   "metadata": {
    "id": "XR8x3gx8V55m"
   },
   "source": [
    "## Task 4 Linear combination\n",
    "\n",
    "In investing, there is a golden rule not to put all your eggs in one basket. So why shouldn't Ivan diversify his investments?\n",
    "\n",
    "Let's define the weight vector $w = (w_1, \\ldots, w_n)$ such that $|w| = \\sum_{i} w_i = 1;$ and  $ 0 \\le w_i \\le 1$ .\n",
    "\n",
    "Our solution can then be represented as:\n",
    "$\\xi = \\sum_i w_i \\xi_i$\n",
    "\n",
    "**Task:** Expand the final formula\n",
    "\n",
    "$$ \\max_w \\left (  \\frac{E[\\xi]} { \\sqrt{D[\\xi]} } \\right)   =\n",
    "    \\max_w \\left (  \\frac{E \\left[ \\sum_i w_i \\xi_i \\right] } { \\sqrt{D \\left[ \\sum_i w_i \\xi_i \\right] } } \\right)  = \\ldots\n",
    "$$  \n",
    "\n"
   ]
  },
  {
   "cell_type": "markdown",
   "metadata": {
    "id": "8S0wwN_kyHoF"
   },
   "source": [
    "To find best vector $w$ we have to create a function that returns our metric having vector $w$"
   ]
  },
  {
   "cell_type": "code",
   "metadata": {
    "colab": {
     "base_uri": "https://localhost:8080/"
    },
    "id": "wm5a22T8yUE9",
    "outputId": "165f8cf3-0630-4de2-fe88-94a5079a206c",
    "ExecuteTime": {
     "end_time": "2024-06-18T11:33:04.620136Z",
     "start_time": "2024-06-18T11:33:04.612743Z"
    }
   },
   "source": [
    "def get_expectation(prices_df, weights):\n",
    "    \"\"\"Calculate expected profit if we invest in each ticker with certain weight.\"\"\"\n",
    "    expectation_df = get_expectation_ratio_from_stock_price(prices_df)\n",
    "    return expectation_df.mul(weights).sum()\n",
    "\n",
    "\n",
    "def create_functional(priced_df):\n",
    "    annual_ratio_df: pd.DataFrame = get_annual_return_ratio_from_initial(priced_df)\n",
    "\n",
    "    def wrapper(weights):\n",
    "        weighted_annual_ratio_sum_df = annual_ratio_df.mul(weights).sum(axis=1)  # sum(w_i * xi_i)\n",
    "\n",
    "        weighted_expectation = weighted_annual_ratio_sum_df.mean()\n",
    "        weighted_variance = weighted_annual_ratio_sum_df.var(ddof=0)\n",
    "        return weighted_expectation / np.sqrt(weighted_variance)\n",
    "\n",
    "    return wrapper\n",
    "\n",
    "\n",
    "functional = create_functional(annual_stock_price_df)\n",
    "\n",
    "equal_weights = np.array([1 / len(tickers) for _ in tickers])\n",
    "metric_for_equal_weights = functional(equal_weights)\n",
    "\n",
    "assert 1.0 < metric_for_equal_weights < 1.5"
   ],
   "outputs": [],
   "execution_count": 44
  },
  {
   "metadata": {
    "ExecuteTime": {
     "end_time": "2024-06-18T11:33:04.624620Z",
     "start_time": "2024-06-18T11:33:04.621111Z"
    }
   },
   "cell_type": "code",
   "source": "metric_for_equal_weights",
   "outputs": [
    {
     "data": {
      "text/plain": [
       "1.0415405684382606"
      ]
     },
     "execution_count": 45,
     "metadata": {},
     "output_type": "execute_result"
    }
   ],
   "execution_count": 45
  },
  {
   "cell_type": "markdown",
   "metadata": {
    "id": "YojoxeQi0C6v"
   },
   "source": [
    "## Task 5 Optimization\n",
    "\n",
    "But how to find best weights?\n",
    "\n",
    "Let's define optimization problem and use _minimize_ function from _sicpy_ package.\n",
    "\n",
    "**Your task** Find best weights and evaluate train and test results."
   ]
  },
  {
   "cell_type": "code",
   "metadata": {
    "colab": {
     "base_uri": "https://localhost:8080/"
    },
    "id": "dFAOhUZoywSx",
    "outputId": "d1ee466d-b095-44eb-b765-7b49af086dfc",
    "ExecuteTime": {
     "end_time": "2024-06-18T11:33:04.765985Z",
     "start_time": "2024-06-18T11:33:04.625771Z"
    }
   },
   "source": [
    "from scipy.optimize import minimize\n",
    "\n",
    "\n",
    "def constraint(x):\n",
    "    return sum(x) - 1\n",
    "\n",
    "\n",
    "con = {\"type\": \"eq\", \"fun\": constraint}\n",
    "bounds = [(0, 1) for _ in range(len(tickers))]\n",
    "minimization_functional = lambda weights: - functional(weights)\n",
    "\n",
    "task_5_result = minimize(minimization_functional, equal_weights, constraints=con, bounds=bounds)\n",
    "task_5_result"
   ],
   "outputs": [
    {
     "data": {
      "text/plain": [
       " message: Optimization terminated successfully\n",
       " success: True\n",
       "  status: 0\n",
       "     fun: -2.2500799473470083\n",
       "       x: [ 3.112e-02  2.954e-02  2.538e-14  1.704e-13  1.975e-01\n",
       "            1.620e-13  1.565e-01  5.854e-01  1.891e-13  1.870e-13]\n",
       "     nit: 12\n",
       "     jac: [ 5.783e-03  1.620e-03  5.683e+00  1.792e+00  5.433e-04\n",
       "            2.848e+00  1.668e-03 -1.018e-03  1.797e+00  3.927e+00]\n",
       "    nfev: 141\n",
       "    njev: 12"
      ]
     },
     "execution_count": 46,
     "metadata": {},
     "output_type": "execute_result"
    }
   ],
   "execution_count": 46
  },
  {
   "cell_type": "markdown",
   "metadata": {
    "id": "jYBEFe5gebZZ"
   },
   "source": [
    "## Task 6 Bonus: Experiment with initial weights\n",
    "\n",
    "\n",
    "For running mimimzation algorithm we need to define initial vector $w_0$, but how to do that?\n",
    "\n",
    "One of the approaches is to try $N$ different starting points and select the best.\n",
    "\n",
    "**Your task**\n",
    "1. Implement algorithm that generates $N$ random vectors for weights then tries to minimize functional $N$ times using these vectors as a starting points. And returns the best founded weights.\n",
    "2. Apply this  algorithm for our task and compare results\n"
   ]
  },
  {
   "cell_type": "code",
   "metadata": {
    "colab": {
     "base_uri": "https://localhost:8080/"
    },
    "id": "aJhfWr4N0llb",
    "outputId": "34c2798a-77ed-4958-ee68-09762671425e",
    "ExecuteTime": {
     "end_time": "2024-06-18T11:33:16.576649Z",
     "start_time": "2024-06-18T11:33:04.767040Z"
    }
   },
   "source": [
    "from tqdm import tqdm\n",
    "\n",
    "\n",
    "def generate_random_weights(vector_size):\n",
    "    weights = np.random.rand(vector_size)\n",
    "    weights /= np.sum(weights)\n",
    "    return weights\n",
    "\n",
    "\n",
    "def random_search_for_initial_weights(functional_to_minimize, n_tries, vector_size):\n",
    "    best_func_value = np.inf\n",
    "    best_weights = None\n",
    "    jac = None\n",
    "    for _ in tqdm(range(n_tries)):\n",
    "        weights = generate_random_weights(vector_size)\n",
    "        res = minimize(functional_to_minimize, weights, constraints=con, bounds=bounds)\n",
    "        if res.fun < best_func_value:\n",
    "            best_func_value = res.fun\n",
    "            best_weights = res.x\n",
    "            jac = res.jac\n",
    "\n",
    "    return best_weights, best_func_value, -jac\n",
    "\n",
    "\n",
    "optimal_weights, func_value, func_jac = random_search_for_initial_weights(minimization_functional, 100, vector_size=len(tickers))\n",
    "\n",
    "print(\"Optimal weights:\", optimal_weights.round(4))\n",
    "print(\"Maximized F(weights):\", func_value)\n",
    "print(\"train expectation:\", get_expectation(annual_stock_price_df, optimal_weights))\n",
    "print(\"test expectation:\", get_expectation(test_annual_stock_price_df, optimal_weights))\n",
    "\n",
    "test_task_5_expectation = get_expectation(test_annual_stock_price_df, task_5_result.x)\n",
    "test_task_6_expectation = get_expectation(test_annual_stock_price_df, optimal_weights)\n",
    "print(\"Difference between task 5 and 6:\", (test_task_6_expectation - test_task_5_expectation) * 100)"
   ],
   "outputs": [
    {
     "name": "stderr",
     "output_type": "stream",
     "text": [
      "100%|██████████| 100/100 [00:11<00:00,  8.47it/s]"
     ]
    },
    {
     "name": "stdout",
     "output_type": "stream",
     "text": [
      "Optimal weights: [0.0311 0.0296 0.     0.     0.1975 0.     0.1564 0.5855 0.     0.    ]\n",
      "Maximized F(weights): -2.2500800953791757\n",
      "train expectation: 0.2031289831605738\n",
      "test expectation: 0.06998188633008273\n",
      "Difference between task 5 and 6: 0.0012108765645002517\n"
     ]
    },
    {
     "name": "stderr",
     "output_type": "stream",
     "text": [
      "\n"
     ]
    }
   ],
   "execution_count": 47
  },
  {
   "metadata": {
    "ExecuteTime": {
     "end_time": "2024-06-18T11:33:16.599888Z",
     "start_time": "2024-06-18T11:33:16.578075Z"
    }
   },
   "cell_type": "code",
   "source": [
    "train_df = calc_expectation_ratio_divided_by_variance(annual_stock_price_df).to_frame(name=\"train\").T\n",
    "test_df = calc_expectation_ratio_divided_by_variance(test_annual_stock_price_df).to_frame(name=\"test\").T\n",
    "weights_df = pd.DataFrame(optimal_weights, index=annual_stock_price_df.keys(), columns=[\"weights\"]).T\n",
    "jac_df = pd.DataFrame(func_jac, index=annual_stock_price_df.keys(), columns=[\"jac\"]).T\n",
    "pd.concat([train_df, test_df, weights_df, jac_df]).astype(np.float16)"
   ],
   "outputs": [
    {
     "data": {
      "text/plain": [
       "Ticker     ADS.DE       AMT        BA    BNP.PA       DIS     GOOGL       MCD  \\\n",
       "train    0.708496  0.898926  0.668457 -0.024704  0.959473  0.826172  0.791016   \n",
       "test    -2.056641 -0.083435 -3.376953  0.428711 -2.308594  0.014130  0.804688   \n",
       "weights  0.031097  0.029556  0.000000  0.000000  0.197510  0.000000  0.156372   \n",
       "jac      0.004452  0.005733 -5.679688 -1.791992 -0.000887 -2.845703  0.000767   \n",
       "\n",
       "Ticker        PFE        TM       VOD  \n",
       "train    0.714844  0.372803 -0.059875  \n",
       "test     0.485596 -0.223511 -2.199219  \n",
       "weights  0.585449  0.000000  0.000000  \n",
       "jac     -0.000430 -1.796875 -3.929688  "
      ],
      "text/html": [
       "<div>\n",
       "<style scoped>\n",
       "    .dataframe tbody tr th:only-of-type {\n",
       "        vertical-align: middle;\n",
       "    }\n",
       "\n",
       "    .dataframe tbody tr th {\n",
       "        vertical-align: top;\n",
       "    }\n",
       "\n",
       "    .dataframe thead th {\n",
       "        text-align: right;\n",
       "    }\n",
       "</style>\n",
       "<table border=\"1\" class=\"dataframe\">\n",
       "  <thead>\n",
       "    <tr style=\"text-align: right;\">\n",
       "      <th>Ticker</th>\n",
       "      <th>ADS.DE</th>\n",
       "      <th>AMT</th>\n",
       "      <th>BA</th>\n",
       "      <th>BNP.PA</th>\n",
       "      <th>DIS</th>\n",
       "      <th>GOOGL</th>\n",
       "      <th>MCD</th>\n",
       "      <th>PFE</th>\n",
       "      <th>TM</th>\n",
       "      <th>VOD</th>\n",
       "    </tr>\n",
       "  </thead>\n",
       "  <tbody>\n",
       "    <tr>\n",
       "      <th>train</th>\n",
       "      <td>0.708496</td>\n",
       "      <td>0.898926</td>\n",
       "      <td>0.668457</td>\n",
       "      <td>-0.024704</td>\n",
       "      <td>0.959473</td>\n",
       "      <td>0.826172</td>\n",
       "      <td>0.791016</td>\n",
       "      <td>0.714844</td>\n",
       "      <td>0.372803</td>\n",
       "      <td>-0.059875</td>\n",
       "    </tr>\n",
       "    <tr>\n",
       "      <th>test</th>\n",
       "      <td>-2.056641</td>\n",
       "      <td>-0.083435</td>\n",
       "      <td>-3.376953</td>\n",
       "      <td>0.428711</td>\n",
       "      <td>-2.308594</td>\n",
       "      <td>0.014130</td>\n",
       "      <td>0.804688</td>\n",
       "      <td>0.485596</td>\n",
       "      <td>-0.223511</td>\n",
       "      <td>-2.199219</td>\n",
       "    </tr>\n",
       "    <tr>\n",
       "      <th>weights</th>\n",
       "      <td>0.031097</td>\n",
       "      <td>0.029556</td>\n",
       "      <td>0.000000</td>\n",
       "      <td>0.000000</td>\n",
       "      <td>0.197510</td>\n",
       "      <td>0.000000</td>\n",
       "      <td>0.156372</td>\n",
       "      <td>0.585449</td>\n",
       "      <td>0.000000</td>\n",
       "      <td>0.000000</td>\n",
       "    </tr>\n",
       "    <tr>\n",
       "      <th>jac</th>\n",
       "      <td>0.004452</td>\n",
       "      <td>0.005733</td>\n",
       "      <td>-5.679688</td>\n",
       "      <td>-1.791992</td>\n",
       "      <td>-0.000887</td>\n",
       "      <td>-2.845703</td>\n",
       "      <td>0.000767</td>\n",
       "      <td>-0.000430</td>\n",
       "      <td>-1.796875</td>\n",
       "      <td>-3.929688</td>\n",
       "    </tr>\n",
       "  </tbody>\n",
       "</table>\n",
       "</div>"
      ]
     },
     "execution_count": 48,
     "metadata": {},
     "output_type": "execute_result"
    }
   ],
   "execution_count": 48
  },
  {
   "metadata": {
    "ExecuteTime": {
     "end_time": "2024-06-18T11:33:16.613786Z",
     "start_time": "2024-06-18T11:33:16.602764Z"
    }
   },
   "cell_type": "code",
   "source": "test_annual_stock_price_df",
   "outputs": [
    {
     "data": {
      "text/plain": [
       "Ticker          ADS.DE         AMT          BA     BNP.PA         DIS  \\\n",
       "Date                                                                    \n",
       "2021-01-01  297.899994  226.070007  210.000000  43.105000  182.259995   \n",
       "2022-01-01  254.350006  292.369995  204.000000  61.110001  155.830002   \n",
       "2023-01-01  128.339996  214.000000  192.949997  53.910000   88.980003   \n",
       "\n",
       "Ticker           GOOGL         MCD        PFE          TM        VOD  \n",
       "Date                                                                  \n",
       "2021-01-01   88.000000  214.490005  36.869999  155.809998  17.040001  \n",
       "2022-01-01  145.054993  269.489990  58.500000  186.809998  15.200000  \n",
       "2023-01-01   89.589996  263.529999  51.009998  137.960007  10.290000  "
      ],
      "text/html": [
       "<div>\n",
       "<style scoped>\n",
       "    .dataframe tbody tr th:only-of-type {\n",
       "        vertical-align: middle;\n",
       "    }\n",
       "\n",
       "    .dataframe tbody tr th {\n",
       "        vertical-align: top;\n",
       "    }\n",
       "\n",
       "    .dataframe thead th {\n",
       "        text-align: right;\n",
       "    }\n",
       "</style>\n",
       "<table border=\"1\" class=\"dataframe\">\n",
       "  <thead>\n",
       "    <tr style=\"text-align: right;\">\n",
       "      <th>Ticker</th>\n",
       "      <th>ADS.DE</th>\n",
       "      <th>AMT</th>\n",
       "      <th>BA</th>\n",
       "      <th>BNP.PA</th>\n",
       "      <th>DIS</th>\n",
       "      <th>GOOGL</th>\n",
       "      <th>MCD</th>\n",
       "      <th>PFE</th>\n",
       "      <th>TM</th>\n",
       "      <th>VOD</th>\n",
       "    </tr>\n",
       "    <tr>\n",
       "      <th>Date</th>\n",
       "      <th></th>\n",
       "      <th></th>\n",
       "      <th></th>\n",
       "      <th></th>\n",
       "      <th></th>\n",
       "      <th></th>\n",
       "      <th></th>\n",
       "      <th></th>\n",
       "      <th></th>\n",
       "      <th></th>\n",
       "    </tr>\n",
       "  </thead>\n",
       "  <tbody>\n",
       "    <tr>\n",
       "      <th>2021-01-01</th>\n",
       "      <td>297.899994</td>\n",
       "      <td>226.070007</td>\n",
       "      <td>210.000000</td>\n",
       "      <td>43.105000</td>\n",
       "      <td>182.259995</td>\n",
       "      <td>88.000000</td>\n",
       "      <td>214.490005</td>\n",
       "      <td>36.869999</td>\n",
       "      <td>155.809998</td>\n",
       "      <td>17.040001</td>\n",
       "    </tr>\n",
       "    <tr>\n",
       "      <th>2022-01-01</th>\n",
       "      <td>254.350006</td>\n",
       "      <td>292.369995</td>\n",
       "      <td>204.000000</td>\n",
       "      <td>61.110001</td>\n",
       "      <td>155.830002</td>\n",
       "      <td>145.054993</td>\n",
       "      <td>269.489990</td>\n",
       "      <td>58.500000</td>\n",
       "      <td>186.809998</td>\n",
       "      <td>15.200000</td>\n",
       "    </tr>\n",
       "    <tr>\n",
       "      <th>2023-01-01</th>\n",
       "      <td>128.339996</td>\n",
       "      <td>214.000000</td>\n",
       "      <td>192.949997</td>\n",
       "      <td>53.910000</td>\n",
       "      <td>88.980003</td>\n",
       "      <td>89.589996</td>\n",
       "      <td>263.529999</td>\n",
       "      <td>51.009998</td>\n",
       "      <td>137.960007</td>\n",
       "      <td>10.290000</td>\n",
       "    </tr>\n",
       "  </tbody>\n",
       "</table>\n",
       "</div>"
      ]
     },
     "execution_count": 49,
     "metadata": {},
     "output_type": "execute_result"
    }
   ],
   "execution_count": 49
  },
  {
   "metadata": {},
   "cell_type": "markdown",
   "source": [
    "$$ \n",
    "    \\max_w \\left (  \\frac{E[\\xi]} { \\sqrt{D[\\xi]} } \\right)   =\n",
    "    \\max_w \\left (  \\frac{E \\left[ \\sum_i w_i \\xi_i \\right] } { \\sqrt{D \\left[ \\sum_i w_i \\xi_i \\right] } } \\right)  = \n",
    "    \\max_w \\left ( \\frac{\\sum_i w_i E_{\\xi_i} } { \\sqrt{\\sum_i w_i^2 D_{\\xi_i} + 2 \\sum_{i<j} w_i w_j \\cdot \\text{cov}\\left(\\xi_i, \\xi_j \\right)} } \\right)\n",
    "$$  \n"
   ]
  },
  {
   "metadata": {
    "ExecuteTime": {
     "end_time": "2024-06-18T11:33:16.626827Z",
     "start_time": "2024-06-18T11:33:16.614840Z"
    }
   },
   "cell_type": "code",
   "source": [
    "def create_functional_2(priced_df: pd.DataFrame):\n",
    "    annual_ratio_df: pd.DataFrame = get_annual_return_ratio_from_initial(priced_df)\n",
    "\n",
    "    def wrapper(weights: np.ndarray):\n",
    "        numerator = (weights * annual_ratio_df.mean()).sum()\n",
    "\n",
    "        denominator_var = ((weights ** 2) * annual_ratio_df.var(ddof=0)).sum()\n",
    "\n",
    "        cov_df = annual_ratio_df.cov(ddof=0)\n",
    "        denominator_cov = 0\n",
    "        for i in range(len(weights)):\n",
    "            for j in range(i + 1, len(weights)):\n",
    "                denominator_cov += weights[i] * weights[j] * cov_df.iloc[i, j]\n",
    "\n",
    "        denominator = np.sqrt(denominator_var + 2 * denominator_cov)\n",
    "        return numerator / denominator\n",
    "\n",
    "    return wrapper\n",
    "\n",
    "\n",
    "functional_1 = create_functional(annual_stock_price_df)\n",
    "print(\"functional_1:\", functional_1(optimal_weights))\n",
    "\n",
    "functional_2 = create_functional_2(annual_stock_price_df)\n",
    "print(\"functional_2:\", functional_2(optimal_weights))\n"
   ],
   "outputs": [
    {
     "name": "stdout",
     "output_type": "stream",
     "text": [
      "functional_1: 2.2500800953791757\n",
      "functional_2: 2.250080095379176\n"
     ]
    }
   ],
   "execution_count": 50
  },
  {
   "metadata": {
    "ExecuteTime": {
     "end_time": "2024-06-18T11:33:16.630075Z",
     "start_time": "2024-06-18T11:33:16.628163Z"
    }
   },
   "cell_type": "code",
   "source": "",
   "outputs": [],
   "execution_count": 50
  }
 ],
 "metadata": {
  "colab": {
   "provenance": []
  },
  "kernelspec": {
   "display_name": "Python 3 (ipykernel)",
   "name": "python3",
   "language": "python"
  },
  "language_info": {
   "name": "python"
  }
 },
 "nbformat": 4,
 "nbformat_minor": 0
}
