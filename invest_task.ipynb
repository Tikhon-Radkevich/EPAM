{
 "cells": [
  {
   "cell_type": "code",
   "execution_count": null,
   "metadata": {
    "id": "H0YvrcSlLCN6"
   },
   "outputs": [],
   "source": [
    "#!pip install yfinance"
   ]
  },
  {
   "cell_type": "markdown",
   "metadata": {
    "id": "nGHoZaekti8x"
   },
   "source": [
    "# Invest Portfolio\n",
    "\n",
    "Ivan has a large amout of money, and he starts to think how to invest this money to gain maximum profit.\n",
    "He chooses 10 candidate companies for that, but since Ivan is new in investing he needs your advice. In this notebook we will help Ivan in his journey.      "
   ]
  },
  {
   "cell_type": "code",
   "metadata": {
    "id": "Q4Bb4CnltieX",
    "ExecuteTime": {
     "end_time": "2024-06-13T10:06:47.438142Z",
     "start_time": "2024-06-13T10:06:47.433038Z"
    }
   },
   "source": [
    "# 10 companies to consider, key - ticker name, value -  short description.\n",
    "tickers = {\n",
    "     \"BA\": \"The Boeing Company\",\n",
    "     \"MCD\": \"McDonald's Corporation\",\n",
    "     \"GOOGL\": \"Google Company\",\n",
    "     \"DIS\": \"The Walt Disney Company\",\n",
    "     \"PFE\": \"Pfizer Inc.\",\n",
    "     \"AMT\": \"American Tower Corporation\",\n",
    "     \"VOD\": \"Vodafone Group Public Limited Company\",\n",
    "     \"BNP.PA\": \"BNP Paribas Bank\",\n",
    "     \"ADS.DE\": \"Adidas\",\n",
    "     \"TM\": \"Toyota Motor Corporation\",\n",
    " }\n"
   ],
   "outputs": [],
   "execution_count": 1
  },
  {
   "cell_type": "markdown",
   "metadata": {
    "id": "y34glVQeu3uA"
   },
   "source": [
    "## Task 1 Download and preprocess data\n",
    "\n",
    "We will use data from 2010 till 2021 for training and data from 2021 till 2024  for testing purpose.\n",
    "\n"
   ]
  },
  {
   "cell_type": "code",
   "metadata": {
    "id": "mlYQS9fZwBtX",
    "ExecuteTime": {
     "end_time": "2024-06-13T10:06:47.963143Z",
     "start_time": "2024-06-13T10:06:47.960553Z"
    }
   },
   "source": [
    "start_train_date = \"2010-01-01\"\n",
    "end_train_date = \"2021-01-01\"\n",
    "start_test_date = \"2021-01-01\"\n",
    "end_test_date = \"2024-01-01\""
   ],
   "outputs": [],
   "execution_count": 2
  },
  {
   "cell_type": "markdown",
   "metadata": {
    "id": "W2PQtKLRwAzw"
   },
   "source": [
    "Write a function that takes ticker name, start and end dates and returns pandas series of annual stock prices.\n",
    "\n"
   ]
  },
  {
   "cell_type": "code",
   "metadata": {
    "colab": {
     "base_uri": "https://localhost:8080/"
    },
    "id": "ksDOBQI5JkO0",
    "outputId": "de100184-ded4-475e-d3c0-d5e8433c5a92",
    "ExecuteTime": {
     "end_time": "2024-06-13T10:22:08.876283Z",
     "start_time": "2024-06-13T10:22:08.722694Z"
    }
   },
   "source": [
    "import yfinance as yf\n",
    "import pandas as pd\n",
    "import numpy as np\n",
    "\n",
    "\n",
    "def download_annual_stock_price(ticker, buy_date= \"2010-01-01\", sell_date=\"2021-01-01\"):\n",
    "    \"\"\"Download the annual stock price using yf.download\"\"\"\n",
    "    data = yf.download(ticker, start=buy_date, end=sell_date, interval=\"3mo\", progress=False)[::4]\n",
    "    return data[\"Open\"].values\n",
    "\n",
    "annual_stock_price = {\n",
    "    ticker: download_annual_stock_price(ticker, start_train_date, end_train_date) \n",
    "    for ticker in tickers\n",
    "}\n",
    "annual_stock_price[\"BA\"]"
   ],
   "outputs": [
    {
     "data": {
      "text/plain": [
       "array([ 55.72000122,  66.15000153,  74.69999695,  76.55000305,\n",
       "       136.00999451, 131.07000732, 141.38000488, 156.30000305,\n",
       "       295.75      , 316.19000244, 328.54998779])"
      ]
     },
     "execution_count": 32,
     "metadata": {},
     "output_type": "execute_result"
    }
   ],
   "execution_count": 32
  },
  {
   "cell_type": "markdown",
   "metadata": {
    "id": "v79kFkoC3M4M"
   },
   "source": [
    "\n",
    "Let's define $\\xi_i$ as random variable equals annual return ratio of the $\\text{stock}_i$  relative to the buying price.\n",
    "\n",
    "Convert annual stock price to annual return ratio considering that we've bought stock at moment $t=0$.\n",
    "i.e. if the annoaul stock prices are $(10, 15, 12, 13)$,\n",
    " annual return ratio will be $(0.5, -0.3, 0.1)$"
   ]
  },
  {
   "cell_type": "code",
   "metadata": {
    "id": "3jAAyrPY4EaZ",
    "ExecuteTime": {
     "end_time": "2024-06-13T10:32:38.032619Z",
     "start_time": "2024-06-13T10:32:38.020730Z"
    }
   },
   "source": [
    "def get_annual_return_ratio_from_initial(annual_stock_prices):\n",
    "    annual_ratio = (annual_stock_prices[1:] - annual_stock_prices[:-1]) / annual_stock_prices[0]\n",
    "    return annual_ratio\n",
    "\n",
    "test_annual_return_ratio = get_annual_return_ratio_from_initial(np.array([1,3,2]))\n",
    "assert np.all(test_annual_return_ratio == np.array([2.0, -1.0]))\n",
    "\n",
    "test_annual_return_ratio = get_annual_return_ratio_from_initial(np.array([10, 15, 12, 13]))\n",
    "assert np.all(test_annual_return_ratio == np.array([0.5, -0.3, 0.1]))\n",
    "\n",
    "annual_return_ratio = {\n",
    "    ticker: get_annual_return_ratio_from_initial(values)\n",
    "    for ticker, values in annual_stock_price.items()\n",
    "}"
   ],
   "outputs": [],
   "execution_count": 47
  },
  {
   "cell_type": "markdown",
   "metadata": {
    "id": "xh6okIqF-uRM"
   },
   "source": [
    "## Task 2 Simple approach\n",
    "\n",
    "Let's invest all money in most profitable company but for that we need to calculate $E\\xi_i$ first.\n",
    "\n",
    "We can calculate this value from company annual return ratio and from stock price. Let's do both to make sure that we do everything right."
   ]
  },
  {
   "cell_type": "code",
   "metadata": {
    "id": "AbV7TseO-tmB",
    "ExecuteTime": {
     "end_time": "2024-06-13T11:25:51.610256Z",
     "start_time": "2024-06-13T11:25:51.606409Z"
    }
   },
   "source": [
    "eps = 1e-7\n",
    "\n",
    "def get_expectation_ratio_from_return_ratio(ticker_return_ratio):\n",
    "    return np.mean(ticker_return_ratio)\n",
    "\n",
    "def get_expectation_ratio_from_stock_price(ticker_stock_price):\n",
    "    pct_price_change = (ticker_stock_price[-1] / ticker_stock_price[0]) - 1\n",
    "    return pct_price_change / (len(ticker_stock_price) - 1) \n",
    "\n",
    "\n",
    "for ticker in tickers:\n",
    "    expectation_ratio_1 = get_expectation_ratio_from_return_ratio(annual_return_ratio[ticker])\n",
    "    expectation_ratio_2 =  get_expectation_ratio_from_stock_price(annual_stock_price[ticker])\n",
    "    assert abs(expectation_ratio_1 - expectation_ratio_2) < eps\n"
   ],
   "outputs": [],
   "execution_count": 79
  },
  {
   "cell_type": "markdown",
   "metadata": {
    "id": "omc4-0pSDp6R"
   },
   "source": [
    "Looks like we are ready to implement our greedy approach:\n",
    "\n",
    "$$ \\text{company-to-invest} = \\max_i E \\xi_i $$\n",
    "\n",
    "Let's implement this approach having tickers and dates of buying and selling:"
   ]
  },
  {
   "cell_type": "code",
   "metadata": {
    "colab": {
     "base_uri": "https://localhost:8080/"
    },
    "id": "CZHI9hQTGRaG",
    "outputId": "e182e14a-137a-43de-fb0b-ffb8fd77833e",
    "ExecuteTime": {
     "end_time": "2024-06-13T11:26:34.102880Z",
     "start_time": "2024-06-13T11:26:34.077664Z"
    }
   },
   "source": [
    "def get_expectation_ratio_for_greedy_performance(ticker, buy_date, sell_date):\n",
    "    ticker_prices = download_annual_stock_price(ticker, buy_date, sell_date)\n",
    "    return get_expectation_ratio_from_stock_price(ticker_prices)\n",
    "\n",
    "def find_ticker_for_greedy_selection(tickers, buy_date, sell_date):\n",
    "    max_expectation_ration = -float(\"INF\")\n",
    "    company_to_invest = \"\"\n",
    "    for ticker in tickers:\n",
    "        expectation_ratio = get_expectation_ratio_for_greedy_performance(ticker, buy_date, sell_date)\n",
    "        if expectation_ratio > max_expectation_ration:\n",
    "            max_expectation_ration = expectation_ratio\n",
    "            company_to_invest = ticker\n",
    "    return company_to_invest\n",
    "\n",
    "assert 0.8 < get_expectation_ratio_for_greedy_performance(\"AAPL\", start_train_date, end_train_date) < 0.9"
   ],
   "outputs": [],
   "execution_count": 80
  },
  {
   "cell_type": "code",
   "metadata": {
    "colab": {
     "base_uri": "https://localhost:8080/"
    },
    "id": "w-QC99MWJbrF",
    "outputId": "5224e3d0-b1fa-4bc7-958a-c2adde2d74e4",
    "ExecuteTime": {
     "end_time": "2024-06-13T11:26:36.643950Z",
     "start_time": "2024-06-13T11:26:36.500605Z"
    }
   },
   "source": [
    "best_greedy_ticker = find_ticker_for_greedy_selection(tickers, start_train_date, end_train_date)\n",
    "greedy_ticker_train_performance = get_expectation_ratio_for_greedy_performance(\n",
    "    best_greedy_ticker, start_train_date, end_train_date\n",
    ")\n",
    "greedy_ticker_test_performance = get_expectation_ratio_for_greedy_performance(\n",
    "    best_greedy_ticker, start_test_date, end_test_date\n",
    ")\n",
    "print(f\"\\n ticker to invest in greedy approach: {best_greedy_ticker}\")\n",
    "print(f\"Train expectation ratio: {greedy_ticker_train_performance}\")\n",
    "print(f\"Test expectation ratio: {greedy_ticker_test_performance}\")\n"
   ],
   "outputs": [
    {
     "name": "stdout",
     "output_type": "stream",
     "text": [
      "\n",
      " ticker to invest in greedy approach: ADS.DE\n",
      "Train expectation ratio: 0.5613642301863977\n",
      "Test expectation ratio: -0.11804856457595814\n"
     ]
    }
   ],
   "execution_count": 81
  },
  {
   "cell_type": "markdown",
   "metadata": {
    "id": "xwCsC8JNLtxY"
   },
   "source": [
    "Looks like our greedy method is not very helpful."
   ]
  },
  {
   "cell_type": "markdown",
   "metadata": {
    "id": "wt2gIPYzL1-_"
   },
   "source": [
    "## Task 3 Variance\n",
    "\n",
    "If stock has big variance it means that investor cannot be sure about the future. What is the variance in our case?\n",
    "\n",
    "Your task is to find $D\\xi_i$"
   ]
  },
  {
   "cell_type": "code",
   "metadata": {
    "colab": {
     "base_uri": "https://localhost:8080/"
    },
    "id": "f7a4Y2rJv73Y",
    "outputId": "a232b717-7790-4854-9151-07dcec9e245c",
    "ExecuteTime": {
     "end_time": "2024-06-13T11:26:49.621691Z",
     "start_time": "2024-06-13T11:26:49.596166Z"
    }
   },
   "source": [
    "def get_variance_from_return_ratio(ticker_return_ratio):\n",
    "    return np.var(ticker_return_ratio)\n",
    "\n",
    "def get_ticker_variance(ticker, buy_date, sell_date):\n",
    "    ticker_prices = download_annual_stock_price(ticker, buy_date, sell_date)\n",
    "    return_ratio = get_annual_return_ratio_from_initial(ticker_prices)\n",
    "    return get_variance_from_return_ratio(return_ratio)\n",
    "\n",
    "assert 1.9 < get_ticker_variance(\"AAPL\", start_train_date, end_train_date) < 2.0"
   ],
   "outputs": [],
   "execution_count": 82
  },
  {
   "cell_type": "markdown",
   "metadata": {
    "id": "nz0AlqjmwZa_"
   },
   "source": [
    "Then let's reformulate our task, we will select stock to invest by maximizing the following:\n",
    "\n",
    "$$\\text{company-to-invest} = \\max_i \\left( \\frac{E\\xi_i} {\\sqrt{ D\\xi_i}} \\right)$$"
   ]
  },
  {
   "cell_type": "code",
   "metadata": {
    "id": "rj2zGS0Mv75V",
    "ExecuteTime": {
     "end_time": "2024-06-13T11:22:48.082937Z",
     "start_time": "2024-06-13T11:22:48.078401Z"
    }
   },
   "source": [
    "def find_ticker_for_max_expectation_divided_by_var(tickers, buy_date, sell_date):\n",
    "    max_expect_div_by_var = -float(\"INF\")\n",
    "    company_to_invest = \"\"\n",
    "    for ticker in tickers:\n",
    "        expectation_ratio = get_expectation_ratio_for_greedy_performance(ticker, buy_date, sell_date)\n",
    "        var = get_ticker_variance(ticker, buy_date, sell_date)\n",
    "        expect_div_by_var = expectation_ratio / np.sqrt(var)\n",
    "        if expect_div_by_var > max_expect_div_by_var:\n",
    "            max_expect_div_by_var = expect_div_by_var\n",
    "            company_to_invest = ticker\n",
    "    return company_to_invest"
   ],
   "outputs": [],
   "execution_count": 77
  },
  {
   "cell_type": "code",
   "metadata": {
    "colab": {
     "base_uri": "https://localhost:8080/"
    },
    "id": "a5dIf6wUv77a",
    "outputId": "1bbb4925-11e2-4264-af78-aba39b6d6080",
    "ExecuteTime": {
     "end_time": "2024-06-13T11:27:26.680016Z",
     "start_time": "2024-06-13T11:27:26.408387Z"
    }
   },
   "source": [
    "best_expectation_var_ticker = find_ticker_for_max_expectation_divided_by_var(\n",
    "    tickers, start_train_date, end_train_date\n",
    ")\n",
    "expectation_var_train_performance = get_expectation_ratio_for_greedy_performance(\n",
    "    best_expectation_var_ticker, start_train_date, end_train_date\n",
    ")\n",
    "greedy_ticker_test_performance = get_expectation_ratio_for_greedy_performance(\n",
    "    best_expectation_var_ticker, start_test_date, end_test_date\n",
    ")\n",
    "print(f\"\\n ticker to invest in expectation-variance approach: {best_expectation_var_ticker}\")\n",
    "print(f\"Train expectation ratio: {expectation_var_train_performance}\")\n",
    "print(f\"Test expectation ratio: {greedy_ticker_test_performance}\")\n"
   ],
   "outputs": [
    {
     "name": "stdout",
     "output_type": "stream",
     "text": [
      "\n",
      " ticker to invest in expectation-variance approach: DIS\n",
      "Train expectation ratio: 0.347046133188101\n",
      "Test expectation ratio: -0.25589815088687423\n"
     ]
    }
   ],
   "execution_count": 83
  },
  {
   "cell_type": "markdown",
   "metadata": {
    "id": "YoH2PtWon6Rw"
   },
   "source": [
    "Still not good..."
   ]
  },
  {
   "cell_type": "markdown",
   "metadata": {
    "id": "XR8x3gx8V55m"
   },
   "source": [
    "## Task 4 Linear combination\n",
    "\n",
    "In investing, there is a golden rule not to put all your eggs in one basket. So why shouldn't Ivan diversify his investments?\n",
    "\n",
    "Let's define the weight vector $w = (w_1, \\ldots, w_n)$ such that $|w| = \\sum_{i} w_i = 1;$ and  $ 0 \\le w_i \\le 1$ .\n",
    "\n",
    "Our solution can then be represented as:\n",
    "$\\xi = \\sum_i w_i \\xi_i$\n",
    "\n",
    "**Task:** Expand the final formula\n",
    "\n",
    "$$ \\max_w \\left (  \\frac{E[\\xi]} { \\sqrt{D[\\xi]} } \\right)   =\n",
    "    \\max_w \\left (  \\frac{E \\left[ \\sum_i w_i \\xi_i \\right] } { \\sqrt{D \\left[ \\sum_i w_i \\xi_i \\right] } } \\right)  = \\ldots\n",
    "$$  \n",
    "\n"
   ]
  },
  {
   "cell_type": "markdown",
   "metadata": {
    "id": "8S0wwN_kyHoF"
   },
   "source": [
    "To find best vector $w$ we have to create a function that returns our metric having vector $w$"
   ]
  },
  {
   "metadata": {},
   "cell_type": "code",
   "outputs": [],
   "execution_count": null,
   "source": ""
  },
  {
   "cell_type": "code",
   "execution_count": null,
   "metadata": {
    "colab": {
     "base_uri": "https://localhost:8080/"
    },
    "id": "wm5a22T8yUE9",
    "outputId": "165f8cf3-0630-4de2-fe88-94a5079a206c"
   },
   "outputs": [],
   "source": [
    "# Note: feel free to add additional functions\n",
    "\n",
    "def get_expectation(tickers, buy_date, sell_date, weights):\n",
    "    \"\"\"Calculate expected profit if we invest in each tickers with certain weight.\"\"\"\n",
    "    # Write your code here\n",
    "    pass\n",
    "\n",
    "def create_functional(tickers, buy_date, sell_date):\n",
    "    # Write your code here\n",
    "\n",
    "    def functional(weights):\n",
    "        # Write your code here\n",
    "        pass\n",
    "\n",
    "\n",
    "    return functional\n",
    "\n",
    "\n",
    "functional = create_functional(tickers, start_train_date, end_train_date)\n",
    "\n",
    "\n",
    "equal_weights = [1 / len(ticker) for ticker in tickers]\n",
    "metric_for_equal_weights = functional(equal_weights)\n",
    "\n",
    "assert 1.0 < metric_for_equal_weights < 1.5\n"
   ]
  },
  {
   "cell_type": "markdown",
   "metadata": {
    "id": "YojoxeQi0C6v"
   },
   "source": [
    "## Task 5 Optimization\n",
    "\n",
    "But how to find best weights?\n",
    "\n",
    "Let's define optimization problem and use _minimize_ function from _sicpy_ package.\n",
    "\n",
    "**Your task** Find best weights and evaluate train and test results."
   ]
  },
  {
   "cell_type": "code",
   "execution_count": null,
   "metadata": {
    "colab": {
     "base_uri": "https://localhost:8080/"
    },
    "id": "dFAOhUZoywSx",
    "outputId": "d1ee466d-b095-44eb-b765-7b49af086dfc"
   },
   "outputs": [],
   "source": [
    "from scipy.optimize import minimize\n",
    "\n",
    "minimization_functional = lambda weights: - functional(weights)\n",
    "\n",
    "# Write you code here\n"
   ]
  },
  {
   "cell_type": "markdown",
   "metadata": {
    "id": "jYBEFe5gebZZ"
   },
   "source": [
    "## Task 6 Bonus: Experiment with initial weights\n",
    "\n",
    "\n",
    "For running mimimzation algorithm we need to define initial vector $w_0$, but how to do that?\n",
    "\n",
    "One of the approaches is to try $N$ different starting points and select the best.\n",
    "\n",
    "**Your task**\n",
    "1. Implement algorithm that generates $N$ random vectors for weights then tries to minimize functional $N$ times using these vectors as a starting points. And returns the best founded weights.\n",
    "2. Apply this  algorithm for our task and compare results\n"
   ]
  },
  {
   "cell_type": "code",
   "execution_count": null,
   "metadata": {
    "colab": {
     "base_uri": "https://localhost:8080/"
    },
    "id": "aJhfWr4N0llb",
    "outputId": "34c2798a-77ed-4958-ee68-09762671425e"
   },
   "outputs": [],
   "source": [
    "from tqdm import tqdm\n",
    "\n",
    "def generate_random_weights(vector_size):\n",
    "    # Write your code here\n",
    "    pass\n",
    "\n",
    "def random_search_for_initial_weights(functional_to_minimize, n_tries, vector_size):\n",
    "    # Write your code here\n",
    "    pass\n",
    "\n",
    "\n",
    "optimal_weights, func_value = random_search_for_initial_weights(minimization_functional, 100, vector_size= len(tickers))\n",
    "\n",
    "\n",
    "print(\"Optimal weights:\", optimal_weights)\n",
    "print(\"Maximized F(weights):\", func_value)\n",
    "print(\"train expectation:\", get_expectation(tickers,start_train_date, end_train_date, optimal_weights))\n",
    "print(\"test expectation:\", get_expectation(tickers, start_test_date, end_test_date, optimal_weights))"
   ]
  }
 ],
 "metadata": {
  "colab": {
   "provenance": []
  },
  "kernelspec": {
   "display_name": "Python 3 (ipykernel)",
   "name": "python3",
   "language": "python"
  },
  "language_info": {
   "name": "python"
  }
 },
 "nbformat": 4,
 "nbformat_minor": 0
}
