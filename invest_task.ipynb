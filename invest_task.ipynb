{
 "cells": [
  {
   "cell_type": "code",
   "execution_count": null,
   "metadata": {
    "id": "H0YvrcSlLCN6"
   },
   "outputs": [],
   "source": [
    "#!pip install yfinance"
   ]
  },
  {
   "cell_type": "markdown",
   "metadata": {
    "id": "nGHoZaekti8x"
   },
   "source": [
    "# Invest Portfolio\n",
    "\n",
    "Ivan has a large amout of money, and he starts to think how to invest this money to gain maximum profit.\n",
    "He chooses 10 candidate companies for that, but since Ivan is new in investing he needs your advice. In this notebook we will help Ivan in his journey.      "
   ]
  },
  {
   "cell_type": "code",
   "metadata": {
    "id": "Q4Bb4CnltieX",
    "ExecuteTime": {
     "end_time": "2024-06-15T16:51:26.026218Z",
     "start_time": "2024-06-15T16:51:26.022803Z"
    }
   },
   "source": [
    "# 10 companies to consider, key - ticker name, value -  short description.\n",
    "tickers = {\n",
    "     \"BA\": \"The Boeing Company\",\n",
    "     \"MCD\": \"McDonald's Corporation\",\n",
    "     \"GOOGL\": \"Google Company\",\n",
    "     \"DIS\": \"The Walt Disney Company\",\n",
    "     \"PFE\": \"Pfizer Inc.\",\n",
    "     \"AMT\": \"American Tower Corporation\",\n",
    "     \"VOD\": \"Vodafone Group Public Limited Company\",\n",
    "     \"BNP.PA\": \"BNP Paribas Bank\",\n",
    "     \"ADS.DE\": \"Adidas\",\n",
    "     \"TM\": \"Toyota Motor Corporation\",\n",
    " }\n"
   ],
   "outputs": [],
   "execution_count": 113
  },
  {
   "cell_type": "markdown",
   "metadata": {
    "id": "y34glVQeu3uA"
   },
   "source": [
    "## Task 1 Download and preprocess data\n",
    "\n",
    "We will use data from 2010 till 2021 for training and data from 2021 till 2024  for testing purpose.\n",
    "\n"
   ]
  },
  {
   "cell_type": "code",
   "metadata": {
    "id": "mlYQS9fZwBtX",
    "ExecuteTime": {
     "end_time": "2024-06-15T16:51:26.742218Z",
     "start_time": "2024-06-15T16:51:26.739075Z"
    }
   },
   "source": [
    "start_train_date = \"2010-01-01\"\n",
    "end_train_date = \"2021-01-01\"\n",
    "start_test_date = \"2021-01-01\"\n",
    "end_test_date = \"2024-01-01\""
   ],
   "outputs": [],
   "execution_count": 114
  },
  {
   "cell_type": "markdown",
   "metadata": {
    "id": "W2PQtKLRwAzw"
   },
   "source": [
    "Write a function that takes ticker name, start and end dates and returns pandas series of annual stock prices.\n",
    "\n"
   ]
  },
  {
   "cell_type": "code",
   "metadata": {
    "colab": {
     "base_uri": "https://localhost:8080/"
    },
    "id": "ksDOBQI5JkO0",
    "outputId": "de100184-ded4-475e-d3c0-d5e8433c5a92",
    "ExecuteTime": {
     "end_time": "2024-06-15T17:13:47.349270Z",
     "start_time": "2024-06-15T17:13:47.340509Z"
    }
   },
   "source": [
    "import yfinance as yf\n",
    "import pandas as pd\n",
    "import numpy as np\n",
    "\n",
    "\n",
    "def download_annual_stock_prices(tickers_list, buy_date= \"2010-01-01\", sell_date=\"2021-01-01\"):\n",
    "    \"\"\"Download the annual stock price using yf.download\"\"\"\n",
    "    return yf.download(tickers_list, start=buy_date, end=sell_date, interval=\"1mo\", progress=False)[\"Open\"][::12]"
   ],
   "outputs": [],
   "execution_count": 155
  },
  {
   "metadata": {
    "ExecuteTime": {
     "end_time": "2024-06-15T17:13:47.690183Z",
     "start_time": "2024-06-15T17:13:47.541216Z"
    }
   },
   "cell_type": "code",
   "source": [
    "annual_stock_price_df = download_annual_stock_prices(list(tickers.keys()), start_train_date, end_train_date)\n",
    "annual_stock_price_df[\"BA\"]"
   ],
   "outputs": [
    {
     "data": {
      "text/plain": [
       "Date\n",
       "2010-01-01     55.720001\n",
       "2011-01-01     66.150002\n",
       "2012-01-01     74.699997\n",
       "2013-01-01     76.550003\n",
       "2014-01-01    136.009995\n",
       "2015-01-01    131.070007\n",
       "2016-01-01    141.380005\n",
       "2017-01-01    156.300003\n",
       "2018-01-01    295.750000\n",
       "2019-01-01    316.190002\n",
       "2020-01-01    328.549988\n",
       "Name: BA, dtype: float64"
      ]
     },
     "execution_count": 156,
     "metadata": {},
     "output_type": "execute_result"
    }
   ],
   "execution_count": 156
  },
  {
   "cell_type": "markdown",
   "metadata": {
    "id": "v79kFkoC3M4M"
   },
   "source": [
    "\n",
    "Let's define $\\xi_i$ as random variable equals annual return ratio of the $\\text{stock}_i$  relative to the buying price.\n",
    "\n",
    "Convert annual stock price to annual return ratio considering that we've bought stock at moment $t=0$.\n",
    "i.e. if the annoaul stock prices are $(10, 15, 12, 13)$,\n",
    " annual return ratio will be $(0.5, -0.3, 0.1)$"
   ]
  },
  {
   "metadata": {
    "ExecuteTime": {
     "end_time": "2024-06-15T17:13:49.952820Z",
     "start_time": "2024-06-15T17:13:49.939060Z"
    }
   },
   "cell_type": "code",
   "source": [
    "def get_annual_return_ratio_from_initial(df):\n",
    "    diff_df = df.diff(1).dropna()\n",
    "    return diff_df.div(df.iloc[0])\n",
    "\n",
    "\n",
    "test_stock_price_df = pd.DataFrame({\n",
    "    \"ticker_1\": [1, 3, 2, 5],\n",
    "    \"ticker_2\": [10, 15, 12, 13],\n",
    "})\n",
    "test_annual_return_ratio_df = pd.DataFrame({\n",
    "    \"ticker_1\": [2.0, -1.0, 3.0],\n",
    "    \"ticker_2\": [0.5, -0.3, 0.1],\n",
    "})\n",
    "result_np = get_annual_return_ratio_from_initial(test_stock_price_df).values"
   ],
   "outputs": [],
   "execution_count": 157
  },
  {
   "metadata": {
    "ExecuteTime": {
     "end_time": "2024-06-15T17:13:51.138938Z",
     "start_time": "2024-06-15T17:13:51.136238Z"
    }
   },
   "cell_type": "code",
   "source": "np.testing.assert_array_equal(result_np, test_annual_return_ratio_df.values)",
   "outputs": [],
   "execution_count": 158
  },
  {
   "cell_type": "code",
   "metadata": {
    "id": "3jAAyrPY4EaZ",
    "ExecuteTime": {
     "end_time": "2024-06-15T17:13:51.526631Z",
     "start_time": "2024-06-15T17:13:51.522118Z"
    }
   },
   "source": "annual_return_ratio_df = get_annual_return_ratio_from_initial(annual_stock_price_df)",
   "outputs": [],
   "execution_count": 159
  },
  {
   "cell_type": "markdown",
   "metadata": {
    "id": "xh6okIqF-uRM"
   },
   "source": [
    "## Task 2 Simple approach\n",
    "\n",
    "Let's invest all money in most profitable company but for that we need to calculate $E\\xi_i$ first.\n",
    "\n",
    "We can calculate this value from company annual return ratio and from stock price. Let's do both to make sure that we do everything right."
   ]
  },
  {
   "cell_type": "code",
   "metadata": {
    "id": "AbV7TseO-tmB",
    "ExecuteTime": {
     "end_time": "2024-06-15T17:13:52.765523Z",
     "start_time": "2024-06-15T17:13:52.756286Z"
    }
   },
   "source": [
    "eps = 1e-7\n",
    "\n",
    "def get_expectation_ratio_from_return_ratio(ticker_return_ratio_df):\n",
    "    return ticker_return_ratio_df.mean()\n",
    "\n",
    "def get_expectation_ratio_from_stock_price(ticker_stock_price_df):\n",
    "    pct_price_change_df = (ticker_stock_price_df.iloc[-1] / ticker_stock_price_df.iloc[0]) - 1\n",
    "    return pct_price_change_df / (len(ticker_stock_price_df) - 1)"
   ],
   "outputs": [],
   "execution_count": 160
  },
  {
   "metadata": {
    "ExecuteTime": {
     "end_time": "2024-06-15T17:13:53.338065Z",
     "start_time": "2024-06-15T17:13:53.333057Z"
    }
   },
   "cell_type": "code",
   "source": [
    "expectation_ratio_1 = get_expectation_ratio_from_return_ratio(annual_return_ratio_df)\n",
    "expectation_ratio_2 =  get_expectation_ratio_from_stock_price(annual_stock_price_df)\n",
    "assert sum(abs(expectation_ratio_1 - expectation_ratio_2)) < eps"
   ],
   "outputs": [],
   "execution_count": 161
  },
  {
   "cell_type": "markdown",
   "metadata": {
    "id": "omc4-0pSDp6R"
   },
   "source": [
    "Looks like we are ready to implement our greedy approach:\n",
    "\n",
    "$$ \\text{company-to-invest} = \\max_i E \\xi_i $$\n",
    "\n",
    "Let's implement this approach having tickers and dates of buying and selling:"
   ]
  },
  {
   "cell_type": "code",
   "metadata": {
    "colab": {
     "base_uri": "https://localhost:8080/"
    },
    "id": "CZHI9hQTGRaG",
    "outputId": "e182e14a-137a-43de-fb0b-ffb8fd77833e",
    "ExecuteTime": {
     "end_time": "2024-06-15T17:16:49.117898Z",
     "start_time": "2024-06-15T17:16:49.087272Z"
    }
   },
   "source": [
    "def get_expectation_ratio_for_greedy_performance(tickers_list, buy_date, sell_date):\n",
    "    prices_df = download_annual_stock_prices(tickers_list, buy_date, sell_date)\n",
    "    return get_expectation_ratio_from_stock_price(prices_df)\n",
    "\n",
    "def find_ticker_for_greedy_selection(tickers, buy_date, sell_date):\n",
    "    # Write your code here\n",
    "    pass\n",
    "\n",
    "assert 0.8 < get_expectation_ratio_for_greedy_performance([\"AAPL\"], start_train_date, end_train_date) < 0.9\n"
   ],
   "outputs": [],
   "execution_count": 162
  },
  {
   "metadata": {
    "ExecuteTime": {
     "end_time": "2024-06-15T17:16:58.679168Z",
     "start_time": "2024-06-15T17:16:58.631981Z"
    }
   },
   "cell_type": "code",
   "source": "get_expectation_ratio_for_greedy_performance([\"AAPL\"], start_train_date, end_train_date)",
   "outputs": [
    {
     "data": {
      "text/plain": [
       "0.8715972202629864"
      ]
     },
     "execution_count": 163,
     "metadata": {},
     "output_type": "execute_result"
    }
   ],
   "execution_count": 163
  },
  {
   "cell_type": "code",
   "execution_count": null,
   "metadata": {
    "colab": {
     "base_uri": "https://localhost:8080/"
    },
    "id": "w-QC99MWJbrF",
    "outputId": "5224e3d0-b1fa-4bc7-958a-c2adde2d74e4"
   },
   "outputs": [],
   "source": [
    "best_greedy_ticker = find_ticker_for_greedy_selection(tickers, start_train_date, end_train_date)\n",
    "greedy_ticker_train_performace = get_expectation_ratio_for_greedy_performance(\n",
    "    best_greedy_ticker, start_train_date, end_train_date\n",
    ")\n",
    "greedy_ticker_test_performace = get_expectation_ratio_for_greedy_performance(\n",
    "    best_greedy_ticker, start_test_date, end_test_date\n",
    ")\n",
    "print(f\"\\n ticker to invest in greedy approach: {best_greedy_ticker}\")\n",
    "print(f\"Train expectation ratio: {greedy_ticker_train_performace}\")\n",
    "print(f\"Test expectation ratio: {greedy_ticker_test_performace}\")\n"
   ]
  },
  {
   "cell_type": "markdown",
   "metadata": {
    "id": "xwCsC8JNLtxY"
   },
   "source": [
    "Looks like our greedy method is not very helpful."
   ]
  },
  {
   "cell_type": "markdown",
   "metadata": {
    "id": "wt2gIPYzL1-_"
   },
   "source": [
    "## Task 3 Variance\n",
    "\n",
    "If stock has big variance it means that investor cannot be sure about the future. What is the variance in our case?\n",
    "\n",
    "Your task is to find $D\\xi_i$"
   ]
  },
  {
   "cell_type": "code",
   "execution_count": null,
   "metadata": {
    "colab": {
     "base_uri": "https://localhost:8080/"
    },
    "id": "f7a4Y2rJv73Y",
    "outputId": "a232b717-7790-4854-9151-07dcec9e245c"
   },
   "outputs": [],
   "source": [
    "def get_variance_from_return_ratio(ticker_return_ratio):\n",
    "    # Write your code here\n",
    "    pass\n",
    "\n",
    "def get_ticker_variance(ticker, buy_date, sell_date):\n",
    "    # Write your code here\n",
    "    pass\n",
    "\n",
    "assert 1.9 < get_ticker_variance(\"AAPL\", start_train_date, end_train_date) < 2.0\n"
   ]
  },
  {
   "cell_type": "markdown",
   "metadata": {
    "id": "nz0AlqjmwZa_"
   },
   "source": [
    "Then let's reformulate our task, we will select stock to invest by maximizing the following:\n",
    "\n",
    "$$\\text{company-to-invest} = \\max_i \\left( \\frac{E\\xi_i} {\\sqrt{ D\\xi_i}} \\right)$$"
   ]
  },
  {
   "cell_type": "code",
   "execution_count": null,
   "metadata": {
    "id": "rj2zGS0Mv75V"
   },
   "outputs": [],
   "source": [
    "def find_ticker_for_max_expectation_divided_by_var(tickers, buy_date, sell_date):\n",
    "    # Write your code here\n",
    "    pass\n"
   ]
  },
  {
   "cell_type": "code",
   "execution_count": null,
   "metadata": {
    "colab": {
     "base_uri": "https://localhost:8080/"
    },
    "id": "a5dIf6wUv77a",
    "outputId": "1bbb4925-11e2-4264-af78-aba39b6d6080"
   },
   "outputs": [],
   "source": [
    "best_expectation_var_ticker = find_ticker_for_max_expectation_divided_by_var(\n",
    "    tickers, start_train_date, end_train_date\n",
    ")\n",
    "expectation_var_train_performace = get_expectation_ratio_for_greedy_performance(\n",
    "    best_expectation_var_ticker, start_train_date, end_train_date\n",
    ")\n",
    "greedy_ticker_test_performace = get_expectation_ratio_for_greedy_performance(\n",
    "    best_expectation_var_ticker, start_test_date, end_test_date\n",
    ")\n",
    "print(f\"\\n ticker to invest in expectation-variance approach: {best_expectation_var_ticker}\")\n",
    "print(f\"Train expectation ratio: {expectation_var_train_performace}\")\n",
    "print(f\"Test expectation ratio: {greedy_ticker_test_performace}\")\n"
   ]
  },
  {
   "cell_type": "markdown",
   "metadata": {
    "id": "YoH2PtWon6Rw"
   },
   "source": [
    "Still not good..."
   ]
  },
  {
   "cell_type": "markdown",
   "metadata": {
    "id": "XR8x3gx8V55m"
   },
   "source": [
    "## Task 4 Linear combination\n",
    "\n",
    "In investing, there is a golden rule not to put all your eggs in one basket. So why shouldn't Ivan diversify his investments?\n",
    "\n",
    "Let's define the weight vector $w = (w_1, \\ldots, w_n)$ such that $|w| = \\sum_{i} w_i = 1;$ and  $ 0 \\le w_i \\le 1$ .\n",
    "\n",
    "Our solution can then be represented as:\n",
    "$\\xi = \\sum_i w_i \\xi_i$\n",
    "\n",
    "**Task:** Expand the final formula\n",
    "\n",
    "$$ \\max_w \\left (  \\frac{E[\\xi]} { \\sqrt{D[\\xi]} } \\right)   =\n",
    "    \\max_w \\left (  \\frac{E \\left[ \\sum_i w_i \\xi_i \\right] } { \\sqrt{D \\left[ \\sum_i w_i \\xi_i \\right] } } \\right)  = \\ldots\n",
    "$$  \n",
    "\n"
   ]
  },
  {
   "cell_type": "markdown",
   "metadata": {
    "id": "8S0wwN_kyHoF"
   },
   "source": [
    "To find best vector $w$ we have to create a function that returns our metric having vector $w$"
   ]
  },
  {
   "cell_type": "code",
   "execution_count": null,
   "metadata": {
    "colab": {
     "base_uri": "https://localhost:8080/"
    },
    "id": "wm5a22T8yUE9",
    "outputId": "165f8cf3-0630-4de2-fe88-94a5079a206c"
   },
   "outputs": [],
   "source": [
    "# Note: feel free to add additional functions\n",
    "\n",
    "def get_expectation(tickers, buy_date, sell_date, weights):\n",
    "    \"\"\"Calucate expected profit if we invest in each tickers with sertain weight.\"\"\"\n",
    "    # Write your code here\n",
    "    pass\n",
    "\n",
    "def create_functional(tickers, buy_date, sell_date):\n",
    "    # Write your code here\n",
    "\n",
    "    def functional(weights):\n",
    "        # Write your code here\n",
    "        pass\n",
    "\n",
    "\n",
    "    return functional\n",
    "\n",
    "\n",
    "functional = create_functional(tickers, start_train_date, end_train_date)\n",
    "\n",
    "\n",
    "equal_weights = [1 / len(ticker) for ticker in tickers]\n",
    "metric_for_equal_weights = functional(equal_weights)\n",
    "\n",
    "assert 1.0 < metric_for_equal_weights < 1.5\n"
   ]
  },
  {
   "cell_type": "markdown",
   "metadata": {
    "id": "YojoxeQi0C6v"
   },
   "source": [
    "## Task 5 Optimization\n",
    "\n",
    "But how to find best weights?\n",
    "\n",
    "Let's define optimization problem and use _minimize_ function from _sicpy_ package.\n",
    "\n",
    "**Your task** Find best weights and evaluate train and test results."
   ]
  },
  {
   "cell_type": "code",
   "execution_count": null,
   "metadata": {
    "colab": {
     "base_uri": "https://localhost:8080/"
    },
    "id": "dFAOhUZoywSx",
    "outputId": "d1ee466d-b095-44eb-b765-7b49af086dfc"
   },
   "outputs": [],
   "source": [
    "from scipy.optimize import minimize\n",
    "\n",
    "minimization_functional = lambda weights: - functional(weights)\n",
    "\n",
    "# Write you code here\n"
   ]
  },
  {
   "cell_type": "markdown",
   "metadata": {
    "id": "jYBEFe5gebZZ"
   },
   "source": [
    "## Task 6 Bonus: Experiment with initial weights\n",
    "\n",
    "\n",
    "For running mimimzation algorithm we need to define initial vector $w_0$, but how to do that?\n",
    "\n",
    "One of the approaches is to try $N$ different starting points and select the best.\n",
    "\n",
    "**Your task**\n",
    "1. Implement algorithm that generates $N$ random vectors for weights then tries to minimize functional $N$ times using these vectors as a starting points. And returns the best founded weights.\n",
    "2. Apply this  algorithm for our task and compare results\n"
   ]
  },
  {
   "cell_type": "code",
   "execution_count": null,
   "metadata": {
    "colab": {
     "base_uri": "https://localhost:8080/"
    },
    "id": "aJhfWr4N0llb",
    "outputId": "34c2798a-77ed-4958-ee68-09762671425e"
   },
   "outputs": [],
   "source": [
    "from tqdm import tqdm\n",
    "\n",
    "def generate_random_weights(vector_size):\n",
    "    # Write your code here\n",
    "    pass\n",
    "\n",
    "def random_search_for_initial_weights(functional_to_mimimize, n_tries, vector_size):\n",
    "    # Write your code here\n",
    "    pass\n",
    "\n",
    "\n",
    "optimal_weights, func_value = random_search_for_initial_weights(minimization_functional, 100, vector_size= len(tickers))\n",
    "\n",
    "\n",
    "print(\"Optimal weights:\", optimal_weights)\n",
    "print(\"Maximized F(weights):\", func_value)\n",
    "print(\"train expectation:\", get_expectation(tickers,start_train_date, end_train_date, optimal_weights))\n",
    "print(\"test expectation:\", get_expectation(tickers, start_test_date, end_test_date, optimal_weights))"
   ]
  }
 ],
 "metadata": {
  "colab": {
   "provenance": []
  },
  "kernelspec": {
   "display_name": "Python 3 (ipykernel)",
   "name": "python3",
   "language": "python"
  },
  "language_info": {
   "name": "python"
  }
 },
 "nbformat": 4,
 "nbformat_minor": 0
}
