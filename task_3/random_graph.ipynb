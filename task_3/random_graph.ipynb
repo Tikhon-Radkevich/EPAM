{
 "cells": [
  {
   "metadata": {
    "ExecuteTime": {
     "end_time": "2024-07-05T15:10:12.766850Z",
     "start_time": "2024-07-05T15:10:12.760365Z"
    }
   },
   "cell_type": "code",
   "source": [
    "import numpy as np\n",
    "from math import comb\n",
    "from itertools import combinations"
   ],
   "id": "84c721bcec57cdf",
   "outputs": [],
   "execution_count": 7
  },
  {
   "metadata": {},
   "cell_type": "markdown",
   "source": "#### Algo 1",
   "id": "1b407af382195968"
  },
  {
   "metadata": {
    "ExecuteTime": {
     "end_time": "2024-07-05T15:22:09.428693Z",
     "start_time": "2024-07-05T15:22:09.424695Z"
    }
   },
   "cell_type": "code",
   "source": [
    "def generate_graph(n_graphs, n_nodes, edge_p):\n",
    "    dtype = np.int8 if n_nodes < 128 else np.int16\n",
    "    random_values = (np.random.random((n_graphs, n_nodes, n_nodes)) < edge_p).astype(dtype)\n",
    "    \n",
    "    adjacency_matrices = np.triu(random_values, k=1)\n",
    "    return adjacency_matrices\n",
    "\n",
    "def count_triangles(graphs):\n",
    "    squared_matrix = np.matmul(graphs, graphs)\n",
    "    triangles_matrix = graphs * squared_matrix\n",
    "    n_triangles = np.sum(np.triu(triangles_matrix, k=1), axis=(1, 2))\n",
    "    return n_triangles"
   ],
   "id": "initial_id",
   "outputs": [],
   "execution_count": 24
  },
  {
   "metadata": {},
   "cell_type": "markdown",
   "source": "#### Algo 2",
   "id": "72a274c87db8d0f3"
  },
  {
   "metadata": {
    "ExecuteTime": {
     "end_time": "2024-07-05T15:22:10.046964Z",
     "start_time": "2024-07-05T15:22:10.043245Z"
    }
   },
   "cell_type": "code",
   "source": [
    "def generate_edges(n_nodes, p_edge, combinations_list):   \n",
    "    # combinations_list - all possible node pairs\n",
    "    \n",
    "    is_edge = np.random.random(comb(n_nodes, 2)) < p_edge    \n",
    "    selected_edges = {combinations_list[i] for i in range(len(combinations_list)) if is_edge[i]}\n",
    "    return selected_edges\n",
    "\n",
    "def calc_triangles_from_edges(triangle_pairs, edges):\n",
    "    con = lambda pairs: all(pair in edges for pair in pairs)\n",
    "    n_triangles = sum(1 for pairs in triangle_pairs if con(pairs))\n",
    "    return n_triangles"
   ],
   "id": "5c1085ecacaf8f31",
   "outputs": [],
   "execution_count": 25
  },
  {
   "metadata": {
    "ExecuteTime": {
     "end_time": "2024-07-05T15:22:10.510163Z",
     "start_time": "2024-07-05T15:22:10.501855Z"
    }
   },
   "cell_type": "code",
   "source": [
    "n = 250  # number of nodes\n",
    "p = 0.05\n",
    "\n",
    "print(\"E =\", comb(n, 3) * p**3)"
   ],
   "id": "a5c9192cf8f7e53d",
   "outputs": [
    {
     "name": "stdout",
     "output_type": "stream",
     "text": [
      "E = 321.62500000000006\n"
     ]
    }
   ],
   "execution_count": 26
  },
  {
   "metadata": {},
   "cell_type": "markdown",
   "source": "#### Algo 1",
   "id": "2c81f48cf58f9699"
  },
  {
   "metadata": {
    "ExecuteTime": {
     "end_time": "2024-07-05T15:22:12.444415Z",
     "start_time": "2024-07-05T15:22:11.420930Z"
    }
   },
   "cell_type": "code",
   "source": [
    "%%time\n",
    "# generate 100 random graphs with 250 nodes\n",
    "random_graphs = generate_graph(100, n, p)\n",
    "triangles = count_triangles(random_graphs)"
   ],
   "id": "fd7e4b747571977c",
   "outputs": [
    {
     "name": "stdout",
     "output_type": "stream",
     "text": [
      "CPU times: user 1.01 s, sys: 15.8 ms, total: 1.02 s\n",
      "Wall time: 1.02 s\n"
     ]
    }
   ],
   "execution_count": 27
  },
  {
   "metadata": {
    "ExecuteTime": {
     "end_time": "2024-07-05T15:22:13.060612Z",
     "start_time": "2024-07-05T15:22:13.053382Z"
    }
   },
   "cell_type": "code",
   "source": "print(\"mean triangles\", np.mean(triangles))",
   "id": "bc490841f1f72060",
   "outputs": [
    {
     "name": "stdout",
     "output_type": "stream",
     "text": [
      "mean triangles 322.29\n"
     ]
    }
   ],
   "execution_count": 28
  },
  {
   "metadata": {},
   "cell_type": "markdown",
   "source": "#### Algo 2",
   "id": "3453b58bebebbe88"
  },
  {
   "metadata": {
    "ExecuteTime": {
     "end_time": "2024-07-05T15:22:18.216641Z",
     "start_time": "2024-07-05T15:22:14.028674Z"
    }
   },
   "cell_type": "code",
   "source": [
    "combinations_list = list(combinations(range(n), 2))  # all possible node pairs\n",
    "all_possible_triangles = list(combinations(range(n), 3))\n",
    "all_possible_pairs = [list(combinations(triangle, 2)) for triangle in all_possible_triangles]"
   ],
   "id": "5b4f4c6d45eb9d28",
   "outputs": [],
   "execution_count": 29
  },
  {
   "metadata": {
    "ExecuteTime": {
     "end_time": "2024-07-05T15:22:18.801248Z",
     "start_time": "2024-07-05T15:22:18.783532Z"
    }
   },
   "cell_type": "code",
   "source": [
    "%%time\n",
    "# generate one random graph with 250 nodes\n",
    "graph = generate_edges(n, p, combinations_list)"
   ],
   "id": "5e3c87b3d3b329d1",
   "outputs": [
    {
     "name": "stdout",
     "output_type": "stream",
     "text": [
      "CPU times: user 9.67 ms, sys: 3.44 ms, total: 13.1 ms\n",
      "Wall time: 10.7 ms\n"
     ]
    }
   ],
   "execution_count": 30
  },
  {
   "metadata": {
    "ExecuteTime": {
     "end_time": "2024-07-05T15:22:20.763470Z",
     "start_time": "2024-07-05T15:22:19.679819Z"
    }
   },
   "cell_type": "code",
   "source": [
    "%%time\n",
    "n_triangles = calc_triangles_from_edges(all_possible_pairs, graph)"
   ],
   "id": "828e68f2c7eed35c",
   "outputs": [
    {
     "name": "stdout",
     "output_type": "stream",
     "text": [
      "CPU times: user 1.08 s, sys: 80 µs, total: 1.08 s\n",
      "Wall time: 1.08 s\n"
     ]
    }
   ],
   "execution_count": 31
  },
  {
   "metadata": {
    "ExecuteTime": {
     "end_time": "2024-07-05T15:22:21.753931Z",
     "start_time": "2024-07-05T15:22:21.750825Z"
    }
   },
   "cell_type": "code",
   "source": "print(\"n triangles\", n_triangles)",
   "id": "c5c91ac582abcd54",
   "outputs": [
    {
     "name": "stdout",
     "output_type": "stream",
     "text": [
      "n triangles 295\n"
     ]
    }
   ],
   "execution_count": 32
  },
  {
   "metadata": {},
   "cell_type": "code",
   "outputs": [],
   "execution_count": null,
   "source": "",
   "id": "929abf8b16482506"
  }
 ],
 "metadata": {
  "kernelspec": {
   "display_name": "Python 3",
   "language": "python",
   "name": "python3"
  },
  "language_info": {
   "codemirror_mode": {
    "name": "ipython",
    "version": 2
   },
   "file_extension": ".py",
   "mimetype": "text/x-python",
   "name": "python",
   "nbconvert_exporter": "python",
   "pygments_lexer": "ipython2",
   "version": "2.7.6"
  }
 },
 "nbformat": 4,
 "nbformat_minor": 5
}
