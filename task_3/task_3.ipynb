{
 "cells": [
  {
   "cell_type": "markdown",
   "metadata": {},
   "source": [
    "\n",
    "## Глава 3 Теоремы теории вероятностей\n",
    "\n",
    "**Кандидат должен знать:**\n",
    "\n",
    "- Закон больших чисел и усиленный закон больших чисел\n",
    "- Центральная предельная теорема\n",
    "- Многомерные распределения\n",
    "\n",
    "**Материалы:**\n",
    "- [Райгородский курс по тер. веру лекции 8,9,12,13](https://www.youtube.com/watch?v=n7jx2MfIeX4&list=PLthfp5exSWEr8tRK-Yf-i9aXgcFJ-O16d&index=8)\n",
    "- [курс ТВ  на степике из частей 2,4](https://stepik.org/course/3089)\n",
    "\n",
    "\n",
    "## Задачи с кодингом\n",
    "\n",
    "\n",
    "### 1. Генерация нормальной случайной величины\n",
    "\n",
    "**Дано:**\n",
    "\n",
    "Пусть у нас есть случайная величина $\\xi \\sim U[0,1]$ . \n",
    "\n",
    "**Задача:**\n",
    "1. На основе данной случайной величины с помощью ЦПТ осуществите моделирование  ($n = 10000$) случайной величины  $\\eta \\sim N(\\mu, \\sigma^2)$\n",
    "\n",
    "2. Постройте график полтности распределения и сравните с теоритическим. \n",
    "\n",
    "3. Вычислить математического ожидания и дисперсии, сравнить их с истинными значениями.\n",
    "\n",
    "**Примечания**\n",
    "\n",
    "1. Для генерации реализаций $\\xi$ можно восппользоваться функцией numpy.random.random()\n",
    "2.  Для построения теоритического графика плотности распределения нормальной величины можно воспользоваться функцией scipy.stats.norm.ppf"
   ]
  },
  {
   "metadata": {},
   "cell_type": "markdown",
   "source": [
    "### 1. Генерация нормальной случайной величины\n",
    "### 3. Вычисление мат. ожидания и дисперсии"
   ]
  },
  {
   "metadata": {},
   "cell_type": "markdown",
   "source": [
    "Let $X$ be a uniformly distributed random variable, and $\\eta$ be a normally distributed random variable.\n",
    "\n",
    "$\\eta = \\frac{1}{N_x} \\sum_{i=1}^{N_x} X_i$\n",
    "<br>\n",
    "$\\mu_{\\eta} = \\frac{1}{N_x} \\mu \\left( \\sum_{i=1}^{N_x} X_i \\right) = \\frac{1}{N_x} \\sum_{i=1}^{N} \\mu(X_i) = \\mu_X$\n",
    "<br>\n",
    "\n",
    "$\n",
    "\\sigma_\\eta^2 = \\frac{1}{(N_x-1)^2} \\sum_{i=1}^{N_x} \\sigma_{x_i}^2 = \\frac{N_x \\cdot \\sigma_x^2}{(N_x-1)^2} \\approx \\left[\\text{if } N_x > 100\\right] \\approx \\frac{\\sigma_x^2}{N_x}\n",
    "$\n",
    "\n",
    "\n",
    "<br><br><br>\n",
    "$\\mu_X = \\mu_{\\eta}$\n",
    "<br>\n",
    "$\\sigma_x^2 = N_x \\cdot \\sigma_\\eta^2$\n",
    "\n",
    "Now I need random uniform values $X$ with $\\mu_X$ and $\\sigma_x^2$:\n",
    "\n",
    "\n",
    "\\begin{cases}\n",
    "\\mu_X = \\frac{a + b}{2} \\\\\n",
    "\\sigma_x^2 = \\frac{(b - a)^2}{12} \n",
    "\\end{cases}\n",
    "\n",
    "\\begin{cases}\n",
    "a = \\mu_X - \\sqrt{3 \\cdot \\sigma_x^2} \\\\\n",
    "b = \\mu_X + \\sqrt{3 \\cdot \\sigma_x^2}\n",
    "\\end{cases}\n",
    "\n",
    "\n",
    "$X = a + Z \\cdot (b - a) \\quad \\text{where} \\quad Z \\sim U[0, 1]$"
   ]
  },
  {
   "metadata": {},
   "cell_type": "markdown",
   "source": ""
  },
  {
   "metadata": {
    "ExecuteTime": {
     "end_time": "2024-07-03T12:41:35.053886Z",
     "start_time": "2024-07-03T12:41:34.060258Z"
    }
   },
   "cell_type": "code",
   "source": [
    "import math\n",
    "from tqdm import tqdm\n",
    "\n",
    "import numpy as np\n",
    "from scipy.stats import norm\n",
    "\n",
    "import matplotlib.pyplot as plt\n",
    "import plotly.express as px\n",
    "import plotly.graph_objects as go"
   ],
   "outputs": [],
   "execution_count": 1
  },
  {
   "metadata": {
    "ExecuteTime": {
     "end_time": "2024-07-03T12:41:35.060360Z",
     "start_time": "2024-07-03T12:41:35.055407Z"
    }
   },
   "cell_type": "code",
   "source": [
    "def generate_eta(mu_eta, var_eta, n_x, n_eta):    \n",
    "    mu_x = mu_eta\n",
    "    var_x = n_x * var_eta\n",
    "\n",
    "    a = mu_x - np.sqrt(3 * var_x)\n",
    "    b = mu_x + np.sqrt(3 * var_x)\n",
    "\n",
    "    Z = np.random.random((n_eta, n_x))\n",
    "    X = a + Z * (b - a)\n",
    "    \n",
    "    return X.mean(axis=1)"
   ],
   "outputs": [],
   "execution_count": 2
  },
  {
   "metadata": {
    "ExecuteTime": {
     "end_time": "2024-07-03T12:41:35.085119Z",
     "start_time": "2024-07-03T12:41:35.062285Z"
    }
   },
   "cell_type": "code",
   "source": [
    "mu = -7\n",
    "var = 13\n",
    "sigma = np.sqrt(var)\n",
    "N_x = 100\n",
    "N_eta = 10 ** 4\n",
    "\n",
    "eta = generate_eta(mu, var, N_x, N_eta)\n",
    "\n",
    "print(\"###  Task 3: Real E and Var VS Estimated E and Var  ###\\n\")\n",
    "print(f\"Real mu: {mu}; Estimated mu: {eta.mean()}\")\n",
    "print(f\"Real var: {var}; Estimated var: {eta.var()}\")"
   ],
   "outputs": [
    {
     "name": "stdout",
     "output_type": "stream",
     "text": [
      "###  Task 3: Real E and Var VS Estimated E and Var  ###\n",
      "\n",
      "Real mu: -7; Estimated mu: -7.012755244686017\n",
      "Real var: 13; Estimated var: 13.111385867917834\n"
     ]
    }
   ],
   "execution_count": 3
  },
  {
   "metadata": {
    "ExecuteTime": {
     "end_time": "2024-07-03T12:41:35.220454Z",
     "start_time": "2024-07-03T12:41:35.086481Z"
    }
   },
   "cell_type": "code",
   "source": "fig = px.histogram(eta, nbins=40, title=\"Distribution of eta\", labels={\"value\": \"Value\"}, height=700, width=500)",
   "outputs": [],
   "execution_count": 4
  },
  {
   "metadata": {
    "ExecuteTime": {
     "end_time": "2024-07-03T12:41:35.224264Z",
     "start_time": "2024-07-03T12:41:35.221760Z"
    }
   },
   "cell_type": "code",
   "source": "# fig.show()",
   "outputs": [],
   "execution_count": 5
  },
  {
   "metadata": {},
   "cell_type": "markdown",
   "source": "![](plots/norm_distribution.png)"
  },
  {
   "metadata": {},
   "cell_type": "markdown",
   "source": "### 2. График полтности распределения. Сравние с теоритическим графиком"
  },
  {
   "metadata": {
    "ExecuteTime": {
     "end_time": "2024-07-03T12:41:35.484184Z",
     "start_time": "2024-07-03T12:41:35.449641Z"
    }
   },
   "cell_type": "code",
   "source": [
    "fig = go.Figure()\n",
    "\n",
    "norm_x = np.linspace(norm.ppf(0.0001, loc=mu, scale=sigma), norm.ppf(0.9999, loc=mu, scale=sigma), N_eta)\n",
    "norm_y = norm.pdf(norm_x, loc=mu, scale=sigma)\n",
    "\n",
    "fig.add_trace(go.Scatter(x=norm_x, y=norm_y, mode=\"lines\", line=dict(color=\"darkblue\", width=5), name=\"norm pdf\"))\n",
    "\n",
    "hist_y, hist_x = np.histogram(eta, bins=\"auto\", density=True)\n",
    "fig.add_trace(go.Bar(x=hist_x, y=hist_y, opacity=0.6, name=\"histogram\", marker=dict(color=\"darkgreen\")))\n",
    "\n",
    "fig = fig.update_layout(\n",
    "    title=\"Normal Distribution\",\n",
    "    xaxis_title=\"Value\",\n",
    "    yaxis_title=\"Density\",\n",
    "    template=\"plotly_dark\",\n",
    "    legend=dict(x=0.8, y=1.0),\n",
    "    height=700,\n",
    "    width=500\n",
    ")"
   ],
   "outputs": [],
   "execution_count": 6
  },
  {
   "metadata": {
    "ExecuteTime": {
     "end_time": "2024-07-03T12:41:35.902666Z",
     "start_time": "2024-07-03T12:41:35.900228Z"
    }
   },
   "cell_type": "code",
   "source": "# fig.show()",
   "outputs": [],
   "execution_count": 7
  },
  {
   "metadata": {},
   "cell_type": "markdown",
   "source": "![](plots/norm_pdf.png)"
  },
  {
   "cell_type": "markdown",
   "metadata": {},
   "source": [
    "### 2. Казино \n",
    "\n",
    "В казино имеется две игры:\n",
    "\n",
    "**a. Кубики:**\n",
    "\n",
    "Игрок платит 4&#36; и бросает два кубика. Если в сумме выпало 8 и более то игрок получает приз равный полученной сумме.\n",
    "\n",
    "**b. Разгадай код:**\n",
    "\n",
    "Есть пятизначный код (на каждой позиции стоит цифра от 0 до 9).  Игрок платит 10&#36; и пытается угадать код:\n",
    "    \n",
    "    - Если игрок меньше двух позиций то ничего не получает \n",
    "    - Если игрок угадал ровно две позиции из 5-ти, то он получает 50\n",
    "    - Если игроку гадал ровно три позиции из 5-ти, то выигрыш 200\n",
    "    - Если игроку гадал ровно четыре позиции из 5-ти, то выигрыш 5000\n",
    "    - Если игрок угадал весь код правильно то выигрыш 100000.\n",
    "    После каждой попытка код меняется.\n",
    "\n",
    "**Задача:**\n",
    "\n",
    "Пусть $\\xi ,  \\eta $ - случайные величины равные выигрышу(проигрышу) игрока в раунде.\n",
    "1. Посчитать $E\\xi$ и $E\\eta$\n",
    "2. Смоделировать случайные величины $\\xi$ и $\\eta $\n",
    "3. Построить графики сходимости среднего выигрыша(проигрыша) игрока к математическому ожиданию.\n",
    "4. Одинаковая ли скорость сходимости  сл. величины к своему математическому ожиданию. Почему?\n",
    "4. Какое бы $n$ - количество эеспериментов вы би взяли, для оценки мат. ожидания?\n",
    "\n",
    "\n"
   ]
  },
  {
   "metadata": {},
   "cell_type": "markdown",
   "source": [
    "## a. Кубики\n",
    "### 1) Расчет мат. ожидания"
   ]
  },
  {
   "metadata": {
    "ExecuteTime": {
     "end_time": "2024-07-03T12:41:37.547674Z",
     "start_time": "2024-07-03T12:41:37.540178Z"
    }
   },
   "cell_type": "code",
   "source": [
    "win_amounts = np.array([0 if i < 8 else i for i in range(0, 13)]) - 4\n",
    "\n",
    "possible_dice_values = [i + j for i in range(1, 7) for j in range(1, 7)]\n",
    "count_values = [possible_dice_values.count(i) for i in range(2, 13)]\n",
    "probs = list(map(lambda x: x / 36, count_values))\n",
    "\n",
    "# skip 0 and 1 because we can't get this sums from two dices\n",
    "E_xi = sum([prob * value for prob, value in zip(probs, win_amounts[2:])])  \n",
    "second_moment = sum([prob * value ** 2 for prob, value in zip(probs, win_amounts[2:])])\n",
    "\n",
    "D_xi = second_moment - E_xi ** 2\n",
    "\n",
    "print(\"Value: Probability -\", \",  \".join([f\"{i + 2}: {count_values[i]}/36\" for i in range(11)]))\n",
    "print(\"Probs sum:\", sum(count_values) / 36)\n",
    "print(\"Theoretical E_xi:\", round(E_xi, 5))\n",
    "print(\"Theoretical D_xi:\", round(D_xi, 5))"
   ],
   "outputs": [
    {
     "name": "stdout",
     "output_type": "stream",
     "text": [
      "Value: Probability - 2: 1/36,  3: 2/36,  4: 3/36,  5: 4/36,  6: 5/36,  7: 6/36,  8: 5/36,  9: 4/36,  10: 3/36,  11: 2/36,  12: 1/36\n",
      "Probs sum: 1.0\n",
      "Theoretical E_xi: -0.11111\n",
      "Theoretical D_xi: 21.82099\n"
     ]
    }
   ],
   "execution_count": 8
  },
  {
   "metadata": {},
   "cell_type": "markdown",
   "source": "### 2) Моделирование случайной величины"
  },
  {
   "metadata": {
    "ExecuteTime": {
     "end_time": "2024-07-03T12:41:38.379095Z",
     "start_time": "2024-07-03T12:41:38.375131Z"
    }
   },
   "cell_type": "code",
   "source": [
    "np.random.seed(48)\n",
    "\n",
    "n_samples = 9*10**3\n",
    "dice_values = np.random.randint(1, 7, 2 * n_samples)\n",
    "dice_sums = dice_values[::2] + dice_values[1::2]\n",
    "xi_values = win_amounts[dice_sums]\n",
    "\n",
    "print(\"Simulated E_xi:\", xi_values.mean())"
   ],
   "outputs": [
    {
     "name": "stdout",
     "output_type": "stream",
     "text": [
      "Simulated E_xi: -0.11477777777777778\n"
     ]
    }
   ],
   "execution_count": 9
  },
  {
   "metadata": {},
   "cell_type": "markdown",
   "source": "### 3. Сходимость среднего выигрыша к математическому ожиданию"
  },
  {
   "metadata": {
    "ExecuteTime": {
     "end_time": "2024-07-03T12:41:39.200725Z",
     "start_time": "2024-07-03T12:41:39.196512Z"
    }
   },
   "cell_type": "code",
   "source": [
    "def plot(values, mean_value):\n",
    "    cumulative_means = np.cumsum(values) / np.arange(1, len(values) + 1)\n",
    "\n",
    "    fig = go.Figure()\n",
    "\n",
    "    fig.add_trace(go.Scatter(\n",
    "        x=np.arange(1, len(values) + 1),\n",
    "        y=cumulative_means,\n",
    "        mode=\"lines\",\n",
    "        name=\"Среднее значение выигрыша\"\n",
    "    ))\n",
    "\n",
    "    fig.add_trace(go.Scatter(\n",
    "        x=[1, len(values)],\n",
    "        y=[mean_value, mean_value],\n",
    "        mode=\"lines\",\n",
    "        line=dict(dash=\"dash\", color=\"red\"),\n",
    "        name=\"Математическое ожидание\"\n",
    "    ))\n",
    "\n",
    "    fig.update_layout(\n",
    "        title=\"Сходимость среднего выигрыша к математическому ожиданию\",\n",
    "        xaxis_title=\"Количество наблюдений\",\n",
    "        yaxis_title=\"Средний выигрыш\",\n",
    "        legend=dict(x=0.8, y=1.0),\n",
    "        template=\"plotly_dark\"\n",
    "    )\n",
    "\n",
    "    fig.show()"
   ],
   "outputs": [],
   "execution_count": 10
  },
  {
   "metadata": {
    "ExecuteTime": {
     "end_time": "2024-07-03T12:41:39.706042Z",
     "start_time": "2024-07-03T12:41:39.703415Z"
    }
   },
   "cell_type": "code",
   "source": "# plot(xi_values, E_xi)",
   "outputs": [],
   "execution_count": 11
  },
  {
   "metadata": {},
   "cell_type": "markdown",
   "source": "![](plots/dice_expectation.png)"
  },
  {
   "metadata": {},
   "cell_type": "markdown",
   "source": "### 5) Оценка количества экспериментов"
  },
  {
   "metadata": {
    "ExecuteTime": {
     "end_time": "2024-07-03T12:41:43.156433Z",
     "start_time": "2024-07-03T12:41:43.153224Z"
    }
   },
   "cell_type": "code",
   "source": [
    "def estimate_n(variance_x, eps_x, x):\n",
    "    return ((x * np.sqrt(variance_x)) / eps_x) ** 2"
   ],
   "outputs": [],
   "execution_count": 12
  },
  {
   "metadata": {
    "ExecuteTime": {
     "end_time": "2024-07-03T12:41:44.186474Z",
     "start_time": "2024-07-03T12:41:44.179699Z"
    }
   },
   "cell_type": "code",
   "source": [
    "z = 1.96\n",
    "eps = 0.09\n",
    "\n",
    "estimate_n(D_xi, eps, z)"
   ],
   "outputs": [
    {
     "data": {
      "text/plain": [
       "10349.074836153028"
      ]
     },
     "execution_count": 13,
     "metadata": {},
     "output_type": "execute_result"
    }
   ],
   "execution_count": 13
  },
  {
   "metadata": {},
   "cell_type": "markdown",
   "source": [
    "## b. Разгадай код\n",
    "### 1)  Расчет мат. ожидания"
   ]
  },
  {
   "metadata": {
    "ExecuteTime": {
     "end_time": "2024-07-03T12:41:44.889868Z",
     "start_time": "2024-07-03T12:41:44.884619Z"
    }
   },
   "cell_type": "code",
   "source": [
    "p = 0.1\n",
    "q = 0.9\n",
    "guess_code_win_amounts = np.array([0, 0, 50, 200, 5000, 100000]) - 10\n",
    "code_game_probs = [math.comb(5, i) * p ** i * q ** (5 - i) for i in range(6)]\n",
    "E_eta = sum([prob * value for prob, value in zip(code_game_probs, guess_code_win_amounts)])\n",
    "eta_second_moment = sum([prob * value ** 2 for prob, value in zip(code_game_probs, guess_code_win_amounts)])\n",
    "D_eta = eta_second_moment - E_eta ** 2\n",
    "\n",
    "print(\"Probs\", list(map(lambda x: round(x, 5), code_game_probs)))\n",
    "print(\"Probs sum\", sum(code_game_probs))\n",
    "print(\"Theoretical E_eta:\", round(E_eta, 5))\n",
    "print(\"Theoretical D_eta:\", round(D_eta, 5))"
   ],
   "outputs": [
    {
     "name": "stdout",
     "output_type": "stream",
     "text": [
      "Probs [0.59049, 0.32805, 0.0729, 0.0081, 0.00045, 1e-05]\n",
      "Probs sum 1.0\n",
      "Theoretical E_eta: -1.485\n",
      "Theoretical D_eta: 111683.74478\n"
     ]
    }
   ],
   "execution_count": 14
  },
  {
   "metadata": {},
   "cell_type": "markdown",
   "source": "### 2) Моделирование случайной величины"
  },
  {
   "metadata": {
    "ExecuteTime": {
     "end_time": "2024-07-03T12:41:45.820137Z",
     "start_time": "2024-07-03T12:41:45.648421Z"
    }
   },
   "cell_type": "code",
   "source": [
    "np.random.seed(12)\n",
    "N_plays = 1 * 10 ** 6\n",
    "\n",
    "random_values_code = np.random.randint(0, 10, (N_plays, 5))\n",
    "code_guesses = np.random.randint(0, 10, (N_plays, 5))\n",
    "\n",
    "is_guess_random_code = code_guesses == random_values_code\n",
    "random_guesses = is_guess_random_code.sum(axis=1)\n",
    "random_guesses_win_amounts = guess_code_win_amounts[random_guesses]\n",
    "print(\"random E\", random_guesses_win_amounts.mean())\n",
    "\n",
    "print(\"real E\", round(E_eta, 5))"
   ],
   "outputs": [
    {
     "name": "stdout",
     "output_type": "stream",
     "text": [
      "random E -1.4936\n",
      "real E -1.485\n"
     ]
    }
   ],
   "execution_count": 15
  },
  {
   "metadata": {},
   "cell_type": "markdown",
   "source": "### 3. Сходимость среднего выигрыша к математическому ожиданию"
  },
  {
   "metadata": {
    "ExecuteTime": {
     "end_time": "2024-07-03T12:41:57.288748Z",
     "start_time": "2024-07-03T12:41:57.286263Z"
    }
   },
   "cell_type": "code",
   "source": "# plot(random_guesses_win_amounts, E_eta)",
   "outputs": [],
   "execution_count": 17
  },
  {
   "metadata": {},
   "cell_type": "markdown",
   "source": "![](plots/code_expectation.png)"
  },
  {
   "metadata": {},
   "cell_type": "markdown",
   "source": "### 5) Оценка количества экспериментов"
  },
  {
   "metadata": {
    "ExecuteTime": {
     "end_time": "2024-07-03T12:41:58.267665Z",
     "start_time": "2024-07-03T12:41:58.262986Z"
    }
   },
   "cell_type": "code",
   "source": "estimate_n(D_eta, eps, z)",
   "outputs": [
    {
     "data": {
      "text/plain": [
       "52968428.87995556"
      ]
     },
     "execution_count": 18,
     "metadata": {},
     "output_type": "execute_result"
    }
   ],
   "execution_count": 18
  },
  {
   "metadata": {},
   "cell_type": "markdown",
   "source": [
    "### 4) Сравнение скорости сходимости\n",
    "\n",
    "Скорости сходимости разные, так как есть значительные различия в дисперсиях случайных величин.\n"
   ]
  },
  {
   "metadata": {
    "ExecuteTime": {
     "end_time": "2024-07-03T12:42:45.264005Z",
     "start_time": "2024-07-03T12:42:45.261267Z"
    }
   },
   "cell_type": "code",
   "source": [
    "print(\"D_xi:\", D_xi)\n",
    "print(\"D_eta:\", D_eta)"
   ],
   "outputs": [
    {
     "name": "stdout",
     "output_type": "stream",
     "text": [
      "D_xi: 21.82098765432099\n",
      "D_eta: 111683.74477500003\n"
     ]
    }
   ],
   "execution_count": 20
  },
  {
   "cell_type": "markdown",
   "metadata": {},
   "source": [
    "### Случайный граф\n",
    "\n",
    "\n",
    "**Условие**\n",
    "\n",
    "Пусть G(n,p) -  случайный граф на $n$ вершинах, где $p$ - это вероятность появления ребра между любыми двумя вершинами.\n",
    "\n",
    "Обозначим за $\\xi(n,p)$ - количество треугольников (т.е. полных подграфов на трёх вершинах) в случайном графе  \n",
    "\n",
    "**Задача 1:**\n",
    "\n",
    "1. Найти $E\\xi$\n",
    "2. Реализовать моделирование случайного случайного графа и функцию нахождения количества треугольников. \n",
    "3. Рассмотрим G(3,p) - случайный граф на трёх вершинах. Реализуйте $\\tau$ - случайная величина равная 1 если граф полный и 0 иначе.\n",
    "\n",
    "\n",
    "**Задача 2:**\n",
    "\n",
    "- Пусть M(k) - среднее количество треугольников после k генераций случайного графа. \n",
    "- И пусть T(k)  - среднее количество треугольников после генераций случайного графа на трёх вершинах (т.е. на каждой итерации генерируем $C_n^3$ графов на трёх вершинах).\n",
    "\n",
    "1. Верно ли что $M(k) \\rightarrow E\\xi$ при $k \\rightarrow \\infty$ \n",
    "2. Верно ли что $T(k) \\rightarrow  E\\xi$ при $k \\rightarrow \\infty$\n",
    "\n",
    "3. Рассмотрите два графа $G_1(10, \\frac{1}{2})$ и $G_2(10, \\frac{1}{20})$.  Построите графики  $M(k)$, $T(k)$ и $E\\xi$ (константа) для заданных графов.\n",
    "\n",
    "**Задача 3**:\n",
    "\n",
    "Проделайте аналогичные рассуждения для $D \\xi$ т.е.\n",
    "- Найдите  $D \\xi$  математически.\n",
    "- Посчитайте дисперсию количества треугольников, k раз реализуя случайный граф.\n",
    "- Посчитайте дисперсию количества треугольников, k раз генерируя  $C_n^3$ реализаций случайной величины $\\tau$ .\n",
    "- оцените сходимость\n",
    "- Постройте графики для графов  $G_1(10, \\frac{1}{2})$ и $G_2(10, \\frac{1}{20})$."
   ]
  },
  {
   "metadata": {},
   "cell_type": "markdown",
   "source": [
    "## Задача 1\n",
    "#### 1. Найти $E\\xi$\n",
    "Пусть I - случайная величина равная 1 если между конкретными тремя вершинами образовался треугольник. Тогда $\\xi = \\sum_{i=1}^{C_n^3} I_i$.\n",
    "\n",
    "$E\\xi = E\\sum_{i=1}^{C_n^3} I_i = \\sum_{i=1}^{C_n^3} E I_i = C_n^3 \\cdot p^3$"
   ]
  },
  {
   "metadata": {},
   "cell_type": "markdown",
   "source": "#### 2. Моделирования случайного графа и реализация функции нахождения количества треугольников."
  },
  {
   "metadata": {
    "ExecuteTime": {
     "end_time": "2024-07-03T12:43:33.519838Z",
     "start_time": "2024-07-03T12:43:33.514770Z"
    }
   },
   "cell_type": "code",
   "source": [
    "def generate_graph(n_graphs, n_nodes, edge_p):\n",
    "    dtype = np.int8 if n_nodes < 128 else np.int16\n",
    "    random_values = (np.random.random((n_graphs, n_nodes, n_nodes)) < edge_p).astype(dtype)\n",
    "    adjacency_matrices = np.triu(random_values, k=1)\n",
    "    return adjacency_matrices\n",
    "\n",
    "\n",
    "def count_triangles(graphs):\n",
    "    squared_matrix = np.matmul(graphs, graphs)\n",
    "    triangles_matrix = graphs * squared_matrix\n",
    "    n_triangles = np.sum(np.triu(triangles_matrix, k=1), axis=(1, 2))\n",
    "    return n_triangles"
   ],
   "outputs": [],
   "execution_count": 25
  },
  {
   "metadata": {
    "ExecuteTime": {
     "end_time": "2024-07-03T12:43:33.797312Z",
     "start_time": "2024-07-03T12:43:33.792400Z"
    }
   },
   "cell_type": "code",
   "source": [
    "random_graphs = generate_graph(1, 5, 1)\n",
    "triangles = count_triangles(random_graphs)\n",
    "\n",
    "print(\"mean triangles\", np.mean(triangles))"
   ],
   "outputs": [
    {
     "name": "stdout",
     "output_type": "stream",
     "text": [
      "mean triangles 10.0\n"
     ]
    }
   ],
   "execution_count": 26
  },
  {
   "metadata": {},
   "cell_type": "markdown",
   "source": [
    "#### 3. G(3,p) - случайный граф на трех вершинах.\n",
    "\n",
    "Для одного ргафа: $E\\tau = 1 \\cdot p^3 + 0 \\cdot (1 - p^3) = p^3$"
   ]
  },
  {
   "metadata": {},
   "cell_type": "markdown",
   "source": "## Задача 2"
  },
  {
   "metadata": {
    "ExecuteTime": {
     "end_time": "2024-07-03T12:43:34.837755Z",
     "start_time": "2024-07-03T12:43:34.833873Z"
    }
   },
   "cell_type": "code",
   "source": [
    "k = 10 ** 5\n",
    "n = 20\n",
    "p = 0.05\n",
    "\n",
    "print(\"E_xi = E_tau =\", math.comb(n, 3) * p ** 3)"
   ],
   "outputs": [
    {
     "name": "stdout",
     "output_type": "stream",
     "text": [
      "E_xi = E_tau = 0.14250000000000004\n"
     ]
    }
   ],
   "execution_count": 27
  },
  {
   "metadata": {},
   "cell_type": "markdown",
   "source": "#### M(k)"
  },
  {
   "metadata": {
    "ExecuteTime": {
     "end_time": "2024-07-03T12:43:36.847575Z",
     "start_time": "2024-07-03T12:43:35.654007Z"
    }
   },
   "cell_type": "code",
   "source": [
    "%%time\n",
    "random_graphs = generate_graph(k, n, p)\n",
    "n_triangles_in_each_graph = count_triangles(random_graphs)"
   ],
   "outputs": [
    {
     "name": "stdout",
     "output_type": "stream",
     "text": [
      "CPU times: user 1.14 s, sys: 55.4 ms, total: 1.19 s\n",
      "Wall time: 1.19 s\n"
     ]
    }
   ],
   "execution_count": 28
  },
  {
   "metadata": {
    "ExecuteTime": {
     "end_time": "2024-07-03T12:43:38.025559Z",
     "start_time": "2024-07-03T12:43:38.021667Z"
    }
   },
   "cell_type": "code",
   "source": [
    "M_k = np.mean(n_triangles_in_each_graph)\n",
    "print(\"M_k:\", M_k)"
   ],
   "outputs": [
    {
     "name": "stdout",
     "output_type": "stream",
     "text": [
      "M_k: 0.14311\n"
     ]
    }
   ],
   "execution_count": 29
  },
  {
   "metadata": {},
   "cell_type": "markdown",
   "source": "#### T(k)"
  },
  {
   "metadata": {
    "ExecuteTime": {
     "end_time": "2024-07-03T12:43:41.585567Z",
     "start_time": "2024-07-03T12:43:40.596501Z"
    }
   },
   "cell_type": "code",
   "source": [
    "random_graphs = (np.random.random((k, math.comb(n, 3))) < p ** 3).astype(np.int8)\n",
    "N_triangles = random_graphs.sum(axis=1)"
   ],
   "outputs": [],
   "execution_count": 30
  },
  {
   "metadata": {
    "ExecuteTime": {
     "end_time": "2024-07-03T12:43:41.591787Z",
     "start_time": "2024-07-03T12:43:41.587235Z"
    }
   },
   "cell_type": "code",
   "source": [
    "T_k = np.mean(N_triangles)\n",
    "print(\"T_k:\", T_k)"
   ],
   "outputs": [
    {
     "name": "stdout",
     "output_type": "stream",
     "text": [
      "T_k: 0.14227\n"
     ]
    }
   ],
   "execution_count": 31
  },
  {
   "metadata": {},
   "cell_type": "markdown",
   "source": [
    "$M(k) \\rightarrow E\\xi$ при $k \\rightarrow \\infty$ <br>\n",
    "$T(k) \\rightarrow E\\xi$ при $k \\rightarrow \\infty$\n",
    "\n",
    "Оба утверждения верны"
   ]
  },
  {
   "metadata": {},
   "cell_type": "markdown",
   "source": "Рассмотрим $G_1(10, \\frac{1}{2})$ и $G_2(10, \\frac{1}{20})$. И построим графики  $M(k)$, $T(k)$ и $E\\xi$\n"
  },
  {
   "metadata": {
    "ExecuteTime": {
     "end_time": "2024-07-03T12:43:43.079712Z",
     "start_time": "2024-07-03T12:43:43.070723Z"
    }
   },
   "cell_type": "code",
   "source": [
    "def get_Mk_and_Tk_and_Exi(n_graphs, n_nodes, edge_p):\n",
    "    E_xi = math.comb(n_nodes, 3) * edge_p ** 3\n",
    "    \n",
    "    g_1 = generate_graph(n_graphs, n_nodes, edge_p)\n",
    "    n_triangles_1 = count_triangles(g_1)\n",
    "    \n",
    "    g_2 = (np.random.random((n_graphs, math.comb(n_nodes, 3))) < edge_p ** 3).astype(np.int8)\n",
    "    n_triangles_2 = g_2.sum(axis=1)\n",
    "    \n",
    "    M_k = np.cumsum(n_triangles_1) / np.arange(1, n_graphs + 1)\n",
    "    T_k = np.cumsum(n_triangles_2) / np.arange(1, n_graphs + 1)\n",
    "    \n",
    "    return M_k, T_k, E_xi\n",
    "\n",
    "def make_plot(M_k, T_k, E_xi, n_graphs, n_nodes, edge_p):\n",
    "    fig = go.Figure()\n",
    "    \n",
    "    fig.add_trace(go.Scatter(\n",
    "        x=np.arange(1, n_graphs + 1),\n",
    "        y=M_k,\n",
    "        mode=\"lines\",\n",
    "        line=dict(color=\"blue\", width=3),\n",
    "        name=\"M(k)\"\n",
    "    ))\n",
    "    \n",
    "    fig.add_trace(go.Scatter(\n",
    "        x=np.arange(1, n_graphs + 1),\n",
    "        y=T_k,\n",
    "        mode=\"lines\",\n",
    "        line=dict(color=\"red\", width=3),\n",
    "        name=\"T(k)\"\n",
    "    ))\n",
    "    \n",
    "    fig.add_trace(go.Scatter(\n",
    "        x=[1, n_graphs],\n",
    "        y=[E_xi, E_xi],\n",
    "        mode=\"lines\",\n",
    "        line=dict(dash=\"dash\", color=\"darkorange\", width=3),\n",
    "        name=\"E_xi\"\n",
    "    ))\n",
    "    \n",
    "    fig.update_layout(\n",
    "        title=f\"Convergence of M(k) and T(k) to E_xi for G({n_nodes}, {edge_p})\",\n",
    "        xaxis_title=\"Number of graphs\",\n",
    "        yaxis_title=\"Value\",\n",
    "        legend=dict(x=0.94, y=1.0),\n",
    "        template=\"plotly_dark\"\n",
    "    )\n",
    "    \n",
    "    fig.show()\n",
    "    "
   ],
   "outputs": [],
   "execution_count": 32
  },
  {
   "metadata": {
    "ExecuteTime": {
     "end_time": "2024-07-03T12:44:51.463612Z",
     "start_time": "2024-07-03T12:44:51.455392Z"
    }
   },
   "cell_type": "code",
   "source": [
    "np.random.seed(43)\n",
    "k = 10 ** 3\n",
    "n_nodes = 10\n",
    "\n",
    "p_1 = 0.5\n",
    "\n",
    "M_k, T_k, E_xi = get_Mk_and_Tk_and_Exi(k, n_nodes, p_1)\n",
    "print(\"E_xi:\", E_xi)\n",
    "print(\"M_k:\", M_k.mean())\n",
    "print(\"T_k:\", T_k.mean())"
   ],
   "outputs": [
    {
     "name": "stdout",
     "output_type": "stream",
     "text": [
      "E_xi: 15.0\n",
      "M_k: 14.60359209012895\n",
      "T_k: 14.916768929094793\n"
     ]
    }
   ],
   "execution_count": 45
  },
  {
   "metadata": {
    "ExecuteTime": {
     "end_time": "2024-07-03T12:45:51.966771Z",
     "start_time": "2024-07-03T12:45:51.964176Z"
    }
   },
   "cell_type": "code",
   "source": "# make_plot(M_k, T_k, E_xi, k, n_nodes, p_1)",
   "outputs": [],
   "execution_count": 49
  },
  {
   "metadata": {},
   "cell_type": "markdown",
   "source": "![](plots/convergence_G_10_05.png)"
  },
  {
   "metadata": {
    "ExecuteTime": {
     "end_time": "2024-07-03T12:45:05.275641Z",
     "start_time": "2024-07-03T12:45:05.267758Z"
    }
   },
   "cell_type": "code",
   "source": [
    "np.random.seed(41)\n",
    "p_2 = 0.05\n",
    "\n",
    "M_k, T_k, E_xi = get_Mk_and_Tk_and_Exi(k, n_nodes, p_2)\n",
    "print(\"E_xi:\", E_xi)\n",
    "print(\"M_k:\", M_k.mean())\n",
    "print(\"T_k:\", T_k.mean())"
   ],
   "outputs": [
    {
     "name": "stdout",
     "output_type": "stream",
     "text": [
      "E_xi: 0.015000000000000003\n",
      "M_k: 0.012020277862335947\n",
      "T_k: 0.02063560314747795\n"
     ]
    }
   ],
   "execution_count": 47
  },
  {
   "metadata": {
    "ExecuteTime": {
     "end_time": "2024-07-03T12:48:51.464447Z",
     "start_time": "2024-07-03T12:48:51.462130Z"
    }
   },
   "cell_type": "code",
   "source": "# make_plot(M_k, T_k, E_xi, k, n_nodes, p_2)",
   "outputs": [],
   "execution_count": 51
  },
  {
   "metadata": {},
   "cell_type": "markdown",
   "source": "![](plots/convergence_G_10_005.png)"
  },
  {
   "metadata": {
    "ExecuteTime": {
     "end_time": "2024-07-02T11:27:25.387516Z",
     "start_time": "2024-07-02T11:27:25.383365Z"
    }
   },
   "cell_type": "code",
   "source": [
    "# T_k var\n",
    "math.comb(n, 3) * (p ** 3 - p ** 6)"
   ],
   "outputs": [
    {
     "data": {
      "text/plain": [
       "0.14248218750000005"
      ]
     },
     "execution_count": 64,
     "metadata": {},
     "output_type": "execute_result"
    }
   ],
   "execution_count": 64
  },
  {
   "metadata": {},
   "cell_type": "code",
   "outputs": [],
   "execution_count": null,
   "source": ""
  }
 ],
 "metadata": {
  "kernelspec": {
   "display_name": "Python 3",
   "language": "python",
   "name": "python3"
  },
  "language_info": {
   "codemirror_mode": {
    "name": "ipython",
    "version": 3
   },
   "file_extension": ".py",
   "mimetype": "text/x-python",
   "name": "python",
   "nbconvert_exporter": "python",
   "pygments_lexer": "ipython3",
   "version": "3.8.8"
  }
 },
 "nbformat": 4,
 "nbformat_minor": 2
}
