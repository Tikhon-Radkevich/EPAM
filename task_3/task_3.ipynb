{
 "cells": [
  {
   "cell_type": "markdown",
   "metadata": {},
   "source": [
    "\n",
    "## Глава 3 Теоремы теории вероятностей\n",
    "\n",
    "**Кандидат должен знать:**\n",
    "\n",
    "- Закон больших чисел и усиленный закон больших чисел\n",
    "- Центральная предельная теорема\n",
    "- Многомерные распределения\n",
    "\n",
    "**Материалы:**\n",
    "- [Райгородский курс по тер. веру лекции 8,9,12,13](https://www.youtube.com/watch?v=n7jx2MfIeX4&list=PLthfp5exSWEr8tRK-Yf-i9aXgcFJ-O16d&index=8)\n",
    "- [курс ТВ  на степике из частей 2,4](https://stepik.org/course/3089)\n",
    "\n",
    "\n",
    "## Задачи с кодингом\n",
    "\n",
    "\n",
    "### 1. Генерация нормальной случайной величины\n",
    "\n",
    "**Дано:**\n",
    "\n",
    "Пусть у нас есть случайная величина $\\xi \\sim U[0,1]$ . \n",
    "\n",
    "**Задача:**\n",
    "1. На основе данной случайной величины с помощью ЦПТ осуществите моделирование  ($n = 10000$) случайной величины  $\\eta \\sim N(\\mu, \\sigma^2)$\n",
    "\n",
    "2. Постройте график полтности распределения и сравните с теоритическим. \n",
    "\n",
    "3. Вычислить математического ожидания и дисперсии, сравнить их с истинными значениями.\n",
    "\n",
    "**Примечания**\n",
    "\n",
    "1. Для генерации реализаций $\\xi$ можно восппользоваться функцией numpy.random.random()\n",
    "2.  Для построения теоритического графика плотности распределения нормальной величины можно воспользоваться функцией scipy.stats.norm.ppf"
   ]
  },
  {
   "cell_type": "markdown",
   "metadata": {},
   "source": "### 1. Генерация нормальной случайной величины"
  },
  {
   "cell_type": "markdown",
   "metadata": {},
   "source": [
    "Let $X$ be a uniformly distributed random variable, and $\\eta$ be a normally distributed random variable.\n",
    "\n",
    "$\\eta = \\frac{1}{N_x} \\sum_{i=1}^{N_x} X_i$\n",
    "<br>\n",
    "$\\mu_{\\eta} = \\frac{1}{N_x} \\mu \\left( \\sum_{i=1}^{N_x} X_i \\right) = \\frac{1}{N_x} \\sum_{i=1}^{N} \\mu(X_i) = \\mu_X$\n",
    "<br>\n",
    "\n",
    "$\n",
    "\\sigma_\\eta^2 = \\frac{1}{(N_x-1)^2} \\sum_{i=1}^{N_x} \\sigma_{x_i}^2 = \\frac{N_x \\cdot \\sigma_x^2}{(N_x-1)^2} \\approx \\left[\\text{if } N_x > 100\\right] \\approx \\frac{\\sigma_x^2}{N_x}\n",
    "$\n",
    "\n",
    "\n",
    "<br><br><br>\n",
    "$\\mu_X = \\mu_{\\eta}$\n",
    "<br>\n",
    "$\\sigma_x^2 = N_x \\cdot \\sigma_\\eta^2$\n",
    "\n",
    "Now I need random uniform values $X$ with $\\mu_X$ and $\\sigma_x^2$:\n",
    "\n",
    "\n",
    "\\begin{cases}\n",
    "\\mu_X = \\frac{a + b}{2} \\\\\n",
    "\\sigma_x^2 = \\frac{(b - a)^2}{12} \n",
    "\\end{cases}\n",
    "\n",
    "\\begin{cases}\n",
    "a = \\mu_X - \\sqrt{3 \\cdot \\sigma_x^2} \\\\\n",
    "b = \\mu_X + \\sqrt{3 \\cdot \\sigma_x^2}\n",
    "\\end{cases}\n",
    "\n",
    "\n",
    "$X = a + Z \\cdot (b - a) \\quad \\text{where} \\quad Z \\sim U[0, 1]$"
   ]
  },
  {
   "cell_type": "markdown",
   "metadata": {},
   "source": ""
  },
  {
   "cell_type": "code",
   "metadata": {
    "ExecuteTime": {
     "end_time": "2024-07-06T13:09:37.268873Z",
     "start_time": "2024-07-06T13:09:36.508330Z"
    }
   },
   "source": [
    "import math\n",
    "from math import comb\n",
    "from collections import Counter\n",
    "from itertools import combinations\n",
    "\n",
    "import numpy as np\n",
    "from scipy.stats import norm\n",
    "\n",
    "import plotly.express as px\n",
    "import plotly.graph_objects as go"
   ],
   "outputs": [],
   "execution_count": 1
  },
  {
   "cell_type": "code",
   "metadata": {
    "ExecuteTime": {
     "end_time": "2024-07-06T13:09:37.274516Z",
     "start_time": "2024-07-06T13:09:37.270349Z"
    }
   },
   "source": [
    "def generate_eta_1(mu_eta, var_eta, n_x, n_eta):\n",
    "    mu_x = mu_eta\n",
    "    var_x = n_x * var_eta\n",
    "\n",
    "    a = mu_x - np.sqrt(3 * var_x)\n",
    "    b = mu_x + np.sqrt(3 * var_x)\n",
    "\n",
    "    Z = np.random.random((n_eta, n_x))\n",
    "    X = a + Z * (b - a)\n",
    "\n",
    "    return X.mean(axis=1)"
   ],
   "outputs": [],
   "execution_count": 2
  },
  {
   "metadata": {},
   "cell_type": "markdown",
   "source": [
    "### Or another way:\n",
    "\n",
    "To generate $\\eta \\sim N(\\mu, \\sigma^2)$:\n",
    "1. Generate $X \\sim U(0, 1)$ and sum $n_x$ samples to get `sum_uniforms` with the shape of the number of samples $\\eta$.\n",
    "2. Standardize the `sum_uniforms` to get standard normal values. $\\mu_X = n_x / 2$, $\\text{var}_X = n_x / 12$.\n",
    "3. Scale and shift using parameters $N(\\mu, \\sigma^2)$ to get the final normal samples $\\eta$.\n",
    "\n"
   ]
  },
  {
   "metadata": {
    "ExecuteTime": {
     "end_time": "2024-07-06T13:09:37.281152Z",
     "start_time": "2024-07-06T13:09:37.275590Z"
    }
   },
   "cell_type": "code",
   "source": [
    "def generate_eta_2(a, sigma, n_x, n_eta):\n",
    "    uniform_random = np.random.random((n_eta, n_x))\n",
    "    sum_uniforms = np.sum(uniform_random, axis=1)\n",
    "    standard_normal = (sum_uniforms - n_x/2) / np.sqrt(n_x/12)\n",
    "    eta = a + sigma * standard_normal\n",
    "    return eta"
   ],
   "outputs": [],
   "execution_count": 3
  },
  {
   "cell_type": "markdown",
   "metadata": {},
   "source": "### Вычисление мат. ожидания и дисперсии"
  },
  {
   "cell_type": "code",
   "metadata": {
    "ExecuteTime": {
     "end_time": "2024-07-06T13:09:37.296899Z",
     "start_time": "2024-07-06T13:09:37.283144Z"
    }
   },
   "source": [
    "# choose generation algorithm: generate_eta_1 or generate_eta_2\n",
    "generate_eta = generate_eta_2  \n",
    "\n",
    "mu = -7\n",
    "var = 13\n",
    "sigma = np.sqrt(var)\n",
    "N_x = 100\n",
    "N_eta = 10**4\n",
    "\n",
    "eta = generate_eta(mu, sigma, N_x, N_eta)\n",
    "\n",
    "print(\"###  Task 3: Real E and Var VS Estimated E and Var  ###\\n\")\n",
    "print(f\"Real mu: {mu}; Estimated mu: {eta.mean()}\")\n",
    "print(f\"Real var: {var}; Estimated var: {eta.var()}\")"
   ],
   "outputs": [
    {
     "name": "stdout",
     "output_type": "stream",
     "text": [
      "###  Task 3: Real E and Var VS Estimated E and Var  ###\n",
      "\n",
      "Real mu: -7; Estimated mu: -6.983467227981189\n",
      "Real var: 13; Estimated var: 12.739159826687075\n"
     ]
    }
   ],
   "execution_count": 4
  },
  {
   "cell_type": "code",
   "metadata": {
    "ExecuteTime": {
     "end_time": "2024-07-06T13:09:37.363809Z",
     "start_time": "2024-07-06T13:09:37.298301Z"
    }
   },
   "source": [
    "fig = px.histogram(\n",
    "    eta,\n",
    "    nbins=40,\n",
    "    title=\"Distribution of eta\",\n",
    "    labels={\"value\": \"Value\"},\n",
    "    height=700,\n",
    "    width=500,\n",
    ")"
   ],
   "outputs": [],
   "execution_count": 5
  },
  {
   "cell_type": "code",
   "metadata": {
    "ExecuteTime": {
     "end_time": "2024-07-06T13:09:37.367552Z",
     "start_time": "2024-07-06T13:09:37.364954Z"
    }
   },
   "source": "# fig.show()",
   "outputs": [],
   "execution_count": 6
  },
  {
   "cell_type": "markdown",
   "metadata": {},
   "source": "![](plots/norm_distribution.png)"
  },
  {
   "cell_type": "markdown",
   "metadata": {},
   "source": "### График полтности распределения. Сравние с теоритическим графиком"
  },
  {
   "cell_type": "code",
   "metadata": {
    "ExecuteTime": {
     "end_time": "2024-07-06T13:09:37.400069Z",
     "start_time": "2024-07-06T13:09:37.368745Z"
    }
   },
   "source": [
    "fig = go.Figure()\n",
    "\n",
    "norm_x = np.linspace(\n",
    "    norm.ppf(0.0001, loc=mu, scale=sigma), norm.ppf(0.9999, loc=mu, scale=sigma), N_eta\n",
    ")\n",
    "norm_y = norm.pdf(norm_x, loc=mu, scale=sigma)\n",
    "\n",
    "fig.add_trace(\n",
    "    go.Scatter(\n",
    "        x=norm_x,\n",
    "        y=norm_y,\n",
    "        mode=\"lines\",\n",
    "        line=dict(color=\"darkblue\", width=5),\n",
    "        name=\"norm pdf\",\n",
    "    )\n",
    ")\n",
    "\n",
    "hist_y, hist_x = np.histogram(eta, bins=\"auto\", density=True)\n",
    "fig.add_trace(\n",
    "    go.Bar(\n",
    "        x=hist_x,\n",
    "        y=hist_y,\n",
    "        opacity=0.6,\n",
    "        name=\"histogram\",\n",
    "        marker=dict(color=\"darkgreen\"),\n",
    "    )\n",
    ")\n",
    "\n",
    "fig = fig.update_layout(\n",
    "    title=\"Normal Distribution\",\n",
    "    xaxis_title=\"Value\",\n",
    "    yaxis_title=\"Density\",\n",
    "    template=\"plotly_dark\",\n",
    "    legend=dict(x=0.8, y=1.0),\n",
    "    height=700,\n",
    "    width=500,\n",
    ")"
   ],
   "outputs": [],
   "execution_count": 7
  },
  {
   "cell_type": "code",
   "metadata": {
    "ExecuteTime": {
     "end_time": "2024-07-06T13:09:37.403309Z",
     "start_time": "2024-07-06T13:09:37.401029Z"
    }
   },
   "source": "# fig.show()",
   "outputs": [],
   "execution_count": 8
  },
  {
   "cell_type": "markdown",
   "metadata": {},
   "source": "![](plots/norm_pdf.png)"
  },
  {
   "cell_type": "markdown",
   "metadata": {},
   "source": [
    "### 2. Казино \n",
    "\n",
    "В казино имеется две игры:\n",
    "\n",
    "**a. Кубики:**\n",
    "\n",
    "Игрок платит 4&#36; и бросает два кубика. Если в сумме выпало 8 и более то игрок получает приз равный полученной сумме.\n",
    "\n",
    "**b. Разгадай код:**\n",
    "\n",
    "Есть пятизначный код (на каждой позиции стоит цифра от 0 до 9).  Игрок платит 10&#36; и пытается угадать код:\n",
    "    \n",
    "    - Если игрок меньше двух позиций то ничего не получает \n",
    "    - Если игрок угадал ровно две позиции из 5-ти, то он получает 50\n",
    "    - Если игроку гадал ровно три позиции из 5-ти, то выигрыш 200\n",
    "    - Если игроку гадал ровно четыре позиции из 5-ти, то выигрыш 5000\n",
    "    - Если игрок угадал весь код правильно то выигрыш 100000.\n",
    "    После каждой попытка код меняется.\n",
    "\n",
    "**Задача:**\n",
    "\n",
    "Пусть $\\xi ,  \\eta $ - случайные величины равные выигрышу(проигрышу) игрока в раунде.\n",
    "1. Посчитать $E\\xi$ и $E\\eta$\n",
    "2. Смоделировать случайные величины $\\xi$ и $\\eta $\n",
    "3. Построить графики сходимости среднего выигрыша(проигрыша) игрока к математическому ожиданию.\n",
    "4. Одинаковая ли скорость сходимости  сл. величины к своему математическому ожиданию. Почему?\n",
    "4. Какое бы $n$ - количество эеспериментов вы би взяли, для оценки мат. ожидания?\n",
    "\n",
    "\n"
   ]
  },
  {
   "cell_type": "markdown",
   "metadata": {},
   "source": [
    "## a. Кубики\n",
    "### 1) Расчет мат. ожидания"
   ]
  },
  {
   "metadata": {
    "ExecuteTime": {
     "end_time": "2024-07-06T13:09:37.407740Z",
     "start_time": "2024-07-06T13:09:37.404260Z"
    }
   },
   "cell_type": "code",
   "source": [
    "def calc_E_and_D(probs, values):\n",
    "    E_xi = sum([prob * value for prob, value in zip(probs, values)])\n",
    "    second_moment = sum([prob * value**2 for prob, value in zip(probs, values)])\n",
    "    \n",
    "    D_xi = second_moment - E_xi**2\n",
    "    return E_xi, D_xi"
   ],
   "outputs": [],
   "execution_count": 9
  },
  {
   "cell_type": "code",
   "metadata": {
    "ExecuteTime": {
     "end_time": "2024-07-06T13:09:37.415931Z",
     "start_time": "2024-07-06T13:09:37.410571Z"
    }
   },
   "source": [
    "win_amounts = np.array([0 if i < 8 else i for i in range(0, 13)]) - 4\n",
    "possible_dice_values = [i + j for i in range(1, 7) for j in range(1, 7)]\n",
    "\n",
    "count_values = Counter(possible_dice_values)\n",
    "probs = list(map(lambda x: x / 36, count_values.values()))\n",
    "value_to_prob_str = \",  \".join([f\"{i}: {count_values[i]}/36\" for i in range(2, 13)])\n",
    "\n",
    "print(\"Value: Probability -\", value_to_prob_str)\n",
    "print(\"Probs sum:\", sum(count_values.values()) / 36)"
   ],
   "outputs": [
    {
     "name": "stdout",
     "output_type": "stream",
     "text": [
      "Value: Probability - 2: 1/36,  3: 2/36,  4: 3/36,  5: 4/36,  6: 5/36,  7: 6/36,  8: 5/36,  9: 4/36,  10: 3/36,  11: 2/36,  12: 1/36\n",
      "Probs sum: 1.0\n"
     ]
    }
   ],
   "execution_count": 10
  },
  {
   "metadata": {
    "ExecuteTime": {
     "end_time": "2024-07-06T13:09:37.420289Z",
     "start_time": "2024-07-06T13:09:37.416978Z"
    }
   },
   "cell_type": "code",
   "source": [
    "# skip 0 and 1 because we can't get this sums from two dices\n",
    "E_xi, D_xi = calc_E_and_D(probs, win_amounts[2:])\n",
    "\n",
    "print(\"Theoretical E_xi:\", round(E_xi, 5))\n",
    "print(\"Theoretical D_xi:\", round(D_xi, 5))"
   ],
   "outputs": [
    {
     "name": "stdout",
     "output_type": "stream",
     "text": [
      "Theoretical E_xi: -0.11111\n",
      "Theoretical D_xi: 21.82099\n"
     ]
    }
   ],
   "execution_count": 11
  },
  {
   "cell_type": "markdown",
   "metadata": {},
   "source": "### 2) Моделирование случайной величины"
  },
  {
   "metadata": {
    "ExecuteTime": {
     "end_time": "2024-07-06T13:09:37.424437Z",
     "start_time": "2024-07-06T13:09:37.421276Z"
    }
   },
   "cell_type": "code",
   "source": [
    "def generate_xi(n_samples, win_amounts):\n",
    "    dice_values = np.random.randint(1, 7, 2 * n_samples)\n",
    "    dice_sums = dice_values[::2] + dice_values[1::2]\n",
    "    xi = win_amounts[dice_sums]\n",
    "    return xi"
   ],
   "outputs": [],
   "execution_count": 12
  },
  {
   "cell_type": "code",
   "metadata": {
    "ExecuteTime": {
     "end_time": "2024-07-06T13:09:37.428867Z",
     "start_time": "2024-07-06T13:09:37.425419Z"
    }
   },
   "source": [
    "np.random.seed(48)\n",
    "n_samples = 9 * 10**3\n",
    "\n",
    "xi_values = generate_xi(n_samples, win_amounts)\n",
    "\n",
    "print(\"Theoretical E_xi:\", round(E_xi, 5))\n",
    "print(\"Simulated E_xi:\", xi_values.mean())"
   ],
   "outputs": [
    {
     "name": "stdout",
     "output_type": "stream",
     "text": [
      "Theoretical E_xi: -0.11111\n",
      "Simulated E_xi: -0.11477777777777778\n"
     ]
    }
   ],
   "execution_count": 13
  },
  {
   "cell_type": "markdown",
   "metadata": {},
   "source": "### 3. Сходимость среднего выигрыша к математическому ожиданию"
  },
  {
   "cell_type": "code",
   "metadata": {
    "ExecuteTime": {
     "end_time": "2024-07-06T13:09:37.434345Z",
     "start_time": "2024-07-06T13:09:37.430038Z"
    }
   },
   "source": [
    "def plot(values, mean_value):\n",
    "    cumulative_means = np.cumsum(values) / np.arange(1, len(values) + 1)\n",
    "\n",
    "    fig = go.Figure()\n",
    "\n",
    "    fig.add_trace(\n",
    "        go.Scatter(\n",
    "            x=np.arange(1, len(values) + 1),\n",
    "            y=cumulative_means,\n",
    "            mode=\"lines\",\n",
    "            name=\"Среднее значение выигрыша\",\n",
    "        )\n",
    "    )\n",
    "\n",
    "    fig.add_trace(\n",
    "        go.Scatter(\n",
    "            x=[1, len(values)],\n",
    "            y=[mean_value, mean_value],\n",
    "            mode=\"lines\",\n",
    "            line=dict(dash=\"dash\", color=\"red\"),\n",
    "            name=\"Математическое ожидание\",\n",
    "        )\n",
    "    )\n",
    "\n",
    "    fig.update_layout(\n",
    "        title=\"Сходимость среднего выигрыша к математическому ожиданию\",\n",
    "        xaxis_title=\"Количество наблюдений\",\n",
    "        yaxis_title=\"Средний выигрыш\",\n",
    "        legend=dict(x=0.8, y=1.0),\n",
    "        template=\"plotly_dark\",\n",
    "    )\n",
    "\n",
    "    fig.show()"
   ],
   "outputs": [],
   "execution_count": 14
  },
  {
   "cell_type": "code",
   "metadata": {
    "ExecuteTime": {
     "end_time": "2024-07-06T13:09:37.437888Z",
     "start_time": "2024-07-06T13:09:37.435689Z"
    }
   },
   "source": [
    "# plot(xi_values, E_xi)"
   ],
   "outputs": [],
   "execution_count": 15
  },
  {
   "cell_type": "markdown",
   "metadata": {},
   "source": "![](plots/dice_expectation.png)"
  },
  {
   "cell_type": "markdown",
   "metadata": {},
   "source": "### 5) Оценка количества экспериментов"
  },
  {
   "metadata": {},
   "cell_type": "markdown",
   "source": [
    "1. Согласно ЦПТ, выборочное среднее $\\bar{X}_n$ выборки размера $n$ из генеральной совокупности с математическим ожиданием $\\mu$ и дисперсией $\\sigma^2$ имеет нормальное распределение:\n",
    "   $$\\bar{X}_n \\sim N\\left(\\mu, \\frac{\\sigma^2}{n}\\right)$$\n",
    "\n",
    "2. Чтобы вероятность того, что выборочное среднее $\\bar{X}_n$ попадает в интервал [$\\mu - \\epsilon$, $\\mu + \\epsilon$] была равна $p$:\n",
    "   $$P\\left(|\\bar{X}_n - \\mu| < \\epsilon\\right) = p$$\n",
    "\n",
    "3. Стандартизируем: вычитанием математического ожидания и делением на стандартное отклонение:\n",
    "   $$P\\left(|\\bar{X}_n - \\mu| < \\epsilon\\right) = P\\left(\\left| \\frac{\\bar{X}_n - \\mu}{\\frac{\\sigma}{\\sqrt{n}}} \\right| < \\frac{\\epsilon}{\\frac{\\sigma}{\\sqrt{n}}}\\right) = P\\left(|Z| < \\frac{\\epsilon \\sqrt{n}}{\\sigma}\\right) = p$$\n",
    "\n",
    "4. Для p = 0.95:\n",
    "   $$\\frac{\\epsilon \\sqrt{n}}{\\sigma} = z = 1.96$$ \n",
    "\n",
    "5. Находим минимальное количество экспериментов $n$, необходимое для достижения указанной точности:\n",
    "   $$n \\geq \\left( \\frac{z \\sigma}{\\epsilon} \\right)^2$$\n"
   ]
  },
  {
   "cell_type": "code",
   "metadata": {
    "ExecuteTime": {
     "end_time": "2024-07-06T13:09:37.459634Z",
     "start_time": "2024-07-06T13:09:37.457143Z"
    }
   },
   "source": [
    "def estimate_n(variance_x, eps_x, x):\n",
    "    return ((x * np.sqrt(variance_x)) / eps_x) ** 2"
   ],
   "outputs": [],
   "execution_count": 16
  },
  {
   "cell_type": "code",
   "metadata": {
    "ExecuteTime": {
     "end_time": "2024-07-06T13:09:37.486832Z",
     "start_time": "2024-07-06T13:09:37.483154Z"
    }
   },
   "source": [
    "z = 1.96\n",
    "eps = 0.05\n",
    "\n",
    "n = int(estimate_n(D_xi, eps, z))\n",
    "\n",
    "print(\"For 95% confidence level, and 5% error, n should be at least\", n)"
   ],
   "outputs": [
    {
     "name": "stdout",
     "output_type": "stream",
     "text": [
      "For 95% confidence level, and 5% error, n should be at least 33531\n"
     ]
    }
   ],
   "execution_count": 17
  },
  {
   "cell_type": "markdown",
   "metadata": {},
   "source": [
    "## b. Разгадай код\n",
    "### 1)  Расчет мат. ожидания"
   ]
  },
  {
   "cell_type": "code",
   "metadata": {
    "ExecuteTime": {
     "end_time": "2024-07-06T13:09:37.694616Z",
     "start_time": "2024-07-06T13:09:37.689943Z"
    }
   },
   "source": [
    "p = 0.1\n",
    "q = 0.9\n",
    "guess_code_win_amounts = np.array([0, 0, 50, 200, 5000, 100000]) - 10\n",
    "code_game_probs = [comb(5, i) * p**i * q ** (5 - i) for i in range(6)]\n",
    "\n",
    "print(\"Probs\", list(map(lambda x: round(x, 5), code_game_probs)))\n",
    "print(\"Probs sum\", sum(code_game_probs))"
   ],
   "outputs": [
    {
     "name": "stdout",
     "output_type": "stream",
     "text": [
      "Probs [0.59049, 0.32805, 0.0729, 0.0081, 0.00045, 1e-05]\n",
      "Probs sum 1.0\n"
     ]
    }
   ],
   "execution_count": 18
  },
  {
   "metadata": {
    "ExecuteTime": {
     "end_time": "2024-07-06T13:09:37.807818Z",
     "start_time": "2024-07-06T13:09:37.803730Z"
    }
   },
   "cell_type": "code",
   "source": [
    "E_eta, D_eta = calc_E_and_D(code_game_probs, guess_code_win_amounts)\n",
    "\n",
    "print(\"Theoretical E_eta:\", round(E_eta, 5))\n",
    "print(\"Theoretical D_eta:\", round(D_eta, 5))"
   ],
   "outputs": [
    {
     "name": "stdout",
     "output_type": "stream",
     "text": [
      "Theoretical E_eta: -1.485\n",
      "Theoretical D_eta: 111683.74478\n"
     ]
    }
   ],
   "execution_count": 19
  },
  {
   "cell_type": "markdown",
   "metadata": {},
   "source": "### 2) Моделирование случайной величины"
  },
  {
   "metadata": {
    "ExecuteTime": {
     "end_time": "2024-07-06T13:09:37.881514Z",
     "start_time": "2024-07-06T13:09:37.877817Z"
    }
   },
   "cell_type": "code",
   "source": [
    "def generate_eta(n_samples, guess_code_win_amounts):\n",
    "    random_values_code = np.random.randint(0, 10, (n_samples, 5))\n",
    "    code_guesses = np.random.randint(0, 10, (n_samples, 5))\n",
    "    \n",
    "    is_guess_random_code = code_guesses == random_values_code\n",
    "    random_guesses = is_guess_random_code.sum(axis=1)\n",
    "    eta = guess_code_win_amounts[random_guesses]\n",
    "    return eta"
   ],
   "outputs": [],
   "execution_count": 20
  },
  {
   "cell_type": "code",
   "metadata": {
    "ExecuteTime": {
     "end_time": "2024-07-06T13:09:38.163471Z",
     "start_time": "2024-07-06T13:09:37.987091Z"
    }
   },
   "source": [
    "np.random.seed(12)\n",
    "N_plays = 1 * 10**6\n",
    "\n",
    "eta_values = generate_eta(N_plays, guess_code_win_amounts)\n",
    "\n",
    "print(\"Theoretical E_eta:\", round(E_eta, 5))\n",
    "print(\"Simulated E_eta\", eta_values.mean())"
   ],
   "outputs": [
    {
     "name": "stdout",
     "output_type": "stream",
     "text": [
      "Theoretical E_eta: -1.485\n",
      "Simulated E_eta -1.4936\n"
     ]
    }
   ],
   "execution_count": 21
  },
  {
   "cell_type": "markdown",
   "metadata": {},
   "source": "### 3. Сходимость среднего выигрыша к математическому ожиданию"
  },
  {
   "cell_type": "code",
   "metadata": {
    "ExecuteTime": {
     "end_time": "2024-07-06T13:09:38.167628Z",
     "start_time": "2024-07-06T13:09:38.164994Z"
    }
   },
   "source": [
    "# plot(random_guesses_win_amounts, E_eta)"
   ],
   "outputs": [],
   "execution_count": 22
  },
  {
   "cell_type": "markdown",
   "metadata": {},
   "source": "![](plots/code_expectation.png)"
  },
  {
   "cell_type": "markdown",
   "metadata": {},
   "source": [
    "### 4) Сравнение скорости сходимости\n",
    "\n",
    "Скорости сходимости разные, так как есть значительные различия в дисперсиях случайных величин.\n"
   ]
  },
  {
   "cell_type": "code",
   "metadata": {
    "ExecuteTime": {
     "end_time": "2024-07-06T13:09:38.178010Z",
     "start_time": "2024-07-06T13:09:38.174913Z"
    }
   },
   "source": [
    "print(\"D_xi:\", D_xi)\n",
    "print(\"D_eta:\", D_eta)"
   ],
   "outputs": [
    {
     "name": "stdout",
     "output_type": "stream",
     "text": [
      "D_xi: 21.82098765432099\n",
      "D_eta: 111683.74477500003\n"
     ]
    }
   ],
   "execution_count": 23
  },
  {
   "metadata": {},
   "cell_type": "markdown",
   "source": "### 5) Оценка количества экспериментов"
  },
  {
   "metadata": {
    "ExecuteTime": {
     "end_time": "2024-07-06T13:09:38.233653Z",
     "start_time": "2024-07-06T13:09:38.229997Z"
    }
   },
   "cell_type": "code",
   "source": [
    "n = int(estimate_n(D_eta, eps, z))\n",
    "\n",
    "print(\"For 95% confidence level, and 5% error, n should be at least\", n)"
   ],
   "outputs": [
    {
     "name": "stdout",
     "output_type": "stream",
     "text": [
      "For 95% confidence level, and 5% error, n should be at least 171617709\n"
     ]
    }
   ],
   "execution_count": 24
  },
  {
   "cell_type": "markdown",
   "metadata": {},
   "source": [
    "### Случайный граф\n",
    "\n",
    "\n",
    "**Условие**\n",
    "\n",
    "Пусть G(n,p) -  случайный граф на $n$ вершинах, где $p$ - это вероятность появления ребра между любыми двумя вершинами.\n",
    "\n",
    "Обозначим за $\\xi(n,p)$ - количество треугольников (т.е. полных подграфов на трёх вершинах) в случайном графе  \n",
    "\n",
    "**Задача 1:**\n",
    "\n",
    "1. Найти $E\\xi$\n",
    "2. Реализовать моделирование случайного случайного графа и функцию нахождения количества треугольников. \n",
    "3. Рассмотрим G(3,p) - случайный граф на трёх вершинах. Реализуйте $\\tau$ - случайная величина равная 1 если граф полный и 0 иначе.\n",
    "\n",
    "\n",
    "**Задача 2:**\n",
    "\n",
    "- Пусть M(k) - среднее количество треугольников после k генераций случайного графа. \n",
    "- И пусть T(k)  - среднее количество треугольников после генераций случайного графа на трёх вершинах (т.е. на каждой итерации генерируем $C_n^3$ графов на трёх вершинах).\n",
    "\n",
    "1. Верно ли что $M(k) \\rightarrow E\\xi$ при $k \\rightarrow \\infty$ \n",
    "2. Верно ли что $T(k) \\rightarrow  E\\xi$ при $k \\rightarrow \\infty$\n",
    "\n",
    "3. Рассмотрите два графа $G_1(10, \\frac{1}{2})$ и $G_2(10, \\frac{1}{20})$.  Построите графики  $M(k)$, $T(k)$ и $E\\xi$ (константа) для заданных графов.\n",
    "\n",
    "**Задача 3**:\n",
    "\n",
    "Проделайте аналогичные рассуждения для $D \\xi$ т.е.\n",
    "- Найдите  $D \\xi$  математически.\n",
    "- Посчитайте дисперсию количества треугольников, k раз реализуя случайный граф.\n",
    "- Посчитайте дисперсию количества треугольников, k раз генерируя  $C_n^3$ реализаций случайной величины $\\tau$ .\n",
    "- оцените сходимость\n",
    "- Постройте графики для графов  $G_1(10, \\frac{1}{2})$ и $G_2(10, \\frac{1}{20})$."
   ]
  },
  {
   "cell_type": "markdown",
   "metadata": {},
   "source": [
    "## Задача 1\n",
    "#### Случайный граф на n вершинах. Найти $E\\xi$\n",
    "\n",
    "Пусть I - случайная величина равная 1 если между конкретными тремя вершинами образовался треугольник. Тогда $\\xi = \\sum_{i=1}^{C_n^3} I_i$.\n",
    "\n",
    "$E\\xi = E\\sum_{i=1}^{C_n^3} I_i = \\sum_{i=1}^{C_n^3} E I_i = C_n^3 \\cdot p^3$"
   ]
  },
  {
   "cell_type": "markdown",
   "metadata": {},
   "source": [
    "#### G(3,p) - случайный граф на трех вершинах.\n",
    "\n",
    "Для одного ргафа: $E\\tau = 1 \\cdot p^3 + 0 \\cdot (1 - p^3) = p^3$"
   ]
  },
  {
   "metadata": {},
   "cell_type": "markdown",
   "source": [
    "#### Моделирования случайного графа и реализация функции нахождения количества треугольников.\n",
    "\n",
    "В качестве случайного графа буду использовать матрицу смежности, заполненную только выше главной диагонали.\n",
    "\n",
    "Квадрат матрицы смежности позволяет подсчитать количество путей длиной 2 между вершинами. Элементы в квадрате матрицы смежности могут принимать значения от 0 до $n - 1$, где $n$ — количество вершин в графе. Поэтому, для эффективного использования памяти, можно использовать тип данных int8 при $n \\leq 128$, иначе int16 при $128 < n < 32768$.\n",
    "\n",
    "Последующее поэлементное умножение матрицы позволит найти количество треугольников в графе. Поскольку я использую только верхнетреугольную матрицу смежности, повторы при подсчете треугольников не появляются.\n"
   ]
  },
  {
   "metadata": {
    "ExecuteTime": {
     "end_time": "2024-07-06T13:09:38.272335Z",
     "start_time": "2024-07-06T13:09:38.267651Z"
    }
   },
   "cell_type": "code",
   "source": [
    "def generate_graph(n_graphs, n_nodes, edge_p):\n",
    "    dtype = np.int8 if n_nodes <= 128 else np.int16\n",
    "    random_values = (\n",
    "            np.random.random((n_graphs, n_nodes, n_nodes)) < edge_p\n",
    "    ).astype(dtype)\n",
    "    \n",
    "    adjacency_matrices = np.triu(random_values, k=1)\n",
    "    return adjacency_matrices\n",
    "\n",
    "\n",
    "def count_triangles(graphs):\n",
    "    squared_matrix = np.matmul(graphs, graphs)\n",
    "    triangles_matrix = graphs * squared_matrix\n",
    "    n_triangles = np.sum(np.triu(triangles_matrix, k=1), axis=(1, 2))\n",
    "    return n_triangles"
   ],
   "outputs": [],
   "execution_count": 25
  },
  {
   "metadata": {
    "ExecuteTime": {
     "end_time": "2024-07-06T13:09:38.360545Z",
     "start_time": "2024-07-06T13:09:38.344074Z"
    }
   },
   "cell_type": "code",
   "source": [
    "%%time\n",
    "random_graphs = generate_graph(1, 250, 1)\n",
    "triangles = count_triangles(random_graphs)\n",
    "\n",
    "print(\"mean triangles\", np.mean(triangles))"
   ],
   "outputs": [
    {
     "name": "stdout",
     "output_type": "stream",
     "text": [
      "mean triangles 2573000.0\n",
      "CPU times: user 14.7 ms, sys: 0 ns, total: 14.7 ms\n",
      "Wall time: 13.7 ms\n"
     ]
    }
   ],
   "execution_count": 26
  },
  {
   "cell_type": "markdown",
   "metadata": {},
   "source": "## Задача 2"
  },
  {
   "cell_type": "code",
   "metadata": {
    "ExecuteTime": {
     "end_time": "2024-07-06T13:09:38.408851Z",
     "start_time": "2024-07-06T13:09:38.405611Z"
    }
   },
   "source": [
    "k = 10**5\n",
    "n = 10\n",
    "p = 0.5\n",
    "\n",
    "print(\"E_xi = E_tau =\", math.comb(n, 3) * p**3)"
   ],
   "outputs": [
    {
     "name": "stdout",
     "output_type": "stream",
     "text": [
      "E_xi = E_tau = 15.0\n"
     ]
    }
   ],
   "execution_count": 27
  },
  {
   "cell_type": "markdown",
   "metadata": {},
   "source": "#### Случайный граф на n вершинах. M(k):"
  },
  {
   "cell_type": "code",
   "metadata": {
    "ExecuteTime": {
     "end_time": "2024-07-06T13:09:38.612480Z",
     "start_time": "2024-07-06T13:09:38.443901Z"
    }
   },
   "source": [
    "%%time\n",
    "random_graphs = generate_graph(k, n, p)\n",
    "n_triangles_in_each_graph = count_triangles(random_graphs)"
   ],
   "outputs": [
    {
     "name": "stdout",
     "output_type": "stream",
     "text": [
      "CPU times: user 160 ms, sys: 7.7 ms, total: 167 ms\n",
      "Wall time: 166 ms\n"
     ]
    }
   ],
   "execution_count": 28
  },
  {
   "cell_type": "code",
   "metadata": {
    "ExecuteTime": {
     "end_time": "2024-07-06T13:09:38.616292Z",
     "start_time": "2024-07-06T13:09:38.613675Z"
    }
   },
   "source": [
    "M_k = np.mean(n_triangles_in_each_graph)\n",
    "print(\"M_k:\", M_k)"
   ],
   "outputs": [
    {
     "name": "stdout",
     "output_type": "stream",
     "text": [
      "M_k: 15.00475\n"
     ]
    }
   ],
   "execution_count": 29
  },
  {
   "cell_type": "markdown",
   "metadata": {},
   "source": "#### G(3,p) - случайный граф на трех вершинах. T(k):"
  },
  {
   "cell_type": "code",
   "metadata": {
    "ExecuteTime": {
     "end_time": "2024-07-06T13:09:38.758577Z",
     "start_time": "2024-07-06T13:09:38.617323Z"
    }
   },
   "source": [
    "random_graphs = (np.random.random((k, math.comb(n, 3))) < p**3).astype(np.int8)\n",
    "N_triangles = random_graphs.sum(axis=1)"
   ],
   "outputs": [],
   "execution_count": 30
  },
  {
   "cell_type": "code",
   "metadata": {
    "ExecuteTime": {
     "end_time": "2024-07-06T13:09:38.763110Z",
     "start_time": "2024-07-06T13:09:38.760108Z"
    }
   },
   "source": [
    "T_k = np.mean(N_triangles)\n",
    "print(\"T_k:\", T_k)"
   ],
   "outputs": [
    {
     "name": "stdout",
     "output_type": "stream",
     "text": [
      "T_k: 15.01023\n"
     ]
    }
   ],
   "execution_count": 31
  },
  {
   "cell_type": "markdown",
   "metadata": {},
   "source": [
    "$M(k) \\rightarrow E\\xi$ при $k \\rightarrow \\infty$ <br>\n",
    "$T(k) \\rightarrow E\\xi$ при $k \\rightarrow \\infty$\n",
    "\n",
    "Оба утверждения верны"
   ]
  },
  {
   "cell_type": "markdown",
   "metadata": {},
   "source": "Рассмотрим $G_1(10, \\frac{1}{2})$ и $G_2(10, \\frac{1}{20})$. И построим графики  $M(k)$, $T(k)$ и $E\\xi$\n"
  },
  {
   "cell_type": "code",
   "metadata": {
    "ExecuteTime": {
     "end_time": "2024-07-06T13:09:38.770565Z",
     "start_time": "2024-07-06T13:09:38.763932Z"
    }
   },
   "source": [
    "def get_Mk_and_Tk_and_Exi(n_graphs, n_nodes, edge_p):\n",
    "    E_xi = math.comb(n_nodes, 3) * edge_p**3\n",
    "\n",
    "    g_1 = generate_graph(n_graphs, n_nodes, edge_p)\n",
    "    n_triangles_1 = count_triangles(g_1)\n",
    "\n",
    "    g_2 = (np.random.random((n_graphs, math.comb(n_nodes, 3))) < edge_p**3).astype(\n",
    "        np.int8\n",
    "    )\n",
    "    n_triangles_2 = g_2.sum(axis=1)\n",
    "\n",
    "    M_k = np.cumsum(n_triangles_1) / np.arange(1, n_graphs + 1)\n",
    "    T_k = np.cumsum(n_triangles_2) / np.arange(1, n_graphs + 1)\n",
    "\n",
    "    return M_k, T_k, E_xi\n",
    "\n",
    "\n",
    "def make_plot(values, names, const_val, const_name, title, val_length):\n",
    "    fig = go.Figure()\n",
    "\n",
    "    for value, name in zip(values, names):\n",
    "        fig.add_trace(\n",
    "            go.Scatter(\n",
    "                x=np.arange(1, val_length + 1),\n",
    "                y=value,\n",
    "                mode=\"lines\",\n",
    "                line=dict(width=3),\n",
    "                name=name,\n",
    "            )\n",
    "        )\n",
    "\n",
    "    fig.add_trace(\n",
    "        go.Scatter(\n",
    "            x=[1, val_length],\n",
    "            y=[const_val, const_val],\n",
    "            mode=\"lines\",\n",
    "            line=dict(dash=\"dash\", color=\"darkorange\", width=3),\n",
    "            name=const_name,\n",
    "        )\n",
    "    )\n",
    "\n",
    "    fig.update_layout(\n",
    "        title=title,\n",
    "        xaxis_title=\"Number of graphs\",\n",
    "        yaxis_title=\"Value\",\n",
    "        legend=dict(x=0.94, y=1.0),\n",
    "        template=\"plotly_dark\",\n",
    "    )\n",
    "\n",
    "    fig.show()"
   ],
   "outputs": [],
   "execution_count": 32
  },
  {
   "cell_type": "code",
   "metadata": {
    "ExecuteTime": {
     "end_time": "2024-07-06T13:09:38.785187Z",
     "start_time": "2024-07-06T13:09:38.779932Z"
    }
   },
   "source": [
    "np.random.seed(43)\n",
    "k = 10**3\n",
    "n_nodes = 10\n",
    "\n",
    "p_1 = 0.5\n",
    "\n",
    "M_k, T_k, E_xi = get_Mk_and_Tk_and_Exi(k, n_nodes, p_1)\n",
    "print(\"E_xi:\", E_xi)\n",
    "print(\"M_k:\", M_k.mean())\n",
    "print(\"T_k:\", T_k.mean())"
   ],
   "outputs": [
    {
     "name": "stdout",
     "output_type": "stream",
     "text": [
      "E_xi: 15.0\n",
      "M_k: 14.60359209012895\n",
      "T_k: 14.916768929094793\n"
     ]
    }
   ],
   "execution_count": 33
  },
  {
   "cell_type": "code",
   "metadata": {
    "ExecuteTime": {
     "end_time": "2024-07-06T13:09:38.823676Z",
     "start_time": "2024-07-06T13:09:38.820757Z"
    }
   },
   "source": [
    "title = f\"Convergence of M(k) and T(k) to E_xi for G({n_nodes}, {p_1})\"\n",
    "values = [M_k, T_k]\n",
    "names = [\"M(k)\", \"T(k)\"]\n",
    "\n",
    "# make_plot(values, names, E_xi, \"E_xi\", title, k)"
   ],
   "outputs": [],
   "execution_count": 34
  },
  {
   "cell_type": "markdown",
   "metadata": {},
   "source": "![](plots/random_graph/E_convergence_G_10_05.png)"
  },
  {
   "cell_type": "code",
   "metadata": {
    "ExecuteTime": {
     "end_time": "2024-07-06T13:09:38.882259Z",
     "start_time": "2024-07-06T13:09:38.877073Z"
    }
   },
   "source": [
    "np.random.seed(41)\n",
    "p_2 = 0.05\n",
    "\n",
    "M_k, T_k, E_xi = get_Mk_and_Tk_and_Exi(k, n_nodes, p_2)\n",
    "print(\"E_xi:\", E_xi)\n",
    "print(\"M_k:\", M_k.mean())\n",
    "print(\"T_k:\", T_k.mean())"
   ],
   "outputs": [
    {
     "name": "stdout",
     "output_type": "stream",
     "text": [
      "E_xi: 0.015000000000000003\n",
      "M_k: 0.012020277862335947\n",
      "T_k: 0.02063560314747795\n"
     ]
    }
   ],
   "execution_count": 35
  },
  {
   "cell_type": "code",
   "metadata": {
    "ExecuteTime": {
     "end_time": "2024-07-06T13:09:38.925753Z",
     "start_time": "2024-07-06T13:09:38.922916Z"
    }
   },
   "source": [
    "title = f\"Convergence of M(k) and T(k) to E_xi for G({n_nodes}, {p_2})\"\n",
    "values = [M_k, T_k]\n",
    "names = [\"M(k)\", \"T(k)\"]\n",
    "\n",
    "# make_plot(values, names, E_xi, \"E_xi\", title, k)"
   ],
   "outputs": [],
   "execution_count": 36
  },
  {
   "cell_type": "markdown",
   "metadata": {},
   "source": "![](plots/random_graph/E_convergence_G_10_005.png)"
  },
  {
   "cell_type": "markdown",
   "metadata": {},
   "source": "## Задача 3"
  },
  {
   "cell_type": "markdown",
   "metadata": {},
   "source": [
    "### Относительно просто посчитать дисперсию для графа на трёх вершинах:\n",
    "\n",
    "$D \\tau = E I^2 - (E I)^2 = C_n^3 \\cdot p^3 - (C_n^3 \\cdot p^3)^2;$   где I = 1  если образовался треугольник и 0 иначе\n",
    "<br><br>\n",
    "\n",
    "### Для случайного графа на n вершинах:\n",
    "\n",
    "$D \\xi = E \\xi^2 - (E \\xi)^2$\n",
    "<br>\n",
    "$E \\xi^2 = E \\left( \\sum_{i=1}^{C_n^3} I_i \\right)^2 = \n",
    "\\sum_{i=1}^{C_n^3} E I_i^2 + \\sum_{i \\neq j} E I_i I_j = \n",
    "C_n^3 \\cdot p^3 + C_n^3 \\cdot C_{n-3}^3 \\cdot p^6 + 3 \\cdot C_n^3 \\cdot C_{n-3}^2 \\cdot p^6 + 3 \\cdot C_n^3 \\cdot (n-3) \\cdot p^5$\n",
    "<br>\n",
    "$(E \\xi)^2 = (C_n^3 \\cdot p^3)^2$"
   ]
  },
  {
   "cell_type": "code",
   "metadata": {
    "ExecuteTime": {
     "end_time": "2024-07-06T13:09:38.983892Z",
     "start_time": "2024-07-06T13:09:38.978866Z"
    }
   },
   "source": [
    "def get_theoretical_xi_and_tau(n, p):\n",
    "    tau_var = comb(n, 3) * (p**3 - p**6)\n",
    "\n",
    "    xi_squared_E = (comb(n, 3) * p**3) ** 2\n",
    "    xi_second_moment = (\n",
    "        comb(n, 3) * p**3\n",
    "        + comb(n, 3) * comb(n - 3, 3) * p**6\n",
    "        + 3 * comb(n, 3) * comb(n - 3, 2) * p**6\n",
    "        + 3 * comb(n, 3) * (n - 3) * p**5\n",
    "    )\n",
    "    xi_var = xi_second_moment - xi_squared_E\n",
    "\n",
    "    return xi_var, tau_var\n",
    "\n",
    "\n",
    "def generate_graphs_and_get_n_triangles(n_graphs, n_nodes, edge_p):\n",
    "    xi_graphs = generate_graph(n_graphs, n_nodes, edge_p)\n",
    "    xi_triangles = count_triangles(xi_graphs)\n",
    "\n",
    "    tau_graphs = (np.random.random((n_graphs, math.comb(n_nodes, 3))) < p**3).astype(\n",
    "        np.int8\n",
    "    )\n",
    "    tau_triangles = tau_graphs.sum(axis=1)\n",
    "\n",
    "    return xi_triangles, tau_triangles\n",
    "\n",
    "\n",
    "def get_vars(n_graphs, n_nodes, edge_p):\n",
    "    xi_triangles, tau_triangles = generate_graphs_and_get_n_triangles(\n",
    "        n_graphs, n_nodes, edge_p\n",
    "    )\n",
    "    xi_var = xi_triangles.var()\n",
    "    tau_var = tau_triangles.var()\n",
    "\n",
    "    theoretical_xi_var, theoretical_tau_var = get_theoretical_xi_and_tau(\n",
    "        n_nodes, edge_p\n",
    "    )\n",
    "\n",
    "    return xi_var, tau_var, theoretical_xi_var, theoretical_tau_var"
   ],
   "outputs": [],
   "execution_count": 37
  },
  {
   "cell_type": "code",
   "metadata": {
    "ExecuteTime": {
     "end_time": "2024-07-06T13:09:39.751430Z",
     "start_time": "2024-07-06T13:09:38.999370Z"
    }
   },
   "source": [
    "np.random.seed(42)\n",
    "\n",
    "p = 0.5\n",
    "k = 2 * 10**5\n",
    "n = 10\n",
    "\n",
    "xi_var, tau_var, theoretical_xi_var, theoretical_tau_var = get_vars(k, n, p)\n",
    "\n",
    "print(\"### G(10, 0.5) ###\\n\")\n",
    "print(f\"  Theoretical Variances: \\nxi: {theoretical_xi_var} \\ntau: {theoretical_tau_var}\")\n",
    "print(f\"\\n  Real Variances: \\nxi: {xi_var} \\ntau: {tau_var}\")"
   ],
   "outputs": [
    {
     "name": "stdout",
     "output_type": "stream",
     "text": [
      "### G(10, 0.5) ###\n",
      "\n",
      "  Theoretical Variances: \n",
      "xi: 52.5 \n",
      "tau: 13.125\n",
      "\n",
      "  Real Variances: \n",
      "xi: 52.6366167936 \n",
      "tau: 13.191531138775002\n"
     ]
    }
   ],
   "execution_count": 38
  },
  {
   "cell_type": "code",
   "metadata": {
    "ExecuteTime": {
     "end_time": "2024-07-06T13:09:40.412199Z",
     "start_time": "2024-07-06T13:09:39.752961Z"
    }
   },
   "source": [
    "p = 0.05\n",
    "\n",
    "xi_var, tau_var, theoretical_xi_var, theoretical_tau_var = get_vars(k, n, p)\n",
    "\n",
    "print(\"### G(10, 0.05) ###\\n\")\n",
    "print(f\"  Theoretical Variances: \\nxi: {theoretical_xi_var} \\ntau: {theoretical_tau_var}\")\n",
    "print(f\"\\n  Real Variances: \\nxi: {xi_var} \\ntau: {tau_var}\")"
   ],
   "outputs": [
    {
     "name": "stdout",
     "output_type": "stream",
     "text": [
      "### G(10, 0.05) ###\n",
      "\n",
      "  Theoretical Variances: \n",
      "xi: 0.015746250000000003 \n",
      "tau: 0.014998125000000005\n",
      "\n",
      "  Real Variances: \n",
      "xi: 0.015945931775 \n",
      "tau: 0.014932244374999997\n"
     ]
    }
   ],
   "execution_count": 39
  },
  {
   "cell_type": "markdown",
   "metadata": {},
   "source": "#### Построим графики для G(10, 0.5)"
  },
  {
   "cell_type": "code",
   "metadata": {
    "ExecuteTime": {
     "end_time": "2024-07-06T13:09:40.415646Z",
     "start_time": "2024-07-06T13:09:40.413400Z"
    }
   },
   "source": [
    "k = 10**4\n",
    "n = 10"
   ],
   "outputs": [],
   "execution_count": 40
  },
  {
   "cell_type": "code",
   "metadata": {
    "ExecuteTime": {
     "end_time": "2024-07-06T13:09:41.254680Z",
     "start_time": "2024-07-06T13:09:40.417526Z"
    }
   },
   "source": [
    "np.random.seed(13)\n",
    "p = 0.5\n",
    "\n",
    "xi_triangles, tau_triangles = generate_graphs_and_get_n_triangles(k, n, p)\n",
    "theoretical_xi_var, theoretical_tau_var = get_theoretical_xi_and_tau(n, p)\n",
    "\n",
    "xi_vals = [np.var(xi_triangles[:i]) for i in range(10, k)]\n",
    "tau_vals = [np.var(tau_triangles[:i]) for i in range(10, k)]"
   ],
   "outputs": [],
   "execution_count": 41
  },
  {
   "cell_type": "code",
   "metadata": {
    "ExecuteTime": {
     "end_time": "2024-07-06T13:09:41.259462Z",
     "start_time": "2024-07-06T13:09:41.256115Z"
    }
   },
   "source": [
    "xi_title = f\"xi Convergence of Variances for G({n}, {p})\"\n",
    "tau_title = f\"tau Convergence of Variances for G({n}, {p})\"\n",
    "\n",
    "# make_plot([xi_vals], [\"xi\"], theoretical_xi_var, \"Theoretical xi\", xi_title, val_length=len(xi_vals))\n",
    "# make_plot([tau_vals], [\"tau\"], theoretical_tau_var, \"Theoretical tau\", tau_title, val_length=len(tau_vals))"
   ],
   "outputs": [],
   "execution_count": 42
  },
  {
   "cell_type": "markdown",
   "metadata": {},
   "source": [
    "![](plots/random_graph/xi_var_convergence_G_10_05.png)\n",
    "\n",
    "![](plots/random_graph/tau_var_convergence_G_10_05.png)"
   ]
  },
  {
   "cell_type": "markdown",
   "metadata": {},
   "source": "#### И для G(10, 0.05)"
  },
  {
   "cell_type": "code",
   "metadata": {
    "ExecuteTime": {
     "end_time": "2024-07-06T13:09:41.968604Z",
     "start_time": "2024-07-06T13:09:41.260472Z"
    }
   },
   "source": [
    "np.random.seed(42)\n",
    "p = 0.05\n",
    "\n",
    "xi_triangles, tau_triangles = generate_graphs_and_get_n_triangles(k, n, p)\n",
    "theoretical_xi_var, theoretical_tau_var = get_theoretical_xi_and_tau(n, p)\n",
    "\n",
    "xi_vals = [np.var(xi_triangles[:i]) for i in range(10, k)]\n",
    "tau_vals = [np.var(tau_triangles[:i]) for i in range(10, k)]"
   ],
   "outputs": [],
   "execution_count": 43
  },
  {
   "cell_type": "code",
   "metadata": {
    "ExecuteTime": {
     "end_time": "2024-07-06T13:09:41.972918Z",
     "start_time": "2024-07-06T13:09:41.969855Z"
    }
   },
   "source": [
    "xi_title = f\"xi Convergence of Variances for G({n}, {p})\"\n",
    "tau_title = f\"tau Convergence of Variances for G({n}, {p})\"\n",
    "\n",
    "# make_plot([xi_vals], [\"xi\"], theoretical_xi_var, \"Theoretical xi\", xi_title, val_length=len(xi_vals))\n",
    "# make_plot([tau_vals], [\"tau\"], theoretical_tau_var, \"Theoretical tau\", tau_title, val_length=len(tau_vals))"
   ],
   "outputs": [],
   "execution_count": 44
  },
  {
   "cell_type": "markdown",
   "metadata": {},
   "source": [
    "![](plots/random_graph/xi_var_convergence_G_10_005.png)\n",
    "\n",
    "![](plots/random_graph/tau_var_convergence_G_10_005.png)\n"
   ]
  },
  {
   "cell_type": "code",
   "metadata": {
    "ExecuteTime": {
     "end_time": "2024-07-06T13:09:41.975855Z",
     "start_time": "2024-07-06T13:09:41.973974Z"
    }
   },
   "source": [],
   "outputs": [],
   "execution_count": 44
  }
 ],
 "metadata": {
  "kernelspec": {
   "display_name": "Python 3",
   "language": "python",
   "name": "python3"
  },
  "language_info": {
   "codemirror_mode": {
    "name": "ipython",
    "version": 3
   },
   "file_extension": ".py",
   "mimetype": "text/x-python",
   "name": "python",
   "nbconvert_exporter": "python",
   "pygments_lexer": "ipython3",
   "version": "3.8.8"
  }
 },
 "nbformat": 4,
 "nbformat_minor": 2
}
