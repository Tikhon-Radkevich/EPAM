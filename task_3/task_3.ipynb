{
 "cells": [
  {
   "cell_type": "markdown",
   "metadata": {},
   "source": [
    "\n",
    "## Глава 3 Теоремы теории вероятностей\n",
    "\n",
    "**Кандидат должен знать:**\n",
    "\n",
    "- Закон больших чисел и усиленный закон больших чисел\n",
    "- Центральная предельная теорема\n",
    "- Многомерные распределения\n",
    "\n",
    "**Материалы:**\n",
    "- [Райгородский курс по тер. веру лекции 8,9,12,13](https://www.youtube.com/watch?v=n7jx2MfIeX4&list=PLthfp5exSWEr8tRK-Yf-i9aXgcFJ-O16d&index=8)\n",
    "- [курс ТВ  на степике из частей 2,4](https://stepik.org/course/3089)\n"
   ]
  },
  {
   "cell_type": "markdown",
   "metadata": {},
   "source": "## Задачи с кодингом"
  },
  {
   "cell_type": "markdown",
   "metadata": {},
   "source": [
    "### 1. Normal Random Variable Generation\n",
    "\n",
    "Let us have a random variable $\\xi \\sim U[0,1]$.\n",
    "\n",
    "**Task:**\n",
    "1. Based on this random variable, use the Central Limit Theorem (CLT) to simulate ($n = 10000$) random variable $\\eta \\sim N(\\mu, \\sigma^2)$.\n",
    "\n",
    "2. Plot the density distribution and compare it with the theoretical distribution.\n",
    "\n",
    "3. Calculate mean and variance, and compare them with the true values.\n",
    "\n",
    "**Notes**\n",
    "\n",
    "1. To generate $\\xi$, you can use numpy function `numpy.random.random`\n",
    "2. To plot theoretical density distribution of a normal variable - `scipy.stats.norm.ppf`\n"
   ]
  },
  {
   "cell_type": "markdown",
   "metadata": {},
   "source": "### 1. Normal Random Variable Generation"
  },
  {
   "cell_type": "markdown",
   "metadata": {},
   "source": [
    "Let $X$ be a uniformly distributed random variable, and $\\eta$ be a normally distributed random variable.\n",
    "\n",
    "$\\eta = \\frac{1}{N_x} \\sum_{i=1}^{N_x} X_i$\n",
    "<br>\n",
    "$\\mu_{\\eta} = \\frac{1}{N_x} E \\left( \\sum_{i=1}^{N_x} X_i \\right) = \\frac{1}{N_x} \\sum_{i=1}^{N} E_{X_i} = E_X$\n",
    "<br>\n",
    "\n",
    "$\n",
    "\\sigma_\\eta^2 = \\frac{1}{(N_x-1)^2} \\sum_{i=1}^{N_x} D_{X_i} = \\frac{N_x \\cdot D_X}{(N_x-1)^2} \\approx \\left[\\text{if } N_x > 100\\right] \\approx \\frac{D_X}{N_x}\n",
    "$\n",
    "\n",
    "\n",
    "<br><br><br>\n",
    "$E_X = \\mu_{\\eta}$\n",
    "<br>\n",
    "$D_X = N_x \\cdot \\sigma_\\eta^2$\n",
    "\n",
    "Now I need random uniform values $X$ with $\\mu_X$ and $\\sigma_x^2$:\n",
    "\n",
    "\n",
    "\\begin{cases}\n",
    "E_X = \\frac{a + b}{2} \\\\\n",
    "D = \\frac{(b - a)^2}{12} \n",
    "\\end{cases}\n",
    "\n",
    "\\begin{cases}\n",
    "a = E_X - \\sqrt{3 \\cdot D_X} \\\\\n",
    "b = E_X + \\sqrt{3 \\cdot D_X}\n",
    "\\end{cases}\n",
    "\n",
    "\n",
    "$X = a + Z \\cdot (b - a) \\quad \\text{where} \\quad Z \\sim U[0, 1]$"
   ]
  },
  {
   "cell_type": "code",
   "metadata": {
    "ExecuteTime": {
     "end_time": "2024-07-09T12:51:37.210105Z",
     "start_time": "2024-07-09T12:51:36.484004Z"
    }
   },
   "source": [
    "import math\n",
    "from math import comb\n",
    "from collections import Counter\n",
    "\n",
    "import numpy as np\n",
    "from scipy.stats import norm, binom\n",
    "\n",
    "import plotly.express as px\n",
    "import plotly.graph_objects as go"
   ],
   "outputs": [],
   "execution_count": 1
  },
  {
   "cell_type": "code",
   "metadata": {
    "ExecuteTime": {
     "end_time": "2024-07-09T12:51:37.214913Z",
     "start_time": "2024-07-09T12:51:37.211925Z"
    }
   },
   "source": [
    "# images from task_3/plots will be used if False\n",
    "MAKE_PLOTS = False"
   ],
   "outputs": [],
   "execution_count": 2
  },
  {
   "cell_type": "code",
   "metadata": {
    "ExecuteTime": {
     "end_time": "2024-07-09T12:51:37.221800Z",
     "start_time": "2024-07-09T12:51:37.216248Z"
    }
   },
   "source": [
    "def generate_eta_1(mu_eta, sigma_squared_eta, n_x, n_eta):\n",
    "    expectation_x = mu_eta\n",
    "    var_x = n_x * sigma_squared_eta\n",
    "\n",
    "    a = expectation_x - np.sqrt(3 * var_x)\n",
    "    b = expectation_x + np.sqrt(3 * var_x)\n",
    "\n",
    "    Z = np.random.random((n_eta, n_x))\n",
    "    X = a + Z * (b - a)\n",
    "\n",
    "    return X.mean(axis=1)"
   ],
   "outputs": [],
   "execution_count": 3
  },
  {
   "cell_type": "markdown",
   "metadata": {},
   "source": [
    "### Or another way:\n",
    "\n",
    "To generate $\\eta \\sim N(\\mu, \\sigma^2)$:\n",
    "1. Generate $X \\sim U(0, 1)$ and sum $n_x$ samples to get `sum_uniforms` with the shape of the number of samples $\\eta$.\n",
    "2. Standardize the `sum_uniforms` to get standard normal values. $E_X = n_x / 2$, $D_X = n_x / 12$.\n",
    "3. Scale and shift using parameters $N(\\mu, \\sigma^2)$ to get the final normal samples $\\eta$.\n",
    "\n"
   ]
  },
  {
   "cell_type": "code",
   "metadata": {
    "ExecuteTime": {
     "end_time": "2024-07-09T12:51:37.227153Z",
     "start_time": "2024-07-09T12:51:37.223646Z"
    }
   },
   "source": [
    "def generate_eta_2(mu_eta, sigma_squared_eta, n_x, n_eta):\n",
    "    uniform_random = np.random.random((n_eta, n_x))\n",
    "    sum_uniforms = np.sum(uniform_random, axis=1)\n",
    "    standard_normal = (sum_uniforms - n_x / 2) / np.sqrt(n_x / 12)\n",
    "    return mu_eta + np.sqrt(sigma_squared_eta) * standard_normal"
   ],
   "outputs": [],
   "execution_count": 4
  },
  {
   "cell_type": "markdown",
   "metadata": {},
   "source": "### Expectation and Variance Calculation"
  },
  {
   "cell_type": "code",
   "metadata": {
    "ExecuteTime": {
     "end_time": "2024-07-09T12:51:38.097866Z",
     "start_time": "2024-07-09T12:51:37.228185Z"
    }
   },
   "source": [
    "# choose generation algorithm: generate_eta_1 or generate_eta_2\n",
    "generate_eta = generate_eta_2\n",
    "\n",
    "expectation_eta = -7\n",
    "var_eta = 4\n",
    "sigma_eta = np.sqrt(var_eta)\n",
    "number_of_x = 1000\n",
    "number_of_eta = 10**5\n",
    "\n",
    "eta = generate_eta(expectation_eta, var_eta, number_of_x, number_of_eta)\n",
    "\n",
    "print(\"###  Task 3: Theoretical E and D VS Simulated E and D  ###\\n\")\n",
    "print(f\"Theoretical E = {expectation_eta}; Simulated E = {eta.mean()}\")\n",
    "print(f\"Theoretical D = {var_eta}; Simulated D = {eta.var()}\")"
   ],
   "outputs": [
    {
     "name": "stdout",
     "output_type": "stream",
     "text": [
      "###  Task 3: Theoretical E and D VS Simulated E and D  ###\n",
      "\n",
      "Theoretical E = -7; Simulated E = -7.0046769097708514\n",
      "Theoretical D = 4; Simulated D = 4.04253475104238\n"
     ]
    }
   ],
   "execution_count": 5
  },
  {
   "cell_type": "code",
   "metadata": {
    "ExecuteTime": {
     "end_time": "2024-07-09T12:51:38.171251Z",
     "start_time": "2024-07-09T12:51:38.098824Z"
    }
   },
   "source": [
    "fig = px.histogram(\n",
    "    eta,\n",
    "    nbins=40,\n",
    "    title=\"Distribution of eta\",\n",
    "    labels={\"value\": \"Value\"},\n",
    "    height=700,\n",
    "    width=500,\n",
    ")"
   ],
   "outputs": [],
   "execution_count": 6
  },
  {
   "cell_type": "code",
   "metadata": {
    "ExecuteTime": {
     "end_time": "2024-07-09T12:51:38.175414Z",
     "start_time": "2024-07-09T12:51:38.172321Z"
    }
   },
   "source": [
    "if MAKE_PLOTS:\n",
    "    fig.show()"
   ],
   "outputs": [],
   "execution_count": 7
  },
  {
   "cell_type": "markdown",
   "metadata": {},
   "source": "![](plots/norm_distribution.png)"
  },
  {
   "cell_type": "markdown",
   "metadata": {},
   "source": "### Density Plot. Comparing with Theoretical Plot"
  },
  {
   "cell_type": "code",
   "metadata": {
    "ExecuteTime": {
     "end_time": "2024-07-09T12:51:38.209933Z",
     "start_time": "2024-07-09T12:51:38.176859Z"
    }
   },
   "source": [
    "fig = go.Figure()\n",
    "\n",
    "norm_x = np.linspace(\n",
    "    norm.ppf(0.0001, loc=expectation_eta, scale=sigma_eta),\n",
    "    norm.ppf(0.9999, loc=expectation_eta, scale=sigma_eta),\n",
    "    number_of_eta,\n",
    ")\n",
    "norm_y = norm.pdf(norm_x, loc=expectation_eta, scale=sigma_eta)\n",
    "\n",
    "fig.add_trace(\n",
    "    go.Scatter(\n",
    "        x=norm_x,\n",
    "        y=norm_y,\n",
    "        mode=\"lines\",\n",
    "        line=dict(color=\"darkblue\", width=5),\n",
    "        name=\"norm pdf\",\n",
    "    )\n",
    ")\n",
    "\n",
    "hist_y, hist_x = np.histogram(eta, bins=\"auto\", density=True)\n",
    "fig.add_trace(\n",
    "    go.Bar(\n",
    "        x=hist_x,\n",
    "        y=hist_y,\n",
    "        opacity=0.8,\n",
    "        name=\"histogram\",\n",
    "        marker=dict(color=\"darkgreen\"),\n",
    "    )\n",
    ")\n",
    "\n",
    "fig = fig.update_layout(\n",
    "    title=\"Normal Distribution\",\n",
    "    xaxis_title=\"Value\",\n",
    "    yaxis_title=\"Density\",\n",
    "    template=\"plotly_dark\",\n",
    "    legend=dict(x=0.8, y=1.0),\n",
    "    height=700,\n",
    "    width=500,\n",
    ")"
   ],
   "outputs": [],
   "execution_count": 8
  },
  {
   "cell_type": "code",
   "metadata": {
    "ExecuteTime": {
     "end_time": "2024-07-09T12:51:38.213366Z",
     "start_time": "2024-07-09T12:51:38.210928Z"
    }
   },
   "source": [
    "if MAKE_PLOTS:\n",
    "    fig.show()"
   ],
   "outputs": [],
   "execution_count": 9
  },
  {
   "cell_type": "markdown",
   "metadata": {},
   "source": "![](plots/norm_pdf.png)"
  },
  {
   "cell_type": "markdown",
   "metadata": {},
   "source": [
    "### 2. Casino \n",
    "\n",
    "There are two games:\n",
    "\n",
    "**a. Dice:**\n",
    "\n",
    "Player pays 4&#36; and rolls two dice. If sum 8 or more, player gets a prize equal to the sum.\n",
    "\n",
    "**b. Разгадай код:**\n",
    "\n",
    "There is a five-digit code (each digit from 0 to 9). Player pays 10&#36; and tries to guess the code:\n",
    "    \n",
    "    - Player guesses 0 or 1 digit: gets nothing\n",
    "    - Player guesses exactly 2 digits: gets 50\n",
    "    - Player guesses exactly 3 digits: gets 200\n",
    "    - Player guesses exactly 4 digits: gets 5000\n",
    "    - Player guesses the whole code: gets 100000\n",
    "    After each try, the code changes.\n",
    "\n",
    "**Task:**\n",
    "\n",
    "Let $\\xi$ and $\\eta$ be a random variables equal to the player's win/loss in the dice and code games, in one round.\n",
    "\n",
    "1. Calculate $E\\xi$ and $E\\eta$\n",
    "2. Simulate random variables $\\xi$ and $\\eta$\n",
    "3. Plot the average win/loss convergence to the expectation\n",
    "4. Compare the convergence speed of the random variables to their expectations. Why are they different?\n",
    "5. How many experiments would you take to estimate the expectation?"
   ]
  },
  {
   "cell_type": "markdown",
   "metadata": {},
   "source": [
    "## a. Dice\n",
    "### 1) Expectation Calculation"
   ]
  },
  {
   "cell_type": "code",
   "metadata": {
    "ExecuteTime": {
     "end_time": "2024-07-09T12:51:38.218767Z",
     "start_time": "2024-07-09T12:51:38.215775Z"
    }
   },
   "source": [
    "def calc_expectation_and_var(game_probs, game_values):\n",
    "    expectation = sum([prob * val for prob, val in zip(game_probs, game_values)])\n",
    "    second_moment = sum([prob * val**2 for prob, val in zip(game_probs, game_values)])\n",
    "\n",
    "    var = second_moment - expectation**2\n",
    "    return expectation, var"
   ],
   "outputs": [],
   "execution_count": 10
  },
  {
   "cell_type": "code",
   "metadata": {
    "ExecuteTime": {
     "end_time": "2024-07-09T12:51:38.224278Z",
     "start_time": "2024-07-09T12:51:38.219617Z"
    }
   },
   "source": [
    "N_DICE_SIDES = 6\n",
    "\n",
    "one_game_cost = 4\n",
    "win_threshold = 8\n",
    "\n",
    "win_amounts = (\n",
    "    np.array([0 if i < win_threshold else i for i in range(2 * N_DICE_SIDES + 1)])\n",
    "    - one_game_cost\n",
    ")\n",
    "possible_dice_values = [\n",
    "    i + j for i in range(1, N_DICE_SIDES + 1) for j in range(1, N_DICE_SIDES + 1)\n",
    "]\n",
    "\n",
    "count_values = Counter(possible_dice_values)\n",
    "probs = [\n",
    "    count_values[dice_value] / N_DICE_SIDES**2\n",
    "    for dice_value in range(2 * N_DICE_SIDES + 1)\n",
    "]\n",
    "value_to_prob_str = \",  \".join(\n",
    "    [f\"{i}: {count_values[i]}/{N_DICE_SIDES ** 2}\" for i in range(2 * N_DICE_SIDES + 1)]\n",
    ")\n",
    "\n",
    "print(\"Value: Probability -\", value_to_prob_str)\n",
    "print(\"Probs sum:\", sum(count_values.values()) / N_DICE_SIDES**2)"
   ],
   "outputs": [
    {
     "name": "stdout",
     "output_type": "stream",
     "text": [
      "Value: Probability - 0: 0/36,  1: 0/36,  2: 1/36,  3: 2/36,  4: 3/36,  5: 4/36,  6: 5/36,  7: 6/36,  8: 5/36,  9: 4/36,  10: 3/36,  11: 2/36,  12: 1/36\n",
      "Probs sum: 1.0\n"
     ]
    }
   ],
   "execution_count": 11
  },
  {
   "cell_type": "code",
   "metadata": {
    "ExecuteTime": {
     "end_time": "2024-07-09T12:51:38.228593Z",
     "start_time": "2024-07-09T12:51:38.225222Z"
    }
   },
   "source": [
    "expectation_xi, var_xi = calc_expectation_and_var(probs, win_amounts)\n",
    "\n",
    "print(\"Theoretical E_xi:\", round(expectation_xi, 5))\n",
    "print(\"Theoretical D_xi:\", round(var_xi, 5))"
   ],
   "outputs": [
    {
     "name": "stdout",
     "output_type": "stream",
     "text": [
      "Theoretical E_xi: -0.11111\n",
      "Theoretical D_xi: 21.82099\n"
     ]
    }
   ],
   "execution_count": 12
  },
  {
   "cell_type": "markdown",
   "metadata": {},
   "source": "### 2) Random Variable Simulation"
  },
  {
   "cell_type": "code",
   "metadata": {
    "ExecuteTime": {
     "end_time": "2024-07-09T12:51:38.233160Z",
     "start_time": "2024-07-09T12:51:38.229881Z"
    }
   },
   "source": [
    "def generate_xi(n_samples, win_values):\n",
    "    dice_values = np.random.randint(1, N_DICE_SIDES + 1, 2 * n_samples)\n",
    "    dice_sums = dice_values[::2] + dice_values[1::2]\n",
    "    return win_values[dice_sums]"
   ],
   "outputs": [],
   "execution_count": 13
  },
  {
   "cell_type": "code",
   "metadata": {
    "ExecuteTime": {
     "end_time": "2024-07-09T12:51:38.238432Z",
     "start_time": "2024-07-09T12:51:38.234502Z"
    }
   },
   "source": [
    "np.random.seed(48)\n",
    "n_games = 9 * 10**3\n",
    "\n",
    "xi_values = generate_xi(n_games, win_amounts)\n",
    "\n",
    "print(\"Theoretical E xi =\", round(expectation_xi, 5))\n",
    "print(\"Simulated E xi =\", xi_values.mean())"
   ],
   "outputs": [
    {
     "name": "stdout",
     "output_type": "stream",
     "text": [
      "Theoretical E xi = -0.11111\n",
      "Simulated E xi = -0.11477777777777778\n"
     ]
    }
   ],
   "execution_count": 14
  },
  {
   "cell_type": "markdown",
   "metadata": {},
   "source": "### 3. Average Win Convergence to Expectation"
  },
  {
   "cell_type": "code",
   "metadata": {
    "ExecuteTime": {
     "end_time": "2024-07-09T12:51:38.245237Z",
     "start_time": "2024-07-09T12:51:38.239659Z"
    }
   },
   "source": [
    "def plot(x_data, mean_value):\n",
    "    cumulative_means = np.cumsum(x_data) / np.arange(1, len(x_data) + 1)\n",
    "\n",
    "    fig = go.Figure()\n",
    "\n",
    "    fig.add_trace(\n",
    "        go.Scatter(\n",
    "            x=np.arange(1, len(x_data) + 1),\n",
    "            y=cumulative_means,\n",
    "            mode=\"lines\",\n",
    "            name=\"Average win value\",\n",
    "        )\n",
    "    )\n",
    "\n",
    "    fig.add_trace(\n",
    "        go.Scatter(\n",
    "            x=[1, len(x_data)],\n",
    "            y=[mean_value, mean_value],\n",
    "            mode=\"lines\",\n",
    "            line=dict(dash=\"dash\", color=\"red\"),\n",
    "            name=\"Expected value\",\n",
    "        )\n",
    "    )\n",
    "\n",
    "    fig.update_layout(\n",
    "        title=\"Average Win Convergence to Expectation\",\n",
    "        xaxis_title=\"Number of Games\",\n",
    "        yaxis_title=\"Win Amount\",\n",
    "        legend=dict(x=0.8, y=1.0),\n",
    "        template=\"plotly_dark\",\n",
    "    )\n",
    "\n",
    "    fig.show()"
   ],
   "outputs": [],
   "execution_count": 15
  },
  {
   "cell_type": "code",
   "metadata": {
    "ExecuteTime": {
     "end_time": "2024-07-09T12:51:38.248988Z",
     "start_time": "2024-07-09T12:51:38.246614Z"
    }
   },
   "source": [
    "if MAKE_PLOTS:\n",
    "    plot(xi_values, expectation_xi)"
   ],
   "outputs": [],
   "execution_count": 16
  },
  {
   "cell_type": "markdown",
   "metadata": {},
   "source": "![](plots/dice_expectation.png)"
  },
  {
   "cell_type": "markdown",
   "metadata": {},
   "source": "### 5) Number of Experiments Estimation"
  },
  {
   "cell_type": "markdown",
   "metadata": {},
   "source": [
    "According to the Central Limit Theorem, the sample mean $\\bar{X}_n$ of a sample size $n$ from a population with mean $\\mu$ and variance $\\sigma^2$ follows a normal distribution:\n",
    "\n",
    "$$\\bar{X}_n \\sim N\\left(\\mu, \\frac{\\sigma^2}{n}\\right)$$\n",
    "\n",
    "I need to ensure that the probability that $\\bar{X}_n$ falls within the interval [$\\mu - \\epsilon$, $\\mu + \\epsilon$] is equal to $p$:\n",
    "   $$P\\left(|\\bar{X}_n - \\mu| < \\epsilon\\right) = p$$\n",
    "\n",
    "1. Standardizing: by subtracting the mean and dividing by the standard deviation:\n",
    "   $$P\\left(|\\bar{X}_n - \\mu| < \\epsilon\\right) = P\\left(\\left| \\frac{\\bar{X}_n - \\mu}{\\frac{\\sigma}{\\sqrt{n}}} \\right| < \\frac{\\epsilon}{\\frac{\\sigma}{\\sqrt{n}}}\\right) = P\\left(|Z| < \\frac{\\epsilon \\sqrt{n}}{\\sigma}\\right) = p$$\n",
    "\n",
    "2. For $p = 0.95$:\n",
    "   $$\\frac{\\epsilon \\sqrt{n}}{\\sigma} = z = 1.96$$ \n",
    "\n",
    "3. Finding the minimum number of experiments $n$ required to achieve the specified accuracy:\n",
    "   $$n \\geq \\left( \\frac{z \\sigma}{\\epsilon} \\right)^2$$\n"
   ]
  },
  {
   "cell_type": "code",
   "metadata": {
    "ExecuteTime": {
     "end_time": "2024-07-09T12:51:38.253059Z",
     "start_time": "2024-07-09T12:51:38.250173Z"
    }
   },
   "source": [
    "def estimate_n(variance_x, eps_x, x):\n",
    "    return ((x * np.sqrt(variance_x)) / eps_x) ** 2"
   ],
   "outputs": [],
   "execution_count": 17
  },
  {
   "cell_type": "code",
   "metadata": {
    "ExecuteTime": {
     "end_time": "2024-07-09T12:51:38.257583Z",
     "start_time": "2024-07-09T12:51:38.254401Z"
    }
   },
   "source": [
    "z = 1.96\n",
    "eps = 0.05\n",
    "\n",
    "n = int(estimate_n(var_xi, eps, z))\n",
    "\n",
    "print(\"For 95% confidence level, and 5% error, n should be at least\", n)"
   ],
   "outputs": [
    {
     "name": "stdout",
     "output_type": "stream",
     "text": [
      "For 95% confidence level, and 5% error, n should be at least 33531\n"
     ]
    }
   ],
   "execution_count": 18
  },
  {
   "cell_type": "markdown",
   "metadata": {},
   "source": [
    "## b. Guess the Code\n",
    "### 1)  Expectation Calculation"
   ]
  },
  {
   "cell_type": "code",
   "metadata": {
    "ExecuteTime": {
     "end_time": "2024-07-09T12:51:38.262150Z",
     "start_time": "2024-07-09T12:51:38.258591Z"
    }
   },
   "source": [
    "GUESS_DIGIT_PROB = 1 / 10  # probability of guessing one digit\n",
    "CODE_LENGTH = 5\n",
    "\n",
    "one_game_cost = 10\n",
    "\n",
    "guess_code_win_amounts = np.array([0, 0, 50, 200, 5000, 100000]) - one_game_cost\n",
    "number_of_successes = np.arange(CODE_LENGTH + 1)\n",
    "code_game_probs = binom.pmf(number_of_successes, CODE_LENGTH, GUESS_DIGIT_PROB)\n",
    "\n",
    "print(\"Probs:\", code_game_probs)"
   ],
   "outputs": [
    {
     "name": "stdout",
     "output_type": "stream",
     "text": [
      "Probs: [5.9049e-01 3.2805e-01 7.2900e-02 8.1000e-03 4.5000e-04 1.0000e-05]\n"
     ]
    }
   ],
   "execution_count": 19
  },
  {
   "cell_type": "code",
   "metadata": {
    "ExecuteTime": {
     "end_time": "2024-07-09T12:51:38.267001Z",
     "start_time": "2024-07-09T12:51:38.263460Z"
    }
   },
   "source": [
    "expectation_eta, var_eta = calc_expectation_and_var(\n",
    "    code_game_probs, guess_code_win_amounts\n",
    ")\n",
    "\n",
    "print(\"Theoretical E eta =\", round(expectation_eta, 5))\n",
    "print(\"Theoretical D eta =\", round(var_eta, 5))"
   ],
   "outputs": [
    {
     "name": "stdout",
     "output_type": "stream",
     "text": [
      "Theoretical E eta = -1.485\n",
      "Theoretical D eta = 111683.74478\n"
     ]
    }
   ],
   "execution_count": 20
  },
  {
   "cell_type": "markdown",
   "metadata": {},
   "source": "### 2) Random Variable Simulation"
  },
  {
   "cell_type": "code",
   "metadata": {
    "ExecuteTime": {
     "end_time": "2024-07-09T12:51:38.271606Z",
     "start_time": "2024-07-09T12:51:38.268104Z"
    }
   },
   "source": [
    "def generate_eta(n_samples, win_values):\n",
    "    random_values_code = np.random.randint(0, 10, (n_samples, CODE_LENGTH))\n",
    "    code_guesses = np.random.randint(0, 10, (n_samples, CODE_LENGTH))\n",
    "\n",
    "    is_guess_random_code = code_guesses == random_values_code\n",
    "    random_guesses = is_guess_random_code.sum(axis=1)\n",
    "    return win_values[random_guesses]"
   ],
   "outputs": [],
   "execution_count": 21
  },
  {
   "cell_type": "code",
   "metadata": {
    "ExecuteTime": {
     "end_time": "2024-07-09T12:51:38.430710Z",
     "start_time": "2024-07-09T12:51:38.272702Z"
    }
   },
   "source": [
    "np.random.seed(12)\n",
    "n_games = 1 * 10**6\n",
    "\n",
    "eta_values = generate_eta(n_games, guess_code_win_amounts)\n",
    "\n",
    "print(\"Theoretical E eta =\", round(expectation_eta, 5))\n",
    "print(\"Simulated E eta =\", eta_values.mean())"
   ],
   "outputs": [
    {
     "name": "stdout",
     "output_type": "stream",
     "text": [
      "Theoretical E eta = -1.485\n",
      "Simulated E eta = -1.4936\n"
     ]
    }
   ],
   "execution_count": 22
  },
  {
   "cell_type": "markdown",
   "metadata": {},
   "source": "### 3. Average Win Convergence to Expectation"
  },
  {
   "cell_type": "code",
   "metadata": {
    "ExecuteTime": {
     "end_time": "2024-07-09T12:51:38.433747Z",
     "start_time": "2024-07-09T12:51:38.431651Z"
    }
   },
   "source": [
    "if MAKE_PLOTS:\n",
    "    plot(eta_values, expectation_eta)"
   ],
   "outputs": [],
   "execution_count": 23
  },
  {
   "cell_type": "markdown",
   "metadata": {},
   "source": "![](plots/code_expectation.png)"
  },
  {
   "cell_type": "markdown",
   "metadata": {},
   "source": [
    "### 4) Convergence Speeds Comparing\n",
    "\n",
    "Convergence speed depends on the variance of the random variable. \n",
    "\n",
    "Dice game has a smaller variance, so the convergence is faster.\n",
    "\n",
    "Guess the code game has a larger variance, so the convergence is slower."
   ]
  },
  {
   "cell_type": "code",
   "metadata": {
    "ExecuteTime": {
     "end_time": "2024-07-09T12:51:38.440351Z",
     "start_time": "2024-07-09T12:51:38.434567Z"
    }
   },
   "source": [
    "print(\"D xi:\", var_xi)\n",
    "print(\"D eta:\", var_eta)"
   ],
   "outputs": [
    {
     "name": "stdout",
     "output_type": "stream",
     "text": [
      "D xi: 21.82098765432099\n",
      "D eta: 111683.74477500001\n"
     ]
    }
   ],
   "execution_count": 24
  },
  {
   "cell_type": "markdown",
   "metadata": {},
   "source": "### 5) Number of Experiments Estimation"
  },
  {
   "cell_type": "code",
   "metadata": {
    "ExecuteTime": {
     "end_time": "2024-07-09T12:51:38.444172Z",
     "start_time": "2024-07-09T12:51:38.441389Z"
    }
   },
   "source": [
    "n = int(estimate_n(var_eta, eps, z))\n",
    "\n",
    "print(\"For 95% confidence level, and 5% error, n should be at least\", n)"
   ],
   "outputs": [
    {
     "name": "stdout",
     "output_type": "stream",
     "text": [
      "For 95% confidence level, and 5% error, n should be at least 171617709\n"
     ]
    }
   ],
   "execution_count": 25
  },
  {
   "cell_type": "markdown",
   "metadata": {},
   "source": [
    "### Random Graph\n",
    "\n",
    "Let $G(n,p)$ be a random graph on $n$ vertices, where $p$ - the probability of an edge between any two nodes.\n",
    "\n",
    "And $\\xi(n,p)$ - the number of triangles (complete subgraphs on three vertices) in the random graph.\n",
    "\n",
    "**Task 1:**\n",
    "\n",
    "1. Find $E\\xi$.\n",
    "2. Implement a simulation of a random graph and a function to find the number of triangles.\n",
    "3. $G(3,p)$ - random graph on three vertices. Implement $\\tau$ - random variable equal to 1 if the graph is complete (forms a triangle) and 0 otherwise.\n",
    "\n",
    "**Task 2:**\n",
    "\n",
    "- Let $M(k)$ be the average number of triangles after $k$ generations of a random graph.\n",
    "- Let $T(k)$ be the average number of triangles after generating a random graph on three vertices (generating $C_n^3$ graphs on three vertices in each iteration).\n",
    "\n",
    "1. Is it true that $M(k) \\rightarrow E\\xi$ as $k \\rightarrow \\infty$?\n",
    "2. Is it true that $T(k) \\rightarrow E\\xi$ as $k \\rightarrow \\infty$?\n",
    "\n",
    "3. Consider two graphs $G_1(10, \\frac{1}{2})$ and $G_2(10, \\frac{1}{20})$. Plot $M(k)$, $T(k)$, and $E\\xi$ (constant) for this graphs.\n",
    "\n",
    "**Task 3:**\n",
    "\n",
    "Perform similar task for $D\\xi$:\n",
    "- Find $D\\xi$ mathematically.\n",
    "- Calculate the variance of the number of triangles by simulating the random graph $k$ times.\n",
    "- Calculate the variance of the number of triangles by generating $C_n^3$ realizations of the random variable $\\tau$, $k$ times.\n",
    "- Estimate the convergence.\n",
    "- Plot graphs for $G_1(10, \\frac{1}{2})$ and $G_2(10, \\frac{1}{20})$.\n"
   ]
  },
  {
   "cell_type": "markdown",
   "metadata": {},
   "source": [
    "## Task 1\n",
    "#### Random Graph on n Vertices. Find $E\\xi$\n",
    "\n",
    "Let $I$ be a random variable equal to 1 if a triangle is formed between three specific nodes, else 0. Then $\\xi = \\sum_{i=1}^{C_n^3} I_i$.\n",
    "\n",
    "$E\\xi = E\\sum_{i=1}^{C_n^3} I_i = \\sum_{i=1}^{C_n^3} E I_i = C_n^3 \\cdot p^3$"
   ]
  },
  {
   "cell_type": "markdown",
   "metadata": {},
   "source": [
    "#### G(3,p) - Random Graph on Three Vertices.\n",
    "\n",
    "For one graph: $E\\tau_1 = 1 \\cdot p^3 + 0 \\cdot (1 - p^3) = p^3$\n",
    "\n",
    "And I generate $C_n^3$ graphs on each iteration: $T(k) = C_n^3 \\cdot E\\tau_1 = C_n^3 \\cdot p^3$"
   ]
  },
  {
   "cell_type": "markdown",
   "metadata": {},
   "source": [
    "#### Random Graph Simulation and Function for Finding the Number of Triangles\n",
    "\n",
    "I will use an adjacency matrix, filled only above the main diagonal, as a graph.\n",
    "\n",
    "The square of the adjacency matrix contains the number of paths of length 2 between vertices. By subsequent element-wise multiplication of the matrix I will find the number of triangles in the graph. Since I use only the upper triangular adjacency matrix, duplicates in the triangle count do not appear.\n",
    "\n",
    "Elements in squared adjacency matrix can take values from 0 to $n - 1$, where $n$ - the number of nodes in the graph. Therefore, to use memory efficiently, int8 dtype can be used when $n \\leq 128$, and int16 when $128 < n < 32768$."
   ]
  },
  {
   "cell_type": "code",
   "metadata": {
    "ExecuteTime": {
     "end_time": "2024-07-09T12:51:38.449018Z",
     "start_time": "2024-07-09T12:51:38.445183Z"
    }
   },
   "source": [
    "def generate_xi_graph(k_graphs, n_nodes, edge_p):\n",
    "    \"\"\"Generate random graphs on n_nodes vertices with edge probability edge_p\"\"\"\n",
    "    MAX_NODES = 3 * 10**3\n",
    "    if n_nodes > MAX_NODES:\n",
    "        raise ValueError(\n",
    "            f\"Too many nodes. It will take too much time to process {n_nodes} nodes. Use less than {MAX_NODES} nodes.\"\n",
    "        )\n",
    "\n",
    "    dtype = np.int8 if n_nodes <= np.iinfo(np.int8).max else np.int16\n",
    "    bool_values = np.random.random((k_graphs, n_nodes, n_nodes)) < edge_p\n",
    "    int_values = bool_values.astype(dtype)\n",
    "\n",
    "    adjacency_matrices = np.triu(int_values, k=1)\n",
    "    return adjacency_matrices\n",
    "\n",
    "\n",
    "def count_triangles_in_xi_graph(graphs):\n",
    "    \"\"\"Get xi random variable - the number of triangles in each graph\"\"\"\n",
    "    squared_matrix = np.matmul(graphs, graphs)\n",
    "    triangles_matrix = graphs * squared_matrix\n",
    "    return np.sum(np.triu(triangles_matrix, k=1), axis=(1, 2))"
   ],
   "outputs": [],
   "execution_count": 26
  },
  {
   "cell_type": "code",
   "metadata": {
    "ExecuteTime": {
     "end_time": "2024-07-09T12:51:38.453039Z",
     "start_time": "2024-07-09T12:51:38.449966Z"
    }
   },
   "source": [
    "def generate_xi(k_graphs, n_nodes, edge_p):\n",
    "    \"\"\"Generate xi random variable - the number of triangles in the graph\"\"\"\n",
    "    graphs = generate_xi_graph(k_graphs, n_nodes, edge_p)\n",
    "    return count_triangles_in_xi_graph(graphs)\n",
    "\n",
    "\n",
    "def generate_tau(k_graphs, n_nodes, edge_p):\n",
    "    \"\"\"Generate tau random variable - the number of triangles in the graph on three vertices, generated C_n^3 times\"\"\"\n",
    "    shape = (k_graphs, math.comb(n_nodes, 3))\n",
    "    tau_graph = (np.random.random(shape) < edge_p**3).astype(np.int8)\n",
    "    return tau_graph.sum(axis=1)"
   ],
   "outputs": [],
   "execution_count": 27
  },
  {
   "cell_type": "markdown",
   "metadata": {},
   "source": "## Task 2"
  },
  {
   "cell_type": "code",
   "metadata": {
    "ExecuteTime": {
     "end_time": "2024-07-09T12:51:38.460274Z",
     "start_time": "2024-07-09T12:51:38.457514Z"
    }
   },
   "source": [
    "k = 10**5\n",
    "n = 10\n",
    "p = 0.5\n",
    "\n",
    "print(\"E xi = E tau =\", math.comb(n, 3) * p**3)"
   ],
   "outputs": [
    {
     "name": "stdout",
     "output_type": "stream",
     "text": [
      "E xi = E tau = 15.0\n"
     ]
    }
   ],
   "execution_count": 28
  },
  {
   "cell_type": "markdown",
   "metadata": {},
   "source": "#### Random Graph on n Vertices. M(k):"
  },
  {
   "cell_type": "code",
   "metadata": {
    "ExecuteTime": {
     "end_time": "2024-07-09T12:51:38.645615Z",
     "start_time": "2024-07-09T12:51:38.461539Z"
    }
   },
   "source": [
    "xi = generate_xi(k, n, p)\n",
    "print(\"M_k:\", np.mean(xi))"
   ],
   "outputs": [
    {
     "name": "stdout",
     "output_type": "stream",
     "text": [
      "M_k: 15.00141\n"
     ]
    }
   ],
   "execution_count": 29
  },
  {
   "cell_type": "markdown",
   "metadata": {},
   "source": "#### G(3,p) - Random Graph on Three Vertices. T(k):"
  },
  {
   "cell_type": "code",
   "metadata": {
    "ExecuteTime": {
     "end_time": "2024-07-09T12:51:38.763317Z",
     "start_time": "2024-07-09T12:51:38.646803Z"
    }
   },
   "source": [
    "tau = generate_tau(k, n, p)\n",
    "print(\"T_k:\", np.mean(tau))"
   ],
   "outputs": [
    {
     "name": "stdout",
     "output_type": "stream",
     "text": [
      "T_k: 15.00769\n"
     ]
    }
   ],
   "execution_count": 30
  },
  {
   "cell_type": "markdown",
   "metadata": {},
   "source": [
    "### Convergence of Expectation (Law of Large Numbers)\n",
    "\n",
    "#### From the linearity of the mathematical expectation:\n",
    "\n",
    "$E[\\bar{X}] = E\\left[\\frac{1}{n}\\sum_{i=1}^n X_i\\right] = \\frac{1}{n} \\sum_{i=1}^n E[X_i] = \\frac{1}{n} \\cdot n \\cdot \\mu = \\mu$\n",
    "<br>\n",
    "\n",
    "#### The Weak Law of Large Numbers (Convergence in Probability):\n",
    "$\\lim_{n \\to \\infty} P(|\\bar{X} - \\mu| \\geq \\epsilon) = 0$, для любого $\\epsilon > 0$"
   ]
  },
  {
   "cell_type": "markdown",
   "metadata": {},
   "source": [
    "$M(k) \\rightarrow E\\xi$ при $k \\rightarrow \\infty$ <br>\n",
    "$T(k) \\rightarrow E\\xi$ при $k \\rightarrow \\infty$\n",
    "\n",
    "Both statements are true"
   ]
  },
  {
   "cell_type": "markdown",
   "metadata": {},
   "source": "Consider $G_1(10, \\frac{1}{2})$ and $G_2(10, \\frac{1}{20})$. And plot $M(k)$, $T(k)$, and $E\\xi$\n"
  },
  {
   "cell_type": "code",
   "metadata": {
    "ExecuteTime": {
     "end_time": "2024-07-09T12:51:38.769851Z",
     "start_time": "2024-07-09T12:51:38.764380Z"
    }
   },
   "source": [
    "def get_xi_and_tau_and_theoretical_expectations(n_graphs, n_nodes, edge_p):\n",
    "    theoretical_expectation = math.comb(n_nodes, 3) * edge_p**3\n",
    "\n",
    "    xi_graph = generate_xi_graph(n_graphs, n_nodes, edge_p)\n",
    "    xi_variable = count_triangles_in_xi_graph(xi_graph)\n",
    "\n",
    "    tau_variable = generate_tau(n_graphs, n_nodes, edge_p)\n",
    "\n",
    "    xi_expectations = np.cumsum(xi_variable) / np.arange(1, n_graphs + 1)\n",
    "    tau_expectations = np.cumsum(tau_variable) / np.arange(1, n_graphs + 1)\n",
    "\n",
    "    return xi_expectations, tau_expectations, theoretical_expectation\n",
    "\n",
    "\n",
    "def make_plot(x_data, x_names, const_vals, const_names, plot_title, val_length):\n",
    "    fig = go.Figure()\n",
    "\n",
    "    for value, name in zip(x_data, x_names):\n",
    "        fig.add_trace(\n",
    "            go.Scatter(\n",
    "                x=np.arange(1, val_length + 1),\n",
    "                y=value,\n",
    "                mode=\"lines\",\n",
    "                line=dict(width=3),\n",
    "                name=name,\n",
    "            )\n",
    "        )\n",
    "\n",
    "    for const_val, const_name in zip(const_vals, const_names):\n",
    "        fig.add_trace(\n",
    "            go.Scatter(\n",
    "                x=[1, val_length],\n",
    "                y=[const_val, const_val],\n",
    "                mode=\"lines\",\n",
    "                line=dict(dash=\"dash\", width=3),\n",
    "                name=const_name,\n",
    "            )\n",
    "        )\n",
    "\n",
    "    fig.update_layout(\n",
    "        title=plot_title,\n",
    "        xaxis_title=\"Number of graphs\",\n",
    "        yaxis_title=\"Value\",\n",
    "        legend=dict(x=0.90, y=1.0),\n",
    "        template=\"plotly_dark\",\n",
    "    )\n",
    "\n",
    "    fig.show()"
   ],
   "outputs": [],
   "execution_count": 31
  },
  {
   "cell_type": "code",
   "metadata": {
    "ExecuteTime": {
     "end_time": "2024-07-09T12:51:38.775162Z",
     "start_time": "2024-07-09T12:51:38.771095Z"
    }
   },
   "source": [
    "def estimate_and_plot_expectation_convergence(n_graphs, n_nodes, edge_p):\n",
    "    xi_expectations, tau_expectations, theoretical_expectation = (\n",
    "        get_xi_and_tau_and_theoretical_expectations(n_graphs, n_nodes, edge_p)\n",
    "    )\n",
    "    print(\"Theoretical E_xi:\", theoretical_expectation)\n",
    "    print(\"M_k:\", xi_expectations[-1])\n",
    "    print(\"T_k:\", tau_expectations[-1])\n",
    "\n",
    "    if MAKE_PLOTS:\n",
    "        make_plot(\n",
    "            x_data=[xi_expectations, tau_expectations],\n",
    "            x_names=[\"M(k)\", \"T(k)\"],\n",
    "            const_vals=[theoretical_expectation],\n",
    "            const_names=[\"E_xi\"],\n",
    "            plot_title=f\"Convergence of M(k) and T(k) to E_xi for G({n_nodes}, {edge_p})\",\n",
    "            val_length=k,\n",
    "        )"
   ],
   "outputs": [],
   "execution_count": 32
  },
  {
   "cell_type": "code",
   "metadata": {
    "ExecuteTime": {
     "end_time": "2024-07-09T12:51:38.783259Z",
     "start_time": "2024-07-09T12:51:38.776131Z"
    }
   },
   "source": [
    "np.random.seed(43)\n",
    "k = 10**3\n",
    "n = 10\n",
    "p = 0.5\n",
    "\n",
    "estimate_and_plot_expectation_convergence(k, n, p)"
   ],
   "outputs": [
    {
     "name": "stdout",
     "output_type": "stream",
     "text": [
      "Theoretical E_xi: 15.0\n",
      "M_k: 14.832\n",
      "T_k: 14.979\n"
     ]
    }
   ],
   "execution_count": 33
  },
  {
   "cell_type": "markdown",
   "metadata": {},
   "source": "![](plots/random_graph/E_convergence_G_10_05.png)"
  },
  {
   "cell_type": "code",
   "metadata": {
    "ExecuteTime": {
     "end_time": "2024-07-09T12:51:38.789173Z",
     "start_time": "2024-07-09T12:51:38.784239Z"
    }
   },
   "source": [
    "np.random.seed(41)\n",
    "p = 0.05\n",
    "\n",
    "estimate_and_plot_expectation_convergence(k, n, p)"
   ],
   "outputs": [
    {
     "name": "stdout",
     "output_type": "stream",
     "text": [
      "Theoretical E_xi: 0.015000000000000003\n",
      "M_k: 0.015\n",
      "T_k: 0.014\n"
     ]
    }
   ],
   "execution_count": 34
  },
  {
   "cell_type": "markdown",
   "metadata": {},
   "source": "![](plots/random_graph/E_convergence_G_10_005.png)"
  },
  {
   "cell_type": "markdown",
   "metadata": {},
   "source": "## Task 3"
  },
  {
   "cell_type": "markdown",
   "metadata": {},
   "source": [
    "### It's easy to calculate the variance for one a graph on three vertices:\n",
    "$E\\tau_1 = 1 \\cdot p^3 + 0 \\cdot (1 - p^3) = p^3$<br>\n",
    "\n",
    "$D\\tau_1 = E\\tau_1^2 - (E\\tau_1)^2 = 1^2 \\cdot p^3 - p^6 = p^3 - p^6$\n",
    "\n",
    "And for $С_n^3$ generations: $D\\tau = C_n^3 \\cdot D\\tau_1 = C_n^3 \\cdot (p^3 - p^6);$ because each iteration is independent.\n",
    "<br><br>\n",
    "\n",
    "### For a random graph on n vertices:\n",
    "$D \\xi = E \\xi^2 - (E \\xi)^2$\n",
    "<br>\n",
    "$E \\xi^2 = E \\left( \\sum_{i=1}^{C_n^3} I_i \\right)^2 = \n",
    "\\sum_{i=1}^{C_n^3} E I_i^2 + \\sum_{i \\neq j} E I_i I_j = \n",
    "C_n^3 \\cdot p^3 + C_n^3 \\cdot C_{n-3}^3 \\cdot p^6 + 3 \\cdot C_n^3 \\cdot C_{n-3}^2 \\cdot p^6 + 3 \\cdot C_n^3 \\cdot (n-3) \\cdot p^5$\n",
    "<br>\n",
    "$(E \\xi)^2 = (C_n^3 \\cdot p^3)^2$"
   ]
  },
  {
   "cell_type": "code",
   "metadata": {
    "ExecuteTime": {
     "end_time": "2024-07-09T12:51:38.795844Z",
     "start_time": "2024-07-09T12:51:38.790307Z"
    }
   },
   "source": [
    "def get_theoretical_xi_and_tau_var(n_nodes, edge_p):\n",
    "    tau_var = comb(n_nodes, 3) * (edge_p**3 - edge_p**6)\n",
    "\n",
    "    xi_squared_E = (comb(n_nodes, 3) * edge_p**3) ** 2\n",
    "    xi_second_moment = (\n",
    "        comb(n_nodes, 3) * edge_p**3\n",
    "        + comb(n_nodes, 3) * comb(n_nodes - 3, 3) * edge_p**6\n",
    "        + 3 * comb(n_nodes, 3) * comb(n_nodes - 3, 2) * edge_p**6\n",
    "        + 3 * comb(n_nodes, 3) * (n_nodes - 3) * edge_p**5\n",
    "    )\n",
    "    xi_var = xi_second_moment - xi_squared_E\n",
    "\n",
    "    return xi_var, tau_var\n",
    "\n",
    "\n",
    "def print_xi_and_tau_vars(k_graphs, n_nodes, edge_p):\n",
    "    xi_variable = generate_xi(k_graphs, n_nodes, edge_p)\n",
    "    tau_variable = generate_tau(k_graphs, n_nodes, edge_p)\n",
    "    xi_var = np.var(xi_variable)\n",
    "    tau_var = np.var(tau_variable)\n",
    "\n",
    "    theoretical_xi_var, theoretical_tau_var = get_theoretical_xi_and_tau_var(\n",
    "        n_nodes, edge_p\n",
    "    )\n",
    "\n",
    "    print(f\"### G({n_nodes}, {edge_p}) ###\\n\")\n",
    "    print(\n",
    "        f\"  Theoretical Variances: \\nxi: {theoretical_xi_var} \\ntau: {theoretical_tau_var}\"\n",
    "    )\n",
    "    print(f\"\\n  Real Variances: \\nxi: {xi_var} \\ntau: {tau_var}\")"
   ],
   "outputs": [],
   "execution_count": 35
  },
  {
   "cell_type": "code",
   "metadata": {
    "ExecuteTime": {
     "end_time": "2024-07-09T12:51:38.799630Z",
     "start_time": "2024-07-09T12:51:38.797123Z"
    }
   },
   "source": [
    "k = 3 * 10**5\n",
    "n = 10"
   ],
   "outputs": [],
   "execution_count": 36
  },
  {
   "cell_type": "code",
   "metadata": {
    "ExecuteTime": {
     "end_time": "2024-07-09T12:51:39.574351Z",
     "start_time": "2024-07-09T12:51:38.800710Z"
    }
   },
   "source": [
    "p = 0.5\n",
    "print_xi_and_tau_vars(k, n, p)"
   ],
   "outputs": [
    {
     "name": "stdout",
     "output_type": "stream",
     "text": [
      "### G(10, 0.5) ###\n",
      "\n",
      "  Theoretical Variances: \n",
      "xi: 52.5 \n",
      "tau: 13.125\n",
      "\n",
      "  Real Variances: \n",
      "xi: 52.395481053233325 \n",
      "tau: 13.102612210566669\n"
     ]
    }
   ],
   "execution_count": 37
  },
  {
   "cell_type": "code",
   "metadata": {
    "ExecuteTime": {
     "end_time": "2024-07-09T12:51:40.385056Z",
     "start_time": "2024-07-09T12:51:39.575408Z"
    }
   },
   "source": [
    "p = 0.05\n",
    "print_xi_and_tau_vars(k, n, p)"
   ],
   "outputs": [
    {
     "name": "stdout",
     "output_type": "stream",
     "text": [
      "### G(10, 0.05) ###\n",
      "\n",
      "  Theoretical Variances: \n",
      "xi: 0.015746250000000003 \n",
      "tau: 0.014998125000000005\n",
      "\n",
      "  Real Variances: \n",
      "xi: 0.01573843332222222 \n",
      "tau: 0.015090376488888887\n"
     ]
    }
   ],
   "execution_count": 38
  },
  {
   "cell_type": "markdown",
   "metadata": {},
   "source": "#### And let's plot the convergence of the variances"
  },
  {
   "cell_type": "code",
   "metadata": {
    "ExecuteTime": {
     "end_time": "2024-07-09T12:51:40.391733Z",
     "start_time": "2024-07-09T12:51:40.386103Z"
    }
   },
   "source": [
    "def get_vars_for_plot(n_graphs, n_nodes, edge_p):\n",
    "    xi_variable = generate_xi(n_graphs, n_nodes, edge_p)\n",
    "    tau_variable = generate_tau(n_graphs, n_nodes, edge_p)\n",
    "\n",
    "    xi_vars = [np.var(xi_variable[:i]) for i in range(2, k)]\n",
    "    tau_vars = [np.var(tau_variable[:i]) for i in range(2, k)]\n",
    "\n",
    "    return xi_vars, tau_vars\n",
    "\n",
    "\n",
    "def estimate_and_plot_variance_convergence(k_graphs, n_nodes, edge_p):\n",
    "    xi_vars, tau_vars = get_vars_for_plot(k_graphs, n_nodes, edge_p)\n",
    "    theoretical_xi_var, theoretical_tau_var = get_theoretical_xi_and_tau_var(\n",
    "        n_nodes, edge_p\n",
    "    )\n",
    "\n",
    "    if MAKE_PLOTS:\n",
    "        make_plot(\n",
    "            x_data=[xi_vars, tau_vars],\n",
    "            x_names=[\"xi\", \"tau\"],\n",
    "            const_vals=[theoretical_xi_var, theoretical_tau_var],\n",
    "            const_names=[\"Theoretical xi\", \"Theoretical tau\"],\n",
    "            plot_title=f\"xi and tau Convergence of Variances for G({n_nodes}, {edge_p})\",\n",
    "            val_length=len(xi_vars),\n",
    "        )"
   ],
   "outputs": [],
   "execution_count": 39
  },
  {
   "cell_type": "markdown",
   "metadata": {},
   "source": "#### G(10, 0.5)"
  },
  {
   "cell_type": "code",
   "metadata": {
    "ExecuteTime": {
     "end_time": "2024-07-09T12:51:41.049452Z",
     "start_time": "2024-07-09T12:51:40.392938Z"
    }
   },
   "source": [
    "np.random.seed(13)\n",
    "\n",
    "k = 10**4\n",
    "n = 10\n",
    "p = 0.5\n",
    "\n",
    "estimate_and_plot_variance_convergence(k, n, p)"
   ],
   "outputs": [],
   "execution_count": 40
  },
  {
   "cell_type": "markdown",
   "metadata": {},
   "source": "![](plots/random_graph/xi_and_tau_var_convergence_G_10_05.png)"
  },
  {
   "cell_type": "markdown",
   "metadata": {},
   "source": "#### And G(10, 0.05)"
  },
  {
   "cell_type": "code",
   "metadata": {
    "ExecuteTime": {
     "end_time": "2024-07-09T12:51:41.790098Z",
     "start_time": "2024-07-09T12:51:41.050773Z"
    }
   },
   "source": [
    "np.random.seed(42)\n",
    "p = 0.05\n",
    "\n",
    "estimate_and_plot_variance_convergence(k, n, p)"
   ],
   "outputs": [],
   "execution_count": 41
  },
  {
   "cell_type": "markdown",
   "metadata": {},
   "source": "![](plots/random_graph/xi_and_tau_var_convergence_G_10_005.png)"
  },
  {
   "cell_type": "code",
   "metadata": {
    "ExecuteTime": {
     "end_time": "2024-07-09T12:51:41.793400Z",
     "start_time": "2024-07-09T12:51:41.791298Z"
    }
   },
   "source": [],
   "outputs": [],
   "execution_count": 41
  }
 ],
 "metadata": {
  "kernelspec": {
   "display_name": "Python 3",
   "language": "python",
   "name": "python3"
  },
  "language_info": {
   "codemirror_mode": {
    "name": "ipython",
    "version": 3
   },
   "file_extension": ".py",
   "mimetype": "text/x-python",
   "name": "python",
   "nbconvert_exporter": "python",
   "pygments_lexer": "ipython3",
   "version": "3.8.8"
  }
 },
 "nbformat": 4,
 "nbformat_minor": 2
}
